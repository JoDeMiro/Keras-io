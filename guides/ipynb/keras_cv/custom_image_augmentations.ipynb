{
 "cells": [
  {
   "cell_type": "markdown",
   "metadata": {
    "colab_type": "text"
   },
   "source": [
    "# Custom Image Augmentations with BaseImageAugmentationLayer\n",
    "\n",
    "**Author:** [lukewood](https://lukewood.xyz)<br>\n",
    "**Date created:** 2022/04/26<br>\n",
    "**Last modified:** 2022/04/26<br>\n",
    "**Description:** Use BaseImageAugmentationLayer to implement custom data augmentations."
   ]
  },
  {
   "cell_type": "markdown",
   "metadata": {
    "colab_type": "text"
   },
   "source": [
    "## Overview\n",
    "Data augmentation is an integral part of training any robust computer vision model.\n",
    "While KerasCV offers a plethora of prebuild high quality data augmentation techniques,\n",
    "you may still want to implement your own custom technique.\n",
    "KerasCV offers a helpful base class for writing data augmentation layers:\n",
    "`BaseImageAugmentationLayer`.\n",
    "Any augmentation layer built with `BaseImageAugmentationLayer` will automatically be\n",
    "compatible with the KerasCV `RandomAugmentationPipeline` class.\n",
    "\n",
    "This guide will show you how to implement your own custom augmentation layers using\n",
    "`BaseImageAugmentationLayer`.  As an example, we will implement a layer that tints all\n",
    "images blue."
   ]
  },
  {
   "cell_type": "code",
   "execution_count": 0,
   "metadata": {
    "colab_type": "code"
   },
   "outputs": [],
   "source": [
    "import tensorflow as tf\n",
    "from tensorflow import keras\n",
    "import keras_cv\n",
    "from tensorflow.keras import layers\n",
    "from keras_cv import utils\n",
    "from keras_cv.layers import BaseImageAugmentationLayer\n",
    "import matplotlib.pyplot as plt\n",
    "\n",
    "tf.autograph.set_verbosity(0)"
   ]
  },
  {
   "cell_type": "markdown",
   "metadata": {
    "colab_type": "text"
   },
   "source": [
    "First, let's implement some helper functions to visualize intermediate results"
   ]
  },
  {
   "cell_type": "code",
   "execution_count": 0,
   "metadata": {
    "colab_type": "code"
   },
   "outputs": [],
   "source": [
    "\n",
    "def imshow(img):\n",
    "    img = img.astype(int)\n",
    "    plt.axis(\"off\")\n",
    "    plt.imshow(img)\n",
    "    plt.show()\n",
    "\n",
    "\n",
    "def gallery_show(images):\n",
    "    images = images.astype(int)\n",
    "    for i in range(9):\n",
    "        image = images[i]\n",
    "        plt.subplot(3, 3, i + 1)\n",
    "        plt.imshow(image.astype(\"uint8\"))\n",
    "        plt.axis(\"off\")\n",
    "    plt.show()\n",
    ""
   ]
  },
  {
   "cell_type": "markdown",
   "metadata": {
    "colab_type": "text"
   },
   "source": [
    "## BaseImageAugmentationLayer Introduction\n",
    "\n",
    "Image augmentation should operate on a sample-wise basis; not batch-wise.\n",
    "This is a common mistake many machine learning practicioners make when implementing\n",
    "custom techniques.\n",
    "`BaseImageAugmentation` offers a set of clean abstractions to make implementing image\n",
    "augmentation techniques on a sample wise basis much easier.\n",
    "This is done by allowing the end user to override an `augment_image()` method and then\n",
    "performing automatic vectorization under the hood.\n",
    "\n",
    "Most augmentation techniques also must sample from one or more random distributions.\n",
    "KerasCV offers an abstraction to make random sampling end user configurable: the\n",
    "`FactorSampler` API.\n",
    "\n",
    "Finally, many augmentation techniques requires some information about the pixel values\n",
    "present in the input images.  KerasCV offers the `value_range` API to simplify the handling of this.\n",
    "\n",
    "In our example, we will use the `FactorSampler` API, the `value_range` API, and\n",
    "`BaseImageAugmentationLayer` to implement a robust, configurable, and correct `RandomBlueTint` layer."
   ]
  },
  {
   "cell_type": "markdown",
   "metadata": {
    "colab_type": "text"
   },
   "source": [
    "## Overriding `augment_image()`\n",
    "\n",
    "Let's start off with the minimum:"
   ]
  },
  {
   "cell_type": "code",
   "execution_count": 0,
   "metadata": {
    "colab_type": "code"
   },
   "outputs": [],
   "source": [
    "\n",
    "class RandomBlueTint(keras_cv.layers.BaseImageAugmentationLayer):\n",
    "    def augment_image(self, image, transformation=None):\n",
    "        # image is of shape (height, width, channels)\n",
    "        [*others, blue] = tf.unstack(image, axis=-1)\n",
    "        blue = tf.clip_by_value(blue + 100, 0.0, 255.0)\n",
    "        return tf.stack([*others, blue], axis=-1)\n",
    ""
   ]
  },
  {
   "cell_type": "markdown",
   "metadata": {
    "colab_type": "text"
   },
   "source": [
    "Our layer overrides `BaseImageAugmentationLayer.augment_image()`.  This method is\n",
    "used to augment images given to the layer.  By default, using\n",
    "`BaseImageAugmentationLayer` gives you a few nice features for free:\n",
    "\n",
    "- support for unbatched inputs (HWC Tensor)\n",
    "- support for batched inputs (BHWC Tensor)\n",
    "- automatic vectorization on batched inputs (more information on this in automatic\n",
    "    vectorization performance)\n",
    "\n",
    "Let's check out the result.  First, let's download a sample image:"
   ]
  },
  {
   "cell_type": "code",
   "execution_count": 0,
   "metadata": {
    "colab_type": "code"
   },
   "outputs": [],
   "source": [
    "SIZE = (300, 300)\n",
    "elephants = tf.keras.utils.get_file(\n",
    "    \"african_elephant.jpg\", \"https://i.imgur.com/Bvro0YD.png\"\n",
    ")\n",
    "elephants = tf.keras.utils.load_img(elephants, target_size=SIZE)\n",
    "elephants = tf.keras.utils.img_to_array(elephants)\n",
    "imshow(elephants)"
   ]
  },
  {
   "cell_type": "markdown",
   "metadata": {
    "colab_type": "text"
   },
   "source": [
    "Next, let's augment it and visualize the result:"
   ]
  },
  {
   "cell_type": "code",
   "execution_count": 0,
   "metadata": {
    "colab_type": "code"
   },
   "outputs": [],
   "source": [
    "layer = RandomBlueTint()\n",
    "augmented = layer(elephants)\n",
    "imshow(augmented.numpy())"
   ]
  },
  {
   "cell_type": "markdown",
   "metadata": {
    "colab_type": "text"
   },
   "source": [
    "Looks great!  We can also call our layer on batched inputs:"
   ]
  },
  {
   "cell_type": "code",
   "execution_count": 0,
   "metadata": {
    "colab_type": "code"
   },
   "outputs": [],
   "source": [
    "layer = RandomBlueTint()\n",
    "augmented = layer(tf.expand_dims(elephants, axis=0))\n",
    "imshow(augmented.numpy()[0])"
   ]
  },
  {
   "cell_type": "markdown",
   "metadata": {
    "colab_type": "text"
   },
   "source": [
    "## Adding Random Behavior with the `FactorSampler` API.\n",
    "\n",
    "Usually an image augmentation technique should not do the same thing on every\n",
    "invocation of the layer's `__call__` method.\n",
    "KerasCV offers the `FactorSampler` API to allow users to provide configurable random\n",
    "distributions."
   ]
  },
  {
   "cell_type": "code",
   "execution_count": 0,
   "metadata": {
    "colab_type": "code"
   },
   "outputs": [],
   "source": [
    "\n",
    "class RandomBlueTint(keras_cv.layers.BaseImageAugmentationLayer):\n",
    "    \"\"\"RandomBlueTint randomly applies a blue tint to images.\n",
    "\n",
    "    Args:\n",
    "      factor: A tuple of two floats, a single float or a\n",
    "        `keras_cv.FactorSampler`. `factor` controls the extent to which the\n",
    "        image is blue shifted. `factor=0.0` makes this layer perform a no-op\n",
    "        operation, while a value of 1.0 uses the degenerated result entirely.\n",
    "        Values between 0 and 1 result in linear interpolation between the original\n",
    "        image and a fully blue image.\n",
    "        Values should be between `0.0` and `1.0`.  If a tuple is used, a `factor` is\n",
    "        sampled between the two values for every image augmented.  If a single float\n",
    "        is used, a value between `0.0` and the passed float is sampled.  In order to\n",
    "        ensure the value is always the same, please pass a tuple with two identical\n",
    "        floats: `(0.5, 0.5)`.\n",
    "    \"\"\"\n",
    "\n",
    "    def __init__(self, factor, **kwargs):\n",
    "        super().__init__(**kwargs)\n",
    "        self.factor = utils.parse_factor(factor)\n",
    "\n",
    "    def augment_image(self, image, transformation=None):\n",
    "        [*others, blue] = tf.unstack(image, axis=-1)\n",
    "        blue_shift = self.factor() * 255\n",
    "        blue = tf.clip_by_value(blue + blue_shift, 0.0, 255.0)\n",
    "        return tf.stack([*others, blue], axis=-1)\n",
    ""
   ]
  },
  {
   "cell_type": "markdown",
   "metadata": {
    "colab_type": "text"
   },
   "source": [
    "Now, we can configure the random behavior of ou `RandomBlueTint` layer.\n",
    "We can give it a range of values to sample from:"
   ]
  },
  {
   "cell_type": "code",
   "execution_count": 0,
   "metadata": {
    "colab_type": "code"
   },
   "outputs": [],
   "source": [
    "many_elephants = tf.repeat(tf.expand_dims(elephants, axis=0), 9, axis=0)\n",
    "layer = RandomBlueTint(factor=0.5)\n",
    "augmented = layer(many_elephants)\n",
    "gallery_show(augmented.numpy())"
   ]
  },
  {
   "cell_type": "markdown",
   "metadata": {
    "colab_type": "text"
   },
   "source": [
    "Each image is augmented differently with a random factor sampled from the range\n",
    "`(0, 0.5)`.\n",
    "\n",
    "We can also configure the layer to draw from a normal distribution:"
   ]
  },
  {
   "cell_type": "code",
   "execution_count": 0,
   "metadata": {
    "colab_type": "code"
   },
   "outputs": [],
   "source": [
    "many_elephants = tf.repeat(tf.expand_dims(elephants, axis=0), 9, axis=0)\n",
    "factor = keras_cv.NormalFactorSampler(\n",
    "    mean=0.3, stddev=0.1, min_value=0.0, max_value=1.0\n",
    ")\n",
    "layer = RandomBlueTint(factor=factor)\n",
    "augmented = layer(many_elephants)\n",
    "gallery_show(augmented.numpy())"
   ]
  },
  {
   "cell_type": "markdown",
   "metadata": {
    "colab_type": "text"
   },
   "source": [
    "As you can see, the augmentations now are drawn from a normal distributions.\n",
    "There are various types of `FactorSamplers` including `UniformFactorSampler`,\n",
    "`NormalFactorSampler`, and `ConstantFactorSampler`.  You can also implement you own.\n",
    "\n",
    "## Overridding `get_random_transformation()`\n",
    "\n",
    "Now, suppose that your layer impacts the prediction targets: whether they are bounding\n",
    "boxes, classification labels, or regression targets.\n",
    "Your layer will need to have information about what augmentations are taken on the image\n",
    "when augmenting the label.\n",
    "Luckily, `BaseImageAugmentationLayer` was designed with this in mind.\n",
    "\n",
    "To handle this issue, `BaseImageAugmentationLayer` has an overrideable\n",
    "`get_random_transformation()` method alongside with `augment_label()`,\n",
    "`augment_target()` and `augment_bounding_boxes()`.\n",
    "`augment_segmentation_map()` and others will be added in the future.\n",
    "\n",
    "Let's add this to our layer."
   ]
  },
  {
   "cell_type": "code",
   "execution_count": 0,
   "metadata": {
    "colab_type": "code"
   },
   "outputs": [],
   "source": [
    "\n",
    "class RandomBlueTint(keras_cv.layers.BaseImageAugmentationLayer):\n",
    "    \"\"\"RandomBlueTint randomly applies a blue tint to images.\n",
    "\n",
    "    Args:\n",
    "      factor: A tuple of two floats, a single float or a\n",
    "        `keras_cv.FactorSampler`. `factor` controls the extent to which the\n",
    "        image is blue shifted. `factor=0.0` makes this layer perform a no-op\n",
    "        operation, while a value of 1.0 uses the degenerated result entirely.\n",
    "        Values between 0 and 1 result in linear interpolation between the original\n",
    "        image and a fully blue image.\n",
    "        Values should be between `0.0` and `1.0`.  If a tuple is used, a `factor` is\n",
    "        sampled between the two values for every image augmented.  If a single float\n",
    "        is used, a value between `0.0` and the passed float is sampled.  In order to\n",
    "        ensure the value is always the same, please pass a tuple with two identical\n",
    "        floats: `(0.5, 0.5)`.\n",
    "    \"\"\"\n",
    "\n",
    "    def __init__(self, factor, **kwargs):\n",
    "        super().__init__(**kwargs)\n",
    "        self.factor = utils.parse_factor(factor)\n",
    "\n",
    "    def get_random_transformation(self, **kwargs):\n",
    "        # kwargs holds {\"images\": image, \"labels\": label, etc...}\n",
    "        return self.factor() * 255\n",
    "\n",
    "    def augment_image(self, image, transformation=None, **kwargs):\n",
    "        [*others, blue] = tf.unstack(image, axis=-1)\n",
    "        blue = tf.clip_by_value(blue + transformation, 0.0, 255.0)\n",
    "        return tf.stack([*others, blue], axis=-1)\n",
    "\n",
    "    def augment_label(self, label, transformation=None, **kwargs):\n",
    "        # you can use transformation somehow if you want\n",
    "\n",
    "        if transformation > 100:\n",
    "            # i.e. maybe class 2 corresponds to blue images\n",
    "            return 2.0\n",
    "\n",
    "        return label\n",
    "\n",
    "    def augment_bounding_boxes(self, bounding_boxes, transformation=None, **kwargs):\n",
    "        # you can also perform no-op augmentations on label types to support them in\n",
    "        # your pipeline.\n",
    "        return bounding_boxes\n",
    ""
   ]
  },
  {
   "cell_type": "markdown",
   "metadata": {
    "colab_type": "text"
   },
   "source": [
    "To make use of these new methods, you will need to feed your inputs in with a\n",
    "dictionary maintaining a mapping from images to targets.\n",
    "\n",
    "As of now, KerasCV supports the following label types:\n",
    "\n",
    "- labels via `augment_label()`.\n",
    "- bounding_boxes via `augment_bounding_boxes()`.\n",
    "\n",
    "In order to use augmention layers alongside your prediction targets, you must package\n",
    "your inputs as follows:"
   ]
  },
  {
   "cell_type": "code",
   "execution_count": 0,
   "metadata": {
    "colab_type": "code"
   },
   "outputs": [],
   "source": [
    "labels = tf.constant([[1, 0]])\n",
    "inputs = {\"images\": elephants, \"labels\": labels}"
   ]
  },
  {
   "cell_type": "markdown",
   "metadata": {
    "colab_type": "text"
   },
   "source": [
    "Now if we call our layer on the inputs:"
   ]
  },
  {
   "cell_type": "code",
   "execution_count": 0,
   "metadata": {
    "colab_type": "code"
   },
   "outputs": [],
   "source": [
    "layer = RandomBlueTint(factor=(0.6, 0.6))\n",
    "augmented = layer(inputs)\n",
    "print(augmented[\"labels\"])"
   ]
  },
  {
   "cell_type": "markdown",
   "metadata": {
    "colab_type": "text"
   },
   "source": [
    "Both the inputs and labels are augmented.\n",
    "Note how when `transformation` is > 100 the label is modified to contain 2.0 as\n",
    "specified in the layer above.\n",
    "\n",
    "## `value_range` support\n",
    "\n",
    "Imagine you are using your new augmentation layer in many pipelines.\n",
    "Some pipelines have values in the range `[0, 255]`, some pipelines have normalized their\n",
    " images to the range `[-1, 1]`, and some use a value range of `[0, 1]`.\n",
    "\n",
    "If a user calls your layer with an image in value range `[0, 1]`, the outputs will be\n",
    "nonsense!"
   ]
  },
  {
   "cell_type": "code",
   "execution_count": 0,
   "metadata": {
    "colab_type": "code"
   },
   "outputs": [],
   "source": [
    "layer = RandomBlueTint(factor=(0.1, 0.1))\n",
    "elephants_0_1 = elephants / 255\n",
    "print(\"min and max before augmentation:\", elephants_0_1.min(), elephants_0_1.max())\n",
    "augmented = layer(elephants_0_1)\n",
    "print(\n",
    "    \"min and max after augmentation:\",\n",
    "    (augmented.numpy()).min(),\n",
    "    augmented.numpy().max(),\n",
    ")\n",
    "imshow((augmented * 255).numpy().astype(int))"
   ]
  },
  {
   "cell_type": "markdown",
   "metadata": {
    "colab_type": "text"
   },
   "source": [
    "Note that this is an incredibly weak augmentation!\n",
    "Factor is only set to 0.1.\n",
    "\n",
    "Let's resolve this issue with KerasCV's `value_range` API."
   ]
  },
  {
   "cell_type": "code",
   "execution_count": 0,
   "metadata": {
    "colab_type": "code"
   },
   "outputs": [],
   "source": [
    "\n",
    "class RandomBlueTint(keras_cv.layers.BaseImageAugmentationLayer):\n",
    "    \"\"\"RandomBlueTint randomly applies a blue tint to images.\n",
    "\n",
    "    Args:\n",
    "      value_range: value_range: a tuple or a list of two elements. The first value\n",
    "        represents the lower bound for values in passed images, the second represents\n",
    "        the upper bound. Images passed to the layer should have values within\n",
    "        `value_range`.\n",
    "      factor: A tuple of two floats, a single float or a\n",
    "        `keras_cv.FactorSampler`. `factor` controls the extent to which the\n",
    "        image is blue shifted. `factor=0.0` makes this layer perform a no-op\n",
    "        operation, while a value of 1.0 uses the degenerated result entirely.\n",
    "        Values between 0 and 1 result in linear interpolation between the original\n",
    "        image and a fully blue image.\n",
    "        Values should be between `0.0` and `1.0`.  If a tuple is used, a `factor` is\n",
    "        sampled between the two values for every image augmented.  If a single float\n",
    "        is used, a value between `0.0` and the passed float is sampled.  In order to\n",
    "        ensure the value is always the same, please pass a tuple with two identical\n",
    "        floats: `(0.5, 0.5)`.\n",
    "    \"\"\"\n",
    "\n",
    "    def __init__(self, value_range, factor, **kwargs):\n",
    "        super().__init__(**kwargs)\n",
    "        self.value_range = value_range\n",
    "        self.factor = utils.parse_factor(factor)\n",
    "\n",
    "    def get_random_transformation(self, **kwargs):\n",
    "        # kwargs holds {\"images\": image, \"labels\": label, etc...}\n",
    "        return self.factor() * 255\n",
    "\n",
    "    def augment_image(self, image, transformation=None, **kwargs):\n",
    "        image = utils.transform_value_range(image, self.value_range, (0, 255))\n",
    "        [*others, blue] = tf.unstack(image, axis=-1)\n",
    "        blue = tf.clip_by_value(blue + transformation, 0.0, 255.0)\n",
    "        result = tf.stack([*others, blue], axis=-1)\n",
    "        result = utils.transform_value_range(result, (0, 255), self.value_range)\n",
    "        return result\n",
    "\n",
    "    def augment_label(self, label, transformation=None, **kwargs):\n",
    "        # you can use transformation somehow if you want\n",
    "\n",
    "        if transformation > 100:\n",
    "            # i.e. maybe class 2 corresponds to blue images\n",
    "            return 2.0\n",
    "\n",
    "        return label\n",
    "\n",
    "    def augment_bounding_boxes(self, bounding_boxes, transformation=None, **kwargs):\n",
    "        # you can also perform no-op augmentations on label types to support them in\n",
    "        # your pipeline.\n",
    "        return bounding_boxes\n",
    "\n",
    "\n",
    "layer = RandomBlueTint(value_range=(0, 1), factor=(0.1, 0.1))\n",
    "elephants_0_1 = elephants / 255\n",
    "print(\"min and max before augmentation:\", elephants_0_1.min(), elephants_0_1.max())\n",
    "augmented = layer(elephants_0_1)\n",
    "print(\n",
    "    \"min and max after augmentation:\",\n",
    "    augmented.numpy().min(),\n",
    "    augmented.numpy().max(),\n",
    ")\n",
    "imshow((augmented * 255).numpy().astype(int))"
   ]
  },
  {
   "cell_type": "markdown",
   "metadata": {
    "colab_type": "text"
   },
   "source": [
    "Now our elephants are only slgihtly blue tinted.  This is the expected behavior when\n",
    "using a factor of `0.1`.  Great!\n",
    "\n",
    "Now users can configure the layer to support any value range they may need.  Note that\n",
    "only layers that interact with color information should use the value range API.\n",
    "Many augmentation techniques, such as `RandomRotation` will not need this.\n",
    "\n",
    "## Auto vectorization performance\n",
    "\n",
    "If you are wondering:\n",
    "\n",
    "> Does implementing my augmentations on an sample-wise basis carry performance\n",
    "    implications?\n",
    "\n",
    "You are not alone!\n",
    "\n",
    "Luckily, I have performed extensive analysis on the performance of automatic\n",
    "vectorization, manual vectorization, and unvectorized implementations.\n",
    "In this benchmark, I implemented a RandomCutout layer using auto vectorization, no auto\n",
    "vectorization and manual vectorization.\n",
    "All of these were benchmarked inside of an `@tf.function` annotation.\n",
    "They were also each benchmarked with the `jit_compile` argument.\n",
    "\n",
    "The following chart shows the results of this benchmark:\n",
    "\n",
    "![Auto Vectorization Performance Chart](https://i.imgur.com/NeNhDoi.png)\n",
    "\n",
    "_The primary takeaway should be that the difference between manual vectorization and\n",
    "automatic vectorization is marginal!_\n",
    "\n",
    "Please note that Eager mode performance will be drastically different.\n",
    "\n",
    "## Common gotchas\n",
    "\n",
    "Some layers are not able to be automatically vectorizated.\n",
    "An example of this is [GridMask](https://tinyurl.com/ffb5zzf7).\n",
    "\n",
    "If you receive an error when invoking your layer, try adding the following to your\n",
    "constructor:"
   ]
  },
  {
   "cell_type": "code",
   "execution_count": 0,
   "metadata": {
    "colab_type": "code"
   },
   "outputs": [],
   "source": [
    "\n",
    "class UnVectorizable(keras_cv.layers.BaseImageAugmentationLayer):\n",
    "    def __init__(self, **kwargs):\n",
    "        super().__init__(**kwargs)\n",
    "        # this disables BaseImageAugmentationLayer's Auto Vectorization\n",
    "        self.auto_vectorize = False\n",
    ""
   ]
  },
  {
   "cell_type": "markdown",
   "metadata": {
    "colab_type": "text"
   },
   "source": [
    "Additionally, be sure to accept `**kwargs` to your `augment_*` methods to ensure\n",
    "forwards compatibility.  KerasCV will add additional label types in the future, and\n",
    "if you do not include a `**kwargs` argument your augmentation layers will not be\n",
    "forward compatible.\n",
    "\n",
    "## Conclusion and next steps\n",
    "\n",
    "KerasCV offers a standard set of APIs to streamline the process of implementing your\n",
    "own data augmentation techniques.\n",
    "These include `BaseImageAugmentationLayer`, the `FactorSampler` API and the\n",
    "`value_range` API.\n",
    "\n",
    "We used these APIs to implement a highly configurable `RandomBlueTint` layer.\n",
    "This layer can take inputs as standalone images, a dictionary with keys of `\"images\"`\n",
    "and labels, inputs that are unbatched, or inputs that are batched.  Inputs may be in any\n",
    "value range, and the random distribution used to sample the tint values is end user\n",
    "configurable.\n",
    "\n",
    "As a follow up exercises you can:\n",
    "\n",
    "- implement your own data augmentation technique using `BaseImageAugmentationLayer`\n",
    "- [contribute an augmentation layer to KerasCV](https://github.com/keras-team/keras-cv)\n",
    "- [read through the existing KerasCV augmentation layers](https://tinyurl.com/4txy4m3t)"
   ]
  }
 ],
 "metadata": {
  "colab": {
   "collapsed_sections": [],
   "name": "custom_image_augmentations",
   "private_outputs": false,
   "provenance": [],
   "toc_visible": true
  },
  "kernelspec": {
   "display_name": "Python 3",
   "language": "python",
   "name": "python3"
  },
  "language_info": {
   "codemirror_mode": {
    "name": "ipython",
    "version": 3
   },
   "file_extension": ".py",
   "mimetype": "text/x-python",
   "name": "python",
   "nbconvert_exporter": "python",
   "pygments_lexer": "ipython3",
   "version": "3.7.0"
  }
 },
 "nbformat": 4,
 "nbformat_minor": 0
}