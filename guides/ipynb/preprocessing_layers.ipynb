{
 "cells": [
  {
   "cell_type": "markdown",
   "metadata": {
    "colab_type": "text"
   },
   "source": [
    "# Working with preprocessing layers\n",
    "\n",
    "**Authors:** Francois Chollet, Mark Omernick<br>\n",
    "**Date created:** 2020/07/25<br>\n",
    "**Last modified:** 2021/04/23<br>\n",
    "**Description:** Overview of how to leverage preprocessing layers to create end-to-end models."
   ]
  },
  {
   "cell_type": "markdown",
   "metadata": {
    "colab_type": "text"
   },
   "source": [
    "## Keras preprocessing\n",
    "\n",
    "The Keras preprocessing layers API allows developers to build Keras-native input\n",
    "processing pipelines. These input processing pipelines can be used as independent\n",
    "preprocessing code in non-Keras workflows, combined directly with Keras models, and\n",
    "exported as part of a Keras SavedModel.\n",
    "\n",
    "With Keras preprocessing layers, you can build and export models that are truly\n",
    "end-to-end: models that accept raw images or raw structured data as input; models that\n",
    "handle feature normalization or feature value indexing on their own."
   ]
  },
  {
   "cell_type": "markdown",
   "metadata": {
    "colab_type": "text"
   },
   "source": [
    "## Available preprocessing\n",
    "\n",
    "### Text preprocessing\n",
    "\n",
    "- `tf.keras.layers.TextVectorization`: turns raw strings into an encoded\n",
    "  representation that can be read by an `Embedding` layer or `Dense` layer.\n",
    "\n",
    "### Numerical features preprocessing\n",
    "\n",
    "- `tf.keras.layers.Normalization`: performs feature-wise normalize of\n",
    "  input features.\n",
    "- `tf.keras.layers.Discretization`: turns continuous numerical features\n",
    "  into integer categorical features.\n",
    "\n",
    "### Categorical features preprocessing\n",
    "\n",
    "- `tf.keras.layers.CategoryEncoding`: turns integer categorical features\n",
    "  into one-hot, multi-hot, or count dense representations.\n",
    "- `tf.keras.layers.Hashing`: performs categorical feature hashing, also known as\n",
    "  the \"hashing trick\".\n",
    "- `tf.keras.layers.StringLookup`: turns string categorical values into an encoded\n",
    "  representation that can be read by an `Embedding` layer or `Dense` layer.\n",
    "- `tf.keras.layers.IntegerLookup`: turns integer categorical values into an\n",
    "  encoded representation that can be read by an `Embedding` layer or `Dense`\n",
    "  layer.\n",
    "\n",
    "\n",
    "### Image preprocessing\n",
    "\n",
    "These layers are for standardizing the inputs of an image model.\n",
    "\n",
    "- `tf.keras.layers.Resizing`: resizes a batch of images to a target size.\n",
    "- `tf.keras.layers.Rescaling`: rescales and offsets the values of a batch of\n",
    "  image (e.g. go from inputs in the `[0, 255]` range to inputs in the `[0, 1]`\n",
    "  range.\n",
    "- `tf.keras.layers.CenterCrop`: returns a center crop of a batch of images.\n",
    "\n",
    "### Image data augmentation\n",
    "\n",
    "These layers apply random augmentation transforms to a batch of images. They\n",
    "are only active during training.\n",
    "\n",
    "- `tf.keras.layers.RandomCrop`\n",
    "- `tf.keras.layers.RandomFlip`\n",
    "- `tf.keras.layers.RandomTranslation`\n",
    "- `tf.keras.layers.RandomRotation`\n",
    "- `tf.keras.layers.RandomZoom`\n",
    "- `tf.keras.layers.RandomHeight`\n",
    "- `tf.keras.layers.RandomWidth`\n",
    "- `tf.keras.layers.RandomContrast`"
   ]
  },
  {
   "cell_type": "markdown",
   "metadata": {
    "colab_type": "text"
   },
   "source": [
    "## The `adapt()` method\n",
    "\n",
    "Some preprocessing layers have an internal state that can be computed based on\n",
    "a sample of the training data. The list of stateful preprocessing layers is:\n",
    "\n",
    "- `TextVectorization`: holds a mapping between string tokens and integer indices\n",
    "- `StringLookup` and `IntegerLookup`: hold a mapping between input values and integer\n",
    "indices.\n",
    "- `Normalization`: holds the mean and standard deviation of the features.\n",
    "- `Discretization`: holds information about value bucket boundaries.\n",
    "\n",
    "Crucially, these layers are **non-trainable**. Their state is not set during training; it\n",
    "must be set **before training**, either by initializing them from a precomputed constant,\n",
    "or by \"adapting\" them on data.\n",
    "\n",
    "You set the state of a preprocessing layer by exposing it to training data, via the\n",
    "`adapt()` method:"
   ]
  },
  {
   "cell_type": "code",
   "execution_count": 0,
   "metadata": {
    "colab_type": "code"
   },
   "outputs": [],
   "source": [
    "import numpy as np\n",
    "import tensorflow as tf\n",
    "from tensorflow.keras import layers\n",
    "\n",
    "data = np.array(\n",
    "    [\n",
    "        [0.1, 0.2, 0.3],\n",
    "        [0.8, 0.9, 1.0],\n",
    "        [1.5, 1.6, 1.7],\n",
    "    ]\n",
    ")\n",
    "layer = layers.Normalization()\n",
    "layer.adapt(data)\n",
    "normalized_data = layer(data)\n",
    "\n",
    "print(\"Features mean: %.2f\" % (normalized_data.numpy().mean()))\n",
    "print(\"Features std: %.2f\" % (normalized_data.numpy().std()))"
   ]
  },
  {
   "cell_type": "markdown",
   "metadata": {
    "colab_type": "text"
   },
   "source": [
    "The `adapt()` method takes either a Numpy array or a `tf.data.Dataset` object. In the\n",
    "case of `StringLookup` and `TextVectorization`, you can also pass a list of strings:"
   ]
  },
  {
   "cell_type": "code",
   "execution_count": 0,
   "metadata": {
    "colab_type": "code"
   },
   "outputs": [],
   "source": [
    "data = [\n",
    "    \"\u03be\u03b5\u1fd6\u03bd\u1fbd, \u1f26 \u03c4\u03bf\u03b9 \u03bc\u1f72\u03bd \u1f44\u03bd\u03b5\u03b9\u03c1\u03bf\u03b9 \u1f00\u03bc\u03ae\u03c7\u03b1\u03bd\u03bf\u03b9 \u1f00\u03ba\u03c1\u03b9\u03c4\u03cc\u03bc\u03c5\u03b8\u03bf\u03b9\",\n",
    "    \"\u03b3\u03af\u03b3\u03bd\u03bf\u03bd\u03c4\u1fbd, \u03bf\u1f50\u03b4\u03ad \u03c4\u03b9 \u03c0\u03ac\u03bd\u03c4\u03b1 \u03c4\u03b5\u03bb\u03b5\u03af\u03b5\u03c4\u03b1\u03b9 \u1f00\u03bd\u03b8\u03c1\u03ce\u03c0\u03bf\u03b9\u03c3\u03b9.\",\n",
    "    \"\u03b4\u03bf\u03b9\u03b1\u1f76 \u03b3\u03ac\u03c1 \u03c4\u03b5 \u03c0\u03cd\u03bb\u03b1\u03b9 \u1f00\u03bc\u03b5\u03bd\u03b7\u03bd\u1ff6\u03bd \u03b5\u1f30\u03c3\u1f76\u03bd \u1f40\u03bd\u03b5\u03af\u03c1\u03c9\u03bd:\",\n",
    "    \"\u03b1\u1f31 \u03bc\u1f72\u03bd \u03b3\u1f70\u03c1 \u03ba\u03b5\u03c1\u03ac\u03b5\u03c3\u03c3\u03b9 \u03c4\u03b5\u03c4\u03b5\u03cd\u03c7\u03b1\u03c4\u03b1\u03b9, \u03b1\u1f31 \u03b4\u1fbd \u1f10\u03bb\u03ad\u03c6\u03b1\u03bd\u03c4\u03b9:\",\n",
    "    \"\u03c4\u1ff6\u03bd \u03bf\u1f33 \u03bc\u03ad\u03bd \u03ba\u1fbd \u1f14\u03bb\u03b8\u03c9\u03c3\u03b9 \u03b4\u03b9\u1f70 \u03c0\u03c1\u03b9\u03c3\u03c4\u03bf\u1fe6 \u1f10\u03bb\u03ad\u03c6\u03b1\u03bd\u03c4\u03bf\u03c2,\",\n",
    "    \"\u03bf\u1f35 \u1fe5\u1fbd \u1f10\u03bb\u03b5\u03c6\u03b1\u03af\u03c1\u03bf\u03bd\u03c4\u03b1\u03b9, \u1f14\u03c0\u03b5\u1fbd \u1f00\u03ba\u03c1\u03ac\u03b1\u03bd\u03c4\u03b1 \u03c6\u03ad\u03c1\u03bf\u03bd\u03c4\u03b5\u03c2:\",\n",
    "    \"\u03bf\u1f31 \u03b4\u1f72 \u03b4\u03b9\u1f70 \u03be\u03b5\u03c3\u03c4\u1ff6\u03bd \u03ba\u03b5\u03c1\u03ac\u03c9\u03bd \u1f14\u03bb\u03b8\u03c9\u03c3\u03b9 \u03b8\u03cd\u03c1\u03b1\u03b6\u03b5,\",\n",
    "    \"\u03bf\u1f35 \u1fe5\u1fbd \u1f14\u03c4\u03c5\u03bc\u03b1 \u03ba\u03c1\u03b1\u03af\u03bd\u03bf\u03c5\u03c3\u03b9, \u03b2\u03c1\u03bf\u03c4\u1ff6\u03bd \u1f45\u03c4\u03b5 \u03ba\u03ad\u03bd \u03c4\u03b9\u03c2 \u1f34\u03b4\u03b7\u03c4\u03b1\u03b9.\",\n",
    "]\n",
    "layer = layers.TextVectorization()\n",
    "layer.adapt(data)\n",
    "vectorized_text = layer(data)\n",
    "print(vectorized_text)"
   ]
  },
  {
   "cell_type": "markdown",
   "metadata": {
    "colab_type": "text"
   },
   "source": [
    "In addition, adaptable layers always expose an option to directly set state via\n",
    "constructor arguments or weight assignment. If the intended state values are known at\n",
    "layer construction time, or are calculated outside of the `adapt()` call, they can be set\n",
    "without relying on the layer's internal computation. For instance, if external vocabulary\n",
    "files for the `TextVectorization`, `StringLookup`, or `IntegerLookup` layers already\n",
    "exist, those can be loaded directly into the lookup tables by passing a path to the\n",
    "vocabulary file in the layer's constructor arguments.\n",
    "\n",
    "Here's an example where you instantiate a `StringLookup` layer with precomputed vocabulary:"
   ]
  },
  {
   "cell_type": "code",
   "execution_count": 0,
   "metadata": {
    "colab_type": "code"
   },
   "outputs": [],
   "source": [
    "vocab = [\"a\", \"b\", \"c\", \"d\"]\n",
    "data = tf.constant([[\"a\", \"c\", \"d\"], [\"d\", \"z\", \"b\"]])\n",
    "layer = layers.StringLookup(vocabulary=vocab)\n",
    "vectorized_data = layer(data)\n",
    "print(vectorized_data)"
   ]
  },
  {
   "cell_type": "markdown",
   "metadata": {
    "colab_type": "text"
   },
   "source": [
    "## Preprocessing data before the model or inside the model\n",
    "\n",
    "There are two ways you could be using preprocessing layers:\n",
    "\n",
    "**Option 1:** Make them part of the model, like this:\n",
    "\n",
    "```python\n",
    "inputs = keras.Input(shape=input_shape)\n",
    "x = preprocessing_layer(inputs)\n",
    "outputs = rest_of_the_model(x)\n",
    "model = keras.Model(inputs, outputs)\n",
    "```\n",
    "\n",
    "With this option, preprocessing will happen on device, synchronously with the rest of the\n",
    "model execution, meaning that it will benefit from GPU acceleration.\n",
    "If you're training on a GPU, this is the best option for the `Normalization` layer, and for\n",
    "all image preprocessing and data augmentation layers.\n",
    "\n",
    "**Option 2:** apply it to your `tf.data.Dataset`, so as to obtain a dataset that yields\n",
    "batches of preprocessed data, like this:\n",
    "\n",
    "```python\n",
    "dataset = dataset.map(lambda x, y: (preprocessing_layer(x), y))\n",
    "```\n",
    "\n",
    "With this option, your preprocessing will happen on a CPU, asynchronously, and will be\n",
    "buffered before going into the model.\n",
    "In addition, if you call `dataset.prefetch(tf.data.AUTOTUNE)` on your dataset,\n",
    "the preprocessing will happen efficiently in parallel with training:\n",
    "\n",
    "```python\n",
    "dataset = dataset.map(lambda x, y: (preprocessing_layer(x), y))\n",
    "dataset = dataset.prefetch(tf.data.AUTOTUNE)\n",
    "model.fit(dataset, ...)\n",
    "```\n",
    "\n",
    "This is the best option for `TextVectorization`, and all structured data preprocessing\n",
    "layers. It can also be a good option if you're training on a CPU and you use image preprocessing\n",
    "layers.\n",
    "\n",
    "Note that the `TextVectorization` layer can only be executed on a CPU, as it is mostly a\n",
    "dictionary lookup operation. Therefore, if you are training your model on a GPU or a TPU,\n",
    "you should put the `TextVectorization` layer in the `tf.data` pipeline to get the best performance.\n",
    "\n",
    "**When running on a TPU, you should always place preprocessing layers in the `tf.data` pipeline**\n",
    "(with the exception of `Normalization` and `Rescaling`, which run fine on a TPU and are commonly\n",
    "used as the first layer is an image model)."
   ]
  },
  {
   "cell_type": "markdown",
   "metadata": {
    "colab_type": "text"
   },
   "source": [
    "## Benefits of doing preprocessing inside the model at inference time\n",
    "\n",
    "Even if you go with option 2, you may later want to export an inference-only end-to-end\n",
    "model that will include the preprocessing layers. The key benefit to doing this is that\n",
    "**it makes your model portable** and it **helps reduce the\n",
    "[training/serving skew](https://developers.google.com/machine-learning/guides/rules-of-ml#training-serving_skew)**.\n",
    "\n",
    "When all data preprocessing is part of the model, other people can load and use your\n",
    "model without having to be aware of how each feature is expected to be encoded &\n",
    "normalized. Your inference model will be able to process raw images or raw structured\n",
    "data, and will not require users of the model to be aware of the details of e.g. the\n",
    "tokenization scheme used for text, the indexing scheme used for categorical features,\n",
    "whether image pixel values are normalized to `[-1, +1]` or to `[0, 1]`, etc. This is\n",
    "especially powerful if you're exporting\n",
    "your model to another runtime, such as TensorFlow.js: you won't have to\n",
    "reimplement your preprocessing pipeline in JavaScript.\n",
    "\n",
    "If you initially put your preprocessing layers in your `tf.data` pipeline,\n",
    "you can export an inference model that packages the preprocessing.\n",
    "Simply instantiate a new model that chains\n",
    "your preprocessing layers and your training model:\n",
    "\n",
    "```python\n",
    "inputs = keras.Input(shape=input_shape)\n",
    "x = preprocessing_layer(inputs)\n",
    "outputs = training_model(x)\n",
    "inference_model = keras.Model(inputs, outputs)\n",
    "```"
   ]
  },
  {
   "cell_type": "markdown",
   "metadata": {
    "colab_type": "text"
   },
   "source": [
    "## Preprocessing during multi-worker training\n",
    "\n",
    "Preprocessing layers are compatible with the\n",
    "[tf.distribute](https://www.tensorflow.org/api_docs/python/tf/distribute) API\n",
    "for running training across multiple machines.\n",
    "\n",
    "In general, preprocessing layers should be placed inside a `tf.distribute.Strategy.scope()`\n",
    "and called either inside or before the model as discussed above.\n",
    "\n",
    "```python\n",
    "with strategy.scope():\n",
    "    inputs = keras.Input(shape=input_shape)\n",
    "    preprocessing_layer = tf.keras.layers.Hashing(10)\n",
    "    dense_layer = tf.keras.layers.Dense(16)\n",
    "```\n",
    "\n",
    "For more details, refer to the _Data preprocessing_ section\n",
    "of the [Distributed input](https://www.tensorflow.org/tutorials/distribute/input)\n",
    "tutorial."
   ]
  },
  {
   "cell_type": "markdown",
   "metadata": {
    "colab_type": "text"
   },
   "source": [
    "## Quick recipes\n",
    "\n",
    "### Image data augmentation\n",
    "\n",
    "Note that image data augmentation layers are only active during training (similarly to\n",
    "the `Dropout` layer)."
   ]
  },
  {
   "cell_type": "code",
   "execution_count": 0,
   "metadata": {
    "colab_type": "code"
   },
   "outputs": [],
   "source": [
    "from tensorflow import keras\n",
    "from tensorflow.keras import layers\n",
    "\n",
    "# Create a data augmentation stage with horizontal flipping, rotations, zooms\n",
    "data_augmentation = keras.Sequential(\n",
    "    [\n",
    "        layers.RandomFlip(\"horizontal\"),\n",
    "        layers.RandomRotation(0.1),\n",
    "        layers.RandomZoom(0.1),\n",
    "    ]\n",
    ")\n",
    "\n",
    "# Load some data\n",
    "(x_train, y_train), _ = keras.datasets.cifar10.load_data()\n",
    "input_shape = x_train.shape[1:]\n",
    "classes = 10\n",
    "\n",
    "# Create a tf.data pipeline of augmented images (and their labels)\n",
    "train_dataset = tf.data.Dataset.from_tensor_slices((x_train, y_train))\n",
    "train_dataset = train_dataset.batch(16).map(lambda x, y: (data_augmentation(x), y))\n",
    "\n",
    "\n",
    "# Create a model and train it on the augmented image data\n",
    "inputs = keras.Input(shape=input_shape)\n",
    "x = layers.Rescaling(1.0 / 255)(inputs)  # Rescale inputs\n",
    "outputs = keras.applications.ResNet50(  # Add the rest of the model\n",
    "    weights=None, input_shape=input_shape, classes=classes\n",
    ")(x)\n",
    "model = keras.Model(inputs, outputs)\n",
    "model.compile(optimizer=\"rmsprop\", loss=\"sparse_categorical_crossentropy\")\n",
    "model.fit(train_dataset, steps_per_epoch=5)"
   ]
  },
  {
   "cell_type": "markdown",
   "metadata": {
    "colab_type": "text"
   },
   "source": [
    "You can see a similar setup in action in the example\n",
    "[image classification from scratch](https://keras.io/examples/vision/image_classification_from_scratch/)."
   ]
  },
  {
   "cell_type": "markdown",
   "metadata": {
    "colab_type": "text"
   },
   "source": [
    "### Normalizing numerical features"
   ]
  },
  {
   "cell_type": "code",
   "execution_count": 0,
   "metadata": {
    "colab_type": "code"
   },
   "outputs": [],
   "source": [
    "# Load some data\n",
    "(x_train, y_train), _ = keras.datasets.cifar10.load_data()\n",
    "x_train = x_train.reshape((len(x_train), -1))\n",
    "input_shape = x_train.shape[1:]\n",
    "classes = 10\n",
    "\n",
    "# Create a Normalization layer and set its internal state using the training data\n",
    "normalizer = layers.Normalization()\n",
    "normalizer.adapt(x_train)\n",
    "\n",
    "# Create a model that include the normalization layer\n",
    "inputs = keras.Input(shape=input_shape)\n",
    "x = normalizer(inputs)\n",
    "outputs = layers.Dense(classes, activation=\"softmax\")(x)\n",
    "model = keras.Model(inputs, outputs)\n",
    "\n",
    "# Train the model\n",
    "model.compile(optimizer=\"adam\", loss=\"sparse_categorical_crossentropy\")\n",
    "model.fit(x_train, y_train)"
   ]
  },
  {
   "cell_type": "markdown",
   "metadata": {
    "colab_type": "text"
   },
   "source": [
    "### Encoding string categorical features via one-hot encoding"
   ]
  },
  {
   "cell_type": "code",
   "execution_count": 0,
   "metadata": {
    "colab_type": "code"
   },
   "outputs": [],
   "source": [
    "# Define some toy data\n",
    "data = tf.constant([[\"a\"], [\"b\"], [\"c\"], [\"b\"], [\"c\"], [\"a\"]])\n",
    "\n",
    "# Use StringLookup to build an index of the feature values and encode output.\n",
    "lookup = layers.StringLookup(output_mode=\"one_hot\")\n",
    "lookup.adapt(data)\n",
    "\n",
    "# Convert new test data (which includes unknown feature values)\n",
    "test_data = tf.constant([[\"a\"], [\"b\"], [\"c\"], [\"d\"], [\"e\"], [\"\"]])\n",
    "encoded_data = lookup(test_data)\n",
    "print(encoded_data)"
   ]
  },
  {
   "cell_type": "markdown",
   "metadata": {
    "colab_type": "text"
   },
   "source": [
    "Note that, here, index 0 is reserved for out-of-vocabulary values\n",
    "(values that were not seen during `adapt()`).\n",
    "\n",
    "You can see the `StringLookup` in action in the\n",
    "[Structured data classification from scratch](https://keras.io/examples/structured_data/structured_data_classification_from_scratch/)\n",
    "example."
   ]
  },
  {
   "cell_type": "markdown",
   "metadata": {
    "colab_type": "text"
   },
   "source": [
    "### Encoding integer categorical features via one-hot encoding"
   ]
  },
  {
   "cell_type": "code",
   "execution_count": 0,
   "metadata": {
    "colab_type": "code"
   },
   "outputs": [],
   "source": [
    "# Define some toy data\n",
    "data = tf.constant([[10], [20], [20], [10], [30], [0]])\n",
    "\n",
    "# Use IntegerLookup to build an index of the feature values and encode output.\n",
    "lookup = layers.IntegerLookup(output_mode=\"one_hot\")\n",
    "lookup.adapt(data)\n",
    "\n",
    "# Convert new test data (which includes unknown feature values)\n",
    "test_data = tf.constant([[10], [10], [20], [50], [60], [0]])\n",
    "encoded_data = lookup(test_data)\n",
    "print(encoded_data)"
   ]
  },
  {
   "cell_type": "markdown",
   "metadata": {
    "colab_type": "text"
   },
   "source": [
    "Note that index 0 is reserved for missing values (which you should specify as the value\n",
    "0), and index 1 is reserved for out-of-vocabulary values (values that were not seen\n",
    "during `adapt()`). You can configure this by using the `mask_token` and `oov_token`\n",
    "constructor arguments  of `IntegerLookup`.\n",
    "\n",
    "You can see the `IntegerLookup` in action in the example\n",
    "[structured data classification from scratch](https://keras.io/examples/structured_data/structured_data_classification_from_scratch/)."
   ]
  },
  {
   "cell_type": "markdown",
   "metadata": {
    "colab_type": "text"
   },
   "source": [
    "### Applying the hashing trick to an integer categorical feature\n",
    "\n",
    "If you have a categorical feature that can take many different values (on the order of\n",
    "10e3 or higher), where each value only appears a few times in the data,\n",
    "it becomes impractical and ineffective to index and one-hot encode the feature values.\n",
    "Instead, it can be a good idea to apply the \"hashing trick\": hash the values to a vector\n",
    "of fixed size. This keeps the size of the feature space manageable, and removes the need\n",
    "for explicit indexing."
   ]
  },
  {
   "cell_type": "code",
   "execution_count": 0,
   "metadata": {
    "colab_type": "code"
   },
   "outputs": [],
   "source": [
    "# Sample data: 10,000 random integers with values between 0 and 100,000\n",
    "data = np.random.randint(0, 100000, size=(10000, 1))\n",
    "\n",
    "# Use the Hashing layer to hash the values to the range [0, 64]\n",
    "hasher = layers.Hashing(num_bins=64, salt=1337)\n",
    "\n",
    "# Use the CategoryEncoding layer to multi-hot encode the hashed values\n",
    "encoder = layers.CategoryEncoding(num_tokens=64, output_mode=\"multi_hot\")\n",
    "encoded_data = encoder(hasher(data))\n",
    "print(encoded_data.shape)"
   ]
  },
  {
   "cell_type": "markdown",
   "metadata": {
    "colab_type": "text"
   },
   "source": [
    "### Encoding text as a sequence of token indices\n",
    "\n",
    "This is how you should preprocess text to be passed to an `Embedding` layer."
   ]
  },
  {
   "cell_type": "code",
   "execution_count": 0,
   "metadata": {
    "colab_type": "code"
   },
   "outputs": [],
   "source": [
    "# Define some text data to adapt the layer\n",
    "adapt_data = tf.constant(\n",
    "    [\n",
    "        \"The Brain is wider than the Sky\",\n",
    "        \"For put them side by side\",\n",
    "        \"The one the other will contain\",\n",
    "        \"With ease and You beside\",\n",
    "    ]\n",
    ")\n",
    "\n",
    "# Create a TextVectorization layer\n",
    "text_vectorizer = layers.TextVectorization(output_mode=\"int\")\n",
    "# Index the vocabulary via `adapt()`\n",
    "text_vectorizer.adapt(adapt_data)\n",
    "\n",
    "# Try out the layer\n",
    "print(\n",
    "    \"Encoded text:\\n\",\n",
    "    text_vectorizer([\"The Brain is deeper than the sea\"]).numpy(),\n",
    ")\n",
    "\n",
    "# Create a simple model\n",
    "inputs = keras.Input(shape=(None,), dtype=\"int64\")\n",
    "x = layers.Embedding(input_dim=text_vectorizer.vocabulary_size(), output_dim=16)(inputs)\n",
    "x = layers.GRU(8)(x)\n",
    "outputs = layers.Dense(1)(x)\n",
    "model = keras.Model(inputs, outputs)\n",
    "\n",
    "# Create a labeled dataset (which includes unknown tokens)\n",
    "train_dataset = tf.data.Dataset.from_tensor_slices(\n",
    "    ([\"The Brain is deeper than the sea\", \"for if they are held Blue to Blue\"], [1, 0])\n",
    ")\n",
    "\n",
    "# Preprocess the string inputs, turning them into int sequences\n",
    "train_dataset = train_dataset.batch(2).map(lambda x, y: (text_vectorizer(x), y))\n",
    "# Train the model on the int sequences\n",
    "print(\"\\nTraining model...\")\n",
    "model.compile(optimizer=\"rmsprop\", loss=\"mse\")\n",
    "model.fit(train_dataset)\n",
    "\n",
    "# For inference, you can export a model that accepts strings as input\n",
    "inputs = keras.Input(shape=(1,), dtype=\"string\")\n",
    "x = text_vectorizer(inputs)\n",
    "outputs = model(x)\n",
    "end_to_end_model = keras.Model(inputs, outputs)\n",
    "\n",
    "# Call the end-to-end model on test data (which includes unknown tokens)\n",
    "print(\"\\nCalling end-to-end model on test string...\")\n",
    "test_data = tf.constant([\"The one the other will absorb\"])\n",
    "test_output = end_to_end_model(test_data)\n",
    "print(\"Model output:\", test_output)"
   ]
  },
  {
   "cell_type": "markdown",
   "metadata": {
    "colab_type": "text"
   },
   "source": [
    "You can see the `TextVectorization` layer in action, combined with an `Embedding` mode,\n",
    "in the example\n",
    "[text classification from scratch](https://keras.io/examples/nlp/text_classification_from_scratch/).\n",
    "\n",
    "Note that when training such a model, for best performance, you should always\n",
    "use the `TextVectorization` layer as part of the input pipeline."
   ]
  },
  {
   "cell_type": "markdown",
   "metadata": {
    "colab_type": "text"
   },
   "source": [
    "### Encoding text as a dense matrix of N-grams with multi-hot encoding\n",
    "\n",
    "This is how you should preprocess text to be passed to a `Dense` layer."
   ]
  },
  {
   "cell_type": "code",
   "execution_count": 0,
   "metadata": {
    "colab_type": "code"
   },
   "outputs": [],
   "source": [
    "# Define some text data to adapt the layer\n",
    "adapt_data = tf.constant(\n",
    "    [\n",
    "        \"The Brain is wider than the Sky\",\n",
    "        \"For put them side by side\",\n",
    "        \"The one the other will contain\",\n",
    "        \"With ease and You beside\",\n",
    "    ]\n",
    ")\n",
    "# Instantiate TextVectorization with \"multi_hot\" output_mode\n",
    "# and ngrams=2 (index all bigrams)\n",
    "text_vectorizer = layers.TextVectorization(output_mode=\"multi_hot\", ngrams=2)\n",
    "# Index the bigrams via `adapt()`\n",
    "text_vectorizer.adapt(adapt_data)\n",
    "\n",
    "# Try out the layer\n",
    "print(\n",
    "    \"Encoded text:\\n\",\n",
    "    text_vectorizer([\"The Brain is deeper than the sea\"]).numpy(),\n",
    ")\n",
    "\n",
    "# Create a simple model\n",
    "inputs = keras.Input(shape=(text_vectorizer.vocabulary_size(),))\n",
    "outputs = layers.Dense(1)(inputs)\n",
    "model = keras.Model(inputs, outputs)\n",
    "\n",
    "# Create a labeled dataset (which includes unknown tokens)\n",
    "train_dataset = tf.data.Dataset.from_tensor_slices(\n",
    "    ([\"The Brain is deeper than the sea\", \"for if they are held Blue to Blue\"], [1, 0])\n",
    ")\n",
    "\n",
    "# Preprocess the string inputs, turning them into int sequences\n",
    "train_dataset = train_dataset.batch(2).map(lambda x, y: (text_vectorizer(x), y))\n",
    "# Train the model on the int sequences\n",
    "print(\"\\nTraining model...\")\n",
    "model.compile(optimizer=\"rmsprop\", loss=\"mse\")\n",
    "model.fit(train_dataset)\n",
    "\n",
    "# For inference, you can export a model that accepts strings as input\n",
    "inputs = keras.Input(shape=(1,), dtype=\"string\")\n",
    "x = text_vectorizer(inputs)\n",
    "outputs = model(x)\n",
    "end_to_end_model = keras.Model(inputs, outputs)\n",
    "\n",
    "# Call the end-to-end model on test data (which includes unknown tokens)\n",
    "print(\"\\nCalling end-to-end model on test string...\")\n",
    "test_data = tf.constant([\"The one the other will absorb\"])\n",
    "test_output = end_to_end_model(test_data)\n",
    "print(\"Model output:\", test_output)"
   ]
  },
  {
   "cell_type": "markdown",
   "metadata": {
    "colab_type": "text"
   },
   "source": [
    "### Encoding text as a dense matrix of N-grams with TF-IDF weighting\n",
    "\n",
    "This is an alternative way of preprocessing text before passing it to a `Dense` layer."
   ]
  },
  {
   "cell_type": "code",
   "execution_count": 0,
   "metadata": {
    "colab_type": "code"
   },
   "outputs": [],
   "source": [
    "# Define some text data to adapt the layer\n",
    "adapt_data = tf.constant(\n",
    "    [\n",
    "        \"The Brain is wider than the Sky\",\n",
    "        \"For put them side by side\",\n",
    "        \"The one the other will contain\",\n",
    "        \"With ease and You beside\",\n",
    "    ]\n",
    ")\n",
    "# Instantiate TextVectorization with \"tf-idf\" output_mode\n",
    "# (multi-hot with TF-IDF weighting) and ngrams=2 (index all bigrams)\n",
    "text_vectorizer = layers.TextVectorization(output_mode=\"tf-idf\", ngrams=2)\n",
    "# Index the bigrams and learn the TF-IDF weights via `adapt()`\n",
    "text_vectorizer.adapt(adapt_data)\n",
    "\n",
    "# Try out the layer\n",
    "print(\n",
    "    \"Encoded text:\\n\",\n",
    "    text_vectorizer([\"The Brain is deeper than the sea\"]).numpy(),\n",
    ")\n",
    "\n",
    "# Create a simple model\n",
    "inputs = keras.Input(shape=(text_vectorizer.vocabulary_size(),))\n",
    "outputs = layers.Dense(1)(inputs)\n",
    "model = keras.Model(inputs, outputs)\n",
    "\n",
    "# Create a labeled dataset (which includes unknown tokens)\n",
    "train_dataset = tf.data.Dataset.from_tensor_slices(\n",
    "    ([\"The Brain is deeper than the sea\", \"for if they are held Blue to Blue\"], [1, 0])\n",
    ")\n",
    "\n",
    "# Preprocess the string inputs, turning them into int sequences\n",
    "train_dataset = train_dataset.batch(2).map(lambda x, y: (text_vectorizer(x), y))\n",
    "# Train the model on the int sequences\n",
    "print(\"\\nTraining model...\")\n",
    "model.compile(optimizer=\"rmsprop\", loss=\"mse\")\n",
    "model.fit(train_dataset)\n",
    "\n",
    "# For inference, you can export a model that accepts strings as input\n",
    "inputs = keras.Input(shape=(1,), dtype=\"string\")\n",
    "x = text_vectorizer(inputs)\n",
    "outputs = model(x)\n",
    "end_to_end_model = keras.Model(inputs, outputs)\n",
    "\n",
    "# Call the end-to-end model on test data (which includes unknown tokens)\n",
    "print(\"\\nCalling end-to-end model on test string...\")\n",
    "test_data = tf.constant([\"The one the other will absorb\"])\n",
    "test_output = end_to_end_model(test_data)\n",
    "print(\"Model output:\", test_output)\n",
    ""
   ]
  },
  {
   "cell_type": "markdown",
   "metadata": {
    "colab_type": "text"
   },
   "source": [
    "## Important gotchas\n",
    "\n",
    "### Working with lookup layers with very large vocabularies\n",
    "\n",
    "You may find yourself working with a very large vocabulary in a `TextVectorization`, a `StringLookup` layer,\n",
    "or an `IntegerLookup` layer. Typically, a vocabulary larger than 500MB would be considered \"very large\".\n",
    "\n",
    "In such a case, for best performance, you should avoid using `adapt()`.\n",
    "Instead, pre-compute your vocabulary in advance\n",
    "(you could use Apache Beam or TF Transform for this)\n",
    "and store it in a file. Then load the vocabulary into the layer at construction\n",
    "time by passing the file path as the `vocabulary` argument.\n",
    "\n",
    "\n",
    "### Using lookup layers on a TPU pod or with `ParameterServerStrategy`.\n",
    "\n",
    "There is an outstanding issue that causes performance to degrade when using\n",
    "a `TextVectorization`, `StringLookup`, or `IntegerLookup` layer while\n",
    "training on a TPU pod or on multiple machines via `ParameterServerStrategy`.\n",
    "This is slated to be fixed in TensorFlow 2.7."
   ]
  }
 ],
 "metadata": {
  "colab": {
   "collapsed_sections": [],
   "name": "preprocessing_layers",
   "private_outputs": false,
   "provenance": [],
   "toc_visible": true
  },
  "kernelspec": {
   "display_name": "Python 3",
   "language": "python",
   "name": "python3"
  },
  "language_info": {
   "codemirror_mode": {
    "name": "ipython",
    "version": 3
   },
   "file_extension": ".py",
   "mimetype": "text/x-python",
   "name": "python",
   "nbconvert_exporter": "python",
   "pygments_lexer": "ipython3",
   "version": "3.7.0"
  }
 },
 "nbformat": 4,
 "nbformat_minor": 0
}