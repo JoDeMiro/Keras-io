{
 "cells": [
  {
   "cell_type": "markdown",
   "metadata": {
    "colab_type": "text"
   },
   "source": [
    "# GauGAN for conditional image generation\n",
    "\n",
    "**Author:** [Soumik Rakshit](https://github.com/soumik12345), [Sayak Paul](https://twitter.com/RisingSayak)<br>\n",
    "**Date created:** 2021/12/26<br>\n",
    "**Last modified:** 2022/01/03<br>\n",
    "**Description:** Implementing a GauGAN for conditional image generation."
   ]
  },
  {
   "cell_type": "markdown",
   "metadata": {
    "colab_type": "text"
   },
   "source": [
    "## Introduction\n",
    "\n",
    "In this example, we present an implementation of the GauGAN architecture proposed in\n",
    "[Semantic Image Synthesis with Spatially-Adaptive Normalization](https://arxiv.org/abs/1903.07291).\n",
    "Briefly, GauGAN uses a Generative Adversarial Network (GAN) to generate realistic images\n",
    "that are conditioned on cue images and segmentation maps, as shown below\n",
    "([image source](https://nvlabs.github.io/SPADE/)):\n",
    "\n",
    "![](https://i.ibb.co/p305dzv/image.png)\n",
    "\n",
    "The main components of a GauGAN are:\n",
    "\n",
    "- **SPADE (aka spatially-adaptive normalization)** : The authors of GauGAN argue that the\n",
    "more conventional normalization layers (such as\n",
    "[Batch Normalization](https://arxiv.org/abs/1502.03167))\n",
    "destroy the semantic information obtained from segmentation maps that\n",
    "are provided as inputs. To address this problem, the authors introduce SPADE, a\n",
    "normalization layer particularly suitable for learning affine parameters (scale and bias)\n",
    "that are spatially adaptive. This is done by learning different sets of scaling and\n",
    "bias parameters for each semantic label.\n",
    "- **Variational encoder**: Inspired by\n",
    "[Variational Autoencoders](https://arxiv.org/abs/1312.6114), GauGAN uses a\n",
    "variational formulation wherein an encoder learns the mean and variance of a\n",
    "normal (Gaussian) distribution from the cue images. This is where GauGAN gets its name\n",
    "from. The generator of GauGAN takes as inputs the latents sampled from the Gaussian\n",
    "distribution as well as the one-hot encoded semantic segmentation label maps. The cue\n",
    "images act as style images that guide the generator to stylistic generation. This\n",
    "variational formulation helps GauGAN achieve image diversity as well as fidelity.\n",
    "- **Multi-scale patch discriminator** : Inspired by the\n",
    "[PatchGAN](https://paperswithcode.com/method/patchgan) model,\n",
    "GauGAN uses a discriminator that assesses a given image on a patch basis\n",
    "and produces an averaged score.\n",
    "\n",
    "As we proceed with the example, we will discuss each of the different\n",
    "components in further detail.\n",
    "\n",
    "For a thorough review of GauGAN, please refer to\n",
    "[this article](https://blog.paperspace.com/nvidia-gaugan-introduction/).\n",
    "We also encourage you to check out\n",
    "[the official GauGAN website](https://nvlabs.github.io/SPADE/), which\n",
    "has many creative applications of GauGAN. This example assumes that the reader is already\n",
    "familiar with the fundamental concepts of GANs. If you need a refresher, the following\n",
    "resources might be useful:\n",
    "\n",
    "* [Chapter on GANs](https://livebook.manning.com/book/deep-learning-with-python/chapter-8)\n",
    "from the Deep Learning with Python book by Fran\u00e7ois Chollet.\n",
    "* GAN implementations on keras.io:\n",
    "\n",
    "    * [Data efficient GANs](https://keras.io/examples/generative/gan_ada)\n",
    "    * [CycleGAN](https://keras.io/examples/generative/cyclegan)\n",
    "    * [Conditional GAN](https://keras.io/examples/generative/conditional_gan)"
   ]
  },
  {
   "cell_type": "markdown",
   "metadata": {
    "colab_type": "text"
   },
   "source": [
    "## Data collection\n",
    "\n",
    "We will be using the\n",
    "[Facades dataset](https://cmp.felk.cvut.cz/~tylecr1/facade/)\n",
    "for training our GauGAN model. Let's first download it. We also install\n",
    "TensorFlow Addons."
   ]
  },
  {
   "cell_type": "code",
   "execution_count": 0,
   "metadata": {
    "colab_type": "code"
   },
   "outputs": [],
   "source": [
    "!gdown https://drive.google.com/uc?id=1q4FEjQg1YSb4mPx2VdxL7LXKYu3voTMj\n",
    "!unzip -q facades_data.zip\n",
    "!pip install -qqq tensorflow_addons"
   ]
  },
  {
   "cell_type": "markdown",
   "metadata": {
    "colab_type": "text"
   },
   "source": [
    "## Imports"
   ]
  },
  {
   "cell_type": "code",
   "execution_count": 0,
   "metadata": {
    "colab_type": "code"
   },
   "outputs": [],
   "source": [
    "import os\n",
    "import random\n",
    "import numpy as np\n",
    "from tqdm import tqdm\n",
    "import matplotlib.pyplot as plt\n",
    "\n",
    "import tensorflow as tf\n",
    "import tensorflow_addons as tfa\n",
    "from tensorflow import keras\n",
    "from tensorflow.keras import layers\n",
    "\n",
    "from glob import glob\n",
    "from PIL import Image"
   ]
  },
  {
   "cell_type": "markdown",
   "metadata": {
    "colab_type": "text"
   },
   "source": [
    "## Data splitting"
   ]
  },
  {
   "cell_type": "code",
   "execution_count": 0,
   "metadata": {
    "colab_type": "code"
   },
   "outputs": [],
   "source": [
    "PATH = \"./facades_data/\"\n",
    "SPLIT = 0.2\n",
    "\n",
    "files = glob(PATH + \"*.jpg\")\n",
    "np.random.shuffle(files)\n",
    "\n",
    "split_index = int(len(files) * (1 - SPLIT))\n",
    "train_files = files[:split_index]\n",
    "val_files = files[split_index:]\n",
    "\n",
    "print(f\"Total samples: {len(files)}.\")\n",
    "print(f\"Total training samples: {len(train_files)}.\")\n",
    "print(f\"Total validation samples: {len(val_files)}.\")"
   ]
  },
  {
   "cell_type": "markdown",
   "metadata": {
    "colab_type": "text"
   },
   "source": [
    "## Data loader"
   ]
  },
  {
   "cell_type": "code",
   "execution_count": 0,
   "metadata": {
    "colab_type": "code"
   },
   "outputs": [],
   "source": [
    "BATCH_SIZE = 4\n",
    "IMG_HEIGHT = IMG_WIDTH = 256\n",
    "NUM_CLASSES = 12\n",
    "AUTOTUNE = tf.data.AUTOTUNE\n",
    "\n",
    "\n",
    "def load(image_files, batch_size, is_train=True):\n",
    "    def _random_crop(\n",
    "        segmentation_map, image, labels, crop_size=(IMG_HEIGHT, IMG_WIDTH),\n",
    "    ):\n",
    "        crop_size = tf.convert_to_tensor(crop_size)\n",
    "        image_shape = tf.shape(image)[:2]\n",
    "        margins = image_shape - crop_size\n",
    "        y1 = tf.random.uniform(shape=(), maxval=margins[0], dtype=tf.int32)\n",
    "        x1 = tf.random.uniform(shape=(), maxval=margins[1], dtype=tf.int32)\n",
    "        y2 = y1 + crop_size[0]\n",
    "        x2 = x1 + crop_size[1]\n",
    "\n",
    "        cropped_images = []\n",
    "        images = [segmentation_map, image, labels]\n",
    "        for img in images:\n",
    "            cropped_images.append(img[y1:y2, x1:x2])\n",
    "        return cropped_images\n",
    "\n",
    "    def _load_data_tf(image_file, segmentation_map_file, label_file):\n",
    "        image = tf.image.decode_png(tf.io.read_file(image_file), channels=3)\n",
    "        segmentation_map = tf.image.decode_png(\n",
    "            tf.io.read_file(segmentation_map_file), channels=3\n",
    "        )\n",
    "        labels = tf.image.decode_bmp(tf.io.read_file(label_file), channels=0)\n",
    "        labels = tf.squeeze(labels)\n",
    "\n",
    "        image = tf.cast(image, tf.float32) / 127.5 - 1\n",
    "        segmentation_map = tf.cast(segmentation_map, tf.float32) / 127.5 - 1\n",
    "        return segmentation_map, image, labels\n",
    "\n",
    "    segmentation_map_files = [\n",
    "        image_file.replace(\"images\", \"segmentation_map\").replace(\"jpg\", \"png\")\n",
    "        for image_file in image_files\n",
    "    ]\n",
    "    label_files = [\n",
    "        image_file.replace(\"images\", \"segmentation_labels\").replace(\"jpg\", \"bmp\")\n",
    "        for image_file in image_files\n",
    "    ]\n",
    "    dataset = tf.data.Dataset.from_tensor_slices(\n",
    "        (image_files, segmentation_map_files, label_files)\n",
    "    )\n",
    "\n",
    "    dataset = dataset.shuffle(batch_size * 10) if is_train else dataset\n",
    "    dataset = dataset.map(_load_data_tf, num_parallel_calls=AUTOTUNE)\n",
    "    dataset = dataset.map(_random_crop, num_parallel_calls=AUTOTUNE)\n",
    "    dataset = dataset.map(\n",
    "        lambda x, y, z: (x, y, tf.one_hot(z, NUM_CLASSES)), num_parallel_calls=AUTOTUNE\n",
    "    )\n",
    "    return dataset.batch(batch_size, drop_remainder=True)\n",
    "\n",
    "\n",
    "train_dataset = load(train_files, batch_size=BATCH_SIZE, is_train=True)\n",
    "val_dataset = load(val_files, batch_size=BATCH_SIZE, is_train=False)"
   ]
  },
  {
   "cell_type": "markdown",
   "metadata": {
    "colab_type": "text"
   },
   "source": [
    "Now, let's visualize a few samples from the training set."
   ]
  },
  {
   "cell_type": "code",
   "execution_count": 0,
   "metadata": {
    "colab_type": "code"
   },
   "outputs": [],
   "source": [
    "sample_train_batch = next(iter(train_dataset))\n",
    "print(f\"Segmentation map batch shape: {sample_train_batch[0].shape}.\")\n",
    "print(f\"Image batch shape: {sample_train_batch[1].shape}.\")\n",
    "print(f\"One-hot encoded label map shape: {sample_train_batch[2].shape}.\")\n",
    "\n",
    "# Plot a view samples from the training set.\n",
    "for segmentation_map, real_image in zip(sample_train_batch[0], sample_train_batch[1]):\n",
    "    fig = plt.figure(figsize=(10, 10))\n",
    "    fig.add_subplot(1, 2, 1).set_title(\"Segmentation Map\")\n",
    "    plt.imshow((segmentation_map + 1) / 2)\n",
    "    fig.add_subplot(1, 2, 2).set_title(\"Real Image\")\n",
    "    plt.imshow((real_image + 1) / 2)\n",
    "    plt.show()"
   ]
  },
  {
   "cell_type": "markdown",
   "metadata": {
    "colab_type": "text"
   },
   "source": [
    "Note that in the rest of this example, we use a couple of figures from the\n",
    "[original GauGAN paper](https://arxiv.org/abs/1903.07291) for convenience."
   ]
  },
  {
   "cell_type": "markdown",
   "metadata": {
    "colab_type": "text"
   },
   "source": [
    "## Custom layers\n",
    "\n",
    "In the following section, we implement the following layers:\n",
    "\n",
    "* SPADE\n",
    "* Residual block including SPADE\n",
    "* Gaussian sampler"
   ]
  },
  {
   "cell_type": "markdown",
   "metadata": {
    "colab_type": "text"
   },
   "source": [
    "### Some more notes on SPADE\n",
    "\n",
    "![](https://i.imgur.com/DgMWrrs.png)\n",
    "\n",
    "**SPatially-Adaptive (DE) normalization** or **SPADE** is a simple but effective layer\n",
    "for synthesizing photorealistic images given an input semantic layout. Previous methods\n",
    "for conditional image generation from semantic input such as\n",
    "Pix2Pix ([Isola et al.](https://arxiv.org/abs/1611.07004))\n",
    "or Pix2PixHD ([Wang et al.](https://arxiv.org/abs/1711.11585))\n",
    "directly feed the semantic layout as input to the deep network, which is then processed\n",
    "through stacks of convolution, normalization, and nonlinearity layers. This is often\n",
    "suboptimal as the normalization layers have a tendency to wash away semantic information.\n",
    "\n",
    "In SPADE, the segmentation mask is first projected onto an embedding space, and then\n",
    "convolved to produce the modulation parameters `\u03b3` and `\u03b2`. Unlike prior conditional\n",
    "normalization methods, `\u03b3` and `\u03b2` are not vectors, but tensors with spatial dimensions.\n",
    "The produced `\u03b3` and `\u03b2` are multiplied and added to the normalized activation\n",
    "element-wise. As the modulation parameters are adaptive to the input segmentation mask,\n",
    "SPADE is better suited for semantic image synthesis."
   ]
  },
  {
   "cell_type": "code",
   "execution_count": 0,
   "metadata": {
    "colab_type": "code"
   },
   "outputs": [],
   "source": [
    "\n",
    "class SPADE(layers.Layer):\n",
    "    def __init__(self, filters, epsilon=1e-5, **kwargs):\n",
    "        super().__init__(**kwargs)\n",
    "        self.epsilon = epsilon\n",
    "        self.conv = layers.Conv2D(128, 3, padding=\"same\", activation=\"relu\")\n",
    "        self.conv_gamma = layers.Conv2D(filters, 3, padding=\"same\")\n",
    "        self.conv_beta = layers.Conv2D(filters, 3, padding=\"same\")\n",
    "\n",
    "    def build(self, input_shape):\n",
    "        self.resize_shape = input_shape[1:3]\n",
    "\n",
    "    def call(self, input_tensor, raw_mask):\n",
    "        mask = tf.image.resize(raw_mask, self.resize_shape, method=\"nearest\")\n",
    "        x = self.conv(mask)\n",
    "        gamma = self.conv_gamma(x)\n",
    "        beta = self.conv_beta(x)\n",
    "        mean, var = tf.nn.moments(input_tensor, axes=(0, 1, 2), keepdims=True)\n",
    "        std = tf.sqrt(var + self.epsilon)\n",
    "        normalized = (input_tensor - mean) / std\n",
    "        output = gamma * normalized + beta\n",
    "        return output\n",
    "\n",
    "\n",
    "class ResBlock(layers.Layer):\n",
    "    def __init__(self, filters, **kwargs):\n",
    "        super().__init__(**kwargs)\n",
    "        self.filters = filters\n",
    "\n",
    "    def build(self, input_shape):\n",
    "        input_filter = input_shape[-1]\n",
    "        self.spade_1 = SPADE(input_filter)\n",
    "        self.spade_2 = SPADE(self.filters)\n",
    "        self.conv_1 = layers.Conv2D(self.filters, 3, padding=\"same\")\n",
    "        self.conv_2 = layers.Conv2D(self.filters, 3, padding=\"same\")\n",
    "        self.learned_skip = False\n",
    "\n",
    "        if self.filters != input_filter:\n",
    "            self.learned_skip = True\n",
    "            self.spade_3 = SPADE(input_filter)\n",
    "            self.conv_3 = layers.Conv2D(self.filters, 3, padding=\"same\")\n",
    "\n",
    "    def call(self, input_tensor, mask):\n",
    "        x = self.spade_1(input_tensor, mask)\n",
    "        x = self.conv_1(tf.nn.leaky_relu(x, 0.2))\n",
    "        x = self.spade_2(x, mask)\n",
    "        x = self.conv_2(tf.nn.leaky_relu(x, 0.2))\n",
    "        skip = (\n",
    "            self.conv_3(tf.nn.leaky_relu(self.spade_3(input_tensor, mask), 0.2))\n",
    "            if self.learned_skip\n",
    "            else input_tensor\n",
    "        )\n",
    "        output = skip + x\n",
    "        return output\n",
    "\n",
    "\n",
    "class GaussianSampler(layers.Layer):\n",
    "    def __init__(self, batch_size, latent_dim, **kwargs):\n",
    "        super().__init__(**kwargs)\n",
    "        self.batch_size = batch_size\n",
    "        self.latent_dim = latent_dim\n",
    "\n",
    "    def call(self, inputs):\n",
    "        means, variance = inputs\n",
    "        epsilon = tf.random.normal(\n",
    "            shape=(self.batch_size, self.latent_dim), mean=0.0, stddev=1.0\n",
    "        )\n",
    "        samples = means + tf.exp(0.5 * variance) * epsilon\n",
    "        return samples\n",
    ""
   ]
  },
  {
   "cell_type": "markdown",
   "metadata": {
    "colab_type": "text"
   },
   "source": [
    "Next, we implement the downsampling block for the encoder."
   ]
  },
  {
   "cell_type": "code",
   "execution_count": 0,
   "metadata": {
    "colab_type": "code"
   },
   "outputs": [],
   "source": [
    "\n",
    "def downsample(\n",
    "    channels,\n",
    "    kernels,\n",
    "    strides=2,\n",
    "    apply_norm=True,\n",
    "    apply_activation=True,\n",
    "    apply_dropout=False,\n",
    "):\n",
    "    block = keras.Sequential()\n",
    "    block.add(\n",
    "        layers.Conv2D(\n",
    "            channels,\n",
    "            kernels,\n",
    "            strides=strides,\n",
    "            padding=\"same\",\n",
    "            use_bias=False,\n",
    "            kernel_initializer=keras.initializers.GlorotNormal(),\n",
    "        )\n",
    "    )\n",
    "    if apply_norm:\n",
    "        block.add(tfa.layers.InstanceNormalization())\n",
    "    if apply_activation:\n",
    "        block.add(layers.LeakyReLU(0.2))\n",
    "    if apply_dropout:\n",
    "        block.add(layers.Dropout(0.5))\n",
    "    return block\n",
    ""
   ]
  },
  {
   "cell_type": "markdown",
   "metadata": {
    "colab_type": "text"
   },
   "source": [
    "The GauGAN encoder consists of a few downsampling blocks. It outputs the mean and\n",
    "variance of a distribution.\n",
    "\n",
    "![](https://i.imgur.com/JgAv1EW.png)"
   ]
  },
  {
   "cell_type": "code",
   "execution_count": 0,
   "metadata": {
    "colab_type": "code"
   },
   "outputs": [],
   "source": [
    "\n",
    "def build_encoder(image_shape, encoder_downsample_factor=64, latent_dim=256):\n",
    "    input_image = keras.Input(shape=image_shape)\n",
    "    x = downsample(encoder_downsample_factor, 3, apply_norm=False)(input_image)\n",
    "    x = downsample(2 * encoder_downsample_factor, 3)(x)\n",
    "    x = downsample(4 * encoder_downsample_factor, 3)(x)\n",
    "    x = downsample(8 * encoder_downsample_factor, 3)(x)\n",
    "    x = downsample(8 * encoder_downsample_factor, 3)(x)\n",
    "    x = layers.Flatten()(x)\n",
    "    mean = layers.Dense(latent_dim, name=\"mean\")(x)\n",
    "    variance = layers.Dense(latent_dim, name=\"variance\")(x)\n",
    "    return keras.Model(input_image, [mean, variance], name=\"encoder\")\n",
    ""
   ]
  },
  {
   "cell_type": "markdown",
   "metadata": {
    "colab_type": "text"
   },
   "source": [
    "Next, we implement the generator, which consists of the modified residual blocks and\n",
    "upsampling blocks. It takes latent vectors and one-hot encoded segmentation labels, and\n",
    "produces new images.\n",
    "\n",
    "![](https://i.imgur.com/9iP1TsB.png)\n",
    "\n",
    "With SPADE, there is no need to feed the segmentation map to the first layer of the\n",
    "generator, since the latent inputs have enough structural information about the style we\n",
    "want the generator to emulate. We also discard the encoder part of the generator, which is\n",
    "commonly used in prior architectures. This results in a more lightweight\n",
    "generator network, which can also take a random vector as input, enabling a simple and\n",
    "natural path to multi-modal synthesis."
   ]
  },
  {
   "cell_type": "code",
   "execution_count": 0,
   "metadata": {
    "colab_type": "code"
   },
   "outputs": [],
   "source": [
    "\n",
    "def build_generator(mask_shape, latent_dim=256):\n",
    "    latent = keras.Input(shape=(latent_dim))\n",
    "    mask = keras.Input(shape=mask_shape)\n",
    "    x = layers.Dense(16384)(latent)\n",
    "    x = layers.Reshape((4, 4, 1024))(x)\n",
    "    x = ResBlock(filters=1024)(x, mask)\n",
    "    x = layers.UpSampling2D((2, 2))(x)\n",
    "    x = ResBlock(filters=1024)(x, mask)\n",
    "    x = layers.UpSampling2D((2, 2))(x)\n",
    "    x = ResBlock(filters=1024)(x, mask)\n",
    "    x = layers.UpSampling2D((2, 2))(x)\n",
    "    x = ResBlock(filters=512)(x, mask)\n",
    "    x = layers.UpSampling2D((2, 2))(x)\n",
    "    x = ResBlock(filters=256)(x, mask)\n",
    "    x = layers.UpSampling2D((2, 2))(x)\n",
    "    x = ResBlock(filters=128)(x, mask)\n",
    "    x = layers.UpSampling2D((2, 2))(x)\n",
    "    x = tf.nn.leaky_relu(x, 0.2)\n",
    "    output_image = tf.nn.tanh(layers.Conv2D(3, 4, padding=\"same\")(x))\n",
    "    return keras.Model([latent, mask], output_image, name=\"generator\")\n",
    ""
   ]
  },
  {
   "cell_type": "markdown",
   "metadata": {
    "colab_type": "text"
   },
   "source": [
    "The discriminator takes a segmentation map and an image and concatenates them. It\n",
    "then predicts if patches of the concatenated image are real or fake.\n",
    "\n",
    "![](https://i.imgur.com/rn71PlM.png)"
   ]
  },
  {
   "cell_type": "code",
   "execution_count": 0,
   "metadata": {
    "colab_type": "code"
   },
   "outputs": [],
   "source": [
    "\n",
    "def build_discriminator(image_shape, downsample_factor=64):\n",
    "    input_image_A = keras.Input(shape=image_shape, name=\"discriminator_image_A\")\n",
    "    input_image_B = keras.Input(shape=image_shape, name=\"discriminator_image_B\")\n",
    "    x = layers.Concatenate()([input_image_A, input_image_B])\n",
    "    x1 = downsample(downsample_factor, 4, apply_norm=False)(x)\n",
    "    x2 = downsample(2 * downsample_factor, 4)(x1)\n",
    "    x3 = downsample(4 * downsample_factor, 4)(x2)\n",
    "    x4 = downsample(8 * downsample_factor, 4, strides=1)(x3)\n",
    "    x5 = layers.Conv2D(1, 4)(x4)\n",
    "    outputs = [x1, x2, x3, x4, x5]\n",
    "    return keras.Model([input_image_A, input_image_B], outputs)\n",
    ""
   ]
  },
  {
   "cell_type": "markdown",
   "metadata": {
    "colab_type": "text"
   },
   "source": [
    "## Loss functions\n",
    "\n",
    "GauGAN uses the following loss functions:\n",
    "\n",
    "* Generator:\n",
    "\n",
    "    * Expectation over the discriminator predictions.\n",
    "    * [KL divergence](https://en.wikipedia.org/wiki/Kullback%E2%80%93Leibler_divergence)\n",
    "    for learning the mean and variance predicted by the encoder.\n",
    "    * Minimization between the discriminator predictions on original and generated\n",
    "    images to align the feature space of the generator.\n",
    "    * [Perceptual loss](https://arxiv.org/abs/1603.08155) for encouraging the generated\n",
    "    images to have perceptual quality.\n",
    "\n",
    "* Discriminator:\n",
    "\n",
    "    * [Hinge loss](https://en.wikipedia.org/wiki/Hinge_loss)."
   ]
  },
  {
   "cell_type": "code",
   "execution_count": 0,
   "metadata": {
    "colab_type": "code"
   },
   "outputs": [],
   "source": [
    "\n",
    "def generator_loss(y):\n",
    "    return -tf.reduce_mean(y)\n",
    "\n",
    "\n",
    "def kl_divergence_loss(mean, variance):\n",
    "    return -0.5 * tf.reduce_sum(1 + variance - tf.square(mean) - tf.exp(variance))\n",
    "\n",
    "\n",
    "class FeatureMatchingLoss(keras.losses.Loss):\n",
    "    def __init__(self, **kwargs):\n",
    "        super().__init__(**kwargs)\n",
    "        self.mae = keras.losses.MeanAbsoluteError()\n",
    "\n",
    "    def call(self, y_true, y_pred):\n",
    "        loss = 0\n",
    "        for i in range(len(y_true) - 1):\n",
    "            loss += self.mae(y_true[i], y_pred[i])\n",
    "        return loss\n",
    "\n",
    "\n",
    "class VGGFeatureMatchingLoss(keras.losses.Loss):\n",
    "    def __init__(self, **kwargs):\n",
    "        super().__init__(**kwargs)\n",
    "        self.encoder_layers = [\n",
    "            \"block1_conv1\",\n",
    "            \"block2_conv1\",\n",
    "            \"block3_conv1\",\n",
    "            \"block4_conv1\",\n",
    "            \"block5_conv1\",\n",
    "        ]\n",
    "        self.weights = [1.0 / 32, 1.0 / 16, 1.0 / 8, 1.0 / 4, 1.0]\n",
    "        vgg = keras.applications.VGG19(include_top=False, weights=\"imagenet\")\n",
    "        layer_outputs = [vgg.get_layer(x).output for x in self.encoder_layers]\n",
    "        self.vgg_model = keras.Model(vgg.input, layer_outputs, name=\"VGG\")\n",
    "        self.mae = keras.losses.MeanAbsoluteError()\n",
    "\n",
    "    def call(self, y_true, y_pred):\n",
    "        y_true = keras.applications.vgg19.preprocess_input(127.5 * (y_true + 1))\n",
    "        y_pred = keras.applications.vgg19.preprocess_input(127.5 * (y_pred + 1))\n",
    "        real_features = self.vgg_model(y_true)\n",
    "        fake_features = self.vgg_model(y_pred)\n",
    "        loss = 0\n",
    "        for i in range(len(real_features)):\n",
    "            loss += self.weights[i] * self.mae(real_features[i], fake_features[i])\n",
    "        return loss\n",
    "\n",
    "\n",
    "class DiscriminatorLoss(keras.losses.Loss):\n",
    "    def __init__(self, **kwargs):\n",
    "        super().__init__(**kwargs)\n",
    "        self.hinge_loss = keras.losses.Hinge()\n",
    "\n",
    "    def call(self, y, is_real):\n",
    "        label = 1.0 if is_real else -1.0\n",
    "        return self.hinge_loss(label, y)\n",
    ""
   ]
  },
  {
   "cell_type": "markdown",
   "metadata": {
    "colab_type": "text"
   },
   "source": [
    "## GAN monitor callback\n",
    "\n",
    "Next, we implement a callback to monitor the GauGAN results while it is training."
   ]
  },
  {
   "cell_type": "code",
   "execution_count": 0,
   "metadata": {
    "colab_type": "code"
   },
   "outputs": [],
   "source": [
    "\n",
    "class GanMonitor(keras.callbacks.Callback):\n",
    "    def __init__(self, val_dataset, n_samples, epoch_interval=5):\n",
    "        self.val_images = next(iter(val_dataset))\n",
    "        self.n_samples = n_samples\n",
    "        self.epoch_interval = epoch_interval\n",
    "\n",
    "    def infer(self):\n",
    "        latent_vector = tf.random.normal(\n",
    "            shape=(self.model.batch_size, self.model.latent_dim), mean=0.0, stddev=2.0\n",
    "        )\n",
    "        return self.model.predict([latent_vector, self.val_images[2]])\n",
    "\n",
    "    def on_epoch_end(self, epoch, logs=None):\n",
    "        if epoch % self.epoch_interval == 0:\n",
    "            generated_images = self.infer()\n",
    "            for _ in range(self.n_samples):\n",
    "                grid_row = min(generated_images.shape[0], 3)\n",
    "                f, axarr = plt.subplots(grid_row, 3, figsize=(18, grid_row * 6))\n",
    "                for row in range(grid_row):\n",
    "                    ax = axarr if grid_row == 1 else axarr[row]\n",
    "                    ax[0].imshow((self.val_images[0][row] + 1) / 2)\n",
    "                    ax[0].axis(\"off\")\n",
    "                    ax[0].set_title(\"Mask\", fontsize=20)\n",
    "                    ax[1].imshow((self.val_images[1][row] + 1) / 2)\n",
    "                    ax[1].axis(\"off\")\n",
    "                    ax[1].set_title(\"Ground Truth\", fontsize=20)\n",
    "                    ax[2].imshow((generated_images[row] + 1) / 2)\n",
    "                    ax[2].axis(\"off\")\n",
    "                    ax[2].set_title(\"Generated\", fontsize=20)\n",
    "                plt.show()\n",
    ""
   ]
  },
  {
   "cell_type": "markdown",
   "metadata": {
    "colab_type": "text"
   },
   "source": [
    "## Subclassed GauGAN model\n",
    "\n",
    "Finally, we put everything together inside a subclassed model (from `tf.keras.Model`)\n",
    "overriding its `train_step()` method."
   ]
  },
  {
   "cell_type": "code",
   "execution_count": 0,
   "metadata": {
    "colab_type": "code"
   },
   "outputs": [],
   "source": [
    "\n",
    "class GauGAN(keras.Model):\n",
    "    def __init__(\n",
    "        self,\n",
    "        image_size,\n",
    "        num_classes,\n",
    "        batch_size,\n",
    "        latent_dim,\n",
    "        feature_loss_coeff=10,\n",
    "        vgg_feature_loss_coeff=0.1,\n",
    "        kl_divergence_loss_coeff=0.1,\n",
    "        **kwargs,\n",
    "    ):\n",
    "        super().__init__(**kwargs)\n",
    "\n",
    "        self.image_size = image_size\n",
    "        self.latent_dim = latent_dim\n",
    "        self.batch_size = batch_size\n",
    "        self.num_classes = num_classes\n",
    "        self.image_shape = (image_size, image_size, 3)\n",
    "        self.mask_shape = (image_size, image_size, num_classes)\n",
    "        self.feature_loss_coeff = feature_loss_coeff\n",
    "        self.vgg_feature_loss_coeff = vgg_feature_loss_coeff\n",
    "        self.kl_divergence_loss_coeff = kl_divergence_loss_coeff\n",
    "\n",
    "        self.discriminator = build_discriminator(self.image_shape)\n",
    "        self.generator = build_generator(self.mask_shape)\n",
    "        self.encoder = build_encoder(self.image_shape)\n",
    "        self.sampler = GaussianSampler(batch_size, latent_dim)\n",
    "        self.patch_size, self.combined_model = self.build_combined_generator()\n",
    "\n",
    "        self.disc_loss_tracker = tf.keras.metrics.Mean(name=\"disc_loss\")\n",
    "        self.gen_loss_tracker = tf.keras.metrics.Mean(name=\"gen_loss\")\n",
    "        self.feat_loss_tracker = tf.keras.metrics.Mean(name=\"feat_loss\")\n",
    "        self.vgg_loss_tracker = tf.keras.metrics.Mean(name=\"vgg_loss\")\n",
    "        self.kl_loss_tracker = tf.keras.metrics.Mean(name=\"kl_loss\")\n",
    "\n",
    "    @property\n",
    "    def metrics(self):\n",
    "        return [\n",
    "            self.disc_loss_tracker,\n",
    "            self.gen_loss_tracker,\n",
    "            self.feat_loss_tracker,\n",
    "            self.vgg_loss_tracker,\n",
    "            self.kl_loss_tracker,\n",
    "        ]\n",
    "\n",
    "    def build_combined_generator(self):\n",
    "        # This method builds a model that takes as inputs the following:\n",
    "        # latent vector, one-hot encoded segmentation label map, and\n",
    "        # a segmentation map. It then (i) generates an image with the generator,\n",
    "        # (ii) passes the generated images and segmentation map to the discriminator.\n",
    "        # Finally, the model produces the following outputs: (a) discriminator outputs,\n",
    "        # (b) generated image.\n",
    "        # We will be using this model to simplify the implementation.\n",
    "        self.discriminator.trainable = False\n",
    "        mask_input = keras.Input(shape=self.mask_shape, name=\"mask\")\n",
    "        image_input = keras.Input(shape=self.image_shape, name=\"image\")\n",
    "        latent_input = keras.Input(shape=(self.latent_dim), name=\"latent\")\n",
    "        generated_image = self.generator([latent_input, mask_input])\n",
    "        discriminator_output = self.discriminator([image_input, generated_image])\n",
    "        patch_size = discriminator_output[-1].shape[1]\n",
    "        combined_model = keras.Model(\n",
    "            [latent_input, mask_input, image_input],\n",
    "            [discriminator_output, generated_image],\n",
    "        )\n",
    "        return patch_size, combined_model\n",
    "\n",
    "    def compile(self, gen_lr=1e-4, disc_lr=4e-4, **kwargs):\n",
    "        super().compile(**kwargs)\n",
    "        self.generator_optimizer = keras.optimizers.Adam(\n",
    "            gen_lr, beta_1=0.0, beta_2=0.999\n",
    "        )\n",
    "        self.discriminator_optimizer = keras.optimizers.Adam(\n",
    "            disc_lr, beta_1=0.0, beta_2=0.999\n",
    "        )\n",
    "        self.discriminator_loss = DiscriminatorLoss()\n",
    "        self.feature_matching_loss = FeatureMatchingLoss()\n",
    "        self.vgg_loss = VGGFeatureMatchingLoss()\n",
    "\n",
    "    def train_discriminator(self, latent_vector, segmentation_map, real_image, labels):\n",
    "        fake_images = self.generator([latent_vector, labels])\n",
    "        with tf.GradientTape() as gradient_tape:\n",
    "            pred_fake = self.discriminator([segmentation_map, fake_images])[-1]\n",
    "            pred_real = self.discriminator([segmentation_map, real_image])[-1]\n",
    "            loss_fake = self.discriminator_loss(pred_fake, False)\n",
    "            loss_real = self.discriminator_loss(pred_real, True)\n",
    "            total_loss = 0.5 * (loss_fake + loss_real)\n",
    "\n",
    "        self.discriminator.trainable = True\n",
    "        gradients = gradient_tape.gradient(\n",
    "            total_loss, self.discriminator.trainable_variables\n",
    "        )\n",
    "        self.discriminator_optimizer.apply_gradients(\n",
    "            zip(gradients, self.discriminator.trainable_variables)\n",
    "        )\n",
    "        return total_loss\n",
    "\n",
    "    def train_generator(\n",
    "        self, latent_vector, segmentation_map, labels, image, mean, variance\n",
    "    ):\n",
    "        # Generator learns through the signal provided by the discriminator. During\n",
    "        # backpropagation, we only update the generator parameters.\n",
    "        self.discriminator.trainable = False\n",
    "        with tf.GradientTape() as tape:\n",
    "            real_d_output = self.discriminator([segmentation_map, image])\n",
    "            fake_d_output, fake_image = self.combined_model(\n",
    "                [latent_vector, labels, segmentation_map]\n",
    "            )\n",
    "            pred = fake_d_output[-1]\n",
    "\n",
    "            # Compute generator losses.\n",
    "            g_loss = generator_loss(pred)\n",
    "            kl_loss = self.kl_divergence_loss_coeff * kl_divergence_loss(mean, variance)\n",
    "            vgg_loss = self.vgg_feature_loss_coeff * self.vgg_loss(image, fake_image)\n",
    "            feature_loss = self.feature_loss_coeff * self.feature_matching_loss(\n",
    "                real_d_output, fake_d_output\n",
    "            )\n",
    "            total_loss = g_loss + kl_loss + vgg_loss + feature_loss\n",
    "\n",
    "        all_trainable_variables = (\n",
    "            self.combined_model.trainable_variables + self.encoder.trainable_variables\n",
    "        )\n",
    "\n",
    "        gradients = tape.gradient(total_loss, all_trainable_variables)\n",
    "        self.generator_optimizer.apply_gradients(\n",
    "            zip(gradients, all_trainable_variables)\n",
    "        )\n",
    "        return total_loss, feature_loss, vgg_loss, kl_loss\n",
    "\n",
    "    def train_step(self, data):\n",
    "        segmentation_map, image, labels = data\n",
    "        mean, variance = self.encoder(image)\n",
    "        latent_vector = self.sampler([mean, variance])\n",
    "        discriminator_loss = self.train_discriminator(\n",
    "            latent_vector, segmentation_map, image, labels\n",
    "        )\n",
    "        (generator_loss, feature_loss, vgg_loss, kl_loss) = self.train_generator(\n",
    "            latent_vector, segmentation_map, labels, image, mean, variance\n",
    "        )\n",
    "\n",
    "        # Report progress.\n",
    "        self.disc_loss_tracker.update_state(discriminator_loss)\n",
    "        self.gen_loss_tracker.update_state(generator_loss)\n",
    "        self.feat_loss_tracker.update_state(feature_loss)\n",
    "        self.vgg_loss_tracker.update_state(vgg_loss)\n",
    "        self.kl_loss_tracker.update_state(kl_loss)\n",
    "        results = {m.name: m.result() for m in self.metrics}\n",
    "        return results\n",
    "\n",
    "    def test_step(self, data):\n",
    "        segmentation_map, image, labels = data\n",
    "        # Obtain the learned moments of the real image distribution.\n",
    "        mean, variance = self.encoder(image)\n",
    "\n",
    "        # Sample a latent from the distribution defined by the learned moments.\n",
    "        latent_vector = self.sampler([mean, variance])\n",
    "\n",
    "        # Generate the fake images.\n",
    "        fake_images = self.generator([latent_vector, labels])\n",
    "\n",
    "        # Calculate the losses.\n",
    "        pred_fake = self.discriminator([segmentation_map, fake_images])[-1]\n",
    "        pred_real = self.discriminator([segmentation_map, image])[-1]\n",
    "        loss_fake = self.discriminator_loss(pred_fake, False)\n",
    "        loss_real = self.discriminator_loss(pred_real, True)\n",
    "        total_discriminator_loss = 0.5 * (loss_fake + loss_real)\n",
    "        real_d_output = self.discriminator([segmentation_map, image])\n",
    "        fake_d_output, fake_image = self.combined_model(\n",
    "            [latent_vector, labels, segmentation_map]\n",
    "        )\n",
    "        pred = fake_d_output[-1]\n",
    "        g_loss = generator_loss(pred)\n",
    "        kl_loss = self.kl_divergence_loss_coeff * kl_divergence_loss(mean, variance)\n",
    "        vgg_loss = self.vgg_feature_loss_coeff * self.vgg_loss(image, fake_image)\n",
    "        feature_loss = self.feature_loss_coeff * self.feature_matching_loss(\n",
    "            real_d_output, fake_d_output\n",
    "        )\n",
    "        total_generator_loss = g_loss + kl_loss + vgg_loss + feature_loss\n",
    "\n",
    "        # Report progress.\n",
    "        self.disc_loss_tracker.update_state(total_discriminator_loss)\n",
    "        self.gen_loss_tracker.update_state(total_generator_loss)\n",
    "        self.feat_loss_tracker.update_state(feature_loss)\n",
    "        self.vgg_loss_tracker.update_state(vgg_loss)\n",
    "        self.kl_loss_tracker.update_state(kl_loss)\n",
    "        results = {m.name: m.result() for m in self.metrics}\n",
    "        return results\n",
    "\n",
    "    def call(self, inputs):\n",
    "        latent_vectors, labels = inputs\n",
    "        return self.generator([latent_vectors, labels])\n",
    ""
   ]
  },
  {
   "cell_type": "markdown",
   "metadata": {
    "colab_type": "text"
   },
   "source": [
    "## GauGAN training"
   ]
  },
  {
   "cell_type": "code",
   "execution_count": 0,
   "metadata": {
    "colab_type": "code"
   },
   "outputs": [],
   "source": [
    "gaugan = GauGAN(IMG_HEIGHT, NUM_CLASSES, BATCH_SIZE, latent_dim=256)\n",
    "gaugan.compile()\n",
    "history = gaugan.fit(\n",
    "    train_dataset,\n",
    "    validation_data=val_dataset,\n",
    "    epochs=15,\n",
    "    callbacks=[GanMonitor(val_dataset, BATCH_SIZE)],\n",
    ")\n",
    "\n",
    "\n",
    "def plot_history(item):\n",
    "    plt.plot(history.history[item], label=item)\n",
    "    plt.plot(history.history[\"val_\" + item], label=\"val_\" + item)\n",
    "    plt.xlabel(\"Epochs\")\n",
    "    plt.ylabel(item)\n",
    "    plt.title(\"Train and Validation {} Over Epochs\".format(item), fontsize=14)\n",
    "    plt.legend()\n",
    "    plt.grid()\n",
    "    plt.show()\n",
    "\n",
    "\n",
    "plot_history(\"disc_loss\")\n",
    "plot_history(\"gen_loss\")\n",
    "plot_history(\"feat_loss\")\n",
    "plot_history(\"vgg_loss\")\n",
    "plot_history(\"kl_loss\")"
   ]
  },
  {
   "cell_type": "markdown",
   "metadata": {
    "colab_type": "text"
   },
   "source": [
    "## Inference"
   ]
  },
  {
   "cell_type": "code",
   "execution_count": 0,
   "metadata": {
    "colab_type": "code"
   },
   "outputs": [],
   "source": [
    "val_iterator = iter(val_dataset)\n",
    "\n",
    "for _ in range(5):\n",
    "    val_images = next(val_iterator)\n",
    "    # Sample latent from a normal distribution.\n",
    "    latent_vector = tf.random.normal(\n",
    "        shape=(gaugan.batch_size, gaugan.latent_dim), mean=0.0, stddev=2.0\n",
    "    )\n",
    "    # Generate fake images.\n",
    "    fake_images = gaugan.predict([latent_vector, val_images[2]])\n",
    "\n",
    "    real_images = val_images\n",
    "    grid_row = min(fake_images.shape[0], 3)\n",
    "    grid_col = 3\n",
    "    f, axarr = plt.subplots(grid_row, grid_col, figsize=(grid_col * 6, grid_row * 6))\n",
    "    for row in range(grid_row):\n",
    "        ax = axarr if grid_row == 1 else axarr[row]\n",
    "        ax[0].imshow((real_images[0][row] + 1) / 2)\n",
    "        ax[0].axis(\"off\")\n",
    "        ax[0].set_title(\"Mask\", fontsize=20)\n",
    "        ax[1].imshow((real_images[1][row] + 1) / 2)\n",
    "        ax[1].axis(\"off\")\n",
    "        ax[1].set_title(\"Ground Truth\", fontsize=20)\n",
    "        ax[2].imshow((fake_images[row] + 1) / 2)\n",
    "        ax[2].axis(\"off\")\n",
    "        ax[2].set_title(\"Generated\", fontsize=20)\n",
    "    plt.show()"
   ]
  },
  {
   "cell_type": "markdown",
   "metadata": {
    "colab_type": "text"
   },
   "source": [
    "## Final words\n",
    "\n",
    "* The dataset we used in this example is a small one. For obtaining even better results\n",
    "we recommend to use a bigger dataset. GauGAN results were demonstrated with the\n",
    "[COCO-Stuff](https://github.com/nightrome/cocostuff) and\n",
    "[CityScapes](https://www.cityscapes-dataset.com/) datasets.\n",
    "* This example was inspired the Chapter 6 of\n",
    "[Hands-On Image Generation with TensorFlow](https://www.packtpub.com/product/hands-on-image-generation-with-tensorflow/9781838826789)\n",
    "by [Soon-Yau Cheong](https://www.linkedin.com/in/soonyau/) and\n",
    "[Implementing SPADE using fastai](https://towardsdatascience.com/implementing-spade-using-fastai-6ad86b94030a) by\n",
    "[Divyansh Jha](https://medium.com/@divyanshj.16).\n",
    "* If you found this example interesting and exciting, you might want to check out\n",
    "[our repository](https://github.com/soumik12345/tf2_gans) which we are\n",
    "currently building. It will include reimplementations of popular GANs and pretrained\n",
    "models. Our focus will be on readibility and making the code as accessible as possible.\n",
    "Our plain is to first train our implementation of GauGAN (following the code of\n",
    "this example) on a bigger dataset and then make the repository public. We welcome\n",
    "contributions!\n",
    "* Recently GauGAN2 was also released. You can check it out\n",
    "[here](https://blogs.nvidia.com/blog/2021/11/22/gaugan2-ai-art-demo/)."
   ]
  }
 ],
 "metadata": {
  "colab": {
   "collapsed_sections": [],
   "name": "gaugan",
   "private_outputs": false,
   "provenance": [],
   "toc_visible": true
  },
  "kernelspec": {
   "display_name": "Python 3",
   "language": "python",
   "name": "python3"
  },
  "language_info": {
   "codemirror_mode": {
    "name": "ipython",
    "version": 3
   },
   "file_extension": ".py",
   "mimetype": "text/x-python",
   "name": "python",
   "nbconvert_exporter": "python",
   "pygments_lexer": "ipython3",
   "version": "3.7.0"
  }
 },
 "nbformat": 4,
 "nbformat_minor": 0
}