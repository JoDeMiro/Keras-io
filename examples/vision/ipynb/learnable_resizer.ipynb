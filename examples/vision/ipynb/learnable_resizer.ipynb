{
 "cells": [
  {
   "cell_type": "markdown",
   "metadata": {
    "colab_type": "text"
   },
   "source": [
    "# Learning to Resize in Computer Vision\n",
    "\n",
    "**Author:** [Sayak Paul](https://twitter.com/RisingSayak)<br>\n",
    "**Date created:** 2021/04/30<br>\n",
    "**Last modified:** 2021/05/13<br>\n",
    "**Description:** How to optimally learn representations of images for a given resolution."
   ]
  },
  {
   "cell_type": "markdown",
   "metadata": {
    "colab_type": "text"
   },
   "source": [
    "It is a common belief that if we constrain vision models to perceive things as humans do,\n",
    "their performance can be improved. For example, in [this work](https://arxiv.org/abs/1811.12231),\n",
    "Geirhos et al. showed that the vision models pre-trained on the ImageNet-1k dataset are\n",
    "biased toward texture whereas human beings mostly use the shape descriptor to develop a\n",
    "common perception. But does this belief always apply especially when it comes to improving\n",
    "the performance of vision models?\n",
    "\n",
    "It turns out it may not always be the case. When training vision models, it is common to\n",
    "resize images to a lower dimension ((224 x 224), (299 x 299), etc.) to allow mini-batch\n",
    "learning and also to keep up the compute limitations.  We generally make use of image\n",
    "resizing methods like **bilinear interpolation** for this step and the resized images do\n",
    "not lose much of their perceptual character to the human eyes. In\n",
    "[Learning to Resize Images for Computer Vision Tasks](https://arxiv.org/abs/2103.09950v1), Talebi et al. show\n",
    "that if we try to optimize the perceptual quality of the images for the vision models\n",
    "rather than the human eyes, their performance can further be improved. They investigate\n",
    "the following question:\n",
    "\n",
    "**For a given image resolution and a model, how to best resize the given images?**\n",
    "\n",
    "As shown in the paper, this idea helps to consistently improve the performance of the\n",
    "common vision models (pre-trained on ImageNet-1k) like DenseNet-121, ResNet-50,\n",
    "MobileNetV2, and EfficientNets. In this example, we will implement the learnable image\n",
    "resizing module as proposed in the paper and demonstrate that on the\n",
    "[Cats and Dogs dataset](https://www.microsoft.com/en-us/download/details.aspx?id=54765)\n",
    "using the [DenseNet-121](https://arxiv.org/abs/1608.06993) architecture.\n",
    "\n",
    "This example requires TensorFlow 2.4 or higher."
   ]
  },
  {
   "cell_type": "markdown",
   "metadata": {
    "colab_type": "text"
   },
   "source": [
    "## Setup"
   ]
  },
  {
   "cell_type": "code",
   "execution_count": 0,
   "metadata": {
    "colab_type": "code"
   },
   "outputs": [],
   "source": [
    "from tensorflow.keras import layers\n",
    "from tensorflow import keras\n",
    "import tensorflow as tf\n",
    "\n",
    "import tensorflow_datasets as tfds\n",
    "\n",
    "tfds.disable_progress_bar()\n",
    "\n",
    "import matplotlib.pyplot as plt\n",
    "import numpy as np"
   ]
  },
  {
   "cell_type": "markdown",
   "metadata": {
    "colab_type": "text"
   },
   "source": [
    "## Define hyperparameters"
   ]
  },
  {
   "cell_type": "markdown",
   "metadata": {
    "colab_type": "text"
   },
   "source": [
    "In order to facilitate mini-batch learning, we need to have a fixed shape for the images\n",
    "inside a given batch. This is why an initial resizing is required. We first resize all\n",
    "the images to (300 x 300) shape and then learn their optimal representation for the\n",
    "(150 x 150) resolution."
   ]
  },
  {
   "cell_type": "code",
   "execution_count": 0,
   "metadata": {
    "colab_type": "code"
   },
   "outputs": [],
   "source": [
    "INP_SIZE = (300, 300)\n",
    "TARGET_SIZE = (150, 150)\n",
    "INTERPOLATION = \"bilinear\"\n",
    "\n",
    "AUTO = tf.data.AUTOTUNE\n",
    "BATCH_SIZE = 64\n",
    "EPOCHS = 5"
   ]
  },
  {
   "cell_type": "markdown",
   "metadata": {
    "colab_type": "text"
   },
   "source": [
    "In this example, we will use the bilinear interpolation but the learnable image resizer\n",
    "module is not dependent on any specific interpolation method. We can also use others,\n",
    "such as bicubic."
   ]
  },
  {
   "cell_type": "markdown",
   "metadata": {
    "colab_type": "text"
   },
   "source": [
    "## Load and prepare the dataset\n",
    "\n",
    "For this example, we will only use 40% of the total training dataset."
   ]
  },
  {
   "cell_type": "code",
   "execution_count": 0,
   "metadata": {
    "colab_type": "code"
   },
   "outputs": [],
   "source": [
    "train_ds, validation_ds = tfds.load(\n",
    "    \"cats_vs_dogs\",\n",
    "    # Reserve 10% for validation\n",
    "    split=[\"train[:40%]\", \"train[40%:50%]\"],\n",
    "    as_supervised=True,\n",
    ")\n",
    "\n",
    "\n",
    "def preprocess_dataset(image, label):\n",
    "    image = tf.image.resize(image, (INP_SIZE[0], INP_SIZE[1]))\n",
    "    label = tf.one_hot(label, depth=2)\n",
    "    return (image, label)\n",
    "\n",
    "\n",
    "train_ds = (\n",
    "    train_ds.shuffle(BATCH_SIZE * 100)\n",
    "    .map(preprocess_dataset, num_parallel_calls=AUTO)\n",
    "    .batch(BATCH_SIZE)\n",
    "    .prefetch(AUTO)\n",
    ")\n",
    "validation_ds = (\n",
    "    validation_ds.map(preprocess_dataset, num_parallel_calls=AUTO)\n",
    "    .batch(BATCH_SIZE)\n",
    "    .prefetch(AUTO)\n",
    ")"
   ]
  },
  {
   "cell_type": "markdown",
   "metadata": {
    "colab_type": "text"
   },
   "source": [
    "## Define the learnable resizer utilities\n",
    "\n",
    "The figure below (courtesy: [Learning to Resize Images for Computer Vision Tasks](https://arxiv.org/abs/2103.09950v1))\n",
    "presents the structure of the learnable resizing module:\n",
    "\n",
    "![](https://i.ibb.co/gJYtSs0/image.png)"
   ]
  },
  {
   "cell_type": "code",
   "execution_count": 0,
   "metadata": {
    "colab_type": "code"
   },
   "outputs": [],
   "source": [
    "\n",
    "def conv_block(x, filters, kernel_size, strides, activation=layers.LeakyReLU(0.2)):\n",
    "    x = layers.Conv2D(filters, kernel_size, strides, padding=\"same\", use_bias=False)(x)\n",
    "    x = layers.BatchNormalization()(x)\n",
    "    if activation:\n",
    "        x = activation(x)\n",
    "    return x\n",
    "\n",
    "\n",
    "def res_block(x):\n",
    "    inputs = x\n",
    "    x = conv_block(x, 16, 3, 1)\n",
    "    x = conv_block(x, 16, 3, 1, activation=None)\n",
    "    return layers.Add()([inputs, x])\n",
    "\n",
    "\n",
    "def get_learnable_resizer(filters=16, num_res_blocks=1, interpolation=INTERPOLATION):\n",
    "    inputs = layers.Input(shape=[None, None, 3])\n",
    "\n",
    "    # First, perform naive resizing.\n",
    "    naive_resize = layers.Resizing(\n",
    "        *TARGET_SIZE, interpolation=interpolation\n",
    "    )(inputs)\n",
    "\n",
    "    # First convolution block without batch normalization.\n",
    "    x = layers.Conv2D(filters=filters, kernel_size=7, strides=1, padding=\"same\")(inputs)\n",
    "    x = layers.LeakyReLU(0.2)(x)\n",
    "\n",
    "    # Second convolution block with batch normalization.\n",
    "    x = layers.Conv2D(filters=filters, kernel_size=1, strides=1, padding=\"same\")(x)\n",
    "    x = layers.LeakyReLU(0.2)(x)\n",
    "    x = layers.BatchNormalization()(x)\n",
    "\n",
    "    # Intermediate resizing as a bottleneck.\n",
    "    bottleneck = layers.Resizing(\n",
    "        *TARGET_SIZE, interpolation=interpolation\n",
    "    )(x)\n",
    "\n",
    "    # Residual passes.\n",
    "    for _ in range(num_res_blocks):\n",
    "        x = res_block(bottleneck)\n",
    "\n",
    "    # Projection.\n",
    "    x = layers.Conv2D(\n",
    "        filters=filters, kernel_size=3, strides=1, padding=\"same\", use_bias=False\n",
    "    )(x)\n",
    "    x = layers.BatchNormalization()(x)\n",
    "\n",
    "    # Skip connection.\n",
    "    x = layers.Add()([bottleneck, x])\n",
    "\n",
    "    # Final resized image.\n",
    "    x = layers.Conv2D(filters=3, kernel_size=7, strides=1, padding=\"same\")(x)\n",
    "    final_resize = layers.Add()([naive_resize, x])\n",
    "\n",
    "    return tf.keras.Model(inputs, final_resize, name=\"learnable_resizer\")\n",
    "\n",
    "\n",
    "learnable_resizer = get_learnable_resizer()"
   ]
  },
  {
   "cell_type": "markdown",
   "metadata": {
    "colab_type": "text"
   },
   "source": [
    "## Visualize the outputs of the learnable resizing module\n",
    "\n",
    "Here, we visualize how the resized images would look like after being passed through the\n",
    "random weights of the resizer."
   ]
  },
  {
   "cell_type": "code",
   "execution_count": 0,
   "metadata": {
    "colab_type": "code"
   },
   "outputs": [],
   "source": [
    "sample_images, _ = next(iter(train_ds))\n",
    "\n",
    "\n",
    "plt.figure(figsize=(16, 10))\n",
    "for i, image in enumerate(sample_images[:6]):\n",
    "    image = image / 255\n",
    "\n",
    "    ax = plt.subplot(3, 4, 2 * i + 1)\n",
    "    plt.title(\"Input Image\")\n",
    "    plt.imshow(image.numpy().squeeze())\n",
    "    plt.axis(\"off\")\n",
    "\n",
    "    ax = plt.subplot(3, 4, 2 * i + 2)\n",
    "    resized_image = learnable_resizer(image[None, ...])\n",
    "    plt.title(\"Resized Image\")\n",
    "    plt.imshow(resized_image.numpy().squeeze())\n",
    "    plt.axis(\"off\")"
   ]
  },
  {
   "cell_type": "markdown",
   "metadata": {
    "colab_type": "text"
   },
   "source": [
    "## Model building utility"
   ]
  },
  {
   "cell_type": "code",
   "execution_count": 0,
   "metadata": {
    "colab_type": "code"
   },
   "outputs": [],
   "source": [
    "\n",
    "def get_model():\n",
    "    backbone = tf.keras.applications.DenseNet121(\n",
    "        weights=None,\n",
    "        include_top=True,\n",
    "        classes=2,\n",
    "        input_shape=((TARGET_SIZE[0], TARGET_SIZE[1], 3)),\n",
    "    )\n",
    "    backbone.trainable = True\n",
    "\n",
    "    inputs = layers.Input((INP_SIZE[0], INP_SIZE[1], 3))\n",
    "    x = layers.Rescaling(scale=1.0 / 255)(inputs)\n",
    "    x = learnable_resizer(x)\n",
    "    outputs = backbone(x)\n",
    "\n",
    "    return tf.keras.Model(inputs, outputs)\n",
    ""
   ]
  },
  {
   "cell_type": "markdown",
   "metadata": {
    "colab_type": "text"
   },
   "source": [
    "The structure of the learnable image resizer module allows for flexible integrations with\n",
    "different vision models."
   ]
  },
  {
   "cell_type": "markdown",
   "metadata": {
    "colab_type": "text"
   },
   "source": [
    "## Compile and train our model with learnable resizer"
   ]
  },
  {
   "cell_type": "code",
   "execution_count": 0,
   "metadata": {
    "colab_type": "code"
   },
   "outputs": [],
   "source": [
    "model = get_model()\n",
    "model.compile(\n",
    "    loss=keras.losses.CategoricalCrossentropy(label_smoothing=0.1),\n",
    "    optimizer=\"sgd\",\n",
    "    metrics=[\"accuracy\"],\n",
    ")\n",
    "model.fit(train_ds, validation_data=validation_ds, epochs=EPOCHS)"
   ]
  },
  {
   "cell_type": "markdown",
   "metadata": {
    "colab_type": "text"
   },
   "source": [
    "## Visualize the outputs of the trained visualizer"
   ]
  },
  {
   "cell_type": "code",
   "execution_count": 0,
   "metadata": {
    "colab_type": "code"
   },
   "outputs": [],
   "source": [
    "plt.figure(figsize=(16, 10))\n",
    "for i, image in enumerate(sample_images[:6]):\n",
    "    image = image / 255\n",
    "\n",
    "    ax = plt.subplot(3, 4, 2 * i + 1)\n",
    "    plt.title(\"Input Image\")\n",
    "    plt.imshow(image.numpy().squeeze())\n",
    "    plt.axis(\"off\")\n",
    "\n",
    "    ax = plt.subplot(3, 4, 2 * i + 2)\n",
    "    resized_image = learnable_resizer(image[None, ...])\n",
    "    plt.title(\"Resized Image\")\n",
    "    plt.imshow(resized_image.numpy().squeeze() / 10)\n",
    "    plt.axis(\"off\")"
   ]
  },
  {
   "cell_type": "markdown",
   "metadata": {
    "colab_type": "text"
   },
   "source": [
    "The plot shows that the visuals of the images have improved with training. The following\n",
    "table shows the benefits of using the resizing module in comparison to using the bilinear\n",
    "interpolation:\n",
    "\n",
    "|           Model           \t| Number of  parameters (Million) \t| Top-1 accuracy \t|\n",
    "|:-------------------------:\t|:-------------------------------:\t|:--------------:\t|\n",
    "|   With the learnable resizer  \t|             7.051717            \t|      67.67%     \t|\n",
    "| Without the learnable resizer \t|             7.039554            \t|      60.19%      \t|\n",
    "\n",
    "For more details, you can check out [this repository](https://github.com/sayakpaul/Learnable-Image-Resizing).\n",
    "Note the above-reported models were trained for 10 epochs on 90% of the training set of\n",
    "Cats and Dogs unlike this example. Also, note that the increase in the number of\n",
    "parameters due to the resizing module is very negligible. To ensure that the improvement\n",
    "in the performance is not due to stochasticity, the models were trained using the same\n",
    "initial random weights.\n",
    "\n",
    "Now, a question worth asking here is -  _isn't the improved accuracy simply a consequence\n",
    "of adding more layers (the resizer is a mini network after all) to the model, compared to\n",
    "the baseline?_\n",
    "\n",
    "To show that it is not the case, the authors conduct the following experiment:\n",
    "\n",
    "* Take a pre-trained model trained some size, say (224 x 224).\n",
    "\n",
    "* Now, first, use it to infer predictions on images resized to a lower resolution. Record\n",
    "the performance.\n",
    "\n",
    "* For the second experiment, plug in the resizer module at the top of the pre-trained\n",
    "model and warm-start the training. Record the performance.\n",
    "\n",
    "Now, the authors argue that using the second option is better because it helps the model\n",
    "learn how to adjust the representations better with respect to the given resolution.\n",
    "Since the results purely are empirical, a few more experiments such as analyzing the\n",
    "cross-channel interaction would have been even better. It is worth noting that elements\n",
    "like [Squeeze and Excitation (SE) blocks](https://arxiv.org/abs/1709.01507), [Global Context (GC) blocks](https://arxiv.org/pdf/1904.11492) also add a few\n",
    "parameters to an existing network but they are known to help a network process\n",
    "information in systematic ways to improve the overall performance."
   ]
  },
  {
   "cell_type": "markdown",
   "metadata": {
    "colab_type": "text"
   },
   "source": [
    "## Notes\n",
    "\n",
    "* To impose shape bias inside the vision models, Geirhos et al. trained them with a\n",
    "combination of natural and stylized images. It might be interesting to investigate if\n",
    "this learnable resizing module could achieve something similar as the outputs seem to\n",
    "discard the texture information.\n",
    "\n",
    "* The resizer module can handle arbitrary resolutions and aspect ratios which is very\n",
    "important for tasks like object detection and segmentation.\n",
    "\n",
    "* There is another closely related topic on ***adaptive image resizing*** that attempts\n",
    "to resize images/feature maps adaptively during training. [EfficientV2](https://arxiv.org/pdf/2104.00298)\n",
    "uses this idea."
   ]
  }
 ],
 "metadata": {
  "colab": {
   "collapsed_sections": [],
   "name": "learnable_resizer",
   "private_outputs": false,
   "provenance": [],
   "toc_visible": true
  },
  "kernelspec": {
   "display_name": "Python 3",
   "language": "python",
   "name": "python3"
  },
  "language_info": {
   "codemirror_mode": {
    "name": "ipython",
    "version": 3
   },
   "file_extension": ".py",
   "mimetype": "text/x-python",
   "name": "python",
   "nbconvert_exporter": "python",
   "pygments_lexer": "ipython3",
   "version": "3.7.0"
  }
 },
 "nbformat": 4,
 "nbformat_minor": 0
}