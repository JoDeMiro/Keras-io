{
 "cells": [
  {
   "cell_type": "markdown",
   "metadata": {
    "colab_type": "text"
   },
   "source": [
    "# Keypoint Detection with Transfer Learning\n",
    "\n",
    "**Author:** [Sayak Paul](https://twitter.com/RisingSayak)<br>\n",
    "**Date created:** 2021/05/02<br>\n",
    "**Last modified:** 2021/05/02<br>\n",
    "**Description:** Training a keypoint detector with data augmentation and transfer learning."
   ]
  },
  {
   "cell_type": "markdown",
   "metadata": {
    "colab_type": "text"
   },
   "source": [
    "Keypoint detection consists of locating key object parts. For example, the key parts\n",
    "of our faces include nose tips, eyebrows, eye corners, and so on. These parts help to\n",
    "represent the underlying object in a feature-rich manner. Keypoint detection has\n",
    "applications that include pose estimation, face detection, etc.\n",
    "\n",
    "In this example, we will build a keypoint detector using the\n",
    "[StanfordExtra dataset](https://github.com/benjiebob/StanfordExtra),\n",
    "using transfer learning. This example requires TensorFlow 2.4 or higher,\n",
    "as well as [`imgaug`](https://imgaug.readthedocs.io/) library,\n",
    "which can be installed using the following command:"
   ]
  },
  {
   "cell_type": "code",
   "execution_count": 0,
   "metadata": {
    "colab_type": "code"
   },
   "outputs": [],
   "source": [
    "!pip install -q -U imgaug"
   ]
  },
  {
   "cell_type": "markdown",
   "metadata": {
    "colab_type": "text"
   },
   "source": [
    "## Data collection"
   ]
  },
  {
   "cell_type": "markdown",
   "metadata": {
    "colab_type": "text"
   },
   "source": [
    "The StanfordExtra dataset contains 12,000 images of dogs together with keypoints and\n",
    "segmentation maps. It is developed from the [Stanford dogs dataset](http://vision.stanford.edu/aditya86/ImageNetDogs/).\n",
    "It can be downloaded with the command below:"
   ]
  },
  {
   "cell_type": "code",
   "execution_count": 0,
   "metadata": {
    "colab_type": "code"
   },
   "outputs": [],
   "source": [
    "!wget -q http://vision.stanford.edu/aditya86/ImageNetDogs/images.tar"
   ]
  },
  {
   "cell_type": "markdown",
   "metadata": {
    "colab_type": "text"
   },
   "source": [
    "Annotations are provided as a single JSON file in the StanfordExtra dataset and one needs\n",
    "to fill [this form](https://forms.gle/sRtbicgxsWvRtRmUA) to get access to it. The\n",
    "authors explicitly instruct users not to share the JSON file, and this example respects this wish:\n",
    "you should obtain the JSON file yourself.\n",
    "\n",
    "The JSON file is expected to be locally available as `stanfordextra_v12.zip`.\n",
    "\n",
    "After the files are downloaded, we can extract the archives."
   ]
  },
  {
   "cell_type": "code",
   "execution_count": 0,
   "metadata": {
    "colab_type": "code"
   },
   "outputs": [],
   "source": [
    "!tar xf images.tar\n",
    "!unzip -qq ~/stanfordextra_v12.zip"
   ]
  },
  {
   "cell_type": "markdown",
   "metadata": {
    "colab_type": "text"
   },
   "source": [
    "## Imports"
   ]
  },
  {
   "cell_type": "code",
   "execution_count": 0,
   "metadata": {
    "colab_type": "code"
   },
   "outputs": [],
   "source": [
    "from tensorflow.keras import layers\n",
    "from tensorflow import keras\n",
    "import tensorflow as tf\n",
    "\n",
    "from imgaug.augmentables.kps import KeypointsOnImage\n",
    "from imgaug.augmentables.kps import Keypoint\n",
    "import imgaug.augmenters as iaa\n",
    "\n",
    "from PIL import Image\n",
    "from sklearn.model_selection import train_test_split\n",
    "from matplotlib import pyplot as plt\n",
    "import pandas as pd\n",
    "import numpy as np\n",
    "import json\n",
    "import os"
   ]
  },
  {
   "cell_type": "markdown",
   "metadata": {
    "colab_type": "text"
   },
   "source": [
    "## Define hyperparameters"
   ]
  },
  {
   "cell_type": "code",
   "execution_count": 0,
   "metadata": {
    "colab_type": "code"
   },
   "outputs": [],
   "source": [
    "IMG_SIZE = 224\n",
    "BATCH_SIZE = 64\n",
    "EPOCHS = 5\n",
    "NUM_KEYPOINTS = 24 * 2  # 24 pairs each having x and y coordinates"
   ]
  },
  {
   "cell_type": "markdown",
   "metadata": {
    "colab_type": "text"
   },
   "source": [
    "## Load data\n",
    "\n",
    "The authors also provide a metadata file that specifies additional information about the\n",
    "keypoints, like color information, animal pose name, etc. We will load this file in a `pandas`\n",
    "dataframe to extract information for visualization purposes."
   ]
  },
  {
   "cell_type": "code",
   "execution_count": 0,
   "metadata": {
    "colab_type": "code"
   },
   "outputs": [],
   "source": [
    "IMG_DIR = \"Images\"\n",
    "JSON = \"StanfordExtra_V12/StanfordExtra_v12.json\"\n",
    "KEYPOINT_DEF = (\n",
    "    \"https://github.com/benjiebob/StanfordExtra/raw/master/keypoint_definitions.csv\"\n",
    ")\n",
    "\n",
    "# Load the ground-truth annotations.\n",
    "with open(JSON) as infile:\n",
    "    json_data = json.load(infile)\n",
    "\n",
    "# Set up a dictionary, mapping all the ground-truth information\n",
    "# with respect to the path of the image.\n",
    "json_dict = {i[\"img_path\"]: i for i in json_data}"
   ]
  },
  {
   "cell_type": "markdown",
   "metadata": {
    "colab_type": "text"
   },
   "source": [
    "A single entry of `json_dict` looks like the following:\n",
    "\n",
    "```\n",
    "'n02085782-Japanese_spaniel/n02085782_2886.jpg':\n",
    "{'img_bbox': [205, 20, 116, 201],\n",
    " 'img_height': 272,\n",
    " 'img_path': 'n02085782-Japanese_spaniel/n02085782_2886.jpg',\n",
    " 'img_width': 350,\n",
    " 'is_multiple_dogs': False,\n",
    " 'joints': [[108.66666666666667, 252.0, 1],\n",
    "            [147.66666666666666, 229.0, 1],\n",
    "            [163.5, 208.5, 1],\n",
    "            [0, 0, 0],\n",
    "            [0, 0, 0],\n",
    "            [0, 0, 0],\n",
    "            [54.0, 244.0, 1],\n",
    "            [77.33333333333333, 225.33333333333334, 1],\n",
    "            [79.0, 196.5, 1],\n",
    "            [0, 0, 0],\n",
    "            [0, 0, 0],\n",
    "            [0, 0, 0],\n",
    "            [0, 0, 0],\n",
    "            [0, 0, 0],\n",
    "            [150.66666666666666, 86.66666666666667, 1],\n",
    "            [88.66666666666667, 73.0, 1],\n",
    "            [116.0, 106.33333333333333, 1],\n",
    "            [109.0, 123.33333333333333, 1],\n",
    "            [0, 0, 0],\n",
    "            [0, 0, 0],\n",
    "            [0, 0, 0],\n",
    "            [0, 0, 0],\n",
    "            [0, 0, 0],\n",
    "            [0, 0, 0]],\n",
    " 'seg': ...}\n",
    "```"
   ]
  },
  {
   "cell_type": "markdown",
   "metadata": {
    "colab_type": "text"
   },
   "source": [
    "In this example, the keys we are interested in are:\n",
    "\n",
    "* `img_path`\n",
    "* `joints`\n",
    "\n",
    "There are a total of 24 entries present inside `joints`. Each entry has 3 values:\n",
    "\n",
    "* x-coordinate\n",
    "* y-coordinate\n",
    "* visibility flag of the keypoints (1 indicates visibility and 0 indicates non-visibility)\n",
    "\n",
    "As we can see `joints` contain multiple `[0, 0, 0]` entries which denote that those\n",
    "keypoints were not labeled. In this example, we will consider both non-visible as well as\n",
    "unlabeled keypoints in order to allow mini-batch learning."
   ]
  },
  {
   "cell_type": "code",
   "execution_count": 0,
   "metadata": {
    "colab_type": "code"
   },
   "outputs": [],
   "source": [
    "# Load the metdata definition file and preview it.\n",
    "keypoint_def = pd.read_csv(KEYPOINT_DEF)\n",
    "keypoint_def.head()\n",
    "\n",
    "# Extract the colours and labels.\n",
    "colours = keypoint_def[\"Hex colour\"].values.tolist()\n",
    "colours = [\"#\" + colour for colour in colours]\n",
    "labels = keypoint_def[\"Name\"].values.tolist()\n",
    "\n",
    "# Utility for reading an image and for getting its annotations.\n",
    "def get_dog(name):\n",
    "    data = json_dict[name]\n",
    "    img_data = plt.imread(os.path.join(IMG_DIR, data[\"img_path\"]))\n",
    "    # If the image is RGBA convert it to RGB.\n",
    "    if img_data.shape[-1] == 4:\n",
    "        img_data = img_data.astype(np.uint8)\n",
    "        img_data = Image.fromarray(img_data)\n",
    "        img_data = np.array(img_data.convert(\"RGB\"))\n",
    "    data[\"img_data\"] = img_data\n",
    "\n",
    "    return data\n",
    ""
   ]
  },
  {
   "cell_type": "markdown",
   "metadata": {
    "colab_type": "text"
   },
   "source": [
    "## Visualize data\n",
    "\n",
    "Now, we write a utility function to visualize the images and their keypoints."
   ]
  },
  {
   "cell_type": "code",
   "execution_count": 0,
   "metadata": {
    "colab_type": "code"
   },
   "outputs": [],
   "source": [
    "# Parts of this code come from here:\n",
    "# https://github.com/benjiebob/StanfordExtra/blob/master/demo.ipynb\n",
    "def visualize_keypoints(images, keypoints):\n",
    "    fig, axes = plt.subplots(nrows=len(images), ncols=2, figsize=(16, 12))\n",
    "    [ax.axis(\"off\") for ax in np.ravel(axes)]\n",
    "\n",
    "    for (ax_orig, ax_all), image, current_keypoint in zip(axes, images, keypoints):\n",
    "        ax_orig.imshow(image)\n",
    "        ax_all.imshow(image)\n",
    "\n",
    "        # If the keypoints were formed by `imgaug` then the coordinates need\n",
    "        # to be iterated differently.\n",
    "        if isinstance(current_keypoint, KeypointsOnImage):\n",
    "            for idx, kp in enumerate(current_keypoint.keypoints):\n",
    "                ax_all.scatter(\n",
    "                    [kp.x], [kp.y], c=colours[idx], marker=\"x\", s=50, linewidths=5\n",
    "                )\n",
    "        else:\n",
    "            current_keypoint = np.array(current_keypoint)\n",
    "            # Since the last entry is the visibility flag, we discard it.\n",
    "            current_keypoint = current_keypoint[:, :2]\n",
    "            for idx, (x, y) in enumerate(current_keypoint):\n",
    "                ax_all.scatter([x], [y], c=colours[idx], marker=\"x\", s=50, linewidths=5)\n",
    "\n",
    "    plt.tight_layout(pad=2.0)\n",
    "    plt.show()\n",
    "\n",
    "\n",
    "# Select four samples randomly for visualization.\n",
    "samples = list(json_dict.keys())\n",
    "num_samples = 4\n",
    "selected_samples = np.random.choice(samples, num_samples, replace=False)\n",
    "\n",
    "images, keypoints = [], []\n",
    "\n",
    "for sample in selected_samples:\n",
    "    data = get_dog(sample)\n",
    "    image = data[\"img_data\"]\n",
    "    keypoint = data[\"joints\"]\n",
    "\n",
    "    images.append(image)\n",
    "    keypoints.append(keypoint)\n",
    "\n",
    "visualize_keypoints(images, keypoints)"
   ]
  },
  {
   "cell_type": "markdown",
   "metadata": {
    "colab_type": "text"
   },
   "source": [
    "The plots show that we have images of non-uniform sizes, which is expected in most\n",
    "real-world scenarios. However, if we resize these images to have a uniform shape (for\n",
    "instance (224 x 224)) their ground-truth annotations will also be affected. The same\n",
    "applies if we apply any geometric transformation (horizontal flip, for e.g.) to an image.\n",
    "Fortunately, `imgaug` provides utilities that can handle this issue.\n",
    "In the next section, we will write a data generator inheriting the\n",
    "[`keras.utils.Sequence`](https://keras.io/api/utils/python_utils/#sequence-class) class\n",
    "that applies data augmentation on batches of data using `imgaug`."
   ]
  },
  {
   "cell_type": "markdown",
   "metadata": {
    "colab_type": "text"
   },
   "source": [
    "## Prepare data generator"
   ]
  },
  {
   "cell_type": "code",
   "execution_count": 0,
   "metadata": {
    "colab_type": "code"
   },
   "outputs": [],
   "source": [
    "\n",
    "class KeyPointsDataset(keras.utils.Sequence):\n",
    "    def __init__(self, image_keys, aug, batch_size=BATCH_SIZE, train=True):\n",
    "        self.image_keys = image_keys\n",
    "        self.aug = aug\n",
    "        self.batch_size = batch_size\n",
    "        self.train = train\n",
    "        self.on_epoch_end()\n",
    "\n",
    "    def __len__(self):\n",
    "        return len(self.image_keys) // self.batch_size\n",
    "\n",
    "    def on_epoch_end(self):\n",
    "        self.indexes = np.arange(len(self.image_keys))\n",
    "        if self.train:\n",
    "            np.random.shuffle(self.indexes)\n",
    "\n",
    "    def __getitem__(self, index):\n",
    "        indexes = self.indexes[index * self.batch_size : (index + 1) * self.batch_size]\n",
    "        image_keys_temp = [self.image_keys[k] for k in indexes]\n",
    "        (images, keypoints) = self.__data_generation(image_keys_temp)\n",
    "\n",
    "        return (images, keypoints)\n",
    "\n",
    "    def __data_generation(self, image_keys_temp):\n",
    "        batch_images = np.empty((self.batch_size, IMG_SIZE, IMG_SIZE, 3), dtype=\"int\")\n",
    "        batch_keypoints = np.empty(\n",
    "            (self.batch_size, 1, 1, NUM_KEYPOINTS), dtype=\"float32\"\n",
    "        )\n",
    "\n",
    "        for i, key in enumerate(image_keys_temp):\n",
    "            data = get_dog(key)\n",
    "            current_keypoint = np.array(data[\"joints\"])[:, :2]\n",
    "            kps = []\n",
    "\n",
    "            # To apply our data augmentation pipeline, we first need to\n",
    "            # form Keypoint objects with the original coordinates.\n",
    "            for j in range(0, len(current_keypoint)):\n",
    "                kps.append(Keypoint(x=current_keypoint[j][0], y=current_keypoint[j][1]))\n",
    "\n",
    "            # We then project the original image and its keypoint coordinates.\n",
    "            current_image = data[\"img_data\"]\n",
    "            kps_obj = KeypointsOnImage(kps, shape=current_image.shape)\n",
    "\n",
    "            # Apply the augmentation pipeline.\n",
    "            (new_image, new_kps_obj) = self.aug(image=current_image, keypoints=kps_obj)\n",
    "            batch_images[i,] = new_image\n",
    "\n",
    "            # Parse the coordinates from the new keypoint object.\n",
    "            kp_temp = []\n",
    "            for keypoint in new_kps_obj:\n",
    "                kp_temp.append(np.nan_to_num(keypoint.x))\n",
    "                kp_temp.append(np.nan_to_num(keypoint.y))\n",
    "\n",
    "            # More on why this reshaping later.\n",
    "            batch_keypoints[i,] = np.array(kp_temp).reshape(1, 1, 24 * 2)\n",
    "\n",
    "        # Scale the coordinates to [0, 1] range.\n",
    "        batch_keypoints = batch_keypoints / IMG_SIZE\n",
    "\n",
    "        return (batch_images, batch_keypoints)\n",
    ""
   ]
  },
  {
   "cell_type": "markdown",
   "metadata": {
    "colab_type": "text"
   },
   "source": [
    "To know more about how to operate with keypoints in `imgaug` check out\n",
    "[this document](https://imgaug.readthedocs.io/en/latest/source/examples_keypoints.html)."
   ]
  },
  {
   "cell_type": "markdown",
   "metadata": {
    "colab_type": "text"
   },
   "source": [
    "## Define augmentation transforms"
   ]
  },
  {
   "cell_type": "code",
   "execution_count": 0,
   "metadata": {
    "colab_type": "code"
   },
   "outputs": [],
   "source": [
    "train_aug = iaa.Sequential(\n",
    "    [\n",
    "        iaa.Resize(IMG_SIZE, interpolation=\"linear\"),\n",
    "        iaa.Fliplr(0.3),\n",
    "        # `Sometimes()` applies a function randomly to the inputs with\n",
    "        # a given probability (0.3, in this case).\n",
    "        iaa.Sometimes(0.3, iaa.Affine(rotate=10, scale=(0.5, 0.7))),\n",
    "    ]\n",
    ")\n",
    "\n",
    "test_aug = iaa.Sequential([iaa.Resize(IMG_SIZE, interpolation=\"linear\")])"
   ]
  },
  {
   "cell_type": "markdown",
   "metadata": {
    "colab_type": "text"
   },
   "source": [
    "## Create training and validation splits"
   ]
  },
  {
   "cell_type": "code",
   "execution_count": 0,
   "metadata": {
    "colab_type": "code"
   },
   "outputs": [],
   "source": [
    "np.random.shuffle(samples)\n",
    "train_keys, validation_keys = (\n",
    "    samples[int(len(samples) * 0.15) :],\n",
    "    samples[: int(len(samples) * 0.15)],\n",
    ")\n",
    ""
   ]
  },
  {
   "cell_type": "markdown",
   "metadata": {
    "colab_type": "text"
   },
   "source": [
    "## Data generator investigation"
   ]
  },
  {
   "cell_type": "code",
   "execution_count": 0,
   "metadata": {
    "colab_type": "code"
   },
   "outputs": [],
   "source": [
    "train_dataset = KeyPointsDataset(train_keys, train_aug)\n",
    "validation_dataset = KeyPointsDataset(validation_keys, test_aug, train=False)\n",
    "\n",
    "print(f\"Total batches in training set: {len(train_dataset)}\")\n",
    "print(f\"Total batches in validation set: {len(validation_dataset)}\")\n",
    "\n",
    "sample_images, sample_keypoints = next(iter(train_dataset))\n",
    "assert sample_keypoints.max() == 1.0\n",
    "assert sample_keypoints.min() == 0.0\n",
    "\n",
    "sample_keypoints = sample_keypoints[:4].reshape(-1, 24, 2) * IMG_SIZE\n",
    "visualize_keypoints(sample_images[:4], sample_keypoints)"
   ]
  },
  {
   "cell_type": "markdown",
   "metadata": {
    "colab_type": "text"
   },
   "source": [
    "## Model building\n",
    "\n",
    "The [Stanford dogs dataset](http://vision.stanford.edu/aditya86/ImageNetDogs/) (on which\n",
    "the StanfordExtra dataset is based) was built using the [ImageNet-1k dataset](http://image-net.org/).\n",
    "So, it is likely that the models pretrained on the ImageNet-1k dataset would be useful\n",
    "for this task. We will use a MobileNetV2 pre-trained on this dataset as a backbone to\n",
    "extract meaningful features from the images and then pass those to a custom regression\n",
    "head for predicting coordinates."
   ]
  },
  {
   "cell_type": "code",
   "execution_count": 0,
   "metadata": {
    "colab_type": "code"
   },
   "outputs": [],
   "source": [
    "\n",
    "def get_model():\n",
    "    # Load the pre-trained weights of MobileNetV2 and freeze the weights\n",
    "    backbone = keras.applications.MobileNetV2(\n",
    "        weights=\"imagenet\", include_top=False, input_shape=(IMG_SIZE, IMG_SIZE, 3)\n",
    "    )\n",
    "    backbone.trainable = False\n",
    "\n",
    "    inputs = layers.Input((IMG_SIZE, IMG_SIZE, 3))\n",
    "    x = keras.applications.mobilenet_v2.preprocess_input(inputs)\n",
    "    x = backbone(x)\n",
    "    x = layers.Dropout(0.3)(x)\n",
    "    x = layers.SeparableConv2D(\n",
    "        NUM_KEYPOINTS, kernel_size=5, strides=1, activation=\"relu\"\n",
    "    )(x)\n",
    "    outputs = layers.SeparableConv2D(\n",
    "        NUM_KEYPOINTS, kernel_size=3, strides=1, activation=\"sigmoid\"\n",
    "    )(x)\n",
    "\n",
    "    return keras.Model(inputs, outputs, name=\"keypoint_detector\")\n",
    ""
   ]
  },
  {
   "cell_type": "markdown",
   "metadata": {
    "colab_type": "text"
   },
   "source": [
    "Our custom network is fully-convolutional which makes it more parameter-friendly than the\n",
    "same version of the network having fully-connected dense layers."
   ]
  },
  {
   "cell_type": "code",
   "execution_count": 0,
   "metadata": {
    "colab_type": "code"
   },
   "outputs": [],
   "source": [
    "get_model().summary()"
   ]
  },
  {
   "cell_type": "markdown",
   "metadata": {
    "colab_type": "text"
   },
   "source": [
    "Notice the output shape of the network: `(None, 1, 1, 48)`. This is why we have reshaped\n",
    "the coordinates as: `batch_keypoints[i, :] = np.array(kp_temp).reshape(1, 1, 24 * 2)`."
   ]
  },
  {
   "cell_type": "markdown",
   "metadata": {
    "colab_type": "text"
   },
   "source": [
    "## Model compilation and training\n",
    "\n",
    "For this example, we will train the network only for five epochs."
   ]
  },
  {
   "cell_type": "code",
   "execution_count": 0,
   "metadata": {
    "colab_type": "code"
   },
   "outputs": [],
   "source": [
    "model = get_model()\n",
    "model.compile(loss=\"mse\", optimizer=keras.optimizers.Adam(1e-4))\n",
    "model.fit(train_dataset, validation_data=validation_dataset, epochs=EPOCHS)"
   ]
  },
  {
   "cell_type": "markdown",
   "metadata": {
    "colab_type": "text"
   },
   "source": [
    "## Make predictions and visualize them"
   ]
  },
  {
   "cell_type": "code",
   "execution_count": 0,
   "metadata": {
    "colab_type": "code"
   },
   "outputs": [],
   "source": [
    "sample_val_images, sample_val_keypoints = next(iter(validation_dataset))\n",
    "sample_val_images = sample_val_images[:4]\n",
    "sample_val_keypoints = sample_val_keypoints[:4].reshape(-1, 24, 2) * IMG_SIZE\n",
    "predictions = model.predict(sample_val_images).reshape(-1, 24, 2) * IMG_SIZE\n",
    "\n",
    "# Ground-truth\n",
    "visualize_keypoints(sample_val_images, sample_val_keypoints)\n",
    "\n",
    "# Predictions\n",
    "visualize_keypoints(sample_val_images, predictions)"
   ]
  },
  {
   "cell_type": "markdown",
   "metadata": {
    "colab_type": "text"
   },
   "source": [
    "Predictions will likely improve with more training."
   ]
  },
  {
   "cell_type": "markdown",
   "metadata": {
    "colab_type": "text"
   },
   "source": [
    "## Going further\n",
    "\n",
    "* Try using other augmentation transforms from `imgaug` to investigate how that changes\n",
    "the results.\n",
    "* Here, we transferred the features from the pre-trained network linearly that is we did\n",
    "not [fine-tune](https://keras.io/guides/transfer_learning/) it. You are encouraged to fine-tune it on this task and see if that\n",
    "improves the performance. You can also try different architectures and see how they\n",
    "affect the final performance."
   ]
  }
 ],
 "metadata": {
  "colab": {
   "collapsed_sections": [],
   "name": "keypoint_detection",
   "private_outputs": false,
   "provenance": [],
   "toc_visible": true
  },
  "kernelspec": {
   "display_name": "Python 3",
   "language": "python",
   "name": "python3"
  },
  "language_info": {
   "codemirror_mode": {
    "name": "ipython",
    "version": 3
   },
   "file_extension": ".py",
   "mimetype": "text/x-python",
   "name": "python",
   "nbconvert_exporter": "python",
   "pygments_lexer": "ipython3",
   "version": "3.7.0"
  }
 },
 "nbformat": 4,
 "nbformat_minor": 0
}