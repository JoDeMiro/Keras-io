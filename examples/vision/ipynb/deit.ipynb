{
 "cells": [
  {
   "cell_type": "markdown",
   "metadata": {
    "colab_type": "text"
   },
   "source": [
    "# Distilling Vision Transformers\n",
    "\n",
    "**Author:** [Sayak Paul](https://twitter.com/RisingSayak)<br>\n",
    "**Date created:** 2022/04/05<br>\n",
    "**Last modified:** 2022/04/08<br>\n",
    "**Description:** Distillation of Vision Transformers through attention."
   ]
  },
  {
   "cell_type": "markdown",
   "metadata": {
    "colab_type": "text"
   },
   "source": [
    "## Introduction\n",
    "\n",
    "In the original *Vision Transformers* (ViT) paper\n",
    "([Dosovitskiy et al.](https://arxiv.org/abs/2010.11929)),\n",
    "the authors concluded that to perform on par with Convolutional Neural Networks (CNNs),\n",
    "ViTs need to be pre-trained on larger datasets. The larger the better. This is mainly\n",
    "due to the lack of inductive biases in the ViT architecture -- unlike CNNs,\n",
    "they don't have layers that exploit locality. In a follow-up paper\n",
    "([Steiner et al.](https://arxiv.org/abs/2106.10270)),\n",
    "the authors show that it is possible to substantially improve the performance of ViTs\n",
    "with stronger regularization and longer training.\n",
    "\n",
    "Many groups have proposed different ways to deal with the problem\n",
    "of data-intensiveness of ViT training.\n",
    "One such way was shown in the *Data-efficient image Transformers*,\n",
    "(DeiT) paper ([Touvron et al.](https://arxiv.org/abs/2012.12877)). The\n",
    "authors introduced a distillation technique that is specific to transformer-based vision\n",
    "models. DeiT is among the first works to show that it's possible to train ViTs well\n",
    "without using larger datasets.\n",
    "\n",
    "In this example, we implement the distillation recipe proposed in DeiT. This\n",
    "requires us to slightly tweak the original ViT architecture and write a custom training\n",
    "loop to implement the distillation recipe.\n",
    "\n",
    "To run the example, you'll need TensorFlow Addons, which you can install with the\n",
    "following command:\n",
    "\n",
    "```\n",
    "pip install tensorflow-addons\n",
    "```\n",
    "\n",
    "To comfortably navigate through this example, you'll be expected to know how a ViT and\n",
    "knowledge distillation work. The following are good resources in case you needed a\n",
    "refresher:\n",
    "\n",
    "* [ViT on keras.io](https://keras.io/examples/vision/image_classification_with_vision_transformer)\n",
    "* [Knowledge distillation on keras.io](https://keras.io/examples/vision/knowledge_distillation/)"
   ]
  },
  {
   "cell_type": "markdown",
   "metadata": {
    "colab_type": "text"
   },
   "source": [
    "## Imports"
   ]
  },
  {
   "cell_type": "code",
   "execution_count": 0,
   "metadata": {
    "colab_type": "code"
   },
   "outputs": [],
   "source": [
    "from typing import List\n",
    "\n",
    "import tensorflow as tf\n",
    "import tensorflow_addons as tfa\n",
    "import tensorflow_datasets as tfds\n",
    "import tensorflow_hub as hub\n",
    "from tensorflow import keras\n",
    "from tensorflow.keras import layers\n",
    "\n",
    "tfds.disable_progress_bar()\n",
    "tf.keras.utils.set_random_seed(42)"
   ]
  },
  {
   "cell_type": "markdown",
   "metadata": {
    "colab_type": "text"
   },
   "source": [
    "## Constants"
   ]
  },
  {
   "cell_type": "code",
   "execution_count": 0,
   "metadata": {
    "colab_type": "code"
   },
   "outputs": [],
   "source": [
    "# Model\n",
    "MODEL_TYPE = \"deit_distilled_tiny_patch16_224\"\n",
    "RESOLUTION = 224\n",
    "PATCH_SIZE = 16\n",
    "NUM_PATCHES = (RESOLUTION // PATCH_SIZE) ** 2\n",
    "LAYER_NORM_EPS = 1e-6\n",
    "PROJECTION_DIM = 192\n",
    "NUM_HEADS = 3\n",
    "NUM_LAYERS = 12\n",
    "MLP_UNITS = [\n",
    "    PROJECTION_DIM * 4,\n",
    "    PROJECTION_DIM,\n",
    "]\n",
    "DROPOUT_RATE = 0.0\n",
    "DROP_PATH_RATE = 0.1\n",
    "\n",
    "# Training\n",
    "NUM_EPOCHS = 20\n",
    "BASE_LR = 0.0005\n",
    "WEIGHT_DECAY = 0.0001\n",
    "\n",
    "# Data\n",
    "BATCH_SIZE = 256\n",
    "AUTO = tf.data.AUTOTUNE\n",
    "NUM_CLASSES = 5"
   ]
  },
  {
   "cell_type": "markdown",
   "metadata": {
    "colab_type": "text"
   },
   "source": [
    "You probably noticed that `DROPOUT_RATE` has been set 0.0. Dropout has been used\n",
    "in the implementation to keep it complete. For smaller models (like the one used in\n",
    "this example), you don't need it, but for bigger models, using dropout helps."
   ]
  },
  {
   "cell_type": "markdown",
   "metadata": {
    "colab_type": "text"
   },
   "source": [
    "## Load the `tf_flowers` dataset and prepare preprocessing utilities\n",
    "\n",
    "The authors use an array of different augmentation techniques, including MixUp\n",
    "([Zhang et al.](https://arxiv.org/abs/1710.09412)),\n",
    "RandAugment ([Cubuk et al.](https://arxiv.org/abs/1909.13719)),\n",
    "and so on. However, to keep the example simple to work through, we'll discard them."
   ]
  },
  {
   "cell_type": "code",
   "execution_count": 0,
   "metadata": {
    "colab_type": "code"
   },
   "outputs": [],
   "source": [
    "\n",
    "def preprocess_dataset(is_training=True):\n",
    "    def fn(image, label):\n",
    "        if is_training:\n",
    "            # Resize to a bigger spatial resolution and take the random\n",
    "            # crops.\n",
    "            image = tf.image.resize(image, (RESOLUTION + 20, RESOLUTION + 20))\n",
    "            image = tf.image.random_crop(image, (RESOLUTION, RESOLUTION, 3))\n",
    "            image = tf.image.random_flip_left_right(image)\n",
    "        else:\n",
    "            image = tf.image.resize(image, (RESOLUTION, RESOLUTION))\n",
    "        label = tf.one_hot(label, depth=NUM_CLASSES)\n",
    "        return image, label\n",
    "\n",
    "    return fn\n",
    "\n",
    "\n",
    "def prepare_dataset(dataset, is_training=True):\n",
    "    if is_training:\n",
    "        dataset = dataset.shuffle(BATCH_SIZE * 10)\n",
    "    dataset = dataset.map(preprocess_dataset(is_training), num_parallel_calls=AUTO)\n",
    "    return dataset.batch(BATCH_SIZE).prefetch(AUTO)\n",
    "\n",
    "\n",
    "train_dataset, val_dataset = tfds.load(\n",
    "    \"tf_flowers\", split=[\"train[:90%]\", \"train[90%:]\"], as_supervised=True\n",
    ")\n",
    "num_train = train_dataset.cardinality()\n",
    "num_val = val_dataset.cardinality()\n",
    "print(f\"Number of training examples: {num_train}\")\n",
    "print(f\"Number of validation examples: {num_val}\")\n",
    "\n",
    "train_dataset = prepare_dataset(train_dataset, is_training=True)\n",
    "val_dataset = prepare_dataset(val_dataset, is_training=False)"
   ]
  },
  {
   "cell_type": "markdown",
   "metadata": {
    "colab_type": "text"
   },
   "source": [
    "## Implementing the DeiT variants of ViT\n",
    "\n",
    "Since DeiT is an extension of ViT it'd make sense to first implement ViT and then extend\n",
    "it to support DeiT's components.\n",
    "\n",
    "First, we'll implement a layer for Stochastic Depth\n",
    "([Huang et al.](https://arxiv.org/abs/1603.09382))\n",
    "which is used in DeiT for regularization."
   ]
  },
  {
   "cell_type": "code",
   "execution_count": 0,
   "metadata": {
    "colab_type": "code"
   },
   "outputs": [],
   "source": [
    "# Referred from: github.com:rwightman/pytorch-image-models.\n",
    "class StochasticDepth(layers.Layer):\n",
    "    def __init__(self, drop_prop, **kwargs):\n",
    "        super().__init__(**kwargs)\n",
    "        self.drop_prob = drop_prop\n",
    "\n",
    "    def call(self, x, training=True):\n",
    "        if training:\n",
    "            keep_prob = 1 - self.drop_prob\n",
    "            shape = (tf.shape(x)[0],) + (1,) * (len(tf.shape(x)) - 1)\n",
    "            random_tensor = keep_prob + tf.random.uniform(shape, 0, 1)\n",
    "            random_tensor = tf.floor(random_tensor)\n",
    "            return (x / keep_prob) * random_tensor\n",
    "        return x\n"
   ]
  },
  {
   "cell_type": "markdown",
   "metadata": {
    "colab_type": "text"
   },
   "source": [
    "Now, we'll implement the MLP and Transformer blocks."
   ]
  },
  {
   "cell_type": "code",
   "execution_count": 0,
   "metadata": {
    "colab_type": "code"
   },
   "outputs": [],
   "source": [
    "\n",
    "def mlp(x, dropout_rate: float, hidden_units: List):\n",
    "    \"\"\"FFN for a Transformer block.\"\"\"\n",
    "    # Iterate over the hidden units and\n",
    "    # add Dense => Dropout.\n",
    "    for (idx, units) in enumerate(hidden_units):\n",
    "        x = layers.Dense(\n",
    "            units,\n",
    "            activation=tf.nn.gelu if idx == 0 else None,\n",
    "        )(x)\n",
    "        x = layers.Dropout(dropout_rate)(x)\n",
    "    return x\n",
    "\n",
    "\n",
    "def transformer(drop_prob: float, name: str) -> keras.Model:\n",
    "    \"\"\"Transformer block with pre-norm.\"\"\"\n",
    "    num_patches = NUM_PATCHES + 2 if \"distilled\" in MODEL_TYPE else NUM_PATCHES + 1\n",
    "    encoded_patches = layers.Input((num_patches, PROJECTION_DIM))\n",
    "\n",
    "    # Layer normalization 1.\n",
    "    x1 = layers.LayerNormalization(epsilon=LAYER_NORM_EPS)(encoded_patches)\n",
    "\n",
    "    # Multi Head Self Attention layer 1.\n",
    "    attention_output = layers.MultiHeadAttention(\n",
    "        num_heads=NUM_HEADS,\n",
    "        key_dim=PROJECTION_DIM,\n",
    "        dropout=DROPOUT_RATE,\n",
    "    )(x1, x1)\n",
    "    attention_output = (\n",
    "        StochasticDepth(drop_prob)(attention_output) if drop_prob else attention_output\n",
    "    )\n",
    "\n",
    "    # Skip connection 1.\n",
    "    x2 = layers.Add()([attention_output, encoded_patches])\n",
    "\n",
    "    # Layer normalization 2.\n",
    "    x3 = layers.LayerNormalization(epsilon=LAYER_NORM_EPS)(x2)\n",
    "\n",
    "    # MLP layer 1.\n",
    "    x4 = mlp(x3, hidden_units=MLP_UNITS, dropout_rate=DROPOUT_RATE)\n",
    "    x4 = StochasticDepth(drop_prob)(x4) if drop_prob else x4\n",
    "\n",
    "    # Skip connection 2.\n",
    "    outputs = layers.Add()([x2, x4])\n",
    "\n",
    "    return keras.Model(encoded_patches, outputs, name=name)\n"
   ]
  },
  {
   "cell_type": "markdown",
   "metadata": {
    "colab_type": "text"
   },
   "source": [
    "We'll now implement a `ViTClassifier` class building on top of the components we just\n",
    "developed. Here we'll be following the original pooling strategy used in the ViT paper --\n",
    "use a class token and use the feature representations corresponding to it for\n",
    "classification."
   ]
  },
  {
   "cell_type": "code",
   "execution_count": 0,
   "metadata": {
    "colab_type": "code"
   },
   "outputs": [],
   "source": [
    "\n",
    "class ViTClassifier(keras.Model):\n",
    "    \"\"\"Vision Transformer base class.\"\"\"\n",
    "\n",
    "    def __init__(self, **kwargs):\n",
    "        super().__init__(**kwargs)\n",
    "\n",
    "        # Patchify + linear projection + reshaping.\n",
    "        self.projection = keras.Sequential(\n",
    "            [\n",
    "                layers.Conv2D(\n",
    "                    filters=PROJECTION_DIM,\n",
    "                    kernel_size=(PATCH_SIZE, PATCH_SIZE),\n",
    "                    strides=(PATCH_SIZE, PATCH_SIZE),\n",
    "                    padding=\"VALID\",\n",
    "                    name=\"conv_projection\",\n",
    "                ),\n",
    "                layers.Reshape(\n",
    "                    target_shape=(NUM_PATCHES, PROJECTION_DIM),\n",
    "                    name=\"flatten_projection\",\n",
    "                ),\n",
    "            ],\n",
    "            name=\"projection\",\n",
    "        )\n",
    "\n",
    "        # Positional embedding.\n",
    "        init_shape = (\n",
    "            1,\n",
    "            NUM_PATCHES + 1,\n",
    "            PROJECTION_DIM,\n",
    "        )\n",
    "        self.positional_embedding = tf.Variable(\n",
    "            tf.zeros(init_shape), name=\"pos_embedding\"\n",
    "        )\n",
    "\n",
    "        # Transformer blocks.\n",
    "        dpr = [x for x in tf.linspace(0.0, DROP_PATH_RATE, NUM_LAYERS)]\n",
    "        self.transformer_blocks = [\n",
    "            transformer(drop_prob=dpr[i], name=f\"transformer_block_{i}\")\n",
    "            for i in range(NUM_LAYERS)\n",
    "        ]\n",
    "\n",
    "        # CLS token.\n",
    "        initial_value = tf.zeros((1, 1, PROJECTION_DIM))\n",
    "        self.cls_token = tf.Variable(\n",
    "            initial_value=initial_value, trainable=True, name=\"cls\"\n",
    "        )\n",
    "\n",
    "        # Other layers.\n",
    "        self.dropout = layers.Dropout(DROPOUT_RATE)\n",
    "        self.layer_norm = layers.LayerNormalization(epsilon=LAYER_NORM_EPS)\n",
    "        self.head = layers.Dense(\n",
    "            NUM_CLASSES,\n",
    "            name=\"classification_head\",\n",
    "        )\n",
    "\n",
    "    def call(self, inputs, training=True):\n",
    "        n = tf.shape(inputs)[0]\n",
    "\n",
    "        # Create patches and project the patches.\n",
    "        projected_patches = self.projection(inputs)\n",
    "\n",
    "        # Append class token if needed.\n",
    "        cls_token = tf.tile(self.cls_token, (n, 1, 1))\n",
    "        cls_token = tf.cast(cls_token, projected_patches.dtype)\n",
    "        projected_patches = tf.concat([cls_token, projected_patches], axis=1)\n",
    "\n",
    "        # Add positional embeddings to the projected patches.\n",
    "        encoded_patches = (\n",
    "            self.positional_embedding + projected_patches\n",
    "        )  # (B, number_patches, projection_dim)\n",
    "        encoded_patches = self.dropout(encoded_patches)\n",
    "\n",
    "        # Iterate over the number of layers and stack up blocks of\n",
    "        # Transformer.\n",
    "        for transformer_module in self.transformer_blocks:\n",
    "            # Add a Transformer block.\n",
    "            encoded_patches = transformer_module(encoded_patches)\n",
    "\n",
    "        # Final layer normalization.\n",
    "        representation = self.layer_norm(encoded_patches)\n",
    "\n",
    "        # Pool representation.\n",
    "        encoded_patches = representation[:, 0]\n",
    "\n",
    "        # Classification head.\n",
    "        output = self.head(encoded_patches)\n",
    "        return output\n"
   ]
  },
  {
   "cell_type": "markdown",
   "metadata": {
    "colab_type": "text"
   },
   "source": [
    "This class can be used standalone as ViT and is end-to-end trainable. Just remove the\n",
    "`distilled` phrase in `MODEL_TYPE` and it should work with `vit_tiny = ViTClassifier()`.\n",
    "Let's now extend it to DeiT. The following figure presents the schematic of DeiT (taken\n",
    "from the DeiT paper):\n",
    "\n",
    "![](https://i.imgur.com/5lmg2Xs.png)\n",
    "\n",
    "Apart from the class token, DeiT has another token for distillation. During distillation,\n",
    "the logits corresponding to the class token are compared to the true labels, and the\n",
    "logits corresponding to the distillation token are compared to the teacher's predictions."
   ]
  },
  {
   "cell_type": "code",
   "execution_count": 0,
   "metadata": {
    "colab_type": "code"
   },
   "outputs": [],
   "source": [
    "\n",
    "class ViTDistilled(ViTClassifier):\n",
    "    def __init__(self, regular_training=False, **kwargs):\n",
    "        super().__init__(**kwargs)\n",
    "        self.num_tokens = 2\n",
    "        self.regular_training = regular_training\n",
    "\n",
    "        # CLS and distillation tokens, positional embedding.\n",
    "        init_value = tf.zeros((1, 1, PROJECTION_DIM))\n",
    "        self.dist_token = tf.Variable(init_value, name=\"dist_token\")\n",
    "        self.positional_embedding = tf.Variable(\n",
    "            tf.zeros(\n",
    "                (\n",
    "                    1,\n",
    "                    NUM_PATCHES + self.num_tokens,\n",
    "                    PROJECTION_DIM,\n",
    "                )\n",
    "            ),\n",
    "            name=\"pos_embedding\",\n",
    "        )\n",
    "\n",
    "        # Head layers.\n",
    "        self.head = layers.Dense(\n",
    "            NUM_CLASSES,\n",
    "            name=\"classification_head\",\n",
    "        )\n",
    "        self.head_dist = layers.Dense(\n",
    "            NUM_CLASSES,\n",
    "            name=\"distillation_head\",\n",
    "        )\n",
    "\n",
    "    def call(self, inputs, training=True):\n",
    "        n = tf.shape(inputs)[0]\n",
    "\n",
    "        # Create patches and project the patches.\n",
    "        projected_patches = self.projection(inputs)\n",
    "\n",
    "        # Append the tokens.\n",
    "        cls_token = tf.tile(self.cls_token, (n, 1, 1))\n",
    "        dist_token = tf.tile(self.dist_token, (n, 1, 1))\n",
    "        cls_token = tf.cast(cls_token, projected_patches.dtype)\n",
    "        dist_token = tf.cast(dist_token, projected_patches.dtype)\n",
    "        projected_patches = tf.concat(\n",
    "            [cls_token, dist_token, projected_patches], axis=1\n",
    "        )\n",
    "\n",
    "        # Add positional embeddings to the projected patches.\n",
    "        encoded_patches = (\n",
    "            self.positional_embedding + projected_patches\n",
    "        )  # (B, number_patches, projection_dim)\n",
    "        encoded_patches = self.dropout(encoded_patches)\n",
    "\n",
    "        # Iterate over the number of layers and stack up blocks of\n",
    "        # Transformer.\n",
    "        for transformer_module in self.transformer_blocks:\n",
    "            # Add a Transformer block.\n",
    "            encoded_patches = transformer_module(encoded_patches)\n",
    "\n",
    "        # Final layer normalization.\n",
    "        representation = self.layer_norm(encoded_patches)\n",
    "\n",
    "        # Classification heads.\n",
    "        x, x_dist = (\n",
    "            self.head(representation[:, 0]),\n",
    "            self.head_dist(representation[:, 1]),\n",
    "        )\n",
    "\n",
    "        if not training or self.regular_training:\n",
    "            # During standard train / finetune, inference average the classifier\n",
    "            # predictions.\n",
    "            return (x + x_dist) / 2\n",
    "\n",
    "        elif training:\n",
    "            # Only return separate classification predictions when training in distilled\n",
    "            # mode.\n",
    "            return x, x_dist\n"
   ]
  },
  {
   "cell_type": "markdown",
   "metadata": {
    "colab_type": "text"
   },
   "source": [
    "Let's verify if the `ViTDistilled` class can be initialized and called as expected."
   ]
  },
  {
   "cell_type": "code",
   "execution_count": 0,
   "metadata": {
    "colab_type": "code"
   },
   "outputs": [],
   "source": [
    "deit_tiny_distilled = ViTDistilled()\n",
    "\n",
    "dummy_inputs = tf.ones((2, 224, 224, 3))\n",
    "outputs = deit_tiny_distilled(dummy_inputs, training=False)\n",
    "print(outputs.shape)"
   ]
  },
  {
   "cell_type": "markdown",
   "metadata": {
    "colab_type": "text"
   },
   "source": [
    "## Implementing the trainer\n",
    "\n",
    "Unlike what happens in standard knowledge distillation\n",
    "([Hinton et al.](https://arxiv.org/abs/1503.02531)),\n",
    "where a temperature-scaled softmax is used as well as KL divergence,\n",
    "DeiT authors use the following loss function:\n",
    "\n",
    "![](https://i.imgur.com/bXdxsBq.png)\n",
    "\n",
    "\n",
    "Here,\n",
    "\n",
    "* CE is cross-entropy\n",
    "* `psi` is the softmax function\n",
    "* Z_s denotes student predictions\n",
    "* y denotes true labels\n",
    "* y_t denotes teacher predictions"
   ]
  },
  {
   "cell_type": "code",
   "execution_count": 0,
   "metadata": {
    "colab_type": "code"
   },
   "outputs": [],
   "source": [
    "\n",
    "class DeiT(keras.Model):\n",
    "    # Reference:\n",
    "    # https://keras.io/examples/vision/knowledge_distillation/\n",
    "    def __init__(self, student, teacher, **kwargs):\n",
    "        super().__init__(**kwargs)\n",
    "        self.student = student\n",
    "        self.teacher = teacher\n",
    "\n",
    "        self.student_loss_tracker = keras.metrics.Mean(name=\"student_loss\")\n",
    "        self.dist_loss_tracker = keras.metrics.Mean(name=\"distillation_loss\")\n",
    "\n",
    "    @property\n",
    "    def metrics(self):\n",
    "        metrics = super().metrics\n",
    "        metrics.append(self.student_loss_tracker)\n",
    "        metrics.append(self.dist_loss_tracker)\n",
    "        return metrics\n",
    "\n",
    "    def compile(\n",
    "        self,\n",
    "        optimizer,\n",
    "        metrics,\n",
    "        student_loss_fn,\n",
    "        distillation_loss_fn,\n",
    "    ):\n",
    "        super().compile(optimizer=optimizer, metrics=metrics)\n",
    "        self.student_loss_fn = student_loss_fn\n",
    "        self.distillation_loss_fn = distillation_loss_fn\n",
    "\n",
    "    def train_step(self, data):\n",
    "        # Unpack data.\n",
    "        x, y = data\n",
    "\n",
    "        # Forward pass of teacher\n",
    "        teacher_predictions = tf.nn.softmax(self.teacher(x, training=False), -1)\n",
    "        teacher_predictions = tf.argmax(teacher_predictions, -1)\n",
    "\n",
    "        with tf.GradientTape() as tape:\n",
    "            # Forward pass of student.\n",
    "            cls_predictions, dist_predictions = self.student(x / 255.0, training=True)\n",
    "\n",
    "            # Compute losses.\n",
    "            student_loss = self.student_loss_fn(y, cls_predictions)\n",
    "            distillation_loss = self.distillation_loss_fn(\n",
    "                teacher_predictions, dist_predictions\n",
    "            )\n",
    "            loss = (student_loss + distillation_loss) / 2\n",
    "\n",
    "        # Compute gradients.\n",
    "        trainable_vars = self.student.trainable_variables\n",
    "        gradients = tape.gradient(loss, trainable_vars)\n",
    "\n",
    "        # Update weights.\n",
    "        self.optimizer.apply_gradients(zip(gradients, trainable_vars))\n",
    "\n",
    "        # Update the metrics configured in `compile()`.\n",
    "        student_predictions = (cls_predictions + dist_predictions) / 2\n",
    "        self.compiled_metrics.update_state(y, student_predictions)\n",
    "        self.dist_loss_tracker.update_state(distillation_loss)\n",
    "        self.student_loss_tracker.update_state(student_loss)\n",
    "\n",
    "        # Return a dict of performance.\n",
    "        results = {m.name: m.result() for m in self.metrics}\n",
    "        return results\n",
    "\n",
    "    def test_step(self, data):\n",
    "        # Unpack the data.\n",
    "        x, y = data\n",
    "\n",
    "        # Compute predictions.\n",
    "        y_prediction = self.student(x / 255.0, training=False)\n",
    "\n",
    "        # Calculate the loss.\n",
    "        student_loss = self.student_loss_fn(y, y_prediction)\n",
    "\n",
    "        # Update the metrics.\n",
    "        self.compiled_metrics.update_state(y, y_prediction)\n",
    "        self.student_loss_tracker.update_state(student_loss)\n",
    "\n",
    "        # Return a dict of performance.\n",
    "        results = {m.name: m.result() for m in self.metrics}\n",
    "        return results\n",
    "\n",
    "    def call(self, inputs):\n",
    "        return self.student(inputs / 255.0, training=False)\n"
   ]
  },
  {
   "cell_type": "markdown",
   "metadata": {
    "colab_type": "text"
   },
   "source": [
    "## Load the teacher model\n",
    "\n",
    "This model is based on the BiT family of ResNets\n",
    "([Kolesnikov et al.](https://arxiv.org/abs/1912.11370))\n",
    "fine-tuned on the `tf_flowers` dataset. You can refer to\n",
    "[this notebook](https://github.com/sayakpaul/deit-tf/blob/main/notebooks/bit-teacher.ipynb)\n",
    "to know how the training was performed. The teacher model has about 212 Million parameters\n",
    "which is about **40x more** than the student."
   ]
  },
  {
   "cell_type": "code",
   "execution_count": 0,
   "metadata": {
    "colab_type": "code"
   },
   "outputs": [],
   "source": [
    "!wget -q https://github.com/sayakpaul/deit-tf/releases/download/v0.1.0/bit_teacher_flowers.zip\n",
    "!unzip -q bit_teacher_flowers.zip"
   ]
  },
  {
   "cell_type": "code",
   "execution_count": 0,
   "metadata": {
    "colab_type": "code"
   },
   "outputs": [],
   "source": [
    "bit_teacher_flowers = keras.models.load_model(\"bit_teacher_flowers\")"
   ]
  },
  {
   "cell_type": "markdown",
   "metadata": {
    "colab_type": "text"
   },
   "source": [
    "## Training through distillation"
   ]
  },
  {
   "cell_type": "code",
   "execution_count": 0,
   "metadata": {
    "colab_type": "code"
   },
   "outputs": [],
   "source": [
    "deit_tiny = ViTDistilled()\n",
    "deit_distiller = DeiT(student=deit_tiny, teacher=bit_teacher_flowers)\n",
    "\n",
    "lr_scaled = (BASE_LR / 512) * BATCH_SIZE\n",
    "deit_distiller.compile(\n",
    "    optimizer=tfa.optimizers.AdamW(weight_decay=WEIGHT_DECAY, learning_rate=lr_scaled),\n",
    "    metrics=[\"accuracy\"],\n",
    "    student_loss_fn=keras.losses.CategoricalCrossentropy(\n",
    "        from_logits=True, label_smoothing=0.1\n",
    "    ),\n",
    "    distillation_loss_fn=keras.losses.SparseCategoricalCrossentropy(from_logits=True),\n",
    ")\n",
    "_ = deit_distiller.fit(train_dataset, validation_data=val_dataset, epochs=NUM_EPOCHS)"
   ]
  },
  {
   "cell_type": "markdown",
   "metadata": {
    "colab_type": "text"
   },
   "source": [
    "If we had trained the same model (the `ViTClassifier`) from scratch with the exact same\n",
    "hyperparameters, the model would have scored about 59% accuracy. You can adapt the following code\n",
    "to reproduce this result:\n",
    "\n",
    "```\n",
    "vit_tiny = ViTClassifier()\n",
    "\n",
    "inputs = keras.Input((RESOLUTION, RESOLUTION, 3))\n",
    "x = keras.layers.Rescaling(scale=1./255)(inputs)\n",
    "outputs = deit_tiny(x)\n",
    "model = keras.Model(inputs, outputs)\n",
    "\n",
    "model.compile(...)\n",
    "model.fit(...)\n",
    "```"
   ]
  },
  {
   "cell_type": "markdown",
   "metadata": {
    "colab_type": "text"
   },
   "source": [
    "## Notes\n",
    "\n",
    "* Through the use of distillation, we're effectively transferring the inductive biases of\n",
    "a CNN-based teacher model.\n",
    "* Interestingly enough, this distillation strategy works better with a CNN as the teacher\n",
    "model rather than a Transformer as shown in the paper.\n",
    "* The use of regularization to train DeiT models is very important.\n",
    "* ViT models are initialized with a combination of different initializers including\n",
    "truncated normal, random normal, Glorot uniform, etc. If you're looking for\n",
    "end-to-end reproduction of the original results, don't forget to initialize the ViTs well.\n",
    "* If you want to explore the pre-trained DeiT models in TensorFlow and Keras with code\n",
    "for fine-tuning, [check out these models on TF-Hub](https://tfhub.dev/sayakpaul/collections/deit/1).\n",
    "\n",
    "## Acknowledgements\n",
    "\n",
    "* Ross Wightman for keeping\n",
    "[`timm`](https://github.com/rwightman/pytorch-image-models)\n",
    "updated with readable implementations. I referred to the implementations of ViT and DeiT\n",
    "a lot during implementing them in TensorFlow.\n",
    "* [Aritra Roy Gosthipaty](https://github.com/ariG23498)\n",
    "who implemented some portions of the `ViTClassifier` in another project.\n",
    "* [Google Developers Experts](https://developers.google.com/programs/experts/)\n",
    "program for supporting me with GCP credits which were used to run experiments for this\n",
    "example."
   ]
  }
 ],
 "metadata": {
  "colab": {
   "collapsed_sections": [],
   "name": "deit",
   "private_outputs": false,
   "provenance": [],
   "toc_visible": true
  },
  "kernelspec": {
   "display_name": "Python 3",
   "language": "python",
   "name": "python3"
  },
  "language_info": {
   "codemirror_mode": {
    "name": "ipython",
    "version": 3
   },
   "file_extension": ".py",
   "mimetype": "text/x-python",
   "name": "python",
   "nbconvert_exporter": "python",
   "pygments_lexer": "ipython3",
   "version": "3.7.0"
  }
 },
 "nbformat": 4,
 "nbformat_minor": 0
}