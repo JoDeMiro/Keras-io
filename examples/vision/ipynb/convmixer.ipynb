{
 "cells": [
  {
   "cell_type": "markdown",
   "metadata": {
    "colab_type": "text"
   },
   "source": [
    "# Image classification with ConvMixer\n",
    "\n",
    "**Author:** [Sayak Paul](https://twitter.com/RisingSayak)<br>\n",
    "**Date created:** 2021/10/12<br>\n",
    "**Last modified:** 2021/10/12<br>\n",
    "**Description:** An all-convolutional network applied to patches of images."
   ]
  },
  {
   "cell_type": "markdown",
   "metadata": {
    "colab_type": "text"
   },
   "source": [
    "## Introduction\n",
    "\n",
    "Vision Transformers (ViT; [Dosovitskiy et al.](https://arxiv.org/abs/1612.00593)) extract\n",
    "small patches from the input images, linearly project them, and then apply the\n",
    "Transformer ([Vaswani et al.](https://arxiv.org/abs/1706.03762)) blocks. The application\n",
    "of ViTs to image recognition tasks is quickly becoming a promising area of research,\n",
    "because ViTs eliminate the need to have strong inductive biases (such as convolutions) for\n",
    "modeling locality. This presents them as a general computation primititive capable of\n",
    "learning just from the training data with as minimal inductive priors as possible. ViTs\n",
    "yield great downstream performance when trained with proper regularization, data\n",
    "augmentation, and relatively large datasets.\n",
    "\n",
    "In the [Patches Are All You Need](https://openreview.net/pdf?id=TVHS5Y4dNvM) paper (note: at\n",
    "the time of writing, it is a submission to the ICLR 2022 conference), the authors extend\n",
    "the idea of using patches to train an all-convolutional network and demonstrate\n",
    "competitive results. Their architecture namely **ConvMixer** uses recipes from the recent\n",
    "isotrophic architectures like ViT, MLP-Mixer\n",
    "([Tolstikhin et al.](https://arxiv.org/abs/2105.01601)), such as using the same\n",
    "depth and resolution across different layers in the network, residual connections,\n",
    "and so on.\n",
    "\n",
    "In this example, we will implement the ConvMixer model and demonstrate its performance on\n",
    "the CIFAR-10 dataset.\n",
    "\n",
    "To use the AdamW optimizer, we need to install TensorFlow Addons:\n",
    "\n",
    "```shell\n",
    "pip install -U -q tensorflow-addons\n",
    "```"
   ]
  },
  {
   "cell_type": "markdown",
   "metadata": {
    "colab_type": "text"
   },
   "source": [
    "## Imports"
   ]
  },
  {
   "cell_type": "code",
   "execution_count": 0,
   "metadata": {
    "colab_type": "code"
   },
   "outputs": [],
   "source": [
    "from tensorflow.keras import layers\n",
    "from tensorflow import keras\n",
    "\n",
    "import matplotlib.pyplot as plt\n",
    "import tensorflow_addons as tfa\n",
    "import tensorflow as tf\n",
    "import numpy as np"
   ]
  },
  {
   "cell_type": "markdown",
   "metadata": {
    "colab_type": "text"
   },
   "source": [
    "## Hyperparameters\n",
    "\n",
    "To keep run time short, we will train the model for only 10 epochs. To focus on\n",
    "the core ideas of ConvMixer, we will not use other training-specific elements like\n",
    "RandAugment ([Cubuk et al.](https://arxiv.org/abs/1909.13719)). If you are interested in\n",
    "learning more about those details, please refer to the\n",
    "[original paper](https://openreview.net/pdf?id=TVHS5Y4dNvM)."
   ]
  },
  {
   "cell_type": "code",
   "execution_count": 0,
   "metadata": {
    "colab_type": "code"
   },
   "outputs": [],
   "source": [
    "learning_rate = 0.001\n",
    "weight_decay = 0.0001\n",
    "batch_size = 128\n",
    "num_epochs = 10"
   ]
  },
  {
   "cell_type": "markdown",
   "metadata": {
    "colab_type": "text"
   },
   "source": [
    "## Load the CIFAR-10 dataset"
   ]
  },
  {
   "cell_type": "code",
   "execution_count": 0,
   "metadata": {
    "colab_type": "code"
   },
   "outputs": [],
   "source": [
    "(x_train, y_train), (x_test, y_test) = keras.datasets.cifar10.load_data()\n",
    "val_split = 0.1\n",
    "\n",
    "val_indices = int(len(x_train) * val_split)\n",
    "new_x_train, new_y_train = x_train[val_indices:], y_train[val_indices:]\n",
    "x_val, y_val = x_train[:val_indices], y_train[:val_indices]\n",
    "\n",
    "print(f\"Training data samples: {len(new_x_train)}\")\n",
    "print(f\"Validation data samples: {len(x_val)}\")\n",
    "print(f\"Test data samples: {len(x_test)}\")"
   ]
  },
  {
   "cell_type": "markdown",
   "metadata": {
    "colab_type": "text"
   },
   "source": [
    "## Prepare `tf.data.Dataset` objects\n",
    "\n",
    "Our data augmentation pipeline is different from what the authors used for the CIFAR-10\n",
    "dataset, which is fine for the purpose of the example."
   ]
  },
  {
   "cell_type": "code",
   "execution_count": 0,
   "metadata": {
    "colab_type": "code"
   },
   "outputs": [],
   "source": [
    "image_size = 32\n",
    "auto = tf.data.AUTOTUNE\n",
    "\n",
    "data_augmentation = keras.Sequential(\n",
    "    [layers.RandomCrop(image_size, image_size), layers.RandomFlip(\"horizontal\"),],\n",
    "    name=\"data_augmentation\",\n",
    ")\n",
    "\n",
    "\n",
    "def make_datasets(images, labels, is_train=False):\n",
    "    dataset = tf.data.Dataset.from_tensor_slices((images, labels))\n",
    "    if is_train:\n",
    "        dataset = dataset.shuffle(batch_size * 10)\n",
    "    dataset = dataset.batch(batch_size)\n",
    "    if is_train:\n",
    "        dataset = dataset.map(\n",
    "            lambda x, y: (data_augmentation(x), y), num_parallel_calls=auto\n",
    "        )\n",
    "    return dataset.prefetch(auto)\n",
    "\n",
    "\n",
    "train_dataset = make_datasets(new_x_train, new_y_train, is_train=True)\n",
    "val_dataset = make_datasets(x_val, y_val)\n",
    "test_dataset = make_datasets(x_test, y_test)"
   ]
  },
  {
   "cell_type": "markdown",
   "metadata": {
    "colab_type": "text"
   },
   "source": [
    "## ConvMixer utilities\n",
    "\n",
    "The following figure (taken from the original paper) depicts the ConvMixer model:\n",
    "\n",
    "![](https://i.imgur.com/yF8actg.png)\n",
    "\n",
    "ConvMixer is very similar to the MLP-Mixer, model with the following key\n",
    "differences:\n",
    "\n",
    "* Instead of using fully-connected layers, it uses standard convolution layers.\n",
    "* Instead of LayerNorm (which is typical for ViTs and MLP-Mixers), it uses BatchNorm.\n",
    "\n",
    "Two types of convolution layers are used in ConvMixer. **(1)**: Depthwise convolutions,\n",
    "for mixing spatial locations of the images, **(2)**: Pointwise convolutions (which follow\n",
    "the depthwise convolutions), for mixing channel-wise information across the patches.\n",
    "Another keypoint is the use of *larger kernel sizes* to allow a larger receptive field."
   ]
  },
  {
   "cell_type": "code",
   "execution_count": 0,
   "metadata": {
    "colab_type": "code"
   },
   "outputs": [],
   "source": [
    "\n",
    "def activation_block(x):\n",
    "    x = layers.Activation(\"gelu\")(x)\n",
    "    return layers.BatchNormalization()(x)\n",
    "\n",
    "\n",
    "def conv_stem(x, filters: int, patch_size: int):\n",
    "    x = layers.Conv2D(filters, kernel_size=patch_size, strides=patch_size)(x)\n",
    "    return activation_block(x)\n",
    "\n",
    "\n",
    "def conv_mixer_block(x, filters: int, kernel_size: int):\n",
    "    # Depthwise convolution.\n",
    "    x0 = x\n",
    "    x = layers.DepthwiseConv2D(kernel_size=kernel_size, padding=\"same\")(x)\n",
    "    x = layers.Add()([activation_block(x), x0])  # Residual.\n",
    "\n",
    "    # Pointwise convolution.\n",
    "    x = layers.Conv2D(filters, kernel_size=1)(x)\n",
    "    x = activation_block(x)\n",
    "\n",
    "    return x\n",
    "\n",
    "\n",
    "def get_conv_mixer_256_8(\n",
    "    image_size=32, filters=256, depth=8, kernel_size=5, patch_size=2, num_classes=10\n",
    "):\n",
    "    \"\"\"ConvMixer-256/8: https://openreview.net/pdf?id=TVHS5Y4dNvM.\n",
    "    The hyperparameter values are taken from the paper.\n",
    "    \"\"\"\n",
    "    inputs = keras.Input((image_size, image_size, 3))\n",
    "    x = layers.Rescaling(scale=1.0 / 255)(inputs)\n",
    "\n",
    "    # Extract patch embeddings.\n",
    "    x = conv_stem(x, filters, patch_size)\n",
    "\n",
    "    # ConvMixer blocks.\n",
    "    for _ in range(depth):\n",
    "        x = conv_mixer_block(x, filters, kernel_size)\n",
    "\n",
    "    # Classification block.\n",
    "    x = layers.GlobalAvgPool2D()(x)\n",
    "    outputs = layers.Dense(num_classes, activation=\"softmax\")(x)\n",
    "\n",
    "    return keras.Model(inputs, outputs)\n",
    ""
   ]
  },
  {
   "cell_type": "markdown",
   "metadata": {
    "colab_type": "text"
   },
   "source": [
    "The model used in this experiment is termed as **ConvMixer-256/8** where 256 denotes the\n",
    "number of channels and 8 denotes the depth. The resulting model only has 0.8 million\n",
    "parameters."
   ]
  },
  {
   "cell_type": "markdown",
   "metadata": {
    "colab_type": "text"
   },
   "source": [
    "## Model training and evaluation utility"
   ]
  },
  {
   "cell_type": "code",
   "execution_count": 0,
   "metadata": {
    "colab_type": "code"
   },
   "outputs": [],
   "source": [
    "# Code reference:\n",
    "# https://keras.io/examples/vision/image_classification_with_vision_transformer/.\n",
    "\n",
    "\n",
    "def run_experiment(model):\n",
    "    optimizer = tfa.optimizers.AdamW(\n",
    "        learning_rate=learning_rate, weight_decay=weight_decay\n",
    "    )\n",
    "\n",
    "    model.compile(\n",
    "        optimizer=optimizer,\n",
    "        loss=\"sparse_categorical_crossentropy\",\n",
    "        metrics=[\"accuracy\"],\n",
    "    )\n",
    "\n",
    "    checkpoint_filepath = \"/tmp/checkpoint\"\n",
    "    checkpoint_callback = keras.callbacks.ModelCheckpoint(\n",
    "        checkpoint_filepath,\n",
    "        monitor=\"val_accuracy\",\n",
    "        save_best_only=True,\n",
    "        save_weights_only=True,\n",
    "    )\n",
    "\n",
    "    history = model.fit(\n",
    "        train_dataset,\n",
    "        validation_data=val_dataset,\n",
    "        epochs=num_epochs,\n",
    "        callbacks=[checkpoint_callback],\n",
    "    )\n",
    "\n",
    "    model.load_weights(checkpoint_filepath)\n",
    "    _, accuracy = model.evaluate(test_dataset)\n",
    "    print(f\"Test accuracy: {round(accuracy * 100, 2)}%\")\n",
    "\n",
    "    return history, model\n",
    ""
   ]
  },
  {
   "cell_type": "markdown",
   "metadata": {
    "colab_type": "text"
   },
   "source": [
    "## Train and evaluate model"
   ]
  },
  {
   "cell_type": "code",
   "execution_count": 0,
   "metadata": {
    "colab_type": "code"
   },
   "outputs": [],
   "source": [
    "conv_mixer_model = get_conv_mixer_256_8()\n",
    "history, conv_mixer_model = run_experiment(conv_mixer_model)"
   ]
  },
  {
   "cell_type": "markdown",
   "metadata": {
    "colab_type": "text"
   },
   "source": [
    "The gap in training and validation performance can be mitigated by using additional\n",
    "regularization techniques. Nevertheless, being able to get to ~83% accuracy within 10\n",
    "epochs with 0.8 million parameters is a strong result."
   ]
  },
  {
   "cell_type": "markdown",
   "metadata": {
    "colab_type": "text"
   },
   "source": [
    "## Visualizing the internals of ConvMixer\n",
    "\n",
    "We can visualize the patch embeddings and the learned convolution filters. Recall\n",
    "that each patch embedding and intermediate feature map have the same number of channels\n",
    "(256 in this case). This will make our visualization utility easier to implement."
   ]
  },
  {
   "cell_type": "code",
   "execution_count": 0,
   "metadata": {
    "colab_type": "code"
   },
   "outputs": [],
   "source": [
    "# Code reference: https://bit.ly/3awIRbP.\n",
    "\n",
    "\n",
    "def visualization_plot(weights, idx=1):\n",
    "    # First, apply min-max normalization to the\n",
    "    # given weights to avoid isotrophic scaling.\n",
    "    p_min, p_max = weights.min(), weights.max()\n",
    "    weights = (weights - p_min) / (p_max - p_min)\n",
    "\n",
    "    # Visualize all the filters.\n",
    "    num_filters = 256\n",
    "    plt.figure(figsize=(8, 8))\n",
    "\n",
    "    for i in range(num_filters):\n",
    "        current_weight = weights[:, :, :, i]\n",
    "        if current_weight.shape[-1] == 1:\n",
    "            current_weight = current_weight.squeeze()\n",
    "        ax = plt.subplot(16, 16, idx)\n",
    "        ax.set_xticks([])\n",
    "        ax.set_yticks([])\n",
    "        plt.imshow(current_weight)\n",
    "        idx += 1\n",
    "\n",
    "\n",
    "# We first visualize the learned patch embeddings.\n",
    "patch_embeddings = conv_mixer_model.layers[2].get_weights()[0]\n",
    "visualization_plot(patch_embeddings)"
   ]
  },
  {
   "cell_type": "markdown",
   "metadata": {
    "colab_type": "text"
   },
   "source": [
    "Even though we did not train the network to convergence, we can notice that different\n",
    "patches show different patterns. Some share similarity with others while some are very\n",
    "different. These visualizations are more salient with larger image sizes.\n",
    "\n",
    "Similarly, we can visualize the raw convolution kernels. This can help us understand\n",
    "the patterns to which a given kernel is receptive."
   ]
  },
  {
   "cell_type": "code",
   "execution_count": 0,
   "metadata": {
    "colab_type": "code"
   },
   "outputs": [],
   "source": [
    "# First, print the indices of the convolution layers that are not\n",
    "# pointwise convolutions.\n",
    "for i, layer in enumerate(conv_mixer_model.layers):\n",
    "    if isinstance(layer, layers.DepthwiseConv2D):\n",
    "        if layer.get_config()[\"kernel_size\"] == (5, 5):\n",
    "            print(i, layer)\n",
    "\n",
    "idx = 26  # Taking a kernel from the middle of the network.\n",
    "\n",
    "kernel = conv_mixer_model.layers[idx].get_weights()[0]\n",
    "kernel = np.expand_dims(kernel.squeeze(), axis=2)\n",
    "visualization_plot(kernel)"
   ]
  },
  {
   "cell_type": "markdown",
   "metadata": {
    "colab_type": "text"
   },
   "source": [
    "We see that different filters in the kernel have different locality spans, and this pattern\n",
    "is likely to evolve with more training."
   ]
  },
  {
   "cell_type": "markdown",
   "metadata": {
    "colab_type": "text"
   },
   "source": [
    "## Final notes\n",
    "\n",
    "There's been a recent trend on fusing convolutions with other data-agnostic operations\n",
    "like self-attention. Following works are along this line of research:\n",
    "\n",
    "* ConViT ([d'Ascoli et al.](https://arxiv.org/abs/2103.10697))\n",
    "* CCT ([Hassani et al.](https://arxiv.org/abs/2104.05704))\n",
    "* CoAtNet ([Dai et al.](https://arxiv.org/abs/2106.04803))"
   ]
  }
 ],
 "metadata": {
  "colab": {
   "collapsed_sections": [],
   "name": "convmixer",
   "private_outputs": false,
   "provenance": [],
   "toc_visible": true
  },
  "kernelspec": {
   "display_name": "Python 3",
   "language": "python",
   "name": "python3"
  },
  "language_info": {
   "codemirror_mode": {
    "name": "ipython",
    "version": 3
   },
   "file_extension": ".py",
   "mimetype": "text/x-python",
   "name": "python",
   "nbconvert_exporter": "python",
   "pygments_lexer": "ipython3",
   "version": "3.7.0"
  }
 },
 "nbformat": 4,
 "nbformat_minor": 0
}