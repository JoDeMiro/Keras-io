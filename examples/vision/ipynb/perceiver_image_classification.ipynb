{
 "cells": [
  {
   "cell_type": "markdown",
   "metadata": {
    "colab_type": "text"
   },
   "source": [
    "# Image classification with Perceiver\n",
    "\n",
    "**Author:** [Khalid Salama](https://www.linkedin.com/in/khalid-salama-24403144/)<br>\n",
    "**Date created:** 2021/04/30<br>\n",
    "**Last modified:** 2021/01/30<br>\n",
    "**Description:** Implementing the Perceiver model for image classification."
   ]
  },
  {
   "cell_type": "markdown",
   "metadata": {
    "colab_type": "text"
   },
   "source": [
    "## Introduction\n",
    "\n",
    "This example implements the\n",
    "[Perceiver: General Perception with Iterative Attention](https://arxiv.org/abs/2103.03206)\n",
    "model by Andrew Jaegle et al. for image classification,\n",
    "and demonstrates it on the CIFAR-100 dataset.\n",
    "\n",
    "The Perceiver model leverages an asymmetric attention mechanism to iteratively\n",
    "distill inputs into a tight latent bottleneck,\n",
    "allowing it to scale to handle very large inputs.\n",
    "\n",
    "In other words: let's assume that your input data array (e.g. image) has `M` elements (i.e. patches), where `M` is large.\n",
    "In a standard Transformer model, a self-attention operation is performed for the `M` elements.\n",
    "The complexity of this operation is `O(M^2)`.\n",
    "However, the Perceiver model creates a latent array of size `N` elements, where `N << M`,\n",
    "and performs two operations iteratively:\n",
    "\n",
    "1. Cross-attention Transformer between the latent array and the data array - The complexity of this operation is `O(M.N)`.\n",
    "2. Self-attention Transformer on the latent array -  The complexity of this operation is `O(N^2)`.\n",
    "\n",
    "This example requires TensorFlow 2.4 or higher, as well as\n",
    "[TensorFlow Addons](https://www.tensorflow.org/addons/overview),\n",
    "which can be installed using the following command:\n",
    "\n",
    "```python\n",
    "pip install -U tensorflow-addons\n",
    "```"
   ]
  },
  {
   "cell_type": "markdown",
   "metadata": {
    "colab_type": "text"
   },
   "source": [
    "## Setup"
   ]
  },
  {
   "cell_type": "code",
   "execution_count": 0,
   "metadata": {
    "colab_type": "code"
   },
   "outputs": [],
   "source": [
    "import numpy as np\n",
    "import tensorflow as tf\n",
    "from tensorflow import keras\n",
    "from tensorflow.keras import layers\n",
    "import tensorflow_addons as tfa"
   ]
  },
  {
   "cell_type": "markdown",
   "metadata": {
    "colab_type": "text"
   },
   "source": [
    "## Prepare the data"
   ]
  },
  {
   "cell_type": "code",
   "execution_count": 0,
   "metadata": {
    "colab_type": "code"
   },
   "outputs": [],
   "source": [
    "num_classes = 100\n",
    "input_shape = (32, 32, 3)\n",
    "\n",
    "(x_train, y_train), (x_test, y_test) = keras.datasets.cifar100.load_data()\n",
    "\n",
    "print(f\"x_train shape: {x_train.shape} - y_train shape: {y_train.shape}\")\n",
    "print(f\"x_test shape: {x_test.shape} - y_test shape: {y_test.shape}\")"
   ]
  },
  {
   "cell_type": "markdown",
   "metadata": {
    "colab_type": "text"
   },
   "source": [
    "## Configure the hyperparameters"
   ]
  },
  {
   "cell_type": "code",
   "execution_count": 0,
   "metadata": {
    "colab_type": "code"
   },
   "outputs": [],
   "source": [
    "learning_rate = 0.001\n",
    "weight_decay = 0.0001\n",
    "batch_size = 64\n",
    "num_epochs = 50\n",
    "dropout_rate = 0.2\n",
    "image_size = 64  # We'll resize input images to this size.\n",
    "patch_size = 2  # Size of the patches to be extract from the input images.\n",
    "num_patches = (image_size // patch_size) ** 2  # Size of the data array.\n",
    "latent_dim = 256  # Size of the latent array.\n",
    "projection_dim = 256  # Embedding size of each element in the data and latent arrays.\n",
    "num_heads = 8  # Number of Transformer heads.\n",
    "ffn_units = [\n",
    "    projection_dim,\n",
    "    projection_dim,\n",
    "]  # Size of the Transformer Feedforward network.\n",
    "num_transformer_blocks = 4\n",
    "num_iterations = 2  # Repetitions of the cross-attention and Transformer modules.\n",
    "classifier_units = [\n",
    "    projection_dim,\n",
    "    num_classes,\n",
    "]  # Size of the Feedforward network of the final classifier.\n",
    "\n",
    "print(f\"Image size: {image_size} X {image_size} = {image_size ** 2}\")\n",
    "print(f\"Patch size: {patch_size} X {patch_size} = {patch_size ** 2} \")\n",
    "print(f\"Patches per image: {num_patches}\")\n",
    "print(f\"Elements per patch (3 channels): {(patch_size ** 2) * 3}\")\n",
    "print(f\"Latent array shape: {latent_dim} X {projection_dim}\")\n",
    "print(f\"Data array shape: {num_patches} X {projection_dim}\")"
   ]
  },
  {
   "cell_type": "markdown",
   "metadata": {
    "colab_type": "text"
   },
   "source": [
    "Note that, in order to use each pixel as an individual input in the data array,\n",
    "set `patch_size` to 1."
   ]
  },
  {
   "cell_type": "markdown",
   "metadata": {
    "colab_type": "text"
   },
   "source": [
    "## Use data augmentation"
   ]
  },
  {
   "cell_type": "code",
   "execution_count": 0,
   "metadata": {
    "colab_type": "code"
   },
   "outputs": [],
   "source": [
    "data_augmentation = keras.Sequential(\n",
    "    [\n",
    "        layers.Normalization(),\n",
    "        layers.Resizing(image_size, image_size),\n",
    "        layers.RandomFlip(\"horizontal\"),\n",
    "        layers.RandomZoom(\n",
    "            height_factor=0.2, width_factor=0.2\n",
    "        ),\n",
    "    ],\n",
    "    name=\"data_augmentation\",\n",
    ")\n",
    "# Compute the mean and the variance of the training data for normalization.\n",
    "data_augmentation.layers[0].adapt(x_train)"
   ]
  },
  {
   "cell_type": "markdown",
   "metadata": {
    "colab_type": "text"
   },
   "source": [
    "## Implement Feedforward network (FFN)"
   ]
  },
  {
   "cell_type": "code",
   "execution_count": 0,
   "metadata": {
    "colab_type": "code"
   },
   "outputs": [],
   "source": [
    "\n",
    "def create_ffn(hidden_units, dropout_rate):\n",
    "    ffn_layers = []\n",
    "    for units in hidden_units[:-1]:\n",
    "        ffn_layers.append(layers.Dense(units, activation=tf.nn.gelu))\n",
    "\n",
    "    ffn_layers.append(layers.Dense(units=hidden_units[-1]))\n",
    "    ffn_layers.append(layers.Dropout(dropout_rate))\n",
    "\n",
    "    ffn = keras.Sequential(ffn_layers)\n",
    "    return ffn\n",
    ""
   ]
  },
  {
   "cell_type": "markdown",
   "metadata": {
    "colab_type": "text"
   },
   "source": [
    "## Implement patch creation as a layer"
   ]
  },
  {
   "cell_type": "code",
   "execution_count": 0,
   "metadata": {
    "colab_type": "code"
   },
   "outputs": [],
   "source": [
    "\n",
    "class Patches(layers.Layer):\n",
    "    def __init__(self, patch_size):\n",
    "        super(Patches, self).__init__()\n",
    "        self.patch_size = patch_size\n",
    "\n",
    "    def call(self, images):\n",
    "        batch_size = tf.shape(images)[0]\n",
    "        patches = tf.image.extract_patches(\n",
    "            images=images,\n",
    "            sizes=[1, self.patch_size, self.patch_size, 1],\n",
    "            strides=[1, self.patch_size, self.patch_size, 1],\n",
    "            rates=[1, 1, 1, 1],\n",
    "            padding=\"VALID\",\n",
    "        )\n",
    "        patch_dims = patches.shape[-1]\n",
    "        patches = tf.reshape(patches, [batch_size, -1, patch_dims])\n",
    "        return patches\n",
    ""
   ]
  },
  {
   "cell_type": "markdown",
   "metadata": {
    "colab_type": "text"
   },
   "source": [
    "## Implement the patch encoding layer\n",
    "\n",
    "The `PatchEncoder` layer will linearly transform a patch by projecting it into\n",
    "a vector of size `latent_dim`. In addition, it adds a learnable position embedding\n",
    "to the projected vector.\n",
    "\n",
    "Note that the orginal Perceiver paper uses the Fourier feature positional encodings."
   ]
  },
  {
   "cell_type": "code",
   "execution_count": 0,
   "metadata": {
    "colab_type": "code"
   },
   "outputs": [],
   "source": [
    "\n",
    "class PatchEncoder(layers.Layer):\n",
    "    def __init__(self, num_patches, projection_dim):\n",
    "        super(PatchEncoder, self).__init__()\n",
    "        self.num_patches = num_patches\n",
    "        self.projection = layers.Dense(units=projection_dim)\n",
    "        self.position_embedding = layers.Embedding(\n",
    "            input_dim=num_patches, output_dim=projection_dim\n",
    "        )\n",
    "\n",
    "    def call(self, patches):\n",
    "        positions = tf.range(start=0, limit=self.num_patches, delta=1)\n",
    "        encoded = self.projection(patches) + self.position_embedding(positions)\n",
    "        return encoded\n",
    ""
   ]
  },
  {
   "cell_type": "markdown",
   "metadata": {
    "colab_type": "text"
   },
   "source": [
    "## Build the Perceiver model\n",
    "\n",
    "The Perceiver consists of two modules: a cross-attention\n",
    "module and a standard Transformer with self-attention."
   ]
  },
  {
   "cell_type": "markdown",
   "metadata": {
    "colab_type": "text"
   },
   "source": [
    "### Cross-attention module\n",
    "\n",
    "The cross-attention expects a `(latent_dim, projection_dim)` latent array,\n",
    "and the `(data_dim,  projection_dim)` data array as inputs,\n",
    "to produce a `(latent_dim, projection_dim)` latent array as an output.\n",
    "To apply cross-attention, the `query` vectors are generated from the latent array,\n",
    "while the `key` and `value` vectors are generated from the encoded image.\n",
    "\n",
    "Note that the data array in this example is the image,\n",
    "where the `data_dim` is set to the `num_patches`."
   ]
  },
  {
   "cell_type": "code",
   "execution_count": 0,
   "metadata": {
    "colab_type": "code"
   },
   "outputs": [],
   "source": [
    "\n",
    "def create_cross_attention_module(\n",
    "    latent_dim, data_dim, projection_dim, ffn_units, dropout_rate\n",
    "):\n",
    "\n",
    "    inputs = {\n",
    "        # Recieve the latent array as an input of shape [1, latent_dim, projection_dim].\n",
    "        \"latent_array\": layers.Input(shape=(latent_dim, projection_dim)),\n",
    "        # Recieve the data_array (encoded image) as an input of shape [batch_size, data_dim, projection_dim].\n",
    "        \"data_array\": layers.Input(shape=(data_dim, projection_dim)),\n",
    "    }\n",
    "\n",
    "    # Apply layer norm to the inputs\n",
    "    latent_array = layers.LayerNormalization(epsilon=1e-6)(inputs[\"latent_array\"])\n",
    "    data_array = layers.LayerNormalization(epsilon=1e-6)(inputs[\"data_array\"])\n",
    "\n",
    "    # Create query tensor: [1, latent_dim, projection_dim].\n",
    "    query = layers.Dense(units=projection_dim)(latent_array)\n",
    "    # Create key tensor: [batch_size, data_dim, projection_dim].\n",
    "    key = layers.Dense(units=projection_dim)(data_array)\n",
    "    # Create value tensor: [batch_size, data_dim, projection_dim].\n",
    "    value = layers.Dense(units=projection_dim)(data_array)\n",
    "\n",
    "    # Generate cross-attention outputs: [batch_size, latent_dim, projection_dim].\n",
    "    attention_output = layers.Attention(use_scale=True, dropout=0.1)(\n",
    "        [query, key, value], return_attention_scores=False\n",
    "    )\n",
    "    # Skip connection 1.\n",
    "    attention_output = layers.Add()([attention_output, latent_array])\n",
    "\n",
    "    # Apply layer norm.\n",
    "    attention_output = layers.LayerNormalization(epsilon=1e-6)(attention_output)\n",
    "    # Apply Feedforward network.\n",
    "    ffn = create_ffn(hidden_units=ffn_units, dropout_rate=dropout_rate)\n",
    "    outputs = ffn(attention_output)\n",
    "    # Skip connection 2.\n",
    "    outputs = layers.Add()([outputs, attention_output])\n",
    "\n",
    "    # Create the Keras model.\n",
    "    model = keras.Model(inputs=inputs, outputs=outputs)\n",
    "    return model\n",
    ""
   ]
  },
  {
   "cell_type": "markdown",
   "metadata": {
    "colab_type": "text"
   },
   "source": [
    "### Transformer module\n",
    "\n",
    "The Transformer expects the output latent vector from the cross-attention module\n",
    "as an input, applies multi-head self-attention to its `latent_dim` elements,\n",
    "followed by feedforward network, to produce another `(latent_dim, projection_dim)` latent array."
   ]
  },
  {
   "cell_type": "code",
   "execution_count": 0,
   "metadata": {
    "colab_type": "code"
   },
   "outputs": [],
   "source": [
    "\n",
    "def create_transformer_module(\n",
    "    latent_dim,\n",
    "    projection_dim,\n",
    "    num_heads,\n",
    "    num_transformer_blocks,\n",
    "    ffn_units,\n",
    "    dropout_rate,\n",
    "):\n",
    "\n",
    "    # input_shape: [1, latent_dim, projection_dim]\n",
    "    inputs = layers.Input(shape=(latent_dim, projection_dim))\n",
    "\n",
    "    x0 = inputs\n",
    "    # Create multiple layers of the Transformer block.\n",
    "    for _ in range(num_transformer_blocks):\n",
    "        # Apply layer normalization 1.\n",
    "        x1 = layers.LayerNormalization(epsilon=1e-6)(x0)\n",
    "        # Create a multi-head self-attention layer.\n",
    "        attention_output = layers.MultiHeadAttention(\n",
    "            num_heads=num_heads, key_dim=projection_dim, dropout=0.1\n",
    "        )(x1, x1)\n",
    "        # Skip connection 1.\n",
    "        x2 = layers.Add()([attention_output, x0])\n",
    "        # Apply layer normalization 2.\n",
    "        x3 = layers.LayerNormalization(epsilon=1e-6)(x2)\n",
    "        # Apply Feedforward network.\n",
    "        ffn = create_ffn(hidden_units=ffn_units, dropout_rate=dropout_rate)\n",
    "        x3 = ffn(x3)\n",
    "        # Skip connection 2.\n",
    "        x0 = layers.Add()([x3, x2])\n",
    "\n",
    "    # Create the Keras model.\n",
    "    model = keras.Model(inputs=inputs, outputs=x0)\n",
    "    return model\n",
    ""
   ]
  },
  {
   "cell_type": "markdown",
   "metadata": {
    "colab_type": "text"
   },
   "source": [
    "### Perceiver model\n",
    "\n",
    "The Perceiver model repeats the cross-attention and Transformer modules\n",
    "`num_iterations` times\u2014with shared weights and skip connections\u2014to allow\n",
    "the latent array to iteratively extract information from the input image as it is needed."
   ]
  },
  {
   "cell_type": "code",
   "execution_count": 0,
   "metadata": {
    "colab_type": "code"
   },
   "outputs": [],
   "source": [
    "\n",
    "class Perceiver(keras.Model):\n",
    "    def __init__(\n",
    "        self,\n",
    "        patch_size,\n",
    "        data_dim,\n",
    "        latent_dim,\n",
    "        projection_dim,\n",
    "        num_heads,\n",
    "        num_transformer_blocks,\n",
    "        ffn_units,\n",
    "        dropout_rate,\n",
    "        num_iterations,\n",
    "        classifier_units,\n",
    "    ):\n",
    "        super(Perceiver, self).__init__()\n",
    "\n",
    "        self.latent_dim = latent_dim\n",
    "        self.data_dim = data_dim\n",
    "        self.patch_size = patch_size\n",
    "        self.projection_dim = projection_dim\n",
    "        self.num_heads = num_heads\n",
    "        self.num_transformer_blocks = num_transformer_blocks\n",
    "        self.ffn_units = ffn_units\n",
    "        self.dropout_rate = dropout_rate\n",
    "        self.num_iterations = num_iterations\n",
    "        self.classifier_units = classifier_units\n",
    "\n",
    "    def build(self, input_shape):\n",
    "        # Create latent array.\n",
    "        self.latent_array = self.add_weight(\n",
    "            shape=(self.latent_dim, self.projection_dim),\n",
    "            initializer=\"random_normal\",\n",
    "            trainable=True,\n",
    "        )\n",
    "\n",
    "        # Create patching module.\n",
    "        self.patcher = Patches(self.patch_size)\n",
    "\n",
    "        # Create patch encoder.\n",
    "        self.patch_encoder = PatchEncoder(self.data_dim, self.projection_dim)\n",
    "\n",
    "        # Create cross-attenion module.\n",
    "        self.cross_attention = create_cross_attention_module(\n",
    "            self.latent_dim,\n",
    "            self.data_dim,\n",
    "            self.projection_dim,\n",
    "            self.ffn_units,\n",
    "            self.dropout_rate,\n",
    "        )\n",
    "\n",
    "        # Create Transformer module.\n",
    "        self.transformer = create_transformer_module(\n",
    "            self.latent_dim,\n",
    "            self.projection_dim,\n",
    "            self.num_heads,\n",
    "            self.num_transformer_blocks,\n",
    "            self.ffn_units,\n",
    "            self.dropout_rate,\n",
    "        )\n",
    "\n",
    "        # Create global average pooling layer.\n",
    "        self.global_average_pooling = layers.GlobalAveragePooling1D()\n",
    "\n",
    "        # Create a classification head.\n",
    "        self.classification_head = create_ffn(\n",
    "            hidden_units=self.classifier_units, dropout_rate=self.dropout_rate\n",
    "        )\n",
    "\n",
    "        super(Perceiver, self).build(input_shape)\n",
    "\n",
    "    def call(self, inputs):\n",
    "        # Augment data.\n",
    "        augmented = data_augmentation(inputs)\n",
    "        # Create patches.\n",
    "        patches = self.patcher(augmented)\n",
    "        # Encode patches.\n",
    "        encoded_patches = self.patch_encoder(patches)\n",
    "        # Prepare cross-attention inputs.\n",
    "        cross_attention_inputs = {\n",
    "            \"latent_array\": tf.expand_dims(self.latent_array, 0),\n",
    "            \"data_array\": encoded_patches,\n",
    "        }\n",
    "        # Apply the cross-attention and the Transformer modules iteratively.\n",
    "        for _ in range(self.num_iterations):\n",
    "            # Apply cross-attention from the latent array to the data array.\n",
    "            latent_array = self.cross_attention(cross_attention_inputs)\n",
    "            # Apply self-attention Transformer to the latent array.\n",
    "            latent_array = self.transformer(latent_array)\n",
    "            # Set the latent array of the next iteration.\n",
    "            cross_attention_inputs[\"latent_array\"] = latent_array\n",
    "\n",
    "        # Apply global average pooling to generate a [batch_size, projection_dim] repesentation tensor.\n",
    "        representation = self.global_average_pooling(latent_array)\n",
    "        # Generate logits.\n",
    "        logits = self.classification_head(representation)\n",
    "        return logits\n",
    ""
   ]
  },
  {
   "cell_type": "markdown",
   "metadata": {
    "colab_type": "text"
   },
   "source": [
    "## Compile, train, and evaluate the mode"
   ]
  },
  {
   "cell_type": "code",
   "execution_count": 0,
   "metadata": {
    "colab_type": "code"
   },
   "outputs": [],
   "source": [
    "\n",
    "def run_experiment(model):\n",
    "\n",
    "    # Create LAMB optimizer with weight decay.\n",
    "    optimizer = tfa.optimizers.LAMB(\n",
    "        learning_rate=learning_rate, weight_decay_rate=weight_decay,\n",
    "    )\n",
    "\n",
    "    # Compile the model.\n",
    "    model.compile(\n",
    "        optimizer=optimizer,\n",
    "        loss=keras.losses.SparseCategoricalCrossentropy(from_logits=True),\n",
    "        metrics=[\n",
    "            keras.metrics.SparseCategoricalAccuracy(name=\"acc\"),\n",
    "            keras.metrics.SparseTopKCategoricalAccuracy(5, name=\"top5-acc\"),\n",
    "        ],\n",
    "    )\n",
    "\n",
    "    # Create a learning rate scheduler callback.\n",
    "    reduce_lr = keras.callbacks.ReduceLROnPlateau(\n",
    "        monitor=\"val_loss\", factor=0.2, patience=3\n",
    "    )\n",
    "\n",
    "    # Create an early stopping callback.\n",
    "    early_stopping = tf.keras.callbacks.EarlyStopping(\n",
    "        monitor=\"val_loss\", patience=15, restore_best_weights=True\n",
    "    )\n",
    "\n",
    "    # Fit the model.\n",
    "    history = model.fit(\n",
    "        x=x_train,\n",
    "        y=y_train,\n",
    "        batch_size=batch_size,\n",
    "        epochs=num_epochs,\n",
    "        validation_split=0.1,\n",
    "        callbacks=[early_stopping, reduce_lr],\n",
    "    )\n",
    "\n",
    "    _, accuracy, top_5_accuracy = model.evaluate(x_test, y_test)\n",
    "    print(f\"Test accuracy: {round(accuracy * 100, 2)}%\")\n",
    "    print(f\"Test top 5 accuracy: {round(top_5_accuracy * 100, 2)}%\")\n",
    "\n",
    "    # Return history to plot learning curves.\n",
    "    return history\n",
    ""
   ]
  },
  {
   "cell_type": "markdown",
   "metadata": {
    "colab_type": "text"
   },
   "source": [
    "Note that training the perceiver model with the current settings on a V100 GPUs takes\n",
    "around 200 seconds."
   ]
  },
  {
   "cell_type": "code",
   "execution_count": 0,
   "metadata": {
    "colab_type": "code"
   },
   "outputs": [],
   "source": [
    "perceiver_classifier = Perceiver(\n",
    "    patch_size,\n",
    "    num_patches,\n",
    "    latent_dim,\n",
    "    projection_dim,\n",
    "    num_heads,\n",
    "    num_transformer_blocks,\n",
    "    ffn_units,\n",
    "    dropout_rate,\n",
    "    num_iterations,\n",
    "    classifier_units,\n",
    ")\n",
    "\n",
    "\n",
    "history = run_experiment(perceiver_classifier)"
   ]
  },
  {
   "cell_type": "markdown",
   "metadata": {
    "colab_type": "text"
   },
   "source": [
    "After 40 epochs, the Perceiver model achieves around 53% accuracy and 81% top-5 accuracy on the test data.\n",
    "\n",
    "As mentioned in the ablations of the [Perceiver](https://arxiv.org/abs/2103.03206) paper,\n",
    "you can obtain better results by increasing the latent array size,\n",
    "increasing the (projection) dimensions of the latent array and data array elements,\n",
    "increasing the number of blocks in the Transformer module, and increasing the number of iterations of applying\n",
    "the cross-attention and the latent Transformer modules. You may also try to increase the size the input images\n",
    "and use different patch sizes.\n",
    "\n",
    "The Perceiver benefits from inceasing the model size. However, larger models needs bigger accelerators\n",
    "to fit in and train efficiently. This is why in the Perceiver paper they used 32 TPU cores to run the experiments."
   ]
  }
 ],
 "metadata": {
  "colab": {
   "collapsed_sections": [],
   "name": "perceiver_image_classification",
   "private_outputs": false,
   "provenance": [],
   "toc_visible": true
  },
  "kernelspec": {
   "display_name": "Python 3",
   "language": "python",
   "name": "python3"
  },
  "language_info": {
   "codemirror_mode": {
    "name": "ipython",
    "version": 3
   },
   "file_extension": ".py",
   "mimetype": "text/x-python",
   "name": "python",
   "nbconvert_exporter": "python",
   "pygments_lexer": "ipython3",
   "version": "3.7.0"
  }
 },
 "nbformat": 4,
 "nbformat_minor": 0
}
