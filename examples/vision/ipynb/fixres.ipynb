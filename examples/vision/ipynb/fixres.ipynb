{
 "cells": [
  {
   "cell_type": "markdown",
   "metadata": {
    "colab_type": "text"
   },
   "source": [
    "# FixRes: Fixing train-test resolution discrepancy\n",
    "\n",
    "**Author:** [Sayak Paul](https://twitter.com/RisingSayak)<br>\n",
    "**Date created:** 2021/10/08<br>\n",
    "**Last modified:** 2021/10/10<br>\n",
    "**Description:** Mitigating resolution discrepancy between training and test sets."
   ]
  },
  {
   "cell_type": "markdown",
   "metadata": {
    "colab_type": "text"
   },
   "source": [
    "## Introduction\n",
    "\n",
    "It is a common practice to use the same input image resolution while training and testing\n",
    "vision models. However, as investigated in\n",
    "[Fixing the train-test resolution discrepancy](https://arxiv.org/abs/1906.06423)\n",
    "(Touvron et al.), this practice leads to suboptimal performance. Data augmentation\n",
    "is an indispensable part of the training process of deep neural networks. For vision models, we\n",
    "typically use random resized crops during training and center crops during inference.\n",
    "This introduces a discrepancy in the object sizes seen during training and inference.\n",
    "As shown by Touvron et al., if we can fix this discrepancy, we can significantly\n",
    "boost model performance.\n",
    "\n",
    "In this example, we implement the **FixRes** techniques introduced by Touvron et al.\n",
    "to fix this discrepancy."
   ]
  },
  {
   "cell_type": "markdown",
   "metadata": {
    "colab_type": "text"
   },
   "source": [
    "## Imports"
   ]
  },
  {
   "cell_type": "code",
   "execution_count": 0,
   "metadata": {
    "colab_type": "code"
   },
   "outputs": [],
   "source": [
    "from tensorflow import keras\n",
    "from tensorflow.keras import layers\n",
    "import tensorflow as tf\n",
    "\n",
    "import tensorflow_datasets as tfds\n",
    "\n",
    "tfds.disable_progress_bar()\n",
    "\n",
    "import matplotlib.pyplot as plt"
   ]
  },
  {
   "cell_type": "markdown",
   "metadata": {
    "colab_type": "text"
   },
   "source": [
    "## Load the `tf_flowers` dataset"
   ]
  },
  {
   "cell_type": "code",
   "execution_count": 0,
   "metadata": {
    "colab_type": "code"
   },
   "outputs": [],
   "source": [
    "train_dataset, val_dataset = tfds.load(\n",
    "    \"tf_flowers\", split=[\"train[:90%]\", \"train[90%:]\"], as_supervised=True\n",
    ")\n",
    "\n",
    "num_train = train_dataset.cardinality()\n",
    "num_val = val_dataset.cardinality()\n",
    "print(f\"Number of training examples: {num_train}\")\n",
    "print(f\"Number of validation examples: {num_val}\")"
   ]
  },
  {
   "cell_type": "markdown",
   "metadata": {
    "colab_type": "text"
   },
   "source": [
    "## Data preprocessing utilities"
   ]
  },
  {
   "cell_type": "markdown",
   "metadata": {
    "colab_type": "text"
   },
   "source": [
    "We create three datasets:\n",
    "\n",
    "1. A dataset with a smaller resolution - 128x128.\n",
    "2. Two datasets with a larger resolution - 224x224.\n",
    "\n",
    "We will apply different augmentation transforms to the larger-resolution datasets.\n",
    "\n",
    "The idea of FixRes is to first train a model on a smaller resolution dataset and then fine-tune\n",
    "it on a larger resolution dataset. This simple yet effective recipe leads to non-trivial performance\n",
    "improvements. Please refer to the [original paper](https://arxiv.org/abs/1906.06423) for\n",
    "results."
   ]
  },
  {
   "cell_type": "code",
   "execution_count": 0,
   "metadata": {
    "colab_type": "code"
   },
   "outputs": [],
   "source": [
    "# Reference: https://github.com/facebookresearch/FixRes/blob/main/transforms_v2.py.\n",
    "\n",
    "batch_size = 128\n",
    "auto = tf.data.AUTOTUNE\n",
    "smaller_size = 128\n",
    "bigger_size = 224\n",
    "\n",
    "size_for_resizing = int((bigger_size / smaller_size) * bigger_size)\n",
    "central_crop_layer = layers.CenterCrop(bigger_size, bigger_size)\n",
    "\n",
    "\n",
    "def preprocess_initial(train, image_size):\n",
    "    \"\"\"Initial preprocessing function for training on smaller resolution.\n",
    "\n",
    "    For training, do random_horizontal_flip -> random_crop.\n",
    "    For validation, just resize.\n",
    "    No color-jittering has been used.\n",
    "    \"\"\"\n",
    "\n",
    "    def _pp(image, label, train):\n",
    "        if train:\n",
    "            channels = image.shape[-1]\n",
    "            begin, size, _ = tf.image.sample_distorted_bounding_box(\n",
    "                tf.shape(image),\n",
    "                tf.zeros([0, 0, 4], tf.float32),\n",
    "                area_range=(0.05, 1.0),\n",
    "                min_object_covered=0,\n",
    "                use_image_if_no_bounding_boxes=True,\n",
    "            )\n",
    "            image = tf.slice(image, begin, size)\n",
    "\n",
    "            image.set_shape([None, None, channels])\n",
    "            image = tf.image.resize(image, [image_size, image_size])\n",
    "            image = tf.image.random_flip_left_right(image)\n",
    "        else:\n",
    "            image = tf.image.resize(image, [image_size, image_size])\n",
    "\n",
    "        return image, label\n",
    "\n",
    "    return _pp\n",
    "\n",
    "\n",
    "def preprocess_finetune(image, label, train):\n",
    "    \"\"\"Preprocessing function for fine-tuning on a higher resolution.\n",
    "\n",
    "    For training, resize to a bigger resolution to maintain the ratio ->\n",
    "        random_horizontal_flip -> center_crop.\n",
    "    For validation, do the same without any horizontal flipping.\n",
    "    No color-jittering has been used.\n",
    "    \"\"\"\n",
    "    image = tf.image.resize(image, [size_for_resizing, size_for_resizing])\n",
    "    if train:\n",
    "        image = tf.image.random_flip_left_right(image)\n",
    "    image = central_crop_layer(image[None, ...])[0]\n",
    "\n",
    "    return image, label\n",
    "\n",
    "\n",
    "def make_dataset(\n",
    "    dataset: tf.data.Dataset,\n",
    "    train: bool,\n",
    "    image_size: int = smaller_size,\n",
    "    fixres: bool = True,\n",
    "    num_parallel_calls=auto,\n",
    "):\n",
    "    if image_size not in [smaller_size, bigger_size]:\n",
    "        raise ValueError(f\"{image_size} resolution is not supported.\")\n",
    "\n",
    "    # Determine which preprocessing function we are using.\n",
    "    if image_size == smaller_size:\n",
    "        preprocess_func = preprocess_initial(train, image_size)\n",
    "    elif not fixres and image_size == bigger_size:\n",
    "        preprocess_func = preprocess_initial(train, image_size)\n",
    "    else:\n",
    "        preprocess_func = preprocess_finetune\n",
    "\n",
    "    if train:\n",
    "        dataset = dataset.shuffle(batch_size * 10)\n",
    "\n",
    "    return (\n",
    "        dataset.map(\n",
    "            lambda x, y: preprocess_func(x, y, train),\n",
    "            num_parallel_calls=num_parallel_calls,\n",
    "        )\n",
    "        .batch(batch_size)\n",
    "        .prefetch(num_parallel_calls)\n",
    "    )\n",
    ""
   ]
  },
  {
   "cell_type": "markdown",
   "metadata": {
    "colab_type": "text"
   },
   "source": [
    "Notice how the augmentation transforms vary for the kind of dataset we are preparing."
   ]
  },
  {
   "cell_type": "markdown",
   "metadata": {
    "colab_type": "text"
   },
   "source": [
    "## Prepare datasets"
   ]
  },
  {
   "cell_type": "code",
   "execution_count": 0,
   "metadata": {
    "colab_type": "code"
   },
   "outputs": [],
   "source": [
    "initial_train_dataset = make_dataset(train_dataset, train=True, image_size=smaller_size)\n",
    "initial_val_dataset = make_dataset(val_dataset, train=False, image_size=smaller_size)\n",
    "\n",
    "finetune_train_dataset = make_dataset(train_dataset, train=True, image_size=bigger_size)\n",
    "finetune_val_dataset = make_dataset(val_dataset, train=False, image_size=bigger_size)\n",
    "\n",
    "vanilla_train_dataset = make_dataset(\n",
    "    train_dataset, train=True, image_size=bigger_size, fixres=False\n",
    ")\n",
    "vanilla_val_dataset = make_dataset(\n",
    "    val_dataset, train=False, image_size=bigger_size, fixres=False\n",
    ")"
   ]
  },
  {
   "cell_type": "markdown",
   "metadata": {
    "colab_type": "text"
   },
   "source": [
    "## Visualize the datasets"
   ]
  },
  {
   "cell_type": "code",
   "execution_count": 0,
   "metadata": {
    "colab_type": "code"
   },
   "outputs": [],
   "source": [
    "\n",
    "def visualize_dataset(batch_images):\n",
    "    plt.figure(figsize=(10, 10))\n",
    "    for n in range(25):\n",
    "        ax = plt.subplot(5, 5, n + 1)\n",
    "        plt.imshow(batch_images[n].numpy().astype(\"int\"))\n",
    "        plt.axis(\"off\")\n",
    "    plt.show()\n",
    "\n",
    "    print(f\"Batch shape: {batch_images.shape}.\")\n",
    "\n",
    "\n",
    "# Smaller resolution.\n",
    "initial_sample_images, _ = next(iter(initial_train_dataset))\n",
    "visualize_dataset(initial_sample_images)\n",
    "\n",
    "# Bigger resolution, only for fine-tuning.\n",
    "finetune_sample_images, _ = next(iter(finetune_train_dataset))\n",
    "visualize_dataset(finetune_sample_images)\n",
    "\n",
    "# Bigger resolution, with the same augmentation transforms as\n",
    "# the smaller resolution dataset.\n",
    "vanilla_sample_images, _ = next(iter(vanilla_train_dataset))\n",
    "visualize_dataset(vanilla_sample_images)"
   ]
  },
  {
   "cell_type": "markdown",
   "metadata": {
    "colab_type": "text"
   },
   "source": [
    "## Model training utilities\n",
    "\n",
    "We train multiple variants of ResNet50V2\n",
    "([He et al.](https://arxiv.org/abs/1603.05027)):\n",
    "\n",
    "1. On the smaller resolution dataset (128x128). It will be trained from scratch.\n",
    "2. Then fine-tune the model from 1 on the larger resolution (224x224) dataset.\n",
    "3. Train another ResNet50V2 from scratch on the larger resolution dataset.\n",
    "\n",
    "As a reminder, the larger resolution datasets differ in terms of their augmentation\n",
    "transforms."
   ]
  },
  {
   "cell_type": "code",
   "execution_count": 0,
   "metadata": {
    "colab_type": "code"
   },
   "outputs": [],
   "source": [
    "\n",
    "def get_training_model(num_classes=5):\n",
    "    inputs = layers.Input((None, None, 3))\n",
    "    resnet_base = keras.applications.ResNet50V2(\n",
    "        include_top=False, weights=None, pooling=\"avg\"\n",
    "    )\n",
    "    resnet_base.trainable = True\n",
    "\n",
    "    x = layers.Rescaling(scale=1.0 / 127.5, offset=-1)(inputs)\n",
    "    x = resnet_base(x)\n",
    "    outputs = layers.Dense(num_classes, activation=\"softmax\")(x)\n",
    "    return keras.Model(inputs, outputs)\n",
    "\n",
    "\n",
    "def train_and_evaluate(\n",
    "    model, train_ds, val_ds, epochs, learning_rate=1e-3, use_early_stopping=False\n",
    "):\n",
    "    optimizer = keras.optimizers.Adam(learning_rate=learning_rate)\n",
    "    model.compile(\n",
    "        optimizer=optimizer,\n",
    "        loss=\"sparse_categorical_crossentropy\",\n",
    "        metrics=[\"accuracy\"],\n",
    "    )\n",
    "\n",
    "    if use_early_stopping:\n",
    "        es_callback = keras.callbacks.EarlyStopping(patience=5)\n",
    "        callbacks = [es_callback]\n",
    "    else:\n",
    "        callbacks = None\n",
    "\n",
    "    model.fit(\n",
    "        train_ds, validation_data=val_ds, epochs=epochs, callbacks=callbacks,\n",
    "    )\n",
    "\n",
    "    _, accuracy = model.evaluate(val_ds)\n",
    "    print(f\"Top-1 accuracy on the validation set: {accuracy*100:.2f}%.\")\n",
    "    return model\n",
    ""
   ]
  },
  {
   "cell_type": "markdown",
   "metadata": {
    "colab_type": "text"
   },
   "source": [
    "## Experiment 1: Train on 128x128 and then fine-tune on 224x224"
   ]
  },
  {
   "cell_type": "code",
   "execution_count": 0,
   "metadata": {
    "colab_type": "code"
   },
   "outputs": [],
   "source": [
    "epochs = 30\n",
    "\n",
    "smaller_res_model = get_training_model()\n",
    "smaller_res_model = train_and_evaluate(\n",
    "    smaller_res_model, initial_train_dataset, initial_val_dataset, epochs\n",
    ")"
   ]
  },
  {
   "cell_type": "markdown",
   "metadata": {
    "colab_type": "text"
   },
   "source": [
    "### Freeze all the layers except for the final Batch Normalization layer\n",
    "\n",
    "For fine-tuning, we train only two layers:\n",
    "\n",
    "* The final Batch Normalization ([Ioffe et al.](https://arxiv.org/abs/1502.03167)) layer.\n",
    "* The classification layer.\n",
    "\n",
    "We are unfreezing the final Batch Normalization layer to compensate for the change in\n",
    "activation statistics before the global average pooling layer. As shown in\n",
    "[the paper](https://arxiv.org/abs/1906.06423), unfreezing the final Batch\n",
    "Normalization layer is enough.\n",
    "\n",
    "For a comprehensive guide on fine-tuning models in Keras, refer to\n",
    "[this tutorial](https://keras.io/guides/transfer_learning/)."
   ]
  },
  {
   "cell_type": "code",
   "execution_count": 0,
   "metadata": {
    "colab_type": "code"
   },
   "outputs": [],
   "source": [
    "for layer in smaller_res_model.layers[2].layers:\n",
    "    layer.trainable = False\n",
    "\n",
    "smaller_res_model.layers[2].get_layer(\"post_bn\").trainable = True\n",
    "\n",
    "epochs = 10\n",
    "\n",
    "# Use a lower learning rate during fine-tuning.\n",
    "bigger_res_model = train_and_evaluate(\n",
    "    smaller_res_model,\n",
    "    finetune_train_dataset,\n",
    "    finetune_val_dataset,\n",
    "    epochs,\n",
    "    learning_rate=1e-4,\n",
    ")"
   ]
  },
  {
   "cell_type": "markdown",
   "metadata": {
    "colab_type": "text"
   },
   "source": [
    "## Experiment 2: Train a model on 224x224 resolution from scratch\n",
    "\n",
    "Now, we train another model from scratch on the larger resolution dataset. Recall that\n",
    "the augmentation transforms used in this dataset are different from before."
   ]
  },
  {
   "cell_type": "code",
   "execution_count": 0,
   "metadata": {
    "colab_type": "code"
   },
   "outputs": [],
   "source": [
    "epochs = 30\n",
    "\n",
    "vanilla_bigger_res_model = get_training_model()\n",
    "vanilla_bigger_res_model = train_and_evaluate(\n",
    "    vanilla_bigger_res_model, vanilla_train_dataset, vanilla_val_dataset, epochs\n",
    ")"
   ]
  },
  {
   "cell_type": "markdown",
   "metadata": {
    "colab_type": "text"
   },
   "source": [
    "As we can notice from the above cells, FixRes leads to a better performance. Another\n",
    "advantage of FixRes is the improved total training time and reduction in GPU memory usage.\n",
    "FixRes is model-agnostic, you can use it on any image classification model\n",
    "to potentially boost performance.\n",
    "\n",
    "You can find more results\n",
    "[here](https://tensorboard.dev/experiment/BQOg28w0TlmvuJYeqsVntw)\n",
    "that were gathered by running the same code with different random seeds."
   ]
  }
 ],
 "metadata": {
  "colab": {
   "collapsed_sections": [],
   "name": "fixres",
   "private_outputs": false,
   "provenance": [],
   "toc_visible": true
  },
  "kernelspec": {
   "display_name": "Python 3",
   "language": "python",
   "name": "python3"
  },
  "language_info": {
   "codemirror_mode": {
    "name": "ipython",
    "version": 3
   },
   "file_extension": ".py",
   "mimetype": "text/x-python",
   "name": "python",
   "nbconvert_exporter": "python",
   "pygments_lexer": "ipython3",
   "version": "3.7.0"
  }
 },
 "nbformat": 4,
 "nbformat_minor": 0
}