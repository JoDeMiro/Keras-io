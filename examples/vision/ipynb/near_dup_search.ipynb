{
 "cells": [
  {
   "cell_type": "markdown",
   "metadata": {
    "colab_type": "text"
   },
   "source": [
    "# Near-duplicate image search\n",
    "\n",
    "**Author:** [Sayak Paul](https://twitter.com/RisingSayak)<br>\n",
    "**Date created:** 2021/09/10<br>\n",
    "**Last modified:** 2021/09/10<br>\n",
    "**Description:** Building a near-duplicate image search utility using deep learning and locality-sensitive hashing."
   ]
  },
  {
   "cell_type": "markdown",
   "metadata": {
    "colab_type": "text"
   },
   "source": [
    "## Introduction\n",
    "\n",
    "Fetching similar images in (near) real time is an important use case of information\n",
    "retrieval systems. Some popular products utilizing it include Pinterest, Google Image\n",
    "Search, etc. In this example, we will build a similar image search utility using\n",
    "[Locality Sensitive Hashing](https://towardsdatascience.com/understanding-locality-sensitive-hashing-49f6d1f6134)\n",
    "(LSH) and [random projection](https://en.wikipedia.org/wiki/Random_projection) on top\n",
    "of the image representations computed by a pretrained image classifier.\n",
    "This kind of search engine is also known\n",
    "as a _near-duplicate (or near-dup) image detector_.\n",
    "We will also look into optimizing the inference performance of\n",
    "our search utility on GPU using [TensorRT](https://developer.nvidia.com/tensorrt).\n",
    "\n",
    "There are other examples under [keras.io/examples/vision](https://keras.io/examples/vision)\n",
    "that are worth checking out in this regard:\n",
    "\n",
    "* [Metric learning for image similarity search](https://keras.io/examples/vision/metric_learning)\n",
    "* [Image similarity estimation using a Siamese Network with a triplet loss](https://keras.io/examples/vision/siamese_network)\n",
    "\n",
    "Finally, this example uses the following resource as a reference and as such reuses some\n",
    "of its code:\n",
    "[Locality Sensitive Hashing for Similar Item Search](https://towardsdatascience.com/locality-sensitive-hashing-for-music-search-f2f1940ace23).\n",
    "\n",
    "_Note that in order to optimize the performance of our parser,\n",
    "you should have a GPU runtime available._"
   ]
  },
  {
   "cell_type": "markdown",
   "metadata": {
    "colab_type": "text"
   },
   "source": [
    "## Imports"
   ]
  },
  {
   "cell_type": "code",
   "execution_count": 0,
   "metadata": {
    "colab_type": "code"
   },
   "outputs": [],
   "source": [
    "import matplotlib.pyplot as plt\n",
    "import tensorflow as tf\n",
    "import numpy as np\n",
    "import time\n",
    "\n",
    "import tensorflow_datasets as tfds\n",
    "\n",
    "tfds.disable_progress_bar()"
   ]
  },
  {
   "cell_type": "markdown",
   "metadata": {
    "colab_type": "text"
   },
   "source": [
    "## Load the dataset and create a training set of 1,000 images\n",
    "\n",
    "To keep the run time of the example short, we will be using a subset of 1,000 images from\n",
    "the `tf_flowers` dataset (available through\n",
    "[TensorFlow Datasets](https://www.tensorflow.org/datasets/catalog/tf_flowers))\n",
    "to build our vocabulary."
   ]
  },
  {
   "cell_type": "code",
   "execution_count": 0,
   "metadata": {
    "colab_type": "code"
   },
   "outputs": [],
   "source": [
    "train_ds, validation_ds = tfds.load(\n",
    "    \"tf_flowers\", split=[\"train[:85%]\", \"train[85%:]\"], as_supervised=True\n",
    ")\n",
    "\n",
    "IMAGE_SIZE = 224\n",
    "NUM_IMAGES = 1000\n",
    "\n",
    "images = []\n",
    "labels = []\n",
    "\n",
    "for (image, label) in train_ds.take(NUM_IMAGES):\n",
    "    image = tf.image.resize(image, (IMAGE_SIZE, IMAGE_SIZE))\n",
    "    images.append(image.numpy())\n",
    "    labels.append(label.numpy())\n",
    "\n",
    "images = np.array(images)\n",
    "labels = np.array(labels)"
   ]
  },
  {
   "cell_type": "markdown",
   "metadata": {
    "colab_type": "text"
   },
   "source": [
    "## Load a pre-trained model"
   ]
  },
  {
   "cell_type": "markdown",
   "metadata": {
    "colab_type": "text"
   },
   "source": [
    "In this section, we load an image classification model that was trained on the\n",
    "`tf_flowers` dataset. 85% of the total images were used to build the training set. For\n",
    "more details on the training, refer to\n",
    "[this notebook](https://github.com/sayakpaul/near-dup-parser/blob/main/bit-supervised-training.ipynb).\n",
    "\n",
    "The underlying model is a BiT-ResNet (proposed in\n",
    "[Big Transfer (BiT): General Visual Representation Learning](https://arxiv.org/abs/1912.11370)).\n",
    "The BiT-ResNet family of models is known to provide excellent transfer performance across\n",
    "a wide variety of different downstream tasks."
   ]
  },
  {
   "cell_type": "code",
   "execution_count": 0,
   "metadata": {
    "colab_type": "code"
   },
   "outputs": [],
   "source": [
    "!wget -q https://git.io/JuMq0 -O flower_model_bit_0.96875.zip\n",
    "!unzip -qq flower_model_bit_0.96875.zip"
   ]
  },
  {
   "cell_type": "code",
   "execution_count": 0,
   "metadata": {
    "colab_type": "code"
   },
   "outputs": [],
   "source": [
    "bit_model = tf.keras.models.load_model(\"flower_model_bit_0.96875\")\n",
    "bit_model.count_params()"
   ]
  },
  {
   "cell_type": "markdown",
   "metadata": {
    "colab_type": "text"
   },
   "source": [
    "## Create an embedding model\n",
    "\n",
    "To retrieve similar images given a query image, we need to first generate vector\n",
    "representations of all the images involved. We do this via an\n",
    "embedding model that extracts output features from our pretrained classifier and\n",
    "normalizes the resulting feature vectors."
   ]
  },
  {
   "cell_type": "code",
   "execution_count": 0,
   "metadata": {
    "colab_type": "code"
   },
   "outputs": [],
   "source": [
    "embedding_model = tf.keras.Sequential(\n",
    "    [\n",
    "        tf.keras.layers.Input((IMAGE_SIZE, IMAGE_SIZE, 3)),\n",
    "        tf.keras.layers.Rescaling(scale=1.0 / 255),\n",
    "        bit_model.layers[1],\n",
    "        tf.keras.layers.Normalization(mean=0, variance=1),\n",
    "    ],\n",
    "    name=\"embedding_model\",\n",
    ")\n",
    "\n",
    "embedding_model.summary()"
   ]
  },
  {
   "cell_type": "markdown",
   "metadata": {
    "colab_type": "text"
   },
   "source": [
    "Take note of the normalization layer inside the model. It is used to project the\n",
    "representation vectors to the space of unit-spheres."
   ]
  },
  {
   "cell_type": "markdown",
   "metadata": {
    "colab_type": "text"
   },
   "source": [
    "## Hashing utilities"
   ]
  },
  {
   "cell_type": "code",
   "execution_count": 0,
   "metadata": {
    "colab_type": "code"
   },
   "outputs": [],
   "source": [
    "\n",
    "def hash_func(embedding, random_vectors):\n",
    "    embedding = np.array(embedding)\n",
    "\n",
    "    # Random projection.\n",
    "    bools = np.dot(embedding, random_vectors) > 0\n",
    "    return [bool2int(bool_vec) for bool_vec in bools]\n",
    "\n",
    "\n",
    "def bool2int(x):\n",
    "    y = 0\n",
    "    for i, j in enumerate(x):\n",
    "        if j:\n",
    "            y += 1 << i\n",
    "    return y\n",
    ""
   ]
  },
  {
   "cell_type": "markdown",
   "metadata": {
    "colab_type": "text"
   },
   "source": [
    "The shape of the vectors coming out of `embedding_model` is `(2048,)`, and considering practical\n",
    "aspects (storage, retrieval performance, etc.) it is quite large. So, there arises a need\n",
    "to reduce the dimensionality of the embedding vectors without reducing their information\n",
    "content. This is where *random projection* comes into the picture.\n",
    "It is based on the principle that if the\n",
    "distance between a group of points on a given plane is _approximately_ preserved, the\n",
    "dimensionality of that plane can further be reduced.\n",
    "\n",
    "Inside `hash_func()`, we first reduce the dimensionality of the embedding vectors. Then\n",
    "we compute the bitwise hash values of the images to determine their hash buckets. Images\n",
    "having same hash values are likely to go into the same hash bucket. From a deployment\n",
    "perspective, bitwise hash values are cheaper to store and operate on."
   ]
  },
  {
   "cell_type": "markdown",
   "metadata": {
    "colab_type": "text"
   },
   "source": [
    "## Query utilities\n",
    "\n",
    "The `Table` class is responsible for building a single hash table. Each entry in the hash\n",
    "table is a mapping between the reduced embedding of an image from our dataset and a\n",
    "unique identifier. Because our dimensionality reduction technique involves randomness, it\n",
    "can so happen that similar images are not mapped to the same hash bucket everytime the\n",
    "process run. To reduce this effect, we will take results from multiple tables into\n",
    "consideration -- the number of tables and the reduction dimensionality are the key\n",
    "hyperparameters here.\n",
    "\n",
    "Crucially, you wouldn't reimplement locality-sensitive hashing yourself when working with\n",
    "real world applications. Instead, you'd likely use one of the following popular libraries:\n",
    "\n",
    "* [ScaNN](https://github.com/google-research/google-research/tree/master/scann)\n",
    "* [Annoy](https://github.com/spotify/annoy)\n",
    "* [Vald](https://github.com/vdaas/vald)"
   ]
  },
  {
   "cell_type": "code",
   "execution_count": 0,
   "metadata": {
    "colab_type": "code"
   },
   "outputs": [],
   "source": [
    "\n",
    "class Table:\n",
    "    def __init__(self, hash_size, dim):\n",
    "        self.table = {}\n",
    "        self.hash_size = hash_size\n",
    "        self.random_vectors = np.random.randn(hash_size, dim).T\n",
    "\n",
    "    def add(self, id, vectors, label):\n",
    "        # Create a unique indentifier.\n",
    "        entry = {\"id_label\": str(id) + \"_\" + str(label)}\n",
    "\n",
    "        # Compute the hash values.\n",
    "        hashes = hash_func(vectors, self.random_vectors)\n",
    "\n",
    "        # Add the hash values to the current table.\n",
    "        for h in hashes:\n",
    "            if h in self.table:\n",
    "                self.table[h].append(entry)\n",
    "            else:\n",
    "                self.table[h] = [entry]\n",
    "\n",
    "    def query(self, vectors):\n",
    "        # Compute hash value for the query vector.\n",
    "        hashes = hash_func(vectors, self.random_vectors)\n",
    "        results = []\n",
    "\n",
    "        # Loop over the query hashes and determine if they exist in\n",
    "        # the current table.\n",
    "        for h in hashes:\n",
    "            if h in self.table:\n",
    "                results.extend(self.table[h])\n",
    "        return results\n",
    ""
   ]
  },
  {
   "cell_type": "markdown",
   "metadata": {
    "colab_type": "text"
   },
   "source": [
    "In the following `LSH` class we will pack the utilities to have multiple hash tables."
   ]
  },
  {
   "cell_type": "code",
   "execution_count": 0,
   "metadata": {
    "colab_type": "code"
   },
   "outputs": [],
   "source": [
    "\n",
    "class LSH:\n",
    "    def __init__(self, hash_size, dim, num_tables):\n",
    "        self.num_tables = num_tables\n",
    "        self.tables = []\n",
    "        for i in range(self.num_tables):\n",
    "            self.tables.append(Table(hash_size, dim))\n",
    "\n",
    "    def add(self, id, vectors, label):\n",
    "        for table in self.tables:\n",
    "            table.add(id, vectors, label)\n",
    "\n",
    "    def query(self, vectors):\n",
    "        results = []\n",
    "        for table in self.tables:\n",
    "            results.extend(table.query(vectors))\n",
    "        return results\n",
    ""
   ]
  },
  {
   "cell_type": "markdown",
   "metadata": {
    "colab_type": "text"
   },
   "source": [
    "Now we can encapsulate the logic for building and operating with the master LSH table (a\n",
    "collection of many tables) inside a class. It has two methods:\n",
    "\n",
    "* `train()`: Responsible for building the final LSH table.\n",
    "* `query()`: Computes the number of matches given a query image and also quantifies the\n",
    "similarity score."
   ]
  },
  {
   "cell_type": "code",
   "execution_count": 0,
   "metadata": {
    "colab_type": "code"
   },
   "outputs": [],
   "source": [
    "\n",
    "class BuildLSHTable:\n",
    "    def __init__(\n",
    "        self,\n",
    "        prediction_model,\n",
    "        concrete_function=False,\n",
    "        hash_size=8,\n",
    "        dim=2048,\n",
    "        num_tables=10,\n",
    "    ):\n",
    "        self.hash_size = hash_size\n",
    "        self.dim = dim\n",
    "        self.num_tables = num_tables\n",
    "        self.lsh = LSH(self.hash_size, self.dim, self.num_tables)\n",
    "\n",
    "        self.prediction_model = prediction_model\n",
    "        self.concrete_function = concrete_function\n",
    "\n",
    "    def train(self, training_files):\n",
    "        for id, training_file in enumerate(training_files):\n",
    "            # Unpack the data.\n",
    "            image, label = training_file\n",
    "            if len(image.shape) < 4:\n",
    "                image = image[None, ...]\n",
    "\n",
    "            # Compute embeddings and update the LSH tables.\n",
    "            # More on `self.concrete_function()` later.\n",
    "            if self.concrete_function:\n",
    "                features = self.prediction_model(tf.constant(image))[\n",
    "                    \"normalization\"\n",
    "                ].numpy()\n",
    "            else:\n",
    "                features = self.prediction_model.predict(image)\n",
    "            self.lsh.add(id, features, label)\n",
    "\n",
    "    def query(self, image, verbose=True):\n",
    "        # Compute the embeddings of the query image and fetch the results.\n",
    "        if len(image.shape) < 4:\n",
    "            image = image[None, ...]\n",
    "\n",
    "        if self.concrete_function:\n",
    "            features = self.prediction_model(tf.constant(image))[\n",
    "                \"normalization\"\n",
    "            ].numpy()\n",
    "        else:\n",
    "            features = self.prediction_model.predict(image)\n",
    "\n",
    "        results = self.lsh.query(features)\n",
    "        if verbose:\n",
    "            print(\"Matches:\", len(results))\n",
    "\n",
    "        # Calculate Jaccard index to quantify the similarity.\n",
    "        counts = {}\n",
    "        for r in results:\n",
    "            if r[\"id_label\"] in counts:\n",
    "                counts[r[\"id_label\"]] += 1\n",
    "            else:\n",
    "                counts[r[\"id_label\"]] = 1\n",
    "        for k in counts:\n",
    "            counts[k] = float(counts[k]) / self.dim\n",
    "        return counts\n",
    ""
   ]
  },
  {
   "cell_type": "markdown",
   "metadata": {
    "colab_type": "text"
   },
   "source": [
    "## Create LSH tables\n",
    "\n",
    "With our helper utilities and classes implemented, we can now build our LSH table. Since\n",
    "we will be benchmarking performance between optimized and unoptimized embedding models, we\n",
    "will also warm up our GPU to avoid any unfair comparison."
   ]
  },
  {
   "cell_type": "code",
   "execution_count": 0,
   "metadata": {
    "colab_type": "code"
   },
   "outputs": [],
   "source": [
    "# Utility to warm up the GPU.\n",
    "def warmup():\n",
    "    dummy_sample = tf.ones((1, IMAGE_SIZE, IMAGE_SIZE, 3))\n",
    "    for _ in range(100):\n",
    "        _ = embedding_model.predict(dummy_sample)\n",
    ""
   ]
  },
  {
   "cell_type": "markdown",
   "metadata": {
    "colab_type": "text"
   },
   "source": [
    "Now we can first do the GPU wam-up and proceed to build the master LSH table with\n",
    "`embedding_model`."
   ]
  },
  {
   "cell_type": "code",
   "execution_count": 0,
   "metadata": {
    "colab_type": "code"
   },
   "outputs": [],
   "source": [
    "warmup()\n",
    "\n",
    "training_files = zip(images, labels)\n",
    "lsh_builder = BuildLSHTable(embedding_model)\n",
    "lsh_builder.train(training_files)\n",
    ""
   ]
  },
  {
   "cell_type": "markdown",
   "metadata": {
    "colab_type": "text"
   },
   "source": [
    "At the time of writing, the wall time was 54.1 seconds on a Tesla T4 GPU. This timing may\n",
    "vary based on the GPU you are using."
   ]
  },
  {
   "cell_type": "markdown",
   "metadata": {
    "colab_type": "text"
   },
   "source": [
    "## Optimize the model with TensorRT\n",
    "\n",
    "For NVIDIA-based GPUs, the\n",
    "[TensorRT framework](https://docs.nvidia.com/deeplearning/frameworks/tf-trt-user-guide/index.html)\n",
    "can be used to dramatically enhance the inference latency by using various model\n",
    "optimization techniques like pruning, constant folding, layer fusion, and so on. Here we\n",
    "will use the\n",
    "[`tf.experimental.tensorrt`](https://www.tensorflow.org/api_docs/python/tf/experimental/tensorrt)\n",
    "module to optimize our embedding model."
   ]
  },
  {
   "cell_type": "code",
   "execution_count": 0,
   "metadata": {
    "colab_type": "code"
   },
   "outputs": [],
   "source": [
    "# First serialize the embedding model as a SavedModel.\n",
    "embedding_model.save(\"embedding_model\")\n",
    "\n",
    "# Initialize the conversion parameters.\n",
    "params = tf.experimental.tensorrt.ConversionParams(\n",
    "    precision_mode=\"FP16\", maximum_cached_engines=16\n",
    ")\n",
    "\n",
    "# Run the conversion.\n",
    "converter = tf.experimental.tensorrt.Converter(\n",
    "    input_saved_model_dir=\"embedding_model\", conversion_params=params\n",
    ")\n",
    "converter.convert()\n",
    "converter.save(\"tensorrt_embedding_model\")"
   ]
  },
  {
   "cell_type": "markdown",
   "metadata": {
    "colab_type": "text"
   },
   "source": [
    "**Notes on the parameters inside of `tf.experimental.tensorrt.ConversionParams()`**:\n",
    "\n",
    "* `precision_mode` defines the numerical precision of the operations in the\n",
    "to-be-converted model.\n",
    "* `maximum_cached_engines` specifies the maximum number of TRT engines that will be\n",
    "cached to handle dynamic operations (operations with unknown shapes).\n",
    "\n",
    "To learn more about the other options, refer to the\n",
    "[official documentation](https://www.tensorflow.org/api_docs/python/tf/experimental/tensorrt/ConversionParams).\n",
    "You can also explore the different quantization options provided by the\n",
    "`tf.experimental.tensorrt` module."
   ]
  },
  {
   "cell_type": "code",
   "execution_count": 0,
   "metadata": {
    "colab_type": "code"
   },
   "outputs": [],
   "source": [
    "# Load the converted model.\n",
    "root = tf.saved_model.load(\"tensorrt_embedding_model\")\n",
    "trt_model_function = root.signatures[\"serving_default\"]"
   ]
  },
  {
   "cell_type": "markdown",
   "metadata": {
    "colab_type": "text"
   },
   "source": [
    "## Build LSH tables with optimized model"
   ]
  },
  {
   "cell_type": "code",
   "execution_count": 0,
   "metadata": {
    "colab_type": "code"
   },
   "outputs": [],
   "source": [
    "warmup()\n",
    "\n",
    "training_files = zip(images, labels)\n",
    "lsh_builder_trt = BuildLSHTable(trt_model_function, concrete_function=True)\n",
    "lsh_builder_trt.train(training_files)"
   ]
  },
  {
   "cell_type": "markdown",
   "metadata": {
    "colab_type": "text"
   },
   "source": [
    "Notice the difference in the wall time which is **13.1 seconds**. Earlier, with the\n",
    "unoptimized model it was **54.1 seconds**.\n",
    "\n",
    "We can take a closer look into one of the hash tables and get an idea of how they are\n",
    "represented."
   ]
  },
  {
   "cell_type": "code",
   "execution_count": 0,
   "metadata": {
    "colab_type": "code"
   },
   "outputs": [],
   "source": [
    "idx = 0\n",
    "for hash, entry in lsh_builder_trt.lsh.tables[0].table.items():\n",
    "    if idx == 5:\n",
    "        break\n",
    "    if len(entry) < 5:\n",
    "        print(hash, entry)\n",
    "        idx += 1"
   ]
  },
  {
   "cell_type": "markdown",
   "metadata": {
    "colab_type": "text"
   },
   "source": [
    "## Visualize results on validation images\n",
    "\n",
    "In this section we will first writing a couple of utility functions to visualize the\n",
    "similar image parsing process. Then we will benchmark the query performance of the models\n",
    "with and without optimization."
   ]
  },
  {
   "cell_type": "markdown",
   "metadata": {
    "colab_type": "text"
   },
   "source": [
    "First, we take 100 images from the validation set for testing purposes."
   ]
  },
  {
   "cell_type": "code",
   "execution_count": 0,
   "metadata": {
    "colab_type": "code"
   },
   "outputs": [],
   "source": [
    "validation_images = []\n",
    "validation_labels = []\n",
    "\n",
    "for image, label in validation_ds.take(100):\n",
    "    image = tf.image.resize(image, (224, 224))\n",
    "    validation_images.append(image.numpy())\n",
    "    validation_labels.append(label.numpy())\n",
    "\n",
    "validation_images = np.array(validation_images)\n",
    "validation_labels = np.array(validation_labels)\n",
    "validation_images.shape, validation_labels.shape\n",
    ""
   ]
  },
  {
   "cell_type": "markdown",
   "metadata": {
    "colab_type": "text"
   },
   "source": [
    "Now we write our visualization utilities."
   ]
  },
  {
   "cell_type": "code",
   "execution_count": 0,
   "metadata": {
    "colab_type": "code"
   },
   "outputs": [],
   "source": [
    "\n",
    "def plot_images(images, labels):\n",
    "    plt.figure(figsize=(20, 10))\n",
    "    columns = 5\n",
    "    for (i, image) in enumerate(images):\n",
    "        ax = plt.subplot(len(images) / columns + 1, columns, i + 1)\n",
    "        if i == 0:\n",
    "            ax.set_title(\"Query Image\\n\" + \"Label: {}\".format(labels[i]))\n",
    "        else:\n",
    "            ax.set_title(\"Similar Image # \" + str(i) + \"\\nLabel: {}\".format(labels[i]))\n",
    "        plt.imshow(image.astype(\"int\"))\n",
    "        plt.axis(\"off\")\n",
    "\n",
    "\n",
    "def visualize_lsh(lsh_class):\n",
    "    idx = np.random.choice(len(validation_images))\n",
    "    image = validation_images[idx]\n",
    "    label = validation_labels[idx]\n",
    "    results = lsh_class.query(image)\n",
    "\n",
    "    candidates = []\n",
    "    labels = []\n",
    "    overlaps = []\n",
    "\n",
    "    for idx, r in enumerate(sorted(results, key=results.get, reverse=True)):\n",
    "        if idx == 4:\n",
    "            break\n",
    "        image_id, label = r.split(\"_\")[0], r.split(\"_\")[1]\n",
    "        candidates.append(images[int(image_id)])\n",
    "        labels.append(label)\n",
    "        overlaps.append(results[r])\n",
    "\n",
    "    candidates.insert(0, image)\n",
    "    labels.insert(0, label)\n",
    "\n",
    "    plot_images(candidates, labels)\n",
    ""
   ]
  },
  {
   "cell_type": "markdown",
   "metadata": {
    "colab_type": "text"
   },
   "source": [
    "### Non-TRT model"
   ]
  },
  {
   "cell_type": "code",
   "execution_count": 0,
   "metadata": {
    "colab_type": "code"
   },
   "outputs": [],
   "source": [
    "for _ in range(5):\n",
    "    visualize_lsh(lsh_builder)\n",
    "\n",
    "visualize_lsh(lsh_builder)"
   ]
  },
  {
   "cell_type": "markdown",
   "metadata": {
    "colab_type": "text"
   },
   "source": [
    "### TRT model"
   ]
  },
  {
   "cell_type": "code",
   "execution_count": 0,
   "metadata": {
    "colab_type": "code"
   },
   "outputs": [],
   "source": [
    "for _ in range(5):\n",
    "    visualize_lsh(lsh_builder_trt)"
   ]
  },
  {
   "cell_type": "markdown",
   "metadata": {
    "colab_type": "text"
   },
   "source": [
    "As you may have noticed, there are a couple of incorrect results. This can be mitigated in\n",
    "a few ways:\n",
    "\n",
    "* Better models for generating the initial embeddings especially for noisy samples. We can\n",
    "use techniques like [ArcFace](https://arxiv.org/abs/1801.07698),\n",
    "[Supervised Contrastive Learning](https://arxiv.org/abs/2004.11362), etc.\n",
    "that implicitly encourage better learning of representations for retrieval purposes.\n",
    "* The trade-off between the number of tables and the reduction dimensionality is crucial\n",
    "and helps set the right recall required for your application."
   ]
  },
  {
   "cell_type": "markdown",
   "metadata": {
    "colab_type": "text"
   },
   "source": [
    "## Benchmarking query performance"
   ]
  },
  {
   "cell_type": "code",
   "execution_count": 0,
   "metadata": {
    "colab_type": "code"
   },
   "outputs": [],
   "source": [
    "\n",
    "def benchmark(lsh_class):\n",
    "    warmup()\n",
    "\n",
    "    start_time = time.time()\n",
    "    for _ in range(1000):\n",
    "        image = np.ones((1, 224, 224, 3)).astype(\"float32\")\n",
    "        _ = lsh_class.query(image, verbose=False)\n",
    "    end_time = time.time() - start_time\n",
    "    print(f\"Time taken: {end_time:.3f}\")\n",
    "\n",
    "\n",
    "benchmark(lsh_builder)\n",
    "\n",
    "benchmark(lsh_builder_trt)"
   ]
  },
  {
   "cell_type": "markdown",
   "metadata": {
    "colab_type": "text"
   },
   "source": [
    "We can immediately notice a stark difference between the query performance of the two\n",
    "models."
   ]
  },
  {
   "cell_type": "markdown",
   "metadata": {
    "colab_type": "text"
   },
   "source": [
    "## Final remarks\n",
    "\n",
    "In this example, we explored the TensorRT framework from NVIDIA for optimizing our model.\n",
    "It's best suited for GPU-based inference servers. There are other choices for such\n",
    "frameworks that cater to different hardware platforms:\n",
    "\n",
    "* [TensorFlow Lite](https://www.tensorflow.org/lite) for mobile and edge devices.\n",
    "* [ONNX](hhttps://onnx.ai/) for commodity CPU-based servers.\n",
    "* [Apache TVM](https://tvm.apache.org/), compiler for machine learning models covering\n",
    "various platforms.\n",
    "\n",
    "Here are a few resources you might want to check out to learn more\n",
    "about applications based on vector similary search in general:\n",
    "\n",
    "* [ANN Benchmarks](http://ann-benchmarks.com/)\n",
    "* [Accelerating Large-Scale Inference with Anisotropic Vector Quantization(ScaNN)](https://arxiv.org/abs/1908.10396)\n",
    "* [Spreading vectors for similarity search](https://arxiv.org/abs/1806.03198)\n",
    "* [Building a real-time embeddings similarity matching system](https://cloud.google.com/architecture/building-real-time-embeddings-similarity-matching-system)"
   ]
  }
 ],
 "metadata": {
  "colab": {
   "collapsed_sections": [],
   "name": "near_dup_search",
   "private_outputs": false,
   "provenance": [],
   "toc_visible": true
  },
  "kernelspec": {
   "display_name": "Python 3",
   "language": "python",
   "name": "python3"
  },
  "language_info": {
   "codemirror_mode": {
    "name": "ipython",
    "version": 3
   },
   "file_extension": ".py",
   "mimetype": "text/x-python",
   "name": "python",
   "nbconvert_exporter": "python",
   "pygments_lexer": "ipython3",
   "version": "3.7.0"
  }
 },
 "nbformat": 4,
 "nbformat_minor": 0
}