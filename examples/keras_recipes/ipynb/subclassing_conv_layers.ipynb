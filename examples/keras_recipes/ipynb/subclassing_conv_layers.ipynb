{
 "cells": [
  {
   "cell_type": "markdown",
   "metadata": {
    "colab_type": "text"
   },
   "source": [
    "# Customizing the convolution operation of a Conv2D layer\n",
    "\n",
    "**Author:** [lukewood](https://lukewood.xyz)<br>\n",
    "**Date created:** 11/03/2021<br>\n",
    "**Last modified:** 11/03/2021<br>\n",
    "**Description:** This example shows how to implement custom convolution layers using the `Conv.convolution_op()` API."
   ]
  },
  {
   "cell_type": "markdown",
   "metadata": {
    "colab_type": "text"
   },
   "source": [
    "## Introduction\n",
    "\n",
    "You may sometimes need to implement custom versions of convolution layers like `Conv1D` and `Conv2D`.\n",
    "Keras enables you do this without implementing the entire layer from scratch: you can reuse\n",
    "most of the base convolution layer and just customize the convolution op itself via the\n",
    "`convolution_op()` method.\n",
    "\n",
    "This method was introduced in Keras 2.7. So before using the\n",
    "`convolution_op()` API, ensure that you are running Keras version 2.7.0 or greater."
   ]
  },
  {
   "cell_type": "code",
   "execution_count": 0,
   "metadata": {
    "colab_type": "code"
   },
   "outputs": [],
   "source": [
    "import tensorflow.keras as keras\n",
    "\n",
    "print(keras.__version__)"
   ]
  },
  {
   "cell_type": "markdown",
   "metadata": {
    "colab_type": "text"
   },
   "source": [
    "## A Simple `StandardizedConv2D` implementation\n",
    "\n",
    "There are two ways to use the `Conv.convolution_op()` API. The first way\n",
    "is to override the `convolution_op()` method on a convolution layer subclass.\n",
    "Using this approach, we can quickly implement a\n",
    "[StandardizedConv2D](https://arxiv.org/abs/1903.10520) as shown below."
   ]
  },
  {
   "cell_type": "code",
   "execution_count": 0,
   "metadata": {
    "colab_type": "code"
   },
   "outputs": [],
   "source": [
    "import tensorflow as tf\n",
    "import tensorflow.keras as keras\n",
    "import keras.layers as layers\n",
    "import numpy as np\n",
    "\n",
    "\n",
    "class StandardizedConv2DWithOverride(layers.Conv2D):\n",
    "    def convolution_op(self, inputs, kernel):\n",
    "        mean, var = tf.nn.moments(kernel, axes=[0, 1, 2], keepdims=True)\n",
    "        return tf.nn.conv2d(\n",
    "            inputs,\n",
    "            (kernel - mean) / tf.sqrt(var + 1e-10),\n",
    "            padding=\"VALID\",\n",
    "            strides=list(self.strides),\n",
    "            name=self.__class__.__name__,\n",
    "        )\n",
    ""
   ]
  },
  {
   "cell_type": "markdown",
   "metadata": {
    "colab_type": "text"
   },
   "source": [
    "The other way to use the `Conv.convolution_op()` API is to directly call the\n",
    "`convolution_op()` method from the `call()` method of a convolution layer subclass.\n",
    "A comparable class implemented using this approach is shown below."
   ]
  },
  {
   "cell_type": "code",
   "execution_count": 0,
   "metadata": {
    "colab_type": "code"
   },
   "outputs": [],
   "source": [
    "\n",
    "class StandardizedConv2DWithCall(layers.Conv2D):\n",
    "    def call(self, inputs):\n",
    "        mean, var = tf.nn.moments(self.kernel, axes=[0, 1, 2], keepdims=True)\n",
    "        result = self.convolution_op(\n",
    "            inputs, (self.kernel - mean) / tf.sqrt(var + 1e-10)\n",
    "        )\n",
    "        if self.use_bias:\n",
    "            result = result + self.bias\n",
    "        return result\n",
    ""
   ]
  },
  {
   "cell_type": "markdown",
   "metadata": {
    "colab_type": "text"
   },
   "source": [
    "## Example Usage\n",
    "\n",
    "Both of these layers work as drop-in replacements for `Conv2D`. The following\n",
    "demonstration performs classification on the MNIST dataset."
   ]
  },
  {
   "cell_type": "code",
   "execution_count": 0,
   "metadata": {
    "colab_type": "code"
   },
   "outputs": [],
   "source": [
    "# Model / data parameters\n",
    "num_classes = 10\n",
    "input_shape = (28, 28, 1)\n",
    "\n",
    "# the data, split between train and test sets\n",
    "(x_train, y_train), (x_test, y_test) = keras.datasets.mnist.load_data()\n",
    "\n",
    "# Scale images to the [0, 1] range\n",
    "x_train = x_train.astype(\"float32\") / 255\n",
    "x_test = x_test.astype(\"float32\") / 255\n",
    "# Make sure images have shape (28, 28, 1)\n",
    "x_train = np.expand_dims(x_train, -1)\n",
    "x_test = np.expand_dims(x_test, -1)\n",
    "print(\"x_train shape:\", x_train.shape)\n",
    "print(x_train.shape[0], \"train samples\")\n",
    "print(x_test.shape[0], \"test samples\")\n",
    "\n",
    "# convert class vectors to binary class matrices\n",
    "y_train = keras.utils.to_categorical(y_train, num_classes)\n",
    "y_test = keras.utils.to_categorical(y_test, num_classes)\n",
    "\n",
    "model = keras.Sequential(\n",
    "    [\n",
    "        keras.layers.InputLayer(input_shape=input_shape),\n",
    "        StandardizedConv2DWithCall(32, kernel_size=(3, 3), activation=\"relu\"),\n",
    "        layers.MaxPooling2D(pool_size=(2, 2)),\n",
    "        StandardizedConv2DWithOverride(64, kernel_size=(3, 3), activation=\"relu\"),\n",
    "        layers.MaxPooling2D(pool_size=(2, 2)),\n",
    "        layers.Flatten(),\n",
    "        layers.Dropout(0.5),\n",
    "        layers.Dense(num_classes, activation=\"softmax\"),\n",
    "    ]\n",
    ")\n",
    "\n",
    "model.summary()"
   ]
  },
  {
   "cell_type": "code",
   "execution_count": 0,
   "metadata": {
    "colab_type": "code"
   },
   "outputs": [],
   "source": [
    "batch_size = 128\n",
    "epochs = 5\n",
    "\n",
    "model.compile(loss=\"categorical_crossentropy\", optimizer=\"adam\", metrics=[\"accuracy\"])\n",
    "\n",
    "model.fit(x_train, y_train, batch_size=batch_size, epochs=5, validation_split=0.1)"
   ]
  },
  {
   "cell_type": "markdown",
   "metadata": {
    "colab_type": "text"
   },
   "source": [
    "## Conclusion\n",
    "\n",
    "The `Conv.convolution_op()` API provides an easy and readable way to implement custom\n",
    "convolution layers. A `StandardizedConvolution` implementation using the API is quite\n",
    "terse, consisting of only four lines of code."
   ]
  }
 ],
 "metadata": {
  "colab": {
   "collapsed_sections": [],
   "name": "subclassing_conv_layers",
   "private_outputs": false,
   "provenance": [],
   "toc_visible": true
  },
  "kernelspec": {
   "display_name": "Python 3",
   "language": "python",
   "name": "python3"
  },
  "language_info": {
   "codemirror_mode": {
    "name": "ipython",
    "version": 3
   },
   "file_extension": ".py",
   "mimetype": "text/x-python",
   "name": "python",
   "nbconvert_exporter": "python",
   "pygments_lexer": "ipython3",
   "version": "3.7.0"
  }
 },
 "nbformat": 4,
 "nbformat_minor": 0
}