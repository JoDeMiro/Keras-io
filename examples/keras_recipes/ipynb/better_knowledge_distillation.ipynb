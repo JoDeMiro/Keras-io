{
 "cells": [
  {
   "cell_type": "markdown",
   "metadata": {
    "colab_type": "text"
   },
   "source": [
    "# Knowledge distillation recipes\n",
    "\n",
    "**Author:** [Sayak Paul](https://twitter.com/RisingSayak)<br>\n",
    "**Date created:** 2021/08/01<br>\n",
    "**Last modified:** 2021/08/01<br>\n",
    "**Description:** Training better student models via knowledge distillation with function matching."
   ]
  },
  {
   "cell_type": "markdown",
   "metadata": {
    "colab_type": "text"
   },
   "source": [
    "## Introduction\n",
    "\n",
    "Knowledge distillation ([Hinton et al.](https://arxiv.org/abs/1503.02531)) is a technique\n",
    "that enables us to compress larger models into smaller ones. This allows us to reap the\n",
    "benefits of high performing larger models, while reducing storage and memory costs and\n",
    "achieving higher inference speed:\n",
    "\n",
    "* Smaller models -> smaller memory footprint\n",
    "* Reduced complexity -> fewer floating-point operations (FLOPs)\n",
    "\n",
    "In [Knowledge distillation: A good teacher is patient and consistent](https://arxiv.org/abs/2106.05237),\n",
    "Beyer et al. investigate various existing setups for performing knowledge distillation\n",
    "and show that all of them lead to sub-optimal performance. Due to this,\n",
    "practitioners often settle for other alternatives (quantization, pruning, weight\n",
    "clustering, etc.) when developing production systems that are resource-constrained.\n",
    "\n",
    "Beyer et al. investigate how we can improve the student models that come out\n",
    "of the knowledge distillation process and always match the performance of\n",
    "their teacher models. In this example, we will study the recipes introduced by them, using\n",
    "the [Flowers102 dataset](https://www.robots.ox.ac.uk/~vgg/data/flowers/102/). As a\n",
    "reference, with these recipes, the authors were able to produce a ResNet50 model that\n",
    "achieves 82.8% accuracy on the ImageNet-1k dataset.\n",
    "\n",
    "In case you need a refresher on knowledge distillation and want to study how it is\n",
    "implemented in Keras, you can refer to\n",
    "[this example](https://keras.io/examples/vision/knowledge_distillation/).\n",
    "You can also follow\n",
    "[this example](https://keras.io/examples/vision/consistency_training/)\n",
    "that shows an extension of knowledge distillation applied to consistency training.\n",
    "\n",
    "To follow this example, you will need TensorFlow 2.5 or higher as well as TensorFlow Addons,\n",
    "which can be installed using the command below:"
   ]
  },
  {
   "cell_type": "code",
   "execution_count": 0,
   "metadata": {
    "colab_type": "code"
   },
   "outputs": [],
   "source": [
    "!!pip install -q tensorflow-addons"
   ]
  },
  {
   "cell_type": "markdown",
   "metadata": {
    "colab_type": "text"
   },
   "source": [
    "## Imports"
   ]
  },
  {
   "cell_type": "code",
   "execution_count": 0,
   "metadata": {
    "colab_type": "code"
   },
   "outputs": [],
   "source": [
    "from tensorflow import keras\n",
    "import tensorflow_addons as tfa\n",
    "import tensorflow as tf\n",
    "\n",
    "import matplotlib.pyplot as plt\n",
    "import numpy as np\n",
    "\n",
    "import tensorflow_datasets as tfds\n",
    "\n",
    "tfds.disable_progress_bar()"
   ]
  },
  {
   "cell_type": "markdown",
   "metadata": {
    "colab_type": "text"
   },
   "source": [
    "## Hyperparameters and contants"
   ]
  },
  {
   "cell_type": "code",
   "execution_count": 0,
   "metadata": {
    "colab_type": "code"
   },
   "outputs": [],
   "source": [
    "AUTO = tf.data.AUTOTUNE  # Used to dynamically adjust parallelism.\n",
    "BATCH_SIZE = 64\n",
    "\n",
    "# Comes from Table 4 and \"Training setup\" section.\n",
    "TEMPERATURE = 10  # Used to soften the logits before they go to softmax.\n",
    "INIT_LR = 0.003  # Initial learning rate that will be decayed over the training period.\n",
    "WEIGHT_DECAY = 0.001  # Used for regularization.\n",
    "CLIP_THRESHOLD = 1.0  # Used for clipping the gradients by L2-norm.\n",
    "\n",
    "# We will first resize the training images to a bigger size and then we will take\n",
    "# random crops of a lower size.\n",
    "BIGGER = 160\n",
    "RESIZE = 128"
   ]
  },
  {
   "cell_type": "markdown",
   "metadata": {
    "colab_type": "text"
   },
   "source": [
    "## Load the Flowers102 dataset"
   ]
  },
  {
   "cell_type": "code",
   "execution_count": 0,
   "metadata": {
    "colab_type": "code"
   },
   "outputs": [],
   "source": [
    "train_ds, validation_ds, test_ds = tfds.load(\n",
    "    \"oxford_flowers102\", split=[\"train\", \"validation\", \"test\"], as_supervised=True\n",
    ")\n",
    "print(f\"Number of training examples: {train_ds.cardinality()}.\")\n",
    "print(\n",
    "    f\"Number of validation examples: {validation_ds.cardinality()}.\"\n",
    ")\n",
    "print(f\"Number of test examples: {test_ds.cardinality()}.\")"
   ]
  },
  {
   "cell_type": "markdown",
   "metadata": {
    "colab_type": "text"
   },
   "source": [
    "## Teacher model\n",
    "\n",
    "As is common with any distillation technique, it's important to first train a\n",
    "well-performing teacher model which is usually larger than the subsequent student model.\n",
    "The authors distill a BiT ResNet152x2 model (teacher) into a BiT ResNet50 model\n",
    "(student).\n",
    "\n",
    "BiT stands for Big Transfer and was introduced in\n",
    "[Big Transfer (BiT): General Visual Representation Learning](https://arxiv.org/abs/1912.11370).\n",
    "BiT variants of ResNets use Group Normalization ([Wu et al.](https://arxiv.org/abs/1803.08494))\n",
    "and Weight Standardization ([Qiao et al.](https://arxiv.org/abs/1903.10520v2))\n",
    "in place of Batch Normalization ([Ioffe et al.](https://arxiv.org/abs/1502.03167)).\n",
    "In order to limit the time it takes to run this example, we will be using a BiT\n",
    "ResNet101x3 already trained on the Flowers102 dataset. You can refer to\n",
    "[this notebook](https://github.com/sayakpaul/FunMatch-Distillation/blob/main/train_bit.ipynb)\n",
    "to learn more about the training process. This model reaches 98.18% accuracy on the\n",
    "test set of Flowers102.\n",
    "\n",
    "The model weights are hosted on Kaggle as a dataset.\n",
    "To download the weights, follow these steps:\n",
    "\n",
    "1. Create an account on Kaggle [here](https://www.kaggle.com).\n",
    "2. Go to the \"Account\" tab of your [user profile](https://www.kaggle.com/account).\n",
    "3. Select \"Create API Token\". This will trigger the download of `kaggle.json`, a file\n",
    "containing your API credentials.\n",
    "4. From that JSON file, copy your Kaggle username and API key.\n",
    "\n",
    "Now run the following:\n",
    "\n",
    "```python\n",
    "import os\n",
    "\n",
    "os.environ[\"KAGGLE_USERNAME\"] = \"\" # TODO: enter your Kaggle user name here\n",
    "os.environ[\"KAGGLE_KEY\"] = \"\" # TODO: enter your Kaggle key here\n",
    "```\n",
    "\n",
    "Once the environment variables are set, run:\n",
    "\n",
    "```shell\n",
    "$ kaggle datasets download -d spsayakpaul/bitresnet101x3flowers102\n",
    "$ unzip -qq bitresnet101x3flowers102.zip\n",
    "```\n",
    "\n",
    "This should generate a folder named `T-r101x3-128` which is essentially a teacher\n",
    "[`SavedModel`](https://www.tensorflow.org/guide/saved_model)."
   ]
  },
  {
   "cell_type": "code",
   "execution_count": 0,
   "metadata": {
    "colab_type": "code"
   },
   "outputs": [],
   "source": [
    "import os\n",
    "\n",
    "os.environ[\"KAGGLE_USERNAME\"] = \"\"  # TODO: enter your Kaggle user name here\n",
    "os.environ[\"KAGGLE_KEY\"] = \"\"  # TODO: enter your Kaggle API key here"
   ]
  },
  {
   "cell_type": "code",
   "execution_count": 0,
   "metadata": {
    "colab_type": "code"
   },
   "outputs": [],
   "source": [
    "!!kaggle datasets download -d spsayakpaul/bitresnet101x3flowers102"
   ]
  },
  {
   "cell_type": "code",
   "execution_count": 0,
   "metadata": {
    "colab_type": "code"
   },
   "outputs": [],
   "source": [
    "!!unzip -qq bitresnet101x3flowers102.zip"
   ]
  },
  {
   "cell_type": "code",
   "execution_count": 0,
   "metadata": {
    "colab_type": "code"
   },
   "outputs": [],
   "source": [
    "# Since the teacher model is not going to be trained further we make\n",
    "# it non-trainable.\n",
    "teacher_model = keras.models.load_model(\n",
    "    \"/home/jupyter/keras-io/examples/keras_recipes/T-r101x3-128\"\n",
    ")\n",
    "teacher_model.trainable = False\n",
    "teacher_model.summary()"
   ]
  },
  {
   "cell_type": "markdown",
   "metadata": {
    "colab_type": "text"
   },
   "source": [
    "## The \"function matching\" recipe\n",
    "\n",
    "To train a high-quality student model, the authors propose the following changes to the\n",
    "student training workflow:\n",
    "\n",
    "* Use an aggressive variant of MixUp ([Zhang et al.](https://arxiv.org/abs/1710.09412)).\n",
    "This is done by sampling the `alpha` parameter from a uniform distribution instead of a\n",
    "beta distribution. MixUp is used here in order to help the student model capture the\n",
    "function underlying the teacher model. MixUp linearly interpolates between different\n",
    "samples across the data manifold. So the rationale here is if the student is trained to\n",
    "fit that it should be able to match the teacher model better. To incorporate more\n",
    "invariance MixUp is coupled with \"Inception-style\" cropping\n",
    "([Szegedy et al.](https://arxiv.org/abs/1409.4842)). This is where the\n",
    "\"function matching\" term makes its way in the\n",
    "[original paper](https://arxiv.org/abs/2106.05237).\n",
    "* Unlike other works ([Noisy Student Training](https://arxiv.org/abs/1911.04252) for\n",
    "example), both the teacher and student models receive the same copy of an image, which is\n",
    "mixed up and randomly cropped. By providing the same inputs to both the models, the\n",
    "authors make the teacher consistent with the student.\n",
    "* With MixUp, we are essentially introducing a strong form of regularization when\n",
    "training the student. As such, it should be trained for a\n",
    "relatively long period of time (1000 epochs at least). Since the student is trained with\n",
    "strong regularization, the risk of overfitting due to a longer training\n",
    "schedule are also mitigated.\n",
    "\n",
    "In summary, one needs to be consistent and patient while training the student model."
   ]
  },
  {
   "cell_type": "markdown",
   "metadata": {
    "colab_type": "text"
   },
   "source": [
    "## Data input pipeline"
   ]
  },
  {
   "cell_type": "code",
   "execution_count": 0,
   "metadata": {
    "colab_type": "code"
   },
   "outputs": [],
   "source": [
    "\n",
    "def mixup(images, labels):\n",
    "    alpha = tf.random.uniform([], 0, 1)\n",
    "    mixedup_images = alpha * images + (1 - alpha) * tf.reverse(images, axis=[0])\n",
    "    # The labels do not matter here since they are NOT used during\n",
    "    # training.\n",
    "    return mixedup_images, labels\n",
    "\n",
    "\n",
    "def preprocess_image(image, label, train=True):\n",
    "    image = tf.cast(image, tf.float32) / 255.0\n",
    "\n",
    "    if train:\n",
    "        image = tf.image.resize(image, (BIGGER, BIGGER))\n",
    "        image = tf.image.random_crop(image, (RESIZE, RESIZE, 3))\n",
    "        image = tf.image.random_flip_left_right(image)\n",
    "    else:\n",
    "        # Central fraction amount is from here:\n",
    "        # https://git.io/J8Kda.\n",
    "        image = tf.image.central_crop(image, central_fraction=0.875)\n",
    "        image = tf.image.resize(image, (RESIZE, RESIZE))\n",
    "\n",
    "    return image, label\n",
    "\n",
    "\n",
    "def prepare_dataset(dataset, train=True, batch_size=BATCH_SIZE):\n",
    "    if train:\n",
    "        dataset = dataset.map(preprocess_image, num_parallel_calls=AUTO)\n",
    "        dataset = dataset.shuffle(BATCH_SIZE * 10)\n",
    "    else:\n",
    "        dataset = dataset.map(\n",
    "            lambda x, y: (preprocess_image(x, y, train)), num_parallel_calls=AUTO\n",
    "        )\n",
    "    dataset = dataset.batch(batch_size)\n",
    "\n",
    "    if train:\n",
    "        dataset = dataset.map(mixup, num_parallel_calls=AUTO)\n",
    "\n",
    "    dataset = dataset.prefetch(AUTO)\n",
    "    return dataset\n",
    ""
   ]
  },
  {
   "cell_type": "markdown",
   "metadata": {
    "colab_type": "text"
   },
   "source": [
    "Note that for brevity, we used mild crops for the training set but in practice\n",
    "\"Inception-style\" preprocessing should be applied. You can refer to\n",
    "[this script](https://github.com/sayakpaul/FunMatch-Distillation/blob/main/crop_resize.py)\n",
    "for a closer implementation. Also, _**the ground-truth labels are not used for\n",
    "training the student.**_"
   ]
  },
  {
   "cell_type": "code",
   "execution_count": 0,
   "metadata": {
    "colab_type": "code"
   },
   "outputs": [],
   "source": [
    "train_ds = prepare_dataset(train_ds, True)\n",
    "validation_ds = prepare_dataset(validation_ds, False)\n",
    "test_ds = prepare_dataset(test_ds, False)"
   ]
  },
  {
   "cell_type": "markdown",
   "metadata": {
    "colab_type": "text"
   },
   "source": [
    "## Visualization"
   ]
  },
  {
   "cell_type": "code",
   "execution_count": 0,
   "metadata": {
    "colab_type": "code"
   },
   "outputs": [],
   "source": [
    "sample_images, _ = next(iter(train_ds))\n",
    "plt.figure(figsize=(10, 10))\n",
    "for n in range(25):\n",
    "    ax = plt.subplot(5, 5, n + 1)\n",
    "    plt.imshow(sample_images[n].numpy())\n",
    "    plt.axis(\"off\")\n",
    "plt.show()"
   ]
  },
  {
   "cell_type": "markdown",
   "metadata": {
    "colab_type": "text"
   },
   "source": [
    "## Student model\n",
    "\n",
    "For the purpose of this example, we will use the standard ResNet50V2\n",
    "([He et al.](https://arxiv.org/abs/1603.05027))."
   ]
  },
  {
   "cell_type": "code",
   "execution_count": 0,
   "metadata": {
    "colab_type": "code"
   },
   "outputs": [],
   "source": [
    "\n",
    "def get_resnetv2():\n",
    "    resnet_v2 = keras.applications.ResNet50V2(\n",
    "        weights=None,\n",
    "        input_shape=(RESIZE, RESIZE, 3),\n",
    "        classes=102,\n",
    "        classifier_activation=\"linear\",\n",
    "    )\n",
    "    return resnet_v2\n",
    "\n",
    "\n",
    "get_resnetv2().count_params()"
   ]
  },
  {
   "cell_type": "markdown",
   "metadata": {
    "colab_type": "text"
   },
   "source": [
    "Compared to the teacher model, this model has 358 Million fewer parameters."
   ]
  },
  {
   "cell_type": "markdown",
   "metadata": {
    "colab_type": "text"
   },
   "source": [
    "## Distillation utility\n",
    "\n",
    "We will reuse some code from\n",
    "[this example](https://keras.io/examples/vision/knowledge_distillation/)\n",
    "on knowledge distillation."
   ]
  },
  {
   "cell_type": "code",
   "execution_count": 0,
   "metadata": {
    "colab_type": "code"
   },
   "outputs": [],
   "source": [
    "\n",
    "class Distiller(tf.keras.Model):\n",
    "    def __init__(self, student, teacher):\n",
    "        super(Distiller, self).__init__()\n",
    "        self.student = student\n",
    "        self.teacher = teacher\n",
    "        self.loss_tracker = keras.metrics.Mean(name=\"distillation_loss\")\n",
    "\n",
    "    @property\n",
    "    def metrics(self):\n",
    "        metrics = super().metrics\n",
    "        metrics.append(self.loss_tracker)\n",
    "        return metrics\n",
    "\n",
    "    def compile(\n",
    "        self, optimizer, metrics, distillation_loss_fn, temperature=TEMPERATURE,\n",
    "    ):\n",
    "        super(Distiller, self).compile(optimizer=optimizer, metrics=metrics)\n",
    "        self.distillation_loss_fn = distillation_loss_fn\n",
    "        self.temperature = temperature\n",
    "\n",
    "    def train_step(self, data):\n",
    "        # Unpack data\n",
    "        x, _ = data\n",
    "\n",
    "        # Forward pass of teacher\n",
    "        teacher_predictions = self.teacher(x, training=False)\n",
    "\n",
    "        with tf.GradientTape() as tape:\n",
    "            # Forward pass of student\n",
    "            student_predictions = self.student(x, training=True)\n",
    "\n",
    "            # Compute loss\n",
    "            distillation_loss = self.distillation_loss_fn(\n",
    "                tf.nn.softmax(teacher_predictions / self.temperature, axis=1),\n",
    "                tf.nn.softmax(student_predictions / self.temperature, axis=1),\n",
    "            )\n",
    "\n",
    "        # Compute gradients\n",
    "        trainable_vars = self.student.trainable_variables\n",
    "        gradients = tape.gradient(distillation_loss, trainable_vars)\n",
    "\n",
    "        # Update weights\n",
    "        self.optimizer.apply_gradients(zip(gradients, trainable_vars))\n",
    "\n",
    "        # Report progress\n",
    "        self.loss_tracker.update_state(distillation_loss)\n",
    "        return {\"distillation_loss\": self.loss_tracker.result()}\n",
    "\n",
    "    def test_step(self, data):\n",
    "        # Unpack data\n",
    "        x, y = data\n",
    "\n",
    "        # Forward passes\n",
    "        teacher_predictions = self.teacher(x, training=False)\n",
    "        student_predictions = self.student(x, training=False)\n",
    "\n",
    "        # Calculate the loss\n",
    "        distillation_loss = self.distillation_loss_fn(\n",
    "            tf.nn.softmax(teacher_predictions / self.temperature, axis=1),\n",
    "            tf.nn.softmax(student_predictions / self.temperature, axis=1),\n",
    "        )\n",
    "\n",
    "        # Report progress\n",
    "        self.loss_tracker.update_state(distillation_loss)\n",
    "        self.compiled_metrics.update_state(y, student_predictions)\n",
    "        results = {m.name: m.result() for m in self.metrics}\n",
    "        return results\n",
    ""
   ]
  },
  {
   "cell_type": "markdown",
   "metadata": {
    "colab_type": "text"
   },
   "source": [
    "## Learning rate schedule\n",
    "\n",
    "A warmup cosine learning rate schedule is used in the paper. This schedule is also\n",
    "typical for many pre-training methods especially for computer vision."
   ]
  },
  {
   "cell_type": "code",
   "execution_count": 0,
   "metadata": {
    "colab_type": "code"
   },
   "outputs": [],
   "source": [
    "# Some code is taken from:\n",
    "# https://www.kaggle.com/ashusma/training-rfcx-tensorflow-tpu-effnet-b2.\n",
    "\n",
    "\n",
    "class WarmUpCosine(keras.optimizers.schedules.LearningRateSchedule):\n",
    "    def __init__(\n",
    "        self, learning_rate_base, total_steps, warmup_learning_rate, warmup_steps\n",
    "    ):\n",
    "        super(WarmUpCosine, self).__init__()\n",
    "\n",
    "        self.learning_rate_base = learning_rate_base\n",
    "        self.total_steps = total_steps\n",
    "        self.warmup_learning_rate = warmup_learning_rate\n",
    "        self.warmup_steps = warmup_steps\n",
    "        self.pi = tf.constant(np.pi)\n",
    "\n",
    "    def __call__(self, step):\n",
    "        if self.total_steps < self.warmup_steps:\n",
    "            raise ValueError(\"Total_steps must be larger or equal to warmup_steps.\")\n",
    "\n",
    "        cos_annealed_lr = tf.cos(\n",
    "            self.pi\n",
    "            * (tf.cast(step, tf.float32) - self.warmup_steps)\n",
    "            / float(self.total_steps - self.warmup_steps)\n",
    "        )\n",
    "        learning_rate = 0.5 * self.learning_rate_base * (1 + cos_annealed_lr)\n",
    "\n",
    "        if self.warmup_steps > 0:\n",
    "            if self.learning_rate_base < self.warmup_learning_rate:\n",
    "                raise ValueError(\n",
    "                    \"Learning_rate_base must be larger or equal to \"\n",
    "                    \"warmup_learning_rate.\"\n",
    "                )\n",
    "            slope = (\n",
    "                self.learning_rate_base - self.warmup_learning_rate\n",
    "            ) / self.warmup_steps\n",
    "            warmup_rate = slope * tf.cast(step, tf.float32) + self.warmup_learning_rate\n",
    "            learning_rate = tf.where(\n",
    "                step < self.warmup_steps, warmup_rate, learning_rate\n",
    "            )\n",
    "        return tf.where(\n",
    "            step > self.total_steps, 0.0, learning_rate, name=\"learning_rate\"\n",
    "        )\n",
    ""
   ]
  },
  {
   "cell_type": "markdown",
   "metadata": {
    "colab_type": "text"
   },
   "source": [
    "We can now plot a a graph of learning rates generated using this schedule."
   ]
  },
  {
   "cell_type": "code",
   "execution_count": 0,
   "metadata": {
    "colab_type": "code"
   },
   "outputs": [],
   "source": [
    "ARTIFICIAL_EPOCHS = 1000\n",
    "ARTIFICIAL_BATCH_SIZE = 512\n",
    "DATASET_NUM_TRAIN_EXAMPLES = 1020\n",
    "TOTAL_STEPS = int(\n",
    "    DATASET_NUM_TRAIN_EXAMPLES / ARTIFICIAL_BATCH_SIZE * ARTIFICIAL_EPOCHS\n",
    ")\n",
    "scheduled_lrs = WarmUpCosine(\n",
    "    learning_rate_base=INIT_LR,\n",
    "    total_steps=TOTAL_STEPS,\n",
    "    warmup_learning_rate=0.0,\n",
    "    warmup_steps=1500,\n",
    ")\n",
    "\n",
    "lrs = [scheduled_lrs(step) for step in range(TOTAL_STEPS)]\n",
    "plt.plot(lrs)\n",
    "plt.xlabel(\"Step\", fontsize=14)\n",
    "plt.ylabel(\"LR\", fontsize=14)\n",
    "plt.show()\n",
    ""
   ]
  },
  {
   "cell_type": "markdown",
   "metadata": {
    "colab_type": "text"
   },
   "source": [
    "The original paper uses at least 1000 epochs and a batch size of 512 to perform\n",
    "\"function matching\". The objective of this example is to present a workflow to\n",
    "implement the recipe and not to demonstrate the results when they are applied at full scale.\n",
    "However, these recipes will transfer to the original settings from the paper. Please\n",
    "refer to [this repository](https://github.com/sayakpaul/FunMatch-Distillation) if you are\n",
    "interested in finding out more."
   ]
  },
  {
   "cell_type": "markdown",
   "metadata": {
    "colab_type": "text"
   },
   "source": [
    "## Training"
   ]
  },
  {
   "cell_type": "code",
   "execution_count": 0,
   "metadata": {
    "colab_type": "code"
   },
   "outputs": [],
   "source": [
    "optimizer = tfa.optimizers.AdamW(\n",
    "    weight_decay=WEIGHT_DECAY, learning_rate=scheduled_lrs, clipnorm=CLIP_THRESHOLD\n",
    ")\n",
    "\n",
    "student_model = get_resnetv2()\n",
    "\n",
    "distiller = Distiller(student=student_model, teacher=teacher_model)\n",
    "distiller.compile(\n",
    "    optimizer,\n",
    "    metrics=[keras.metrics.SparseCategoricalAccuracy()],\n",
    "    distillation_loss_fn=keras.losses.KLDivergence(),\n",
    "    temperature=TEMPERATURE,\n",
    ")\n",
    "\n",
    "history = distiller.fit(\n",
    "    train_ds,\n",
    "    steps_per_epoch=int(np.ceil(DATASET_NUM_TRAIN_EXAMPLES / BATCH_SIZE)),\n",
    "    validation_data=validation_ds,\n",
    "    epochs=30,  # This should be at least 1000.\n",
    ")\n",
    "\n",
    "student = distiller.student\n",
    "student_model.compile(metrics=[\"accuracy\"])\n",
    "_, top1_accuracy = student.evaluate(test_ds)\n",
    "print(f\"Top-1 accuracy on the test set: {round(top1_accuracy * 100, 2)}%\")"
   ]
  },
  {
   "cell_type": "markdown",
   "metadata": {
    "colab_type": "text"
   },
   "source": [
    "## Results\n",
    "\n",
    "With just 30 epochs of training, the results are nowhere near expected.\n",
    "This is where the benefits of patience aka a longer training schedule\n",
    "will come into play. Let's investigate what the model trained for 1000 epochs can do."
   ]
  },
  {
   "cell_type": "code",
   "execution_count": 0,
   "metadata": {
    "colab_type": "code"
   },
   "outputs": [],
   "source": [
    "!# Download the pre-trained weights.\n",
    "!!wget https://git.io/JBO3Y -O S-r50x1-128-1000.tar.gz\n",
    "!!tar xf S-r50x1-128-1000.tar.gz"
   ]
  },
  {
   "cell_type": "code",
   "execution_count": 0,
   "metadata": {
    "colab_type": "code"
   },
   "outputs": [],
   "source": [
    "pretrained_student = keras.models.load_model(\"S-r50x1-128-1000\")\n",
    "pretrained_student.summary()"
   ]
  },
  {
   "cell_type": "markdown",
   "metadata": {
    "colab_type": "text"
   },
   "source": [
    "This model exactly follows what the authors have used in their student models. This is\n",
    "why the model summary is a bit different."
   ]
  },
  {
   "cell_type": "code",
   "execution_count": 0,
   "metadata": {
    "colab_type": "code"
   },
   "outputs": [],
   "source": [
    "_, top1_accuracy = pretrained_student.evaluate(test_ds)\n",
    "print(f\"Top-1 accuracy on the test set: {round(top1_accuracy * 100, 2)}%\")"
   ]
  },
  {
   "cell_type": "markdown",
   "metadata": {
    "colab_type": "text"
   },
   "source": [
    "With 100000 epochs of training, this same model leads to a top-1 accuracy of 95.54%.\n",
    "\n",
    "There are a number of important ablations studies presented in the paper that show the\n",
    "effectiveness of these recipes compared to the prior art. So if you are skeptical about\n",
    "these recipes, definitely consult the paper."
   ]
  },
  {
   "cell_type": "markdown",
   "metadata": {
    "colab_type": "text"
   },
   "source": [
    "## Note on training for longer\n",
    "\n",
    "With TPU-based hardware infrastructure, we can train the model for 1000 epochs faster.\n",
    "This does not even require adding a lot of changes to this codebase. You\n",
    "are encouraged to check\n",
    "[this repository](https://github.com/sayakpaul/FunMatch-Distillation)\n",
    "as it presents TPU-compatible training workflows for these recipes and can be run on\n",
    "[Kaggle Kernel](https://www.kaggle.com/kernels) leveraging their free TPU v3-8 hardware."
   ]
  }
 ],
 "metadata": {
  "colab": {
   "collapsed_sections": [],
   "name": "better_knowledge_distillation",
   "private_outputs": false,
   "provenance": [],
   "toc_visible": true
  },
  "kernelspec": {
   "display_name": "Python 3",
   "language": "python",
   "name": "python3"
  },
  "language_info": {
   "codemirror_mode": {
    "name": "ipython",
    "version": 3
   },
   "file_extension": ".py",
   "mimetype": "text/x-python",
   "name": "python",
   "nbconvert_exporter": "python",
   "pygments_lexer": "ipython3",
   "version": "3.7.0"
  }
 },
 "nbformat": 4,
 "nbformat_minor": 0
}