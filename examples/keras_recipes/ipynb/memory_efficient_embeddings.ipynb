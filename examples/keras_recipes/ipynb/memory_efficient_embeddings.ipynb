{
 "cells": [
  {
   "cell_type": "markdown",
   "metadata": {
    "colab_type": "text"
   },
   "source": [
    "# Memory-efficient embeddings for recommendation systems\n",
    "\n",
    "**Author:** [Khalid Salama](https://www.linkedin.com/in/khalid-salama-24403144/)<br>\n",
    "**Date created:** 2021/02/15<br>\n",
    "**Last modified:** 2021/02/15<br>\n",
    "**Description:** Using compositional & mixed-dimension embeddings for memory-efficient recommendation models."
   ]
  },
  {
   "cell_type": "markdown",
   "metadata": {
    "colab_type": "text"
   },
   "source": [
    "## Introduction\n",
    "\n",
    "This example demonstrates two techniques for building memory-efficient recommendation models\n",
    "by reducing the size of the embedding tables, without sacrificing model effectiveness:\n",
    "\n",
    "1. [Quotient-remainder trick](https://arxiv.org/abs/1909.02107), by Hao-Jun Michael Shi et al.,\n",
    "which reduces the number of embedding vectors to store, yet produces unique embedding\n",
    "vector for each item without explicit definition.\n",
    "2. [Mixed Dimension embeddings](https://arxiv.org/abs/1909.11810), by Antonio Ginart et al.,\n",
    "which stores embedding vectors with mixed dimensions, where less popular items have\n",
    "reduced dimension embeddings.\n",
    "\n",
    "We use the [1M version of the Movielens dataset](https://grouplens.org/datasets/movielens/1m/).\n",
    "The dataset includes around 1 million ratings from 6,000 users on 4,000 movies."
   ]
  },
  {
   "cell_type": "markdown",
   "metadata": {
    "colab_type": "text"
   },
   "source": [
    "## Setup"
   ]
  },
  {
   "cell_type": "code",
   "execution_count": 0,
   "metadata": {
    "colab_type": "code"
   },
   "outputs": [],
   "source": [
    "import os\n",
    "import math\n",
    "from zipfile import ZipFile\n",
    "from urllib.request import urlretrieve\n",
    "import numpy as np\n",
    "import pandas as pd\n",
    "import tensorflow as tf\n",
    "from tensorflow import keras\n",
    "from tensorflow.keras import layers\n",
    "from tensorflow.keras.layers import StringLookup\n",
    "import matplotlib.pyplot as plt"
   ]
  },
  {
   "cell_type": "markdown",
   "metadata": {
    "colab_type": "text"
   },
   "source": [
    "## Prepare the data\n",
    "\n",
    "## Download and process data"
   ]
  },
  {
   "cell_type": "code",
   "execution_count": 0,
   "metadata": {
    "colab_type": "code"
   },
   "outputs": [],
   "source": [
    "urlretrieve(\"http://files.grouplens.org/datasets/movielens/ml-1m.zip\", \"movielens.zip\")\n",
    "ZipFile(\"movielens.zip\", \"r\").extractall()\n",
    "\n",
    "ratings_data = pd.read_csv(\n",
    "    \"ml-1m/ratings.dat\",\n",
    "    sep=\"::\",\n",
    "    names=[\"user_id\", \"movie_id\", \"rating\", \"unix_timestamp\"],\n",
    ")\n",
    "\n",
    "ratings_data[\"movie_id\"] = ratings_data[\"movie_id\"].apply(lambda x: f\"movie_{x}\")\n",
    "ratings_data[\"user_id\"] = ratings_data[\"user_id\"].apply(lambda x: f\"user_{x}\")\n",
    "ratings_data[\"rating\"] = ratings_data[\"rating\"].apply(lambda x: float(x))\n",
    "del ratings_data[\"unix_timestamp\"]\n",
    "\n",
    "print(f\"Number of users: {len(ratings_data.user_id.unique())}\")\n",
    "print(f\"Number of movies: {len(ratings_data.movie_id.unique())}\")\n",
    "print(f\"Number of ratings: {len(ratings_data.index)}\")"
   ]
  },
  {
   "cell_type": "markdown",
   "metadata": {
    "colab_type": "text"
   },
   "source": [
    "## Create train and eval data splits"
   ]
  },
  {
   "cell_type": "code",
   "execution_count": 0,
   "metadata": {
    "colab_type": "code"
   },
   "outputs": [],
   "source": [
    "random_selection = np.random.rand(len(ratings_data.index)) <= 0.85\n",
    "train_data = ratings_data[random_selection]\n",
    "eval_data = ratings_data[~random_selection]\n",
    "\n",
    "train_data.to_csv(\"train_data.csv\", index=False, sep=\"|\", header=False)\n",
    "eval_data.to_csv(\"eval_data.csv\", index=False, sep=\"|\", header=False)\n",
    "print(f\"Train data split: {len(train_data.index)}\")\n",
    "print(f\"Eval data split: {len(eval_data.index)}\")\n",
    "print(\"Train and eval data files are saved.\")"
   ]
  },
  {
   "cell_type": "markdown",
   "metadata": {
    "colab_type": "text"
   },
   "source": [
    "## Define dataset metadata and hyperparameters"
   ]
  },
  {
   "cell_type": "code",
   "execution_count": 0,
   "metadata": {
    "colab_type": "code"
   },
   "outputs": [],
   "source": [
    "csv_header = list(ratings_data.columns)\n",
    "user_vocabulary = list(ratings_data.user_id.unique())\n",
    "movie_vocabulary = list(ratings_data.movie_id.unique())\n",
    "target_feature_name = \"rating\"\n",
    "learning_rate = 0.001\n",
    "batch_size = 128\n",
    "num_epochs = 3\n",
    "base_embedding_dim = 64"
   ]
  },
  {
   "cell_type": "markdown",
   "metadata": {
    "colab_type": "text"
   },
   "source": [
    "## Train and evaluate the model"
   ]
  },
  {
   "cell_type": "code",
   "execution_count": 0,
   "metadata": {
    "colab_type": "code"
   },
   "outputs": [],
   "source": [
    "\n",
    "def get_dataset_from_csv(csv_file_path, batch_size=128, shuffle=True):\n",
    "    return tf.data.experimental.make_csv_dataset(\n",
    "        csv_file_path,\n",
    "        batch_size=batch_size,\n",
    "        column_names=csv_header,\n",
    "        label_name=target_feature_name,\n",
    "        num_epochs=1,\n",
    "        header=False,\n",
    "        field_delim=\"|\",\n",
    "        shuffle=shuffle,\n",
    "    )\n",
    "\n",
    "\n",
    "def run_experiment(model):\n",
    "    # Compile the model.\n",
    "    model.compile(\n",
    "        optimizer=keras.optimizers.Adam(learning_rate),\n",
    "        loss=tf.keras.losses.MeanSquaredError(),\n",
    "        metrics=[keras.metrics.MeanAbsoluteError(name=\"mae\")],\n",
    "    )\n",
    "    # Read the training data.\n",
    "    train_dataset = get_dataset_from_csv(\"train_data.csv\", batch_size)\n",
    "    # Read the test data.\n",
    "    eval_dataset = get_dataset_from_csv(\"eval_data.csv\", batch_size, shuffle=False)\n",
    "    # Fit the model with the training data.\n",
    "    history = model.fit(train_dataset, epochs=num_epochs, validation_data=eval_dataset,)\n",
    "    return history\n",
    ""
   ]
  },
  {
   "cell_type": "markdown",
   "metadata": {
    "colab_type": "text"
   },
   "source": [
    "## Experiment 1: baseline collaborative filtering model\n",
    "\n",
    "### Implement embedding encoder"
   ]
  },
  {
   "cell_type": "code",
   "execution_count": 0,
   "metadata": {
    "colab_type": "code"
   },
   "outputs": [],
   "source": [
    "\n",
    "def embedding_encoder(vocabulary, embedding_dim, num_oov_indices=0, name=None):\n",
    "    return keras.Sequential(\n",
    "        [\n",
    "            StringLookup(\n",
    "                vocabulary=vocabulary, mask_token=None, num_oov_indices=num_oov_indices\n",
    "            ),\n",
    "            layers.Embedding(\n",
    "                input_dim=len(vocabulary) + num_oov_indices, output_dim=embedding_dim\n",
    "            ),\n",
    "        ],\n",
    "        name=f\"{name}_embedding\" if name else None,\n",
    "    )\n",
    ""
   ]
  },
  {
   "cell_type": "markdown",
   "metadata": {
    "colab_type": "text"
   },
   "source": [
    "### Implement the baseline model"
   ]
  },
  {
   "cell_type": "code",
   "execution_count": 0,
   "metadata": {
    "colab_type": "code"
   },
   "outputs": [],
   "source": [
    "\n",
    "def create_baseline_model():\n",
    "    # Receive the user as an input.\n",
    "    user_input = layers.Input(name=\"user_id\", shape=(), dtype=tf.string)\n",
    "    # Get user embedding.\n",
    "    user_embedding = embedding_encoder(\n",
    "        vocabulary=user_vocabulary, embedding_dim=base_embedding_dim, name=\"user\"\n",
    "    )(user_input)\n",
    "\n",
    "    # Receive the movie as an input.\n",
    "    movie_input = layers.Input(name=\"movie_id\", shape=(), dtype=tf.string)\n",
    "    # Get embedding.\n",
    "    movie_embedding = embedding_encoder(\n",
    "        vocabulary=movie_vocabulary, embedding_dim=base_embedding_dim, name=\"movie\"\n",
    "    )(movie_input)\n",
    "\n",
    "    # Compute dot product similarity between user and movie embeddings.\n",
    "    logits = layers.Dot(axes=1, name=\"dot_similarity\")(\n",
    "        [user_embedding, movie_embedding]\n",
    "    )\n",
    "    # Convert to rating scale.\n",
    "    prediction = keras.activations.sigmoid(logits) * 5\n",
    "    # Create the model.\n",
    "    model = keras.Model(\n",
    "        inputs=[user_input, movie_input], outputs=prediction, name=\"baseline_model\"\n",
    "    )\n",
    "    return model\n",
    "\n",
    "\n",
    "baseline_model = create_baseline_model()\n",
    "baseline_model.summary()"
   ]
  },
  {
   "cell_type": "markdown",
   "metadata": {
    "colab_type": "text"
   },
   "source": [
    "Notice that the number of trainable parameters is 623,744"
   ]
  },
  {
   "cell_type": "code",
   "execution_count": 0,
   "metadata": {
    "colab_type": "code"
   },
   "outputs": [],
   "source": [
    "history = run_experiment(baseline_model)\n",
    "\n",
    "plt.plot(history.history[\"loss\"])\n",
    "plt.plot(history.history[\"val_loss\"])\n",
    "plt.title(\"model loss\")\n",
    "plt.ylabel(\"loss\")\n",
    "plt.xlabel(\"epoch\")\n",
    "plt.legend([\"train\", \"eval\"], loc=\"upper left\")\n",
    "plt.show()"
   ]
  },
  {
   "cell_type": "markdown",
   "metadata": {
    "colab_type": "text"
   },
   "source": [
    "## Experiment 2: memory-efficient model"
   ]
  },
  {
   "cell_type": "markdown",
   "metadata": {
    "colab_type": "text"
   },
   "source": [
    "### Implement Quotient-Remainder embedding as a layer\n",
    "\n",
    "The Quotient-Remainder technique works as follows. For a set of vocabulary and  embedding size\n",
    "`embedding_dim`, instead of creating a `vocabulary_size X embedding_dim` embedding table,\n",
    "we create *two* `num_buckets X embedding_dim` embedding tables, where `num_buckets`\n",
    "is much smaller than `vocabulary_size`.\n",
    "An embedding for a given item `index` is generated via the following steps:\n",
    "\n",
    "1. Compute the `quotient_index` as `index // num_buckets`.\n",
    "2. Compute the `remainder_index` as `index % num_buckets`.\n",
    "3. Lookup `quotient_embedding` from the first embedding table using `quotient_index`.\n",
    "4. Lookup `remainder_embedding` from the second embedding table using `remainder_index`.\n",
    "5. Return `quotient_embedding` * `remainder_embedding`.\n",
    "\n",
    "This technique not only reduces the number of embedding vectors needs to be stored and trained,\n",
    "but also generates a *unique* embedding vector for each item of size `embedding_dim`.\n",
    "Note that `q_embedding` and `r_embedding` can be combined using other operations,\n",
    "like `Add` and `Concatenate`."
   ]
  },
  {
   "cell_type": "code",
   "execution_count": 0,
   "metadata": {
    "colab_type": "code"
   },
   "outputs": [],
   "source": [
    "\n",
    "class QREmbedding(keras.layers.Layer):\n",
    "    def __init__(self, vocabulary, embedding_dim, num_buckets, name=None):\n",
    "        super(QREmbedding, self).__init__(name=name)\n",
    "        self.num_buckets = num_buckets\n",
    "\n",
    "        self.index_lookup = StringLookup(\n",
    "            vocabulary=vocabulary, mask_token=None, num_oov_indices=0\n",
    "        )\n",
    "        self.q_embeddings = layers.Embedding(num_buckets, embedding_dim,)\n",
    "        self.r_embeddings = layers.Embedding(num_buckets, embedding_dim,)\n",
    "\n",
    "    def call(self, inputs):\n",
    "        # Get the item index.\n",
    "        embedding_index = self.index_lookup(inputs)\n",
    "        # Get the quotient index.\n",
    "        quotient_index = tf.math.floordiv(embedding_index, self.num_buckets)\n",
    "        # Get the reminder index.\n",
    "        remainder_index = tf.math.floormod(embedding_index, self.num_buckets)\n",
    "        # Lookup the quotient_embedding using the quotient_index.\n",
    "        quotient_embedding = self.q_embeddings(quotient_index)\n",
    "        # Lookup the remainder_embedding using the remainder_index.\n",
    "        remainder_embedding = self.r_embeddings(remainder_index)\n",
    "        # Use multiplication as a combiner operation\n",
    "        return quotient_embedding * remainder_embedding\n",
    ""
   ]
  },
  {
   "cell_type": "markdown",
   "metadata": {
    "colab_type": "text"
   },
   "source": [
    "### Implement Mixed Dimension embedding as a layer\n",
    "\n",
    "In the mixed dimension embedding technique, we train embedding vectors with full dimensions\n",
    "for the frequently queried items, while train embedding vectors with *reduced dimensions*\n",
    "for less frequent items, plus a *projection weights matrix* to bring low dimension embeddings\n",
    "to the full dimensions.\n",
    "\n",
    "More precisely, we define *blocks* of items of similar frequencies. For each block,\n",
    "a `block_vocab_size X block_embedding_dim` embedding table and `block_embedding_dim X full_embedding_dim`\n",
    "projection weights matrix are created. Note that, if `block_embedding_dim` equals `full_embedding_dim`,\n",
    "the projection weights matrix becomes an *identity* matrix. Embeddings for a given batch of item\n",
    "`indices` are generated via the following steps:\n",
    "\n",
    "1. For each block, lookup the `block_embedding_dim` embedding vectors using `indices`, and\n",
    "project them to the `full_embedding_dim`.\n",
    "2. If an item index does not belong to a given block, an out-of-vocabulary embedding is returned.\n",
    "Each block will return a `batch_size X full_embedding_dim` tensor.\n",
    "3. A mask is applied to the embeddings returned from each block in order to convert the\n",
    "out-of-vocabulary embeddings to vector of zeros. That is, for each item in the batch,\n",
    "a single non-zero embedding vector is returned from the all block embeddings.\n",
    "4. Embeddings retrieved from the blocks are combined using *sum* to produce the final\n",
    "`batch_size X full_embedding_dim` tensor."
   ]
  },
  {
   "cell_type": "code",
   "execution_count": 0,
   "metadata": {
    "colab_type": "code"
   },
   "outputs": [],
   "source": [
    "\n",
    "class MDEmbedding(keras.layers.Layer):\n",
    "    def __init__(\n",
    "        self, blocks_vocabulary, blocks_embedding_dims, base_embedding_dim, name=None\n",
    "    ):\n",
    "        super(MDEmbedding, self).__init__(name=name)\n",
    "        self.num_blocks = len(blocks_vocabulary)\n",
    "\n",
    "        # Create vocab to block lookup.\n",
    "        keys = []\n",
    "        values = []\n",
    "        for block_idx, block_vocab in enumerate(blocks_vocabulary):\n",
    "            keys.extend(block_vocab)\n",
    "            values.extend([block_idx] * len(block_vocab))\n",
    "        self.vocab_to_block = tf.lookup.StaticHashTable(\n",
    "            tf.lookup.KeyValueTensorInitializer(keys, values), default_value=-1\n",
    "        )\n",
    "\n",
    "        self.block_embedding_encoders = []\n",
    "        self.block_embedding_projectors = []\n",
    "\n",
    "        # Create block embedding encoders and projectors.\n",
    "        for idx in range(self.num_blocks):\n",
    "            vocabulary = blocks_vocabulary[idx]\n",
    "            embedding_dim = blocks_embedding_dims[idx]\n",
    "            block_embedding_encoder = embedding_encoder(\n",
    "                vocabulary, embedding_dim, num_oov_indices=1\n",
    "            )\n",
    "            self.block_embedding_encoders.append(block_embedding_encoder)\n",
    "            if embedding_dim == base_embedding_dim:\n",
    "                self.block_embedding_projectors.append(layers.Lambda(lambda x: x))\n",
    "            else:\n",
    "                self.block_embedding_projectors.append(\n",
    "                    layers.Dense(units=base_embedding_dim)\n",
    "                )\n",
    "\n",
    "    def call(self, inputs):\n",
    "        # Get block index for each input item.\n",
    "        block_indicies = self.vocab_to_block.lookup(inputs)\n",
    "        # Initialize output embeddings to zeros.\n",
    "        embeddings = tf.zeros(shape=(tf.shape(inputs)[0], base_embedding_dim))\n",
    "        # Generate embeddings from blocks.\n",
    "        for idx in range(self.num_blocks):\n",
    "            # Lookup embeddings from the current block.\n",
    "            block_embeddings = self.block_embedding_encoders[idx](inputs)\n",
    "            # Project embeddings to base_embedding_dim.\n",
    "            block_embeddings = self.block_embedding_projectors[idx](block_embeddings)\n",
    "            # Create a mask to filter out embeddings of items that do not belong to the current block.\n",
    "            mask = tf.expand_dims(tf.cast(block_indicies == idx, tf.dtypes.float32), 1)\n",
    "            # Set the embeddings for the items not belonging to the current block to zeros.\n",
    "            block_embeddings = block_embeddings * mask\n",
    "            # Add the block embeddings to the final embeddings.\n",
    "            embeddings += block_embeddings\n",
    "\n",
    "        return embeddings\n",
    ""
   ]
  },
  {
   "cell_type": "markdown",
   "metadata": {
    "colab_type": "text"
   },
   "source": [
    "### Implement the memory-efficient model\n",
    "\n",
    "In this experiment, we are going to use the **Quotient-Remainder** technique to reduce the\n",
    "size of the user embeddings, and the **Mixed Dimension** technique to reduce the size of the\n",
    "movie embeddings.\n",
    "\n",
    "While in the [paper](https://arxiv.org/abs/1909.11810), an alpha-power rule is used to determined\n",
    "the dimensions of the embedding of each block, we simply set the number of blocks and the\n",
    "dimensions of embeddings of each block based on the histogram visualization of movies popularity."
   ]
  },
  {
   "cell_type": "code",
   "execution_count": 0,
   "metadata": {
    "colab_type": "code"
   },
   "outputs": [],
   "source": [
    "movie_frequencies = ratings_data[\"movie_id\"].value_counts()\n",
    "movie_frequencies.hist(bins=10)"
   ]
  },
  {
   "cell_type": "markdown",
   "metadata": {
    "colab_type": "text"
   },
   "source": [
    "You can see that we can group the movies into three blocks, and assign them 64, 32, and 16\n",
    "embedding dimensions, respectively. Feel free to experiment with different number of blocks\n",
    "and dimensions."
   ]
  },
  {
   "cell_type": "code",
   "execution_count": 0,
   "metadata": {
    "colab_type": "code"
   },
   "outputs": [],
   "source": [
    "sorted_movie_vocabulary = list(movie_frequencies.keys())\n",
    "\n",
    "movie_blocks_vocabulary = [\n",
    "    sorted_movie_vocabulary[:400],  # high popularity movies block\n",
    "    sorted_movie_vocabulary[400:1700],  # normal popularity movies block\n",
    "    sorted_movie_vocabulary[1700:],  # low popularity movies block\n",
    "]\n",
    "\n",
    "movie_blocks_embedding_dims = [64, 32, 16]\n",
    "\n",
    "user_embedding_num_buckets = len(user_vocabulary) // 50\n",
    "\n",
    "\n",
    "def create_memory_efficient_model():\n",
    "    # Take the user as an input.\n",
    "    user_input = layers.Input(name=\"user_id\", shape=(), dtype=tf.string)\n",
    "    # Get user embedding.\n",
    "    user_embedding = QREmbedding(\n",
    "        vocabulary=user_vocabulary,\n",
    "        embedding_dim=base_embedding_dim,\n",
    "        num_buckets=user_embedding_num_buckets,\n",
    "        name=\"user_embedding\",\n",
    "    )(user_input)\n",
    "\n",
    "    # Take the movie as an input.\n",
    "    movie_input = layers.Input(name=\"movie_id\", shape=(), dtype=tf.string)\n",
    "    # Get embedding.\n",
    "    movie_embedding = MDEmbedding(\n",
    "        blocks_vocabulary=movie_blocks_vocabulary,\n",
    "        blocks_embedding_dims=movie_blocks_embedding_dims,\n",
    "        base_embedding_dim=base_embedding_dim,\n",
    "        name=\"movie_embedding\",\n",
    "    )(movie_input)\n",
    "\n",
    "    # Compute dot product similarity between user and movie embeddings.\n",
    "    logits = layers.Dot(axes=1, name=\"dot_similarity\")(\n",
    "        [user_embedding, movie_embedding]\n",
    "    )\n",
    "    # Convert to rating scale.\n",
    "    prediction = keras.activations.sigmoid(logits) * 5\n",
    "    # Create the model.\n",
    "    model = keras.Model(\n",
    "        inputs=[user_input, movie_input], outputs=prediction, name=\"baseline_model\"\n",
    "    )\n",
    "    return model\n",
    "\n",
    "\n",
    "memory_efficient_model = create_memory_efficient_model()\n",
    "memory_efficient_model.summary()"
   ]
  },
  {
   "cell_type": "markdown",
   "metadata": {
    "colab_type": "text"
   },
   "source": [
    "Notice that the number of trainable parameters is 117,968, which is more than 5x less than\n",
    "the number of parameters in the baseline model."
   ]
  },
  {
   "cell_type": "code",
   "execution_count": 0,
   "metadata": {
    "colab_type": "code"
   },
   "outputs": [],
   "source": [
    "history = run_experiment(memory_efficient_model)\n",
    "\n",
    "plt.plot(history.history[\"loss\"])\n",
    "plt.plot(history.history[\"val_loss\"])\n",
    "plt.title(\"model loss\")\n",
    "plt.ylabel(\"loss\")\n",
    "plt.xlabel(\"epoch\")\n",
    "plt.legend([\"train\", \"eval\"], loc=\"upper left\")\n",
    "plt.show()"
   ]
  }
 ],
 "metadata": {
  "colab": {
   "collapsed_sections": [],
   "name": "memory_efficient_embeddings",
   "private_outputs": false,
   "provenance": [],
   "toc_visible": true
  },
  "kernelspec": {
   "display_name": "Python 3",
   "language": "python",
   "name": "python3"
  },
  "language_info": {
   "codemirror_mode": {
    "name": "ipython",
    "version": 3
   },
   "file_extension": ".py",
   "mimetype": "text/x-python",
   "name": "python",
   "nbconvert_exporter": "python",
   "pygments_lexer": "ipython3",
   "version": "3.7.0"
  }
 },
 "nbformat": 4,
 "nbformat_minor": 0
}