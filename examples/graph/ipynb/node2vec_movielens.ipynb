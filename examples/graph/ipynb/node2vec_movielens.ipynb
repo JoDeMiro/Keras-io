{
 "cells": [
  {
   "cell_type": "markdown",
   "metadata": {
    "colab_type": "text"
   },
   "source": [
    "# Graph representation learning with node2vec\n",
    "\n",
    "**Author:** [Khalid Salama](https://www.linkedin.com/in/khalid-salama-24403144/)<br>\n",
    "**Date created:** 2021/05/15<br>\n",
    "**Last modified:** 2021/05/15<br>\n",
    "**Description:** Implementing the node2vec model to generate embeddings for movies from the MovieLens dataset."
   ]
  },
  {
   "cell_type": "markdown",
   "metadata": {
    "colab_type": "text"
   },
   "source": [
    "## Introduction\n",
    "\n",
    "Learning useful representations from objects structured as graphs is useful for\n",
    "a variety of machine learning (ML) applications\u2014such as social and communication networks analysis,\n",
    "biomedicine studies, and recommendation systems.\n",
    "[Graph representation Learning](https://www.cs.mcgill.ca/~wlh/grl_book/) aims to\n",
    "learn embeddings for the graph nodes, which can be used for a variety of ML tasks\n",
    "such as node label prediction (e.g. categorizing an article based on its citations)\n",
    "and link prediction (e.g. recommending an interest group to a user in a social network).\n",
    "\n",
    "[node2vec](https://arxiv.org/abs/1607.00653) is a simple, yet scalable and effective\n",
    "technique for learning low-dimensional embeddings for nodes in a graph by optimizing\n",
    "a neighborhood-preserving objective. The aim is to learn similar embeddings for\n",
    "neighboring nodes, with respect to the graph structure.\n",
    "\n",
    "Given your data items structured as a graph (where the items are represented as\n",
    "nodes and the relationship between items are represented as edges),\n",
    "node2vec works as follows:\n",
    "\n",
    "1. Generate item sequences using (biased) random walk.\n",
    "2. Create positive and negative training examples from these sequences.\n",
    "3. Train a [word2vec](https://www.tensorflow.org/tutorials/text/word2vec) model\n",
    "(skip-gram) to learn embeddings for the items.\n",
    "\n",
    "In this example, we demonstrate the node2vec technique on the\n",
    "[small version of the Movielens dataset](https://files.grouplens.org/datasets/movielens/ml-latest-small-README.html)\n",
    "to learn movie embeddings. Such a dataset can be represented as a graph by treating\n",
    "the movies as nodes, and creating edges between movies that have similar ratings\n",
    "by the users. The learnt movie embeddings can be used for tasks such as movie recommendation,\n",
    "or movie genres prediction.\n",
    "\n",
    "This example requires `networkx` package, which can be installed using the following command:\n",
    "\n",
    "```shell\n",
    "pip install networkx\n",
    "```"
   ]
  },
  {
   "cell_type": "markdown",
   "metadata": {
    "colab_type": "text"
   },
   "source": [
    "## Setup"
   ]
  },
  {
   "cell_type": "code",
   "execution_count": 0,
   "metadata": {
    "colab_type": "code"
   },
   "outputs": [],
   "source": [
    "import os\n",
    "from collections import defaultdict\n",
    "import math\n",
    "import networkx as nx\n",
    "import random\n",
    "from tqdm import tqdm\n",
    "from zipfile import ZipFile\n",
    "from urllib.request import urlretrieve\n",
    "import numpy as np\n",
    "import pandas as pd\n",
    "import tensorflow as tf\n",
    "from tensorflow import keras\n",
    "from tensorflow.keras import layers\n",
    "import matplotlib.pyplot as plt"
   ]
  },
  {
   "cell_type": "markdown",
   "metadata": {
    "colab_type": "text"
   },
   "source": [
    "## Download the MovieLens dataset and prepare the data\n",
    "\n",
    "The small version of the MovieLens dataset includes around 100k ratings\n",
    "from 610 users on 9,742 movies.\n",
    "\n",
    "First, let's download the dataset. The downloaded folder will contain\n",
    "three data files: `users.csv`, `movies.csv`, and `ratings.csv`. In this example,\n",
    "we will only need the `movies.dat`, and `ratings.dat` data files."
   ]
  },
  {
   "cell_type": "code",
   "execution_count": 0,
   "metadata": {
    "colab_type": "code"
   },
   "outputs": [],
   "source": [
    "urlretrieve(\n",
    "    \"http://files.grouplens.org/datasets/movielens/ml-latest-small.zip\", \"movielens.zip\"\n",
    ")\n",
    "ZipFile(\"movielens.zip\", \"r\").extractall()"
   ]
  },
  {
   "cell_type": "markdown",
   "metadata": {
    "colab_type": "text"
   },
   "source": [
    "Then, we load the data into a Pandas DataFrame and perform some basic preprocessing."
   ]
  },
  {
   "cell_type": "code",
   "execution_count": 0,
   "metadata": {
    "colab_type": "code"
   },
   "outputs": [],
   "source": [
    "# Load movies to a DataFrame.\n",
    "movies = pd.read_csv(\"ml-latest-small/movies.csv\")\n",
    "# Create a `movieId` string.\n",
    "movies[\"movieId\"] = movies[\"movieId\"].apply(lambda x: f\"movie_{x}\")\n",
    "\n",
    "# Load ratings to a DataFrame.\n",
    "ratings = pd.read_csv(\"ml-latest-small/ratings.csv\")\n",
    "# Convert the `ratings` to floating point\n",
    "ratings[\"rating\"] = ratings[\"rating\"].apply(lambda x: float(x))\n",
    "# Create the `movie_id` string.\n",
    "ratings[\"movieId\"] = ratings[\"movieId\"].apply(lambda x: f\"movie_{x}\")\n",
    "\n",
    "print(\"Movies data shape:\", movies.shape)\n",
    "print(\"Ratings data shape:\", ratings.shape)"
   ]
  },
  {
   "cell_type": "markdown",
   "metadata": {
    "colab_type": "text"
   },
   "source": [
    "Let's inspect a sample instance of the `ratings` DataFrame."
   ]
  },
  {
   "cell_type": "code",
   "execution_count": 0,
   "metadata": {
    "colab_type": "code"
   },
   "outputs": [],
   "source": [
    "ratings.head()"
   ]
  },
  {
   "cell_type": "markdown",
   "metadata": {
    "colab_type": "text"
   },
   "source": [
    "Next, let's check a sample instance of the `movies` DataFrame."
   ]
  },
  {
   "cell_type": "code",
   "execution_count": 0,
   "metadata": {
    "colab_type": "code"
   },
   "outputs": [],
   "source": [
    "movies.head()"
   ]
  },
  {
   "cell_type": "markdown",
   "metadata": {
    "colab_type": "text"
   },
   "source": [
    "Implement two utility functions for the `movies` DataFrame."
   ]
  },
  {
   "cell_type": "code",
   "execution_count": 0,
   "metadata": {
    "colab_type": "code"
   },
   "outputs": [],
   "source": [
    "\n",
    "def get_movie_title_by_id(movieId):\n",
    "    return list(movies[movies.movieId == movieId].title)[0]\n",
    "\n",
    "\n",
    "def get_movie_id_by_title(title):\n",
    "    return list(movies[movies.title == title].movieId)[0]\n",
    ""
   ]
  },
  {
   "cell_type": "markdown",
   "metadata": {
    "colab_type": "text"
   },
   "source": [
    "## Construct the Movies graph\n",
    "\n",
    "We create an edge between two movie nodes in the graph if both movies are rated\n",
    "by the same user >= `min_rating`. The weight of the edge will be based on the\n",
    "[pointwise mutual information](https://en.wikipedia.org/wiki/Pointwise_mutual_information)\n",
    "between the two movies, which is computed as: `log(xy) - log(x) - log(y) + log(D)`, where:\n",
    "\n",
    "* `xy` is how many users rated both movie `x` and movie `y` with >= `min_rating`.\n",
    "* `x` is how many users rated movie `x` >= `min_rating`.\n",
    "* `y` is how many users rated movie `y` >= `min_rating`.\n",
    "* `D` total number of movie ratings >= `min_rating`."
   ]
  },
  {
   "cell_type": "markdown",
   "metadata": {
    "colab_type": "text"
   },
   "source": [
    "### Step 1: create the weighted edges between movies."
   ]
  },
  {
   "cell_type": "code",
   "execution_count": 0,
   "metadata": {
    "colab_type": "code"
   },
   "outputs": [],
   "source": [
    "min_rating = 5\n",
    "pair_frequency = defaultdict(int)\n",
    "item_frequency = defaultdict(int)\n",
    "\n",
    "# Filter instances where rating is greater than or equal to min_rating.\n",
    "rated_movies = ratings[ratings.rating >= min_rating]\n",
    "# Group instances by user.\n",
    "movies_grouped_by_users = list(rated_movies.groupby(\"userId\"))\n",
    "for group in tqdm(\n",
    "    movies_grouped_by_users,\n",
    "    position=0,\n",
    "    leave=True,\n",
    "    desc=\"Compute movie rating frequencies\",\n",
    "):\n",
    "    # Get a list of movies rated by the user.\n",
    "    current_movies = list(group[1][\"movieId\"])\n",
    "\n",
    "    for i in range(len(current_movies)):\n",
    "        item_frequency[current_movies[i]] += 1\n",
    "        for j in range(i + 1, len(current_movies)):\n",
    "            x = min(current_movies[i], current_movies[j])\n",
    "            y = max(current_movies[i], current_movies[j])\n",
    "            pair_frequency[(x, y)] += 1"
   ]
  },
  {
   "cell_type": "markdown",
   "metadata": {
    "colab_type": "text"
   },
   "source": [
    "### Step 2: create the graph with the nodes and the edges\n",
    "\n",
    "To reduce the number of edges between nodes, we only add an edge between movies\n",
    "if the weight of the edge is greater than `min_weight`."
   ]
  },
  {
   "cell_type": "code",
   "execution_count": 0,
   "metadata": {
    "colab_type": "code"
   },
   "outputs": [],
   "source": [
    "min_weight = 10\n",
    "D = math.log(sum(item_frequency.values()))\n",
    "\n",
    "# Create the movies undirected graph.\n",
    "movies_graph = nx.Graph()\n",
    "# Add weighted edges between movies.\n",
    "# This automatically adds the movie nodes to the graph.\n",
    "for pair in tqdm(\n",
    "    pair_frequency, position=0, leave=True, desc=\"Creating the movie graph\"\n",
    "):\n",
    "    x, y = pair\n",
    "    xy_frequency = pair_frequency[pair]\n",
    "    x_frequency = item_frequency[x]\n",
    "    y_frequency = item_frequency[y]\n",
    "    pmi = math.log(xy_frequency) - math.log(x_frequency) - math.log(y_frequency) + D\n",
    "    weight = pmi * xy_frequency\n",
    "    # Only include edges with weight >= min_weight.\n",
    "    if weight >= min_weight:\n",
    "        movies_graph.add_edge(x, y, weight=weight)"
   ]
  },
  {
   "cell_type": "markdown",
   "metadata": {
    "colab_type": "text"
   },
   "source": [
    "Let's display the total number of nodes and edges in the graph.\n",
    "Note that the number of nodes is less than the total number of movies,\n",
    "since only the movies that have edges to other movies are added."
   ]
  },
  {
   "cell_type": "code",
   "execution_count": 0,
   "metadata": {
    "colab_type": "code"
   },
   "outputs": [],
   "source": [
    "print(\"Total number of graph nodes:\", movies_graph.number_of_nodes())\n",
    "print(\"Total number of graph edges:\", movies_graph.number_of_edges())"
   ]
  },
  {
   "cell_type": "markdown",
   "metadata": {
    "colab_type": "text"
   },
   "source": [
    "Let's display the average node degree (number of neighbours) in the graph."
   ]
  },
  {
   "cell_type": "code",
   "execution_count": 0,
   "metadata": {
    "colab_type": "code"
   },
   "outputs": [],
   "source": [
    "degrees = []\n",
    "for node in movies_graph.nodes:\n",
    "    degrees.append(movies_graph.degree[node])\n",
    "\n",
    "print(\"Average node degree:\", round(sum(degrees) / len(degrees), 2))"
   ]
  },
  {
   "cell_type": "markdown",
   "metadata": {
    "colab_type": "text"
   },
   "source": [
    "### Step 3: Create vocabulary and a mapping from tokens to integer indices\n",
    "\n",
    "The vocabulary is the nodes (movie IDs) in the graph."
   ]
  },
  {
   "cell_type": "code",
   "execution_count": 0,
   "metadata": {
    "colab_type": "code"
   },
   "outputs": [],
   "source": [
    "vocabulary = [\"NA\"] + list(movies_graph.nodes)\n",
    "vocabulary_lookup = {token: idx for idx, token in enumerate(vocabulary)}"
   ]
  },
  {
   "cell_type": "markdown",
   "metadata": {
    "colab_type": "text"
   },
   "source": [
    "## Implement the biased random walk\n",
    "\n",
    "A random walk starts from a given node, and randomly picks a neighbour node to move to.\n",
    "If the edges are weighted, the neighbour is selected *probabilistically* with\n",
    "respect to weights of the edges between the current node and its neighbours.\n",
    "This procedure is repeated for `num_steps` to generate a sequence of *related* nodes.\n",
    "\n",
    "The [*biased* random walk](https://en.wikipedia.org/wiki/Biased_random_walk_on_a_graph) balances between **breadth-first sampling**\n",
    "(where only local neighbours are visited) and **depth-first sampling**\n",
    "(where  distant neighbours are visited) by introducing the following two parameters:\n",
    "\n",
    "1. **Return parameter** (`p`): Controls the likelihood of immediately revisiting\n",
    "a node in the walk. Setting it to a high value encourages moderate exploration,\n",
    "while setting it to a low value would keep the walk local.\n",
    "2. **In-out parameter** (`q`): Allows the search to differentiate\n",
    "between *inward* and *outward* nodes. Setting it to a high value biases the\n",
    "random walk towards local nodes, while setting it to a low value biases the walk\n",
    "to visit nodes which are further away."
   ]
  },
  {
   "cell_type": "code",
   "execution_count": 0,
   "metadata": {
    "colab_type": "code"
   },
   "outputs": [],
   "source": [
    "\n",
    "def next_step(graph, previous, current, p, q):\n",
    "    neighbors = list(graph.neighbors(current))\n",
    "\n",
    "    weights = []\n",
    "    # Adjust the weights of the edges to the neighbors with respect to p and q.\n",
    "    for neighbor in neighbors:\n",
    "        if neighbor == previous:\n",
    "            # Control the probability to return to the previous node.\n",
    "            weights.append(graph[current][neighbor][\"weight\"] / p)\n",
    "        elif graph.has_edge(neighbor, previous):\n",
    "            # The probability of visiting a local node.\n",
    "            weights.append(graph[current][neighbor][\"weight\"])\n",
    "        else:\n",
    "            # Control the probability to move forward.\n",
    "            weights.append(graph[current][neighbor][\"weight\"] / q)\n",
    "\n",
    "    # Compute the probabilities of visiting each neighbor.\n",
    "    weight_sum = sum(weights)\n",
    "    probabilities = [weight / weight_sum for weight in weights]\n",
    "    # Probabilistically select a neighbor to visit.\n",
    "    next = np.random.choice(neighbors, size=1, p=probabilities)[0]\n",
    "    return next\n",
    "\n",
    "\n",
    "def random_walk(graph, num_walks, num_steps, p, q):\n",
    "    walks = []\n",
    "    nodes = list(graph.nodes())\n",
    "    # Perform multiple iterations of the random walk.\n",
    "    for walk_iteration in range(num_walks):\n",
    "        random.shuffle(nodes)\n",
    "\n",
    "        for node in tqdm(\n",
    "            nodes,\n",
    "            position=0,\n",
    "            leave=True,\n",
    "            desc=f\"Random walks iteration {walk_iteration + 1} of {num_walks}\",\n",
    "        ):\n",
    "            # Start the walk with a random node from the graph.\n",
    "            walk = [node]\n",
    "            # Randomly walk for num_steps.\n",
    "            while len(walk) < num_steps:\n",
    "                current = walk[-1]\n",
    "                previous = walk[-2] if len(walk) > 1 else None\n",
    "                # Compute the next node to visit.\n",
    "                next = next_step(graph, previous, current, p, q)\n",
    "                walk.append(next)\n",
    "            # Replace node ids (movie ids) in the walk with token ids.\n",
    "            walk = [vocabulary_lookup[token] for token in walk]\n",
    "            # Add the walk to the generated sequence.\n",
    "            walks.append(walk)\n",
    "\n",
    "    return walks\n",
    ""
   ]
  },
  {
   "cell_type": "markdown",
   "metadata": {
    "colab_type": "text"
   },
   "source": [
    "## Generate training data using the biased random walk\n",
    "\n",
    "You can explore different configurations of `p` and `q` to different results of\n",
    "related movies."
   ]
  },
  {
   "cell_type": "code",
   "execution_count": 0,
   "metadata": {
    "colab_type": "code"
   },
   "outputs": [],
   "source": [
    "# Random walk return parameter.\n",
    "p = 1\n",
    "# Random walk in-out parameter.\n",
    "q = 1\n",
    "# Number of iterations of random walks.\n",
    "num_walks = 5\n",
    "# Number of steps of each random walk.\n",
    "num_steps = 10\n",
    "walks = random_walk(movies_graph, num_walks, num_steps, p, q)\n",
    "\n",
    "print(\"Number of walks generated:\", len(walks))"
   ]
  },
  {
   "cell_type": "markdown",
   "metadata": {
    "colab_type": "text"
   },
   "source": [
    "## Generate positive and negative examples\n",
    "\n",
    "To train a skip-gram model, we use the generated walks to create positive and\n",
    "negative training examples. Each example includes the following features:\n",
    "\n",
    "1. `target`: A movie in a walk sequence.\n",
    "2. `context`: Another movie in a walk sequence.\n",
    "3. `weight`: How many times these two movies occured in walk sequences.\n",
    "4. `label`: The label is 1 if these two movies are samples from the walk sequences,\n",
    "otherwise (i.e., if randomly sampled) the label is 0."
   ]
  },
  {
   "cell_type": "markdown",
   "metadata": {
    "colab_type": "text"
   },
   "source": [
    "### Generate examples"
   ]
  },
  {
   "cell_type": "code",
   "execution_count": 0,
   "metadata": {
    "colab_type": "code"
   },
   "outputs": [],
   "source": [
    "\n",
    "def generate_examples(sequences, window_size, num_negative_samples, vocabulary_size):\n",
    "    example_weights = defaultdict(int)\n",
    "    # Iterate over all sequences (walks).\n",
    "    for sequence in tqdm(\n",
    "        sequences,\n",
    "        position=0,\n",
    "        leave=True,\n",
    "        desc=f\"Generating postive and negative examples\",\n",
    "    ):\n",
    "        # Generate positive and negative skip-gram pairs for a sequence (walk).\n",
    "        pairs, labels = keras.preprocessing.sequence.skipgrams(\n",
    "            sequence,\n",
    "            vocabulary_size=vocabulary_size,\n",
    "            window_size=window_size,\n",
    "            negative_samples=num_negative_samples,\n",
    "        )\n",
    "        for idx in range(len(pairs)):\n",
    "            pair = pairs[idx]\n",
    "            label = labels[idx]\n",
    "            target, context = min(pair[0], pair[1]), max(pair[0], pair[1])\n",
    "            if target == context:\n",
    "                continue\n",
    "            entry = (target, context, label)\n",
    "            example_weights[entry] += 1\n",
    "\n",
    "    targets, contexts, labels, weights = [], [], [], []\n",
    "    for entry in example_weights:\n",
    "        weight = example_weights[entry]\n",
    "        target, context, label = entry\n",
    "        targets.append(target)\n",
    "        contexts.append(context)\n",
    "        labels.append(label)\n",
    "        weights.append(weight)\n",
    "\n",
    "    return np.array(targets), np.array(contexts), np.array(labels), np.array(weights)\n",
    "\n",
    "\n",
    "num_negative_samples = 4\n",
    "targets, contexts, labels, weights = generate_examples(\n",
    "    sequences=walks,\n",
    "    window_size=num_steps,\n",
    "    num_negative_samples=num_negative_samples,\n",
    "    vocabulary_size=len(vocabulary),\n",
    ")"
   ]
  },
  {
   "cell_type": "markdown",
   "metadata": {
    "colab_type": "text"
   },
   "source": [
    "Let's display the shapes of the outputs"
   ]
  },
  {
   "cell_type": "code",
   "execution_count": 0,
   "metadata": {
    "colab_type": "code"
   },
   "outputs": [],
   "source": [
    "print(f\"Targets shape: {targets.shape}\")\n",
    "print(f\"Contexts shape: {contexts.shape}\")\n",
    "print(f\"Labels shape: {labels.shape}\")\n",
    "print(f\"Weights shape: {weights.shape}\")"
   ]
  },
  {
   "cell_type": "markdown",
   "metadata": {
    "colab_type": "text"
   },
   "source": [
    "### Convert the data into `tf.data.Dataset` objects"
   ]
  },
  {
   "cell_type": "code",
   "execution_count": 0,
   "metadata": {
    "colab_type": "code"
   },
   "outputs": [],
   "source": [
    "batch_size = 1024\n",
    "\n",
    "\n",
    "def create_dataset(targets, contexts, labels, weights, batch_size):\n",
    "    inputs = {\n",
    "        \"target\": targets,\n",
    "        \"context\": contexts,\n",
    "    }\n",
    "    dataset = tf.data.Dataset.from_tensor_slices((inputs, labels, weights))\n",
    "    dataset = dataset.shuffle(buffer_size=batch_size * 2)\n",
    "    dataset = dataset.batch(batch_size, drop_remainder=True)\n",
    "    dataset = dataset.prefetch(tf.data.AUTOTUNE)\n",
    "    return dataset\n",
    "\n",
    "\n",
    "dataset = create_dataset(\n",
    "    targets=targets,\n",
    "    contexts=contexts,\n",
    "    labels=labels,\n",
    "    weights=weights,\n",
    "    batch_size=batch_size,\n",
    ")"
   ]
  },
  {
   "cell_type": "markdown",
   "metadata": {
    "colab_type": "text"
   },
   "source": [
    "## Train the skip-gram model\n",
    "\n",
    "Our skip-gram is a simple binary classification model that works as follows:\n",
    "\n",
    "1. An embedding is looked up for the `target` movie.\n",
    "2. An embedding is looked up for the `context` movie.\n",
    "3. The dot product is computed between these two embeddings.\n",
    "4. The result (after a sigmoid activation) is compared to the label.\n",
    "5. A binary crossentropy loss is used."
   ]
  },
  {
   "cell_type": "code",
   "execution_count": 0,
   "metadata": {
    "colab_type": "code"
   },
   "outputs": [],
   "source": [
    "learning_rate = 0.001\n",
    "embedding_dim = 50\n",
    "num_epochs = 10"
   ]
  },
  {
   "cell_type": "markdown",
   "metadata": {
    "colab_type": "text"
   },
   "source": [
    "### Implement the model"
   ]
  },
  {
   "cell_type": "code",
   "execution_count": 0,
   "metadata": {
    "colab_type": "code"
   },
   "outputs": [],
   "source": [
    "\n",
    "def create_model(vocabulary_size, embedding_dim):\n",
    "\n",
    "    inputs = {\n",
    "        \"target\": layers.Input(name=\"target\", shape=(), dtype=\"int32\"),\n",
    "        \"context\": layers.Input(name=\"context\", shape=(), dtype=\"int32\"),\n",
    "    }\n",
    "    # Initialize item embeddings.\n",
    "    embed_item = layers.Embedding(\n",
    "        input_dim=vocabulary_size,\n",
    "        output_dim=embedding_dim,\n",
    "        embeddings_initializer=\"he_normal\",\n",
    "        embeddings_regularizer=keras.regularizers.l2(1e-6),\n",
    "        name=\"item_embeddings\",\n",
    "    )\n",
    "    # Lookup embeddings for target.\n",
    "    target_embeddings = embed_item(inputs[\"target\"])\n",
    "    # Lookup embeddings for context.\n",
    "    context_embeddings = embed_item(inputs[\"context\"])\n",
    "    # Compute dot similarity between target and context embeddings.\n",
    "    logits = layers.Dot(axes=1, normalize=False, name=\"dot_similarity\")(\n",
    "        [target_embeddings, context_embeddings]\n",
    "    )\n",
    "    # Create the model.\n",
    "    model = keras.Model(inputs=inputs, outputs=logits)\n",
    "    return model\n",
    ""
   ]
  },
  {
   "cell_type": "markdown",
   "metadata": {
    "colab_type": "text"
   },
   "source": [
    "### Train the model"
   ]
  },
  {
   "cell_type": "markdown",
   "metadata": {
    "colab_type": "text"
   },
   "source": [
    "We instantiate the model and compile it."
   ]
  },
  {
   "cell_type": "code",
   "execution_count": 0,
   "metadata": {
    "colab_type": "code"
   },
   "outputs": [],
   "source": [
    "model = create_model(len(vocabulary), embedding_dim)\n",
    "model.compile(\n",
    "    optimizer=keras.optimizers.Adam(learning_rate),\n",
    "    loss=keras.losses.BinaryCrossentropy(from_logits=True),\n",
    ")"
   ]
  },
  {
   "cell_type": "markdown",
   "metadata": {
    "colab_type": "text"
   },
   "source": [
    "Let's plot the model."
   ]
  },
  {
   "cell_type": "code",
   "execution_count": 0,
   "metadata": {
    "colab_type": "code"
   },
   "outputs": [],
   "source": [
    "keras.utils.plot_model(\n",
    "    model,\n",
    "    show_shapes=True,\n",
    "    show_dtype=True,\n",
    "    show_layer_names=True,\n",
    ")"
   ]
  },
  {
   "cell_type": "markdown",
   "metadata": {
    "colab_type": "text"
   },
   "source": [
    "Now we train the model on the `dataset`."
   ]
  },
  {
   "cell_type": "code",
   "execution_count": 0,
   "metadata": {
    "colab_type": "code"
   },
   "outputs": [],
   "source": [
    "history = model.fit(dataset, epochs=num_epochs)"
   ]
  },
  {
   "cell_type": "markdown",
   "metadata": {
    "colab_type": "text"
   },
   "source": [
    "Finally we plot the learning history."
   ]
  },
  {
   "cell_type": "code",
   "execution_count": 0,
   "metadata": {
    "colab_type": "code"
   },
   "outputs": [],
   "source": [
    "plt.plot(history.history[\"loss\"])\n",
    "plt.ylabel(\"loss\")\n",
    "plt.xlabel(\"epoch\")\n",
    "plt.show()"
   ]
  },
  {
   "cell_type": "markdown",
   "metadata": {
    "colab_type": "text"
   },
   "source": [
    "## Analyze the learnt embeddings."
   ]
  },
  {
   "cell_type": "code",
   "execution_count": 0,
   "metadata": {
    "colab_type": "code"
   },
   "outputs": [],
   "source": [
    "movie_embeddings = model.get_layer(\"item_embeddings\").get_weights()[0]\n",
    "print(\"Embeddings shape:\", movie_embeddings.shape)"
   ]
  },
  {
   "cell_type": "markdown",
   "metadata": {
    "colab_type": "text"
   },
   "source": [
    "### Find related movies\n",
    "\n",
    "Define a list with some movies called `query_movies`."
   ]
  },
  {
   "cell_type": "code",
   "execution_count": 0,
   "metadata": {
    "colab_type": "code"
   },
   "outputs": [],
   "source": [
    "query_movies = [\n",
    "    \"Matrix, The (1999)\",\n",
    "    \"Star Wars: Episode IV - A New Hope (1977)\",\n",
    "    \"Lion King, The (1994)\",\n",
    "    \"Terminator 2: Judgment Day (1991)\",\n",
    "    \"Godfather, The (1972)\",\n",
    "]"
   ]
  },
  {
   "cell_type": "markdown",
   "metadata": {
    "colab_type": "text"
   },
   "source": [
    "Get the embeddings of the movies in `query_movies`."
   ]
  },
  {
   "cell_type": "code",
   "execution_count": 0,
   "metadata": {
    "colab_type": "code"
   },
   "outputs": [],
   "source": [
    "query_embeddings = []\n",
    "\n",
    "for movie_title in query_movies:\n",
    "    movieId = get_movie_id_by_title(movie_title)\n",
    "    token_id = vocabulary_lookup[movieId]\n",
    "    movie_embedding = movie_embeddings[token_id]\n",
    "    query_embeddings.append(movie_embedding)\n",
    "\n",
    "query_embeddings = np.array(query_embeddings)"
   ]
  },
  {
   "cell_type": "markdown",
   "metadata": {
    "colab_type": "text"
   },
   "source": [
    "Compute the [consine similarity](https://en.wikipedia.org/wiki/Cosine_similarity) between the embeddings of `query_movies`\n",
    "and all the other movies, then pick the top k for each."
   ]
  },
  {
   "cell_type": "code",
   "execution_count": 0,
   "metadata": {
    "colab_type": "code"
   },
   "outputs": [],
   "source": [
    "similarities = tf.linalg.matmul(\n",
    "    tf.math.l2_normalize(query_embeddings),\n",
    "    tf.math.l2_normalize(movie_embeddings),\n",
    "    transpose_b=True,\n",
    ")\n",
    "\n",
    "_, indices = tf.math.top_k(similarities, k=5)\n",
    "indices = indices.numpy().tolist()"
   ]
  },
  {
   "cell_type": "markdown",
   "metadata": {
    "colab_type": "text"
   },
   "source": [
    "Display the top related movies in `query_movies`."
   ]
  },
  {
   "cell_type": "code",
   "execution_count": 0,
   "metadata": {
    "colab_type": "code"
   },
   "outputs": [],
   "source": [
    "for idx, title in enumerate(query_movies):\n",
    "    print(title)\n",
    "    print(\"\".rjust(len(title), \"-\"))\n",
    "    similar_tokens = indices[idx]\n",
    "    for token in similar_tokens:\n",
    "        similar_movieId = vocabulary[token]\n",
    "        similar_title = get_movie_title_by_id(similar_movieId)\n",
    "        print(f\"- {similar_title}\")\n",
    "    print()"
   ]
  },
  {
   "cell_type": "markdown",
   "metadata": {
    "colab_type": "text"
   },
   "source": [
    "### Visualize the embeddings using the Embedding Projector"
   ]
  },
  {
   "cell_type": "code",
   "execution_count": 0,
   "metadata": {
    "colab_type": "code"
   },
   "outputs": [],
   "source": [
    "import io\n",
    "\n",
    "out_v = io.open(\"embeddings.tsv\", \"w\", encoding=\"utf-8\")\n",
    "out_m = io.open(\"metadata.tsv\", \"w\", encoding=\"utf-8\")\n",
    "\n",
    "for idx, movie_id in enumerate(vocabulary[1:]):\n",
    "    movie_title = list(movies[movies.movieId == movie_id].title)[0]\n",
    "    vector = movie_embeddings[idx]\n",
    "    out_v.write(\"\\t\".join([str(x) for x in vector]) + \"\\n\")\n",
    "    out_m.write(movie_title + \"\\n\")\n",
    "\n",
    "out_v.close()\n",
    "out_m.close()"
   ]
  },
  {
   "cell_type": "markdown",
   "metadata": {
    "colab_type": "text"
   },
   "source": [
    "Download the `embeddings.tsv` and `metadata.tsv` to analyze the obtained embeddings\n",
    "in the [Embedding Projector](https://projector.tensorflow.org/)."
   ]
  },
  {
   "cell_type": "markdown",
   "metadata": {
    "colab_type": "text"
   },
   "source": [
    "**Example available on HuggingFace**\n",
    "\n",
    "| Trained Model | Demo |\n",
    "| :--: | :--: |\n",
    "| [![Generic badge](https://img.shields.io/badge/%F0%9F%A4%97%20Model%3A%20-Node2Vec%20Movielens-black.svg)](https://huggingface.co/keras-io/Node2Vec_MovieLens) | [![Generic badge](https://img.shields.io/badge/%F0%9F%A4%97%20Spaces%3A-Node2Vec%20Movielens-black.svg)](https://huggingface.co/spaces/keras-io/Node2Vec_MovieLens) |"
   ]
  }
 ],
 "metadata": {
  "colab": {
   "collapsed_sections": [],
   "name": "node2vec_movielens",
   "private_outputs": false,
   "provenance": [],
   "toc_visible": true
  },
  "kernelspec": {
   "display_name": "Python 3",
   "language": "python",
   "name": "python3"
  },
  "language_info": {
   "codemirror_mode": {
    "name": "ipython",
    "version": 3
   },
   "file_extension": ".py",
   "mimetype": "text/x-python",
   "name": "python",
   "nbconvert_exporter": "python",
   "pygments_lexer": "ipython3",
   "version": "3.7.0"
  }
 },
 "nbformat": 4,
 "nbformat_minor": 0
}