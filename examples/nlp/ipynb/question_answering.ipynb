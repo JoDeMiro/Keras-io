{
 "cells": [
  {
   "cell_type": "markdown",
   "metadata": {
    "colab_type": "text"
   },
   "source": [
    "# Question Answering with Hugging Face Transformers\n",
    "\n",
    "**Author:** Matthew Carrigan and Merve Noyan<br>\n",
    "**Date created:** 13/01/2022<br>\n",
    "**Last modified:** 13/01/2022<br>\n",
    "**Description:** Question answering implementation using Keras and Hugging Face Transformers."
   ]
  },
  {
   "cell_type": "markdown",
   "metadata": {
    "colab_type": "text"
   },
   "source": [
    "## Introduction to Question Answering\n",
    "\n",
    "Question answering is a common NLP task with several variants. In some variants, the task\n",
    "is multiple-choice:\n",
    "A list of possible answers are supplied with each question, and the model simply needs to\n",
    "return a probability distribution over the options. A more challenging variant of\n",
    "question answering, which is more applicable to real-life tasks, is when the options are\n",
    "not provided. Instead, the model is given an input document -- called context -- and a\n",
    "question about the document, and it must extract the span of text in the document that\n",
    "contains the answer. In this case, the model is not computing a probability distribution\n",
    "over answers, but two probability distributions over the tokens in the document text,\n",
    "representing the start and end of the span containing the answer. This variant is called\n",
    "\"extractive question answering\".\n",
    "\n",
    "Extractive question answering is a very challenging NLP task, and the dataset size\n",
    "required to train such a model from scratch when the questions and answers are natural\n",
    "language is prohibitively huge. As a result, question answering (like almost all NLP\n",
    "tasks) benefits enormously from starting from a strong pretrained foundation model -\n",
    "starting from a strong pretrained language model can reduce the dataset size required to\n",
    "reach a given accuracy by multiple orders of magnitude, enabling you to reach very strong\n",
    "performance with surprisingly reasonable datasets.\n",
    "\n",
    "Starting with a pretrained model adds difficulties, though - where do you get the model\n",
    "from? How do you ensure that your input data is preprocessed and tokenized the same way\n",
    "as the original model? How do you modify the model to add an output head that matches\n",
    "your task of interest?\n",
    "\n",
    "In this example, we'll show you how to load a model from the Hugging Face\n",
    "[\ud83e\udd17Transformers](https://github.com/huggingface/transformers) library to tackle this\n",
    "challenge. We'll also load a benchmark question answering dataset from the\n",
    "[\ud83e\udd17Datasets](https://github.com/huggingface/datasets) library - this is another open-source\n",
    "repository containing a wide range of datasets across many modalities, from NLP to vision\n",
    "and beyond. Note, though, that there is no requirement that these libraries must be used\n",
    "with each other. If you want to train a model from\n",
    "[\ud83e\udd17Transformers](https://github.com/huggingface/transformers) on your own data, or you want\n",
    "to load data from [\ud83e\udd17 Datasets](https://github.com/huggingface/datasets) and train your\n",
    "own entirely unrelated models with it, that is of course possible (and highly\n",
    "encouraged!)"
   ]
  },
  {
   "cell_type": "markdown",
   "metadata": {
    "colab_type": "text"
   },
   "source": [
    "##\u00a0Installing the requirements"
   ]
  },
  {
   "cell_type": "code",
   "execution_count": 0,
   "metadata": {
    "colab_type": "code"
   },
   "outputs": [],
   "source": [
    "!pip install git+https://github.com/huggingface/transformers.git\n",
    "!pip install datasets\n",
    "!pip install huggingface-hub"
   ]
  },
  {
   "cell_type": "markdown",
   "metadata": {
    "colab_type": "text"
   },
   "source": [
    "## Loading the dataset"
   ]
  },
  {
   "cell_type": "markdown",
   "metadata": {
    "colab_type": "text"
   },
   "source": [
    "We will use the [\ud83e\udd17 Datasets](https://github.com/huggingface/datasets) library to download\n",
    "the SQUAD question answering dataset using `load_dataset()`."
   ]
  },
  {
   "cell_type": "code",
   "execution_count": 0,
   "metadata": {
    "colab_type": "code"
   },
   "outputs": [],
   "source": [
    "from datasets import load_dataset\n",
    "\n",
    "datasets = load_dataset(\"squad\")"
   ]
  },
  {
   "cell_type": "markdown",
   "metadata": {
    "colab_type": "text"
   },
   "source": [
    "The `datasets` object itself is a\n",
    "`DatasetDict`, which contains one key for the training, validation and test set. We can see\n",
    "the training, validation and test sets all have a column for the context, the question\n",
    "and the answers to those questions. To access an actual element, you need to select a\n",
    "split first, then give an index. We can see the answers are indicated by their start\n",
    "position in the text and their full text, which is a substring of the context as we\n",
    "mentioned above. Let's take a look at what a single training example looks like."
   ]
  },
  {
   "cell_type": "code",
   "execution_count": 0,
   "metadata": {
    "colab_type": "code"
   },
   "outputs": [],
   "source": [
    "print(datasets[\"train\"][0])"
   ]
  },
  {
   "cell_type": "markdown",
   "metadata": {
    "colab_type": "text"
   },
   "source": [
    "## Preprocessing the training data"
   ]
  },
  {
   "cell_type": "markdown",
   "metadata": {
    "colab_type": "text"
   },
   "source": [
    "Before we can feed those texts to our model, we need to preprocess them. This is done by\n",
    "a \ud83e\udd17 Transformers `Tokenizer` which will (as the name indicates) tokenize the inputs\n",
    "(including converting the tokens to their corresponding IDs in the pretrained vocabulary)\n",
    "and put it in a format the model expects, as well as generate the other inputs that model\n",
    "requires.\n",
    "\n",
    "To do all of this, we instantiate our tokenizer with the `AutoTokenizer.from_pretrained`\n",
    "method, which will ensure:\n",
    "\n",
    "- We get a tokenizer that corresponds to the model architecture we want to use.\n",
    "- We download the vocabulary used when pretraining this specific checkpoint.\n",
    "\n",
    "That vocabulary will be cached, so it's not downloaded again the next time we run the\n",
    "cell.\n",
    "\n",
    "The `from_pretrained()` method expects the name of a model. If you're unsure which model to\n",
    "pick, don't panic! The list of models to choose from can be bewildering, but in general\n",
    "there is a simple tradeoff: Larger models are slower and consume more memory, but usually\n",
    "yield slightly better final accuracies after fine-tuning. For this example, we have\n",
    "chosen the (relatively) lightweight `\"distilbert\"`, a smaller, distilled version of the\n",
    "famous BERT language model. If you absolutely must have the highest possible accuracy for\n",
    "an important task, though, and you have the GPU memory (and free time) to handle it, you\n",
    "may prefer to use a larger model, such as `\"roberta-large\"`. Newer and even larger models\n",
    "than `\"roberta\"` exist in [\ud83e\udd17 Transformers](https://github.com/huggingface/transformers),\n",
    "but we leave the task of finding and training them as an exercise to readers who are\n",
    "either particularly masochistic or have 40GB of VRAM to throw around."
   ]
  },
  {
   "cell_type": "code",
   "execution_count": 0,
   "metadata": {
    "colab_type": "code"
   },
   "outputs": [],
   "source": [
    "from transformers import AutoTokenizer\n",
    "\n",
    "model_checkpoint = \"distilbert-base-cased\"\n",
    "\n",
    "tokenizer = AutoTokenizer.from_pretrained(model_checkpoint)"
   ]
  },
  {
   "cell_type": "markdown",
   "metadata": {
    "colab_type": "text"
   },
   "source": [
    "Depending on the model you selected, you will see different keys in the dictionary\n",
    "returned by the cell above. They don't matter much for what we're doing here (just know\n",
    "they are required by the model we will instantiate later), but you can learn more about\n",
    "them in [this tutorial](https://huggingface.co/transformers/preprocessing.html) if you're\n",
    "interested.\n",
    "\n",
    "One specific issue for the preprocessing in question answering is how to deal with very\n",
    "long documents. We usually truncate them in other tasks, when they are longer than the\n",
    "model maximum sentence length, but here, removing part of the the context might result in\n",
    "losing the answer we are looking for. To deal with this, we will allow one (long) example\n",
    "in our dataset to give several input features, each of length shorter than the maximum\n",
    "length of the model (or the one we set as a hyper-parameter). Also, just in case the\n",
    "answer lies at the point we split a long context, we allow some overlap between the\n",
    "features we generate controlled by the hyper-parameter `doc_stride`.\n",
    "\n",
    "If we simply truncate with a fixed size (`max_length`), we will lose information. We want to\n",
    "avoid truncating the question, and instead only truncate the context to ensure the task\n",
    "remains solvable. To do that, we'll set `truncation` to `\"only_second\"`, so that only the\n",
    "second sequence (the context) in each pair is truncated. To get the list of features\n",
    "capped by the maximum length, we need to set `return_overflowing_tokens` to True and pass\n",
    "the `doc_stride` to `stride`. To see which feature of the original context contain the\n",
    "answer, we can return `\"offset_mapping\"`."
   ]
  },
  {
   "cell_type": "code",
   "execution_count": 0,
   "metadata": {
    "colab_type": "code"
   },
   "outputs": [],
   "source": [
    "max_length = 384  # The maximum length of a feature (question and context)\n",
    "doc_stride = (\n",
    "    128  # The authorized overlap between two part of the context when splitting\n",
    ")\n",
    "# it is needed."
   ]
  },
  {
   "cell_type": "markdown",
   "metadata": {
    "colab_type": "text"
   },
   "source": [
    "In the case of impossible answers (the answer is in another feature given by an example\n",
    "with a long context), we set the cls index for both the start and end position. We could\n",
    "also simply discard those examples from the training set if the flag\n",
    "`allow_impossible_answers` is `False`. Since the preprocessing is already complex enough\n",
    "as it is, we've kept is simple for this part."
   ]
  },
  {
   "cell_type": "code",
   "execution_count": 0,
   "metadata": {
    "colab_type": "code"
   },
   "outputs": [],
   "source": [
    "\n",
    "def prepare_train_features(examples):\n",
    "    # Tokenize our examples with truncation and padding, but keep the overflows using a\n",
    "    # stride. This results in one example possible giving several features when a context is long,\n",
    "    # each of those features having a context that overlaps a bit the context of the previous\n",
    "    # feature.\n",
    "    examples[\"question\"] = [q.lstrip() for q in examples[\"question\"]]\n",
    "    examples[\"context\"] = [c.lstrip() for c in examples[\"context\"]]\n",
    "    tokenized_examples = tokenizer(\n",
    "        examples[\"question\"],\n",
    "        examples[\"context\"],\n",
    "        truncation=\"only_second\",\n",
    "        max_length=max_length,\n",
    "        stride=doc_stride,\n",
    "        return_overflowing_tokens=True,\n",
    "        return_offsets_mapping=True,\n",
    "        padding=\"max_length\",\n",
    "    )\n",
    "\n",
    "    # Since one example might give us several features if it has a long context, we need a\n",
    "    # map from a feature to its corresponding example. This key gives us just that.\n",
    "    sample_mapping = tokenized_examples.pop(\"overflow_to_sample_mapping\")\n",
    "    # The offset mappings will give us a map from token to character position in the original\n",
    "    # context. This will help us compute the start_positions and end_positions.\n",
    "    offset_mapping = tokenized_examples.pop(\"offset_mapping\")\n",
    "\n",
    "    # Let's label those examples!\n",
    "    tokenized_examples[\"start_positions\"] = []\n",
    "    tokenized_examples[\"end_positions\"] = []\n",
    "\n",
    "    for i, offsets in enumerate(offset_mapping):\n",
    "        # We will label impossible answers with the index of the CLS token.\n",
    "        input_ids = tokenized_examples[\"input_ids\"][i]\n",
    "        cls_index = input_ids.index(tokenizer.cls_token_id)\n",
    "\n",
    "        # Grab the sequence corresponding to that example (to know what is the context and what\n",
    "        # is the question).\n",
    "        sequence_ids = tokenized_examples.sequence_ids(i)\n",
    "\n",
    "        # One example can give several spans, this is the index of the example containing this\n",
    "        # span of text.\n",
    "        sample_index = sample_mapping[i]\n",
    "        answers = examples[\"answers\"][sample_index]\n",
    "        # If no answers are given, set the cls_index as answer.\n",
    "        if len(answers[\"answer_start\"]) == 0:\n",
    "            tokenized_examples[\"start_positions\"].append(cls_index)\n",
    "            tokenized_examples[\"end_positions\"].append(cls_index)\n",
    "        else:\n",
    "            # Start/end character index of the answer in the text.\n",
    "            start_char = answers[\"answer_start\"][0]\n",
    "            end_char = start_char + len(answers[\"text\"][0])\n",
    "\n",
    "            # Start token index of the current span in the text.\n",
    "            token_start_index = 0\n",
    "            while sequence_ids[token_start_index] != 1:\n",
    "                token_start_index += 1\n",
    "\n",
    "            # End token index of the current span in the text.\n",
    "            token_end_index = len(input_ids) - 1\n",
    "            while sequence_ids[token_end_index] != 1:\n",
    "                token_end_index -= 1\n",
    "\n",
    "            # Detect if the answer is out of the span (in which case this feature is labeled with the\n",
    "            # CLS index).\n",
    "            if not (\n",
    "                offsets[token_start_index][0] <= start_char\n",
    "                and offsets[token_end_index][1] >= end_char\n",
    "            ):\n",
    "                tokenized_examples[\"start_positions\"].append(cls_index)\n",
    "                tokenized_examples[\"end_positions\"].append(cls_index)\n",
    "            else:\n",
    "                # Otherwise move the token_start_index and token_end_index to the two ends of the\n",
    "                # answer.\n",
    "                # Note: we could go after the last offset if the answer is the last word (edge\n",
    "                # case).\n",
    "                while (\n",
    "                    token_start_index < len(offsets)\n",
    "                    and offsets[token_start_index][0] <= start_char\n",
    "                ):\n",
    "                    token_start_index += 1\n",
    "                tokenized_examples[\"start_positions\"].append(token_start_index - 1)\n",
    "                while offsets[token_end_index][1] >= end_char:\n",
    "                    token_end_index -= 1\n",
    "                tokenized_examples[\"end_positions\"].append(token_end_index + 1)\n",
    "\n",
    "    return tokenized_examples\n",
    ""
   ]
  },
  {
   "cell_type": "markdown",
   "metadata": {
    "colab_type": "text"
   },
   "source": [
    "To apply this function on all the sentences (or pairs of sentences) in our dataset, we\n",
    "just use the `map()` method of our `Dataset` object, which will apply the function on all\n",
    "the elements of.\n",
    "\n",
    "We'll use `batched=True` to encode the texts in batches together. This is to leverage the\n",
    "full benefit of the fast tokenizer we loaded earlier, which will use multi-threading to\n",
    "treat the texts in a batch concurrently. We also use the `remove_columns` argument to\n",
    "remove the columns that existed before tokenization was applied - this ensures that the\n",
    "only features remaining are the ones we actually want to pass to our model."
   ]
  },
  {
   "cell_type": "code",
   "execution_count": 0,
   "metadata": {
    "colab_type": "code"
   },
   "outputs": [],
   "source": [
    "tokenized_datasets = datasets.map(\n",
    "    prepare_train_features,\n",
    "    batched=True,\n",
    "    remove_columns=datasets[\"train\"].column_names,\n",
    "    num_proc=3,\n",
    ")"
   ]
  },
  {
   "cell_type": "markdown",
   "metadata": {
    "colab_type": "text"
   },
   "source": [
    "Even better, the results are automatically cached by the \ud83e\udd17 Datasets library to avoid\n",
    "spending time on this step the next time you run your notebook. The \ud83e\udd17 Datasets library is\n",
    "normally smart enough to detect when the function you pass to map has changed (and thus\n",
    "requires to not use the cache data). For instance, it will properly detect if you change\n",
    "the task in the first cell and rerun the notebook. \ud83e\udd17 Datasets warns you when it uses\n",
    "cached files, you can pass `load_from_cache_file=False` in the call to `map()` to not use\n",
    "the cached files and force the preprocessing to be applied again.\n",
    "\n",
    "Because all our data has been padded or truncated to the same length, and it is not too\n",
    "large, we can now simply convert it to a dict of numpy arrays, ready for training.\n",
    "\n",
    "Although we will not use it here, \ud83e\udd17 Datasets have a `to_tf_dataset()` helper method\n",
    "designed to assist you when the data cannot be easily converted to arrays, such as when\n",
    "it has variable sequence lengths, or is too large to fit in memory. This method wraps a\n",
    "`tf.data.Dataset` around the underlying \ud83e\udd17 Dataset, streaming samples from the underlying\n",
    "dataset and batching them on the fly, thus minimizing wasted memory and computation from\n",
    "unnecessary padding. If your use-case requires it, please see the\n",
    "[docs](https://huggingface.co/docs/transformers/custom_datasets#finetune-with-tensorflow)\n",
    "on to_tf_dataset and data collator for an example. If not, feel free to follow this example\n",
    "and simply convert to dicts!"
   ]
  },
  {
   "cell_type": "code",
   "execution_count": 0,
   "metadata": {
    "colab_type": "code"
   },
   "outputs": [],
   "source": [
    "train_set = tokenized_datasets[\"train\"].with_format(\"numpy\")[\n",
    "    :\n",
    "]  # Load the whole dataset as a dict of numpy arrays\n",
    "validation_set = tokenized_datasets[\"validation\"].with_format(\"numpy\")[:]"
   ]
  },
  {
   "cell_type": "markdown",
   "metadata": {
    "colab_type": "text"
   },
   "source": [
    "## Fine-tuning the model"
   ]
  },
  {
   "cell_type": "markdown",
   "metadata": {
    "colab_type": "text"
   },
   "source": [
    "That was a lot of work! But now that our data is ready, everything is going to run very\n",
    "smoothly. First, we download the pretrained model and fine-tune it. Since our task is\n",
    "question answering, we use the `TFAutoModelForQuestionAnswering` class. Like with the\n",
    "tokenizer, the `from_pretrained()` method will download and cache the model for us:"
   ]
  },
  {
   "cell_type": "code",
   "execution_count": 0,
   "metadata": {
    "colab_type": "code"
   },
   "outputs": [],
   "source": [
    "from transformers import TFAutoModelForQuestionAnswering\n",
    "\n",
    "model = TFAutoModelForQuestionAnswering.from_pretrained(model_checkpoint)"
   ]
  },
  {
   "cell_type": "markdown",
   "metadata": {
    "colab_type": "text"
   },
   "source": [
    "The warning is telling us we are throwing away some weights and newly initializing some\n",
    "others. Don't panic! This is absolutely normal. Recall that models like BERT and\n",
    "Distilbert are trained on a **language modeling** task, but we're loading the model as\n",
    "a `TFAutoModelForQuestionAnswering`, which means we want the model to perform a\n",
    "**question answering** task. This change requires the final output layer or \"head\" to be\n",
    "removed and replaced with a new head suited for the new task. The `from_pretrained`\n",
    "method will handle all of this for us, and the warning is there simply to remind us that\n",
    "some model surgery has been performed, and that the model will not generate useful\n",
    "predictions until the newly-initialized layers have been fine-tuned on some data.\n",
    "\n",
    "Next, we can create an optimizer and specify a loss function. You can usually get\n",
    "slightly better performance by using learning rate decay and decoupled weight decay, but\n",
    "for the purposes of this example the standard `Adam` optimizer will work fine. Note,\n",
    "however, that when fine-tuning a pretrained transformer model you will generally want to\n",
    "use a low learning rate! We find the best results are obtained with values in the range\n",
    "1e-5 to 1e-4, and training may completely diverge at the default Adam learning rate of 1e-3."
   ]
  },
  {
   "cell_type": "code",
   "execution_count": 0,
   "metadata": {
    "colab_type": "code"
   },
   "outputs": [],
   "source": [
    "import tensorflow as tf\n",
    "from tensorflow import keras\n",
    "\n",
    "optimizer = keras.optimizers.Adam(learning_rate=5e-5)"
   ]
  },
  {
   "cell_type": "markdown",
   "metadata": {
    "colab_type": "text"
   },
   "source": [
    "And now we just compile and fit the model. As a convenience, all \ud83e\udd17 Transformers models\n",
    "come with a default loss which matches their output head, although you're of course free\n",
    "to use your own. Because the built-in loss is computed internally during the forward\n",
    "pass, when using it you may find that some Keras metrics misbehave or give unexpected\n",
    "outputs. This is an area of very active development in \ud83e\udd17 Transformers, though, so\n",
    "hopefully we'll have a good solution to that issue soon!\n",
    "\n",
    "For now, though, let's use the built-in loss without any metrics. To get the built-in\n",
    "loss, simply leave out the `loss` argument to `compile`."
   ]
  },
  {
   "cell_type": "code",
   "execution_count": 0,
   "metadata": {
    "colab_type": "code"
   },
   "outputs": [],
   "source": [
    "# Optionally uncomment the next line for float16 training\n",
    "keras.mixed_precision.set_global_policy(\"mixed_float16\")\n",
    "\n",
    "model.compile(optimizer=optimizer)"
   ]
  },
  {
   "cell_type": "markdown",
   "metadata": {
    "colab_type": "text"
   },
   "source": [
    "And now we can train our model. Note that we're not passing separate labels - the labels\n",
    "are keys in the input dict, to make them visible to the model during the forward pass so\n",
    "it can compute the built-in loss."
   ]
  },
  {
   "cell_type": "code",
   "execution_count": 0,
   "metadata": {
    "colab_type": "code"
   },
   "outputs": [],
   "source": [
    "model.fit(train_set, validation_data=validation_set, epochs=1)"
   ]
  },
  {
   "cell_type": "markdown",
   "metadata": {
    "colab_type": "text"
   },
   "source": [
    "And we're done! Let's give it a try, using some text from the keras.io frontpage:"
   ]
  },
  {
   "cell_type": "code",
   "execution_count": 0,
   "metadata": {
    "colab_type": "code"
   },
   "outputs": [],
   "source": [
    "context = \"\"\"Keras is an API designed for human beings, not machines. Keras follows best\n",
    "practices for reducing cognitive load: it offers consistent & simple APIs, it minimizes\n",
    "the number of user actions required for common use cases, and it provides clear &\n",
    "actionable error messages. It also has extensive documentation and developer guides. \"\"\"\n",
    "question = \"What is Keras?\"\n",
    "\n",
    "inputs = tokenizer([context], [question], return_tensors=\"np\")\n",
    "outputs = model(inputs)\n",
    "start_position = tf.argmax(outputs.start_logits, axis=1)\n",
    "end_position = tf.argmax(outputs.end_logits, axis=1)\n",
    "print(int(start_position), int(end_position[0]))"
   ]
  },
  {
   "cell_type": "markdown",
   "metadata": {
    "colab_type": "text"
   },
   "source": [
    "Looks like our model thinks the answer is the span from tokens 1 to 12 (inclusive). No\n",
    "prizes for guessing which tokens those are!"
   ]
  },
  {
   "cell_type": "code",
   "execution_count": 0,
   "metadata": {
    "colab_type": "code"
   },
   "outputs": [],
   "source": [
    "answer = inputs[\"input_ids\"][0, int(start_position) : int(end_position) + 1]\n",
    "print(answer)"
   ]
  },
  {
   "cell_type": "markdown",
   "metadata": {
    "colab_type": "text"
   },
   "source": [
    "And now we can use the `tokenizer.decode()` method to turn those token IDs back into text:"
   ]
  },
  {
   "cell_type": "code",
   "execution_count": 0,
   "metadata": {
    "colab_type": "code"
   },
   "outputs": [],
   "source": [
    "print(tokenizer.decode(answer))"
   ]
  },
  {
   "cell_type": "markdown",
   "metadata": {
    "colab_type": "text"
   },
   "source": [
    "And that's it! Remember that this example was designed to be quick to run rather than\n",
    "state-of-the-art, and the model trained here will certainly make mistakes. If you use a\n",
    "larger model to base your training on, and you take time to tune the hyperparameters\n",
    "appropriately, you'll find that you can achieve much better losses (and correspondingly\n",
    "more accurate answers).\n",
    "\n",
    "Finally, you can push the model to the HuggingFace Hub. By pushing this model you will\n",
    "have:\n",
    "\n",
    "- A nice model card generated for you containing hyperparameters and metrics of the model\n",
    "training,\n",
    "- A web API for inference calls,\n",
    "- A widget in the model page that enables others to test your model.\n",
    "This model is currently hosted [here](https://huggingface.co/keras-io/transformers-qa)\n",
    "and we have prepared a separate neat UI for you\n",
    "[here](https://huggingface.co/spaces/keras-io/keras-qa).\n",
    "\n",
    "```python\n",
    "model.push_to_hub(\"transformers-qa\", organization=\"keras-io\")\n",
    "tokenizer.push_to_hub(\"transformers-qa\", organization=\"keras-io\")\n",
    "```\n",
    "\n",
    "If you have non-Transformers based Keras models, you can also push them with\n",
    "`push_to_hub_keras`. You can use `from_pretrained_keras` to load easily.\n",
    "\n",
    "```python\n",
    "from huggingface_hub.keras_mixin import push_to_hub_keras\n",
    "\n",
    "push_to_hub_keras(\n",
    "    model=model, repo_url=\"https://huggingface.co/your-username/your-awesome-model\"\n",
    ")\n",
    "from_pretrained_keras(\"your-username/your-awesome-model\") # load your model\n",
    "```"
   ]
  }
 ],
 "metadata": {
  "colab": {
   "collapsed_sections": [],
   "name": "question_answering",
   "private_outputs": false,
   "provenance": [],
   "toc_visible": true
  },
  "kernelspec": {
   "display_name": "Python 3",
   "language": "python",
   "name": "python3"
  },
  "language_info": {
   "codemirror_mode": {
    "name": "ipython",
    "version": 3
   },
   "file_extension": ".py",
   "mimetype": "text/x-python",
   "name": "python",
   "nbconvert_exporter": "python",
   "pygments_lexer": "ipython3",
   "version": "3.7.0"
  }
 },
 "nbformat": 4,
 "nbformat_minor": 0
}