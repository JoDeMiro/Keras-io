{
 "cells": [
  {
   "cell_type": "markdown",
   "metadata": {
    "colab_type": "text"
   },
   "source": [
    "# English-to-Spanish translation with KerasNLP\n",
    "\n",
    "**Author:** [Abheesht Sharma](https://github.com/abheesht17/)<br>\n",
    "**Date created:** 2022/05/26<br>\n",
    "**Last modified:** 2022/05/26<br>\n",
    "**Description:** Use KerasNLP to train a sequence-to-sequence Transformer model on the machine translation task."
   ]
  },
  {
   "cell_type": "markdown",
   "metadata": {
    "colab_type": "text"
   },
   "source": [
    "## Introduction\n",
    "\n",
    "KerasNLP provides building blocks for NLP (model layers, tokenizers, metrics, etc.) and\n",
    "makes it convenient to construct NLP pipelines.\n",
    "\n",
    "In this example, we'll use KerasNLP layers to build an encoder-decoder Transformer\n",
    "model, and train it on the English-to-Spanish machine translation task.\n",
    "\n",
    "This example is based on the\n",
    "[English-to-Spanish NMT example](https://keras.io/examples/nlp/neural_machine_translation_with_transformer/)\n",
    "by [fchollet](https://twitter.com/fchollet). The original example is more low-level\n",
    "and implements layers from scratch, whereas this example uses KerasNLP to show\n",
    "some more advanced approaches, such as subword tokenization and using metrics\n",
    "to compute the quality of generated translations.\n",
    "\n",
    "You'll learn how to:\n",
    "\n",
    "- Tokenize text using `keras_nlp.tokenizers.WordPieceTokenizer`.\n",
    "- Implement a sequence-to-sequence Transformer model using KerasNLP's\n",
    "`keras_nlp.layers.TransformerEncoder`, `keras_nlp.layers.TransformerDecoder` and\n",
    "`keras_nlp.layers.TokenAndPositionEmbedding` layers, and train it.\n",
    "- Use `keras_nlp.utils.greedy_search` function to generate translations\n",
    "of unseen input sentences using the greedy decoding strategy!\n",
    "\n",
    "Don't worry if you aren't familiar with KerasNLP. This tutorial will start with\n",
    "the basics. Let's dive right in!"
   ]
  },
  {
   "cell_type": "markdown",
   "metadata": {
    "colab_type": "text"
   },
   "source": [
    "## Setup\n",
    "\n",
    "Before we start implementing the pipeline, let's import all the libraries we need."
   ]
  },
  {
   "cell_type": "code",
   "execution_count": 0,
   "metadata": {
    "colab_type": "code"
   },
   "outputs": [],
   "source": [
    "!pip install -q rouge-score"
   ]
  },
  {
   "cell_type": "code",
   "execution_count": 0,
   "metadata": {
    "colab_type": "code"
   },
   "outputs": [],
   "source": [
    "import keras_nlp\n",
    "import numpy as np\n",
    "import pathlib\n",
    "import random\n",
    "import tensorflow as tf\n",
    "\n",
    "from tensorflow import keras\n",
    "from tensorflow_text.tools.wordpiece_vocab import bert_vocab_from_dataset as bert_vocab"
   ]
  },
  {
   "cell_type": "markdown",
   "metadata": {
    "colab_type": "text"
   },
   "source": [
    "Let's also define our parameters/hyperparameters."
   ]
  },
  {
   "cell_type": "code",
   "execution_count": 0,
   "metadata": {
    "colab_type": "code"
   },
   "outputs": [],
   "source": [
    "BATCH_SIZE = 64\n",
    "EPOCHS = 1  # This should be at least 10 for convergence\n",
    "MAX_SEQUENCE_LENGTH = 40\n",
    "ENG_VOCAB_SIZE = 15000\n",
    "SPA_VOCAB_SIZE = 15000\n",
    "\n",
    "EMBED_DIM = 256\n",
    "INTERMEDIATE_DIM = 2048\n",
    "NUM_HEADS = 8"
   ]
  },
  {
   "cell_type": "markdown",
   "metadata": {
    "colab_type": "text"
   },
   "source": [
    "## Downloading the data\n",
    "\n",
    "We'll be working with an English-to-Spanish translation dataset\n",
    "provided by [Anki](https://www.manythings.org/anki/). Let's download it:"
   ]
  },
  {
   "cell_type": "code",
   "execution_count": 0,
   "metadata": {
    "colab_type": "code"
   },
   "outputs": [],
   "source": [
    "text_file = keras.utils.get_file(\n",
    "    fname=\"spa-eng.zip\",\n",
    "    origin=\"http://storage.googleapis.com/download.tensorflow.org/data/spa-eng.zip\",\n",
    "    extract=True,\n",
    ")\n",
    "text_file = pathlib.Path(text_file).parent / \"spa-eng\" / \"spa.txt\""
   ]
  },
  {
   "cell_type": "markdown",
   "metadata": {
    "colab_type": "text"
   },
   "source": [
    "## Parsing the data\n",
    "\n",
    "Each line contains an English sentence and its corresponding Spanish sentence.\n",
    "The English sentence is the *source sequence* and Spanish one is the *target sequence*.\n",
    "Before adding the text to a list, we convert it to lowercase."
   ]
  },
  {
   "cell_type": "code",
   "execution_count": 0,
   "metadata": {
    "colab_type": "code"
   },
   "outputs": [],
   "source": [
    "with open(text_file) as f:\n",
    "    lines = f.read().split(\"\\n\")[:-1]\n",
    "text_pairs = []\n",
    "for line in lines:\n",
    "    eng, spa = line.split(\"\\t\")\n",
    "    eng = eng.lower()\n",
    "    spa = spa.lower()\n",
    "    text_pairs.append((eng, spa))"
   ]
  },
  {
   "cell_type": "markdown",
   "metadata": {
    "colab_type": "text"
   },
   "source": [
    "Here's what our sentence pairs look like:"
   ]
  },
  {
   "cell_type": "code",
   "execution_count": 0,
   "metadata": {
    "colab_type": "code"
   },
   "outputs": [],
   "source": [
    "for _ in range(5):\n",
    "    print(random.choice(text_pairs))"
   ]
  },
  {
   "cell_type": "markdown",
   "metadata": {
    "colab_type": "text"
   },
   "source": [
    "Now, let's split the sentence pairs into a training set, a validation set,\n",
    "and a test set."
   ]
  },
  {
   "cell_type": "code",
   "execution_count": 0,
   "metadata": {
    "colab_type": "code"
   },
   "outputs": [],
   "source": [
    "random.shuffle(text_pairs)\n",
    "num_val_samples = int(0.15 * len(text_pairs))\n",
    "num_train_samples = len(text_pairs) - 2 * num_val_samples\n",
    "train_pairs = text_pairs[:num_train_samples]\n",
    "val_pairs = text_pairs[num_train_samples : num_train_samples + num_val_samples]\n",
    "test_pairs = text_pairs[num_train_samples + num_val_samples :]\n",
    "\n",
    "print(f\"{len(text_pairs)} total pairs\")\n",
    "print(f\"{len(train_pairs)} training pairs\")\n",
    "print(f\"{len(val_pairs)} validation pairs\")\n",
    "print(f\"{len(test_pairs)} test pairs\")\n",
    ""
   ]
  },
  {
   "cell_type": "markdown",
   "metadata": {
    "colab_type": "text"
   },
   "source": [
    "## Tokenizing the data\n",
    "\n",
    "We'll define two tokenizers - one for the source language (English), and the other\n",
    "for the target language (Spanish). We'll be using\n",
    "`keras_nlp.tokenizers.WordPieceTokenizer` to tokenize the text.\n",
    "`keras_nlp.tokenizers.WordPieceTokenizer` takes a WordPiece vocabulary\n",
    "and has functions for tokenizing the text, and detokenizing sequences of tokens.\n",
    "\n",
    "Before we define the two tokenizers, we first need to train them on the dataset\n",
    "we have. The WordPiece tokenization algorithm is a subword tokenization algorithm;\n",
    "training it on a corpus gives us a vocabulary of subwords. A subword tokenizer\n",
    "is a compromise between word tokenizers (word tokenizers need very large\n",
    "vocabularies for good coverage of input words), and character tokenizers\n",
    "(characters don't really encode meaning like words do). Luckily, TensorFlow Text\n",
    "makes it very simple to train WordPiece on a corpus as described in\n",
    "[this guide](https://www.tensorflow.org/text/guide/subwords_tokenizer)."
   ]
  },
  {
   "cell_type": "code",
   "execution_count": 0,
   "metadata": {
    "colab_type": "code"
   },
   "outputs": [],
   "source": [
    "\n",
    "def train_word_piece(text_samples, vocab_size, reserved_tokens):\n",
    "    bert_vocab_args = dict(\n",
    "        # The target vocabulary size\n",
    "        vocab_size=vocab_size,\n",
    "        # Reserved tokens that must be included in the vocabulary\n",
    "        reserved_tokens=reserved_tokens,\n",
    "        # Arguments for `text.BertTokenizer`\n",
    "        bert_tokenizer_params={\"lower_case\": True},\n",
    "    )\n",
    "\n",
    "    word_piece_ds = tf.data.Dataset.from_tensor_slices(text_samples)\n",
    "    vocab = bert_vocab.bert_vocab_from_dataset(\n",
    "        word_piece_ds.batch(1000).prefetch(2), **bert_vocab_args\n",
    "    )\n",
    "    return vocab\n",
    ""
   ]
  },
  {
   "cell_type": "markdown",
   "metadata": {
    "colab_type": "text"
   },
   "source": [
    "Every vocabulary has a few special, reserved tokens. We have four such tokens:\n",
    "\n",
    "- `\"[PAD]\"` - Padding token. Padding tokens are appended to the input sequence\n",
    "length when the input sequence length is shorter than the maximum sequence length.\n",
    "- `\"[UNK]\"` - Unknown token.\n",
    "- `\"[START]\"` - Token that marks the start of the input sequence.\n",
    "- `\"[END]\"` - Token that marks the end of the input sequence."
   ]
  },
  {
   "cell_type": "code",
   "execution_count": 0,
   "metadata": {
    "colab_type": "code"
   },
   "outputs": [],
   "source": [
    "reserved_tokens = [\"[PAD]\", \"[UNK]\", \"[START]\", \"[END]\"]\n",
    "\n",
    "eng_samples = [text_pair[0] for text_pair in train_pairs]\n",
    "eng_vocab = train_word_piece(eng_samples, ENG_VOCAB_SIZE, reserved_tokens)\n",
    "\n",
    "spa_samples = [text_pair[1] for text_pair in train_pairs]\n",
    "spa_vocab = train_word_piece(spa_samples, SPA_VOCAB_SIZE, reserved_tokens)"
   ]
  },
  {
   "cell_type": "markdown",
   "metadata": {
    "colab_type": "text"
   },
   "source": [
    "Let's see some tokens!"
   ]
  },
  {
   "cell_type": "code",
   "execution_count": 0,
   "metadata": {
    "colab_type": "code"
   },
   "outputs": [],
   "source": [
    "print(\"English Tokens: \", eng_vocab[100:110])\n",
    "print(\"Spanish Tokens: \", spa_vocab[100:110])"
   ]
  },
  {
   "cell_type": "markdown",
   "metadata": {
    "colab_type": "text"
   },
   "source": [
    "Now, let's define the tokenizers. We will configure the tokenizers with the\n",
    "the vocabularies trained above."
   ]
  },
  {
   "cell_type": "code",
   "execution_count": 0,
   "metadata": {
    "colab_type": "code"
   },
   "outputs": [],
   "source": [
    "eng_tokenizer = keras_nlp.tokenizers.WordPieceTokenizer(\n",
    "    vocabulary=eng_vocab, lowercase=False\n",
    ")\n",
    "spa_tokenizer = keras_nlp.tokenizers.WordPieceTokenizer(\n",
    "    vocabulary=spa_vocab, lowercase=False\n",
    ")"
   ]
  },
  {
   "cell_type": "markdown",
   "metadata": {
    "colab_type": "text"
   },
   "source": [
    "Let's try and tokenize a sample from our dataset! To verify whether the text has\n",
    "been tokenized correctly, we can also detokenize the list of tokens back to the\n",
    "original text."
   ]
  },
  {
   "cell_type": "code",
   "execution_count": 0,
   "metadata": {
    "colab_type": "code"
   },
   "outputs": [],
   "source": [
    "eng_input_ex = text_pairs[0][0]\n",
    "eng_tokens_ex = eng_tokenizer.tokenize(eng_input_ex)\n",
    "print(\"English sentence: \", eng_input_ex)\n",
    "print(\"Tokens: \", eng_tokens_ex)\n",
    "print(\"Recovered text after detokenizing: \", eng_tokenizer.detokenize(eng_tokens_ex))\n",
    "\n",
    "print()\n",
    "\n",
    "spa_input_ex = text_pairs[0][1]\n",
    "spa_tokens_ex = spa_tokenizer.tokenize(spa_input_ex)\n",
    "print(\"Spanish sentence: \", spa_input_ex)\n",
    "print(\"Tokens: \", spa_tokens_ex)\n",
    "print(\"Recovered text after detokenizing: \", spa_tokenizer.detokenize(spa_tokens_ex))"
   ]
  },
  {
   "cell_type": "markdown",
   "metadata": {
    "colab_type": "text"
   },
   "source": [
    "## Format datasets\n",
    "\n",
    "Next, we'll format our datasets.\n",
    "\n",
    "At each training step, the model will seek to predict target words N+1 (and beyond)\n",
    "using the source sentence and the target words 0 to N.\n",
    "\n",
    "As such, the training dataset will yield a tuple `(inputs, targets)`, where:\n",
    "\n",
    "- `inputs` is a dictionary with the keys `encoder_inputs` and `decoder_inputs`.\n",
    "`encoder_inputs` is the tokenized source sentence and `decoder_inputs` is the target sentence \"so far\",\n",
    "that is to say, the words 0 to N used to predict word N+1 (and beyond) in the target sentence.\n",
    "- `target` is the target sentence offset by one step:\n",
    "it provides the next words in the target sentence -- what the model will try to predict.\n",
    "\n",
    "We will add special tokens, `\"[START]\"` and `\"[END]\"`, to the input Spanish\n",
    "sentence after tokenizing the text. We will also pad the input to a fixed length.\n",
    "This can be easily done using `keras_nlp.layers.StartEndPacker`."
   ]
  },
  {
   "cell_type": "code",
   "execution_count": 0,
   "metadata": {
    "colab_type": "code"
   },
   "outputs": [],
   "source": [
    "\n",
    "def preprocess_batch(eng, spa):\n",
    "    batch_size = tf.shape(spa)[0]\n",
    "\n",
    "    eng = eng_tokenizer(eng)\n",
    "    spa = spa_tokenizer(spa)\n",
    "\n",
    "    # Pad `eng` to `MAX_SEQUENCE_LENGTH`.\n",
    "    eng_start_end_packer = keras_nlp.layers.StartEndPacker(\n",
    "        sequence_length=MAX_SEQUENCE_LENGTH,\n",
    "        pad_value=eng_tokenizer.token_to_id(\"[PAD]\"),\n",
    "    )\n",
    "    eng = eng_start_end_packer(eng)\n",
    "\n",
    "    # Add special tokens (`\"[START]\"` and `\"[END]\"`) to `spa` and pad it as well.\n",
    "    spa_start_end_packer = keras_nlp.layers.StartEndPacker(\n",
    "        sequence_length=MAX_SEQUENCE_LENGTH + 1,\n",
    "        start_value=spa_tokenizer.token_to_id(\"[START]\"),\n",
    "        end_value=spa_tokenizer.token_to_id(\"[END]\"),\n",
    "        pad_value=spa_tokenizer.token_to_id(\"[PAD]\"),\n",
    "    )\n",
    "    spa = spa_start_end_packer(spa)\n",
    "\n",
    "    return (\n",
    "        {\n",
    "            \"encoder_inputs\": eng,\n",
    "            \"decoder_inputs\": spa[:, :-1],\n",
    "        },\n",
    "        spa[:, 1:],\n",
    "    )\n",
    "\n",
    "\n",
    "def make_dataset(pairs):\n",
    "    eng_texts, spa_texts = zip(*pairs)\n",
    "    eng_texts = list(eng_texts)\n",
    "    spa_texts = list(spa_texts)\n",
    "    dataset = tf.data.Dataset.from_tensor_slices((eng_texts, spa_texts))\n",
    "    dataset = dataset.batch(BATCH_SIZE)\n",
    "    dataset = dataset.map(preprocess_batch, num_parallel_calls=tf.data.AUTOTUNE)\n",
    "    return dataset.shuffle(2048).prefetch(16).cache()\n",
    "\n",
    "\n",
    "train_ds = make_dataset(train_pairs)\n",
    "val_ds = make_dataset(val_pairs)"
   ]
  },
  {
   "cell_type": "markdown",
   "metadata": {
    "colab_type": "text"
   },
   "source": [
    "Let's take a quick look at the sequence shapes\n",
    "(we have batches of 64 pairs, and all sequences are 40 steps long):"
   ]
  },
  {
   "cell_type": "code",
   "execution_count": 0,
   "metadata": {
    "colab_type": "code"
   },
   "outputs": [],
   "source": [
    "for inputs, targets in train_ds.take(1):\n",
    "    print(f'inputs[\"encoder_inputs\"].shape: {inputs[\"encoder_inputs\"].shape}')\n",
    "    print(f'inputs[\"decoder_inputs\"].shape: {inputs[\"decoder_inputs\"].shape}')\n",
    "    print(f\"targets.shape: {targets.shape}\")\n",
    ""
   ]
  },
  {
   "cell_type": "markdown",
   "metadata": {
    "colab_type": "text"
   },
   "source": [
    "## Building the model\n",
    "\n",
    "Now, let's move on to the exciting part - defining our model!\n",
    "We first need an embedding layer, i.e., a vector for every token in our input sequence.\n",
    "This embedding layer can be initialised randomly. We also need a positional\n",
    "embedding layer which encodes the word order in the sequence. The convention is\n",
    "to add these two embeddings. KerasNLP has a `keras_nlp.layers.TokenAndPositionEmbedding `\n",
    "layer which does all of the above steps for us.\n",
    "\n",
    "Our sequence-to-sequence Transformer consists of a `keras_nlp.layers.TransformerEncoder`\n",
    "layer and a `keras_nlp.layers.TransformerDecoder` layer chained together.\n",
    "\n",
    "The source sequence will be passed to `keras_nlp.layers.TransformerEncoder`, which\n",
    "will produce a new representation of it. This new representation will then be passed\n",
    "to the `keras_nlp.layers.TransformerDecoder`, together with the target sequence\n",
    "so far (target words 0 to N). The `keras_nlp.layers.TransformerDecoder` will\n",
    "then seek to predict the next words in the target sequence (N+1 and beyond).\n",
    "\n",
    "A key detail that makes this possible is causal masking.\n",
    "The `keras_nlp.layers.TransformerDecoder` sees the entire sequence at once, and\n",
    "thus we must make sure that it only uses information from target tokens 0 to N\n",
    "when predicting token N+1 (otherwise, it could use information from the future,\n",
    "which would result in a model that cannot be used at inference time). Causal masking\n",
    "is enabled by default in `keras_nlp.layers.TransformerDecoder`.\n",
    "\n",
    "We also need to mask the padding tokens (`\"[PAD]\"`). For this, we can set the\n",
    "`mask_zero` argument of the `keras_nlp.layers.TokenAndPositionEmbedding` layer\n",
    "to True. This will then be propagated to all subsequent layers."
   ]
  },
  {
   "cell_type": "code",
   "execution_count": 0,
   "metadata": {
    "colab_type": "code"
   },
   "outputs": [],
   "source": [
    "# Encoder\n",
    "encoder_inputs = keras.Input(shape=(None,), dtype=\"int64\", name=\"encoder_inputs\")\n",
    "\n",
    "x = keras_nlp.layers.TokenAndPositionEmbedding(\n",
    "    vocabulary_size=ENG_VOCAB_SIZE,\n",
    "    sequence_length=MAX_SEQUENCE_LENGTH,\n",
    "    embedding_dim=EMBED_DIM,\n",
    "    mask_zero=True,\n",
    ")(encoder_inputs)\n",
    "\n",
    "encoder_outputs = keras_nlp.layers.TransformerEncoder(\n",
    "    intermediate_dim=INTERMEDIATE_DIM, num_heads=NUM_HEADS\n",
    ")(inputs=x)\n",
    "encoder = keras.Model(encoder_inputs, encoder_outputs)\n",
    "\n",
    "\n",
    "# Decoder\n",
    "decoder_inputs = keras.Input(shape=(None,), dtype=\"int64\", name=\"decoder_inputs\")\n",
    "encoded_seq_inputs = keras.Input(shape=(None, EMBED_DIM), name=\"decoder_state_inputs\")\n",
    "\n",
    "x = keras_nlp.layers.TokenAndPositionEmbedding(\n",
    "    vocabulary_size=SPA_VOCAB_SIZE,\n",
    "    sequence_length=MAX_SEQUENCE_LENGTH,\n",
    "    embedding_dim=EMBED_DIM,\n",
    "    mask_zero=True,\n",
    ")(decoder_inputs)\n",
    "\n",
    "x = keras_nlp.layers.TransformerDecoder(\n",
    "    intermediate_dim=INTERMEDIATE_DIM, num_heads=NUM_HEADS\n",
    ")(decoder_sequence=x, encoder_sequence=encoded_seq_inputs)\n",
    "x = keras.layers.Dropout(0.5)(x)\n",
    "decoder_outputs = keras.layers.Dense(SPA_VOCAB_SIZE, activation=\"softmax\")(x)\n",
    "decoder = keras.Model(\n",
    "    [\n",
    "        decoder_inputs,\n",
    "        encoded_seq_inputs,\n",
    "    ],\n",
    "    decoder_outputs,\n",
    ")\n",
    "decoder_outputs = decoder([decoder_inputs, encoder_outputs])\n",
    "\n",
    "transformer = keras.Model(\n",
    "    [encoder_inputs, decoder_inputs],\n",
    "    decoder_outputs,\n",
    "    name=\"transformer\",\n",
    ")"
   ]
  },
  {
   "cell_type": "markdown",
   "metadata": {
    "colab_type": "text"
   },
   "source": [
    "## Training our model\n",
    "\n",
    "We'll use accuracy as a quick way to monitor training progress on the validation data.\n",
    "Note that machine translation typically uses BLEU scores as well as other metrics,\n",
    "rather than accuracy. However, in order to use metrics like ROUGE, BLEU, etc. we\n",
    "will have decode the probabilities and generate the text. Text generation is\n",
    "computationally expensive, and performing this during training is not recommended.\n",
    "\n",
    "Here we only train for 1 epoch, but to get the model to actually converge\n",
    "you should train for at least 10 epochs."
   ]
  },
  {
   "cell_type": "code",
   "execution_count": 0,
   "metadata": {
    "colab_type": "code"
   },
   "outputs": [],
   "source": [
    "transformer.summary()\n",
    "transformer.compile(\n",
    "    \"rmsprop\", loss=\"sparse_categorical_crossentropy\", metrics=[\"accuracy\"]\n",
    ")\n",
    "transformer.fit(train_ds, epochs=EPOCHS, validation_data=val_ds)"
   ]
  },
  {
   "cell_type": "markdown",
   "metadata": {
    "colab_type": "text"
   },
   "source": [
    "## Decoding test sentences (qualitative analysis)\n",
    "\n",
    "Finally, let's demonstrate how to translate brand new English sentences.\n",
    "We simply feed into the model the tokenized English sentence\n",
    "as well as the target token `\"[START]\"`. The model outputs probabilities of the\n",
    "next token. We then we repeatedly generated the next token conditioned on the\n",
    "tokens generated so far, until we hit the token `\"[END]\"`.\n",
    "\n",
    "For decoding, we will use the `keras_nlp.utils.greedy_search` function from\n",
    "KerasNLP. Greedy Decoding is a text decoding method which outputs the most\n",
    "likely next token at each time step, i.e., the token with the highest probability."
   ]
  },
  {
   "cell_type": "code",
   "execution_count": 0,
   "metadata": {
    "colab_type": "code"
   },
   "outputs": [],
   "source": [
    "\n",
    "def decode_sequences(input_sentences):\n",
    "    batch_size = tf.shape(input_sentences)[0]\n",
    "\n",
    "    # Tokenize the encoder input.\n",
    "    encoder_input_tokens = eng_tokenizer(input_sentences).to_tensor(\n",
    "        shape=(None, MAX_SEQUENCE_LENGTH)\n",
    "    )\n",
    "\n",
    "    # Define a function that outputs the next token's probability given the\n",
    "    # input sequence.\n",
    "    def token_probability_fn(decoder_input_tokens):\n",
    "        return transformer([encoder_input_tokens, decoder_input_tokens])[:, -1, :]\n",
    "\n",
    "    # Set the prompt to the \"[START]\" token.\n",
    "    prompt = tf.fill((batch_size, 1), spa_tokenizer.token_to_id(\"[START]\"))\n",
    "\n",
    "    generated_tokens = keras_nlp.utils.greedy_search(\n",
    "        token_probability_fn,\n",
    "        prompt,\n",
    "        max_length=40,\n",
    "        end_token_id=spa_tokenizer.token_to_id(\"[END]\"),\n",
    "    )\n",
    "    generated_sentences = spa_tokenizer.detokenize(generated_tokens)\n",
    "    return generated_sentences\n",
    "\n",
    "\n",
    "test_eng_texts = [pair[0] for pair in test_pairs]\n",
    "for i in range(2):\n",
    "    input_sentence = random.choice(test_eng_texts)\n",
    "    translated = decode_sequences(tf.constant([input_sentence]))\n",
    "    translated = translated.numpy()[0].decode(\"utf-8\")\n",
    "    translated = (\n",
    "        translated.replace(\"[PAD]\", \"\")\n",
    "        .replace(\"[START]\", \"\")\n",
    "        .replace(\"[END]\", \"\")\n",
    "        .strip()\n",
    "    )\n",
    "    print(f\"** Example {i} **\")\n",
    "    print(input_sentence)\n",
    "    print(translated)\n",
    "    print()"
   ]
  },
  {
   "cell_type": "markdown",
   "metadata": {
    "colab_type": "text"
   },
   "source": [
    "After 10 epochs, we get samples like these:\n",
    "\n",
    "** Example 0 **\n",
    "\n",
    "have you seen this?\n",
    "\n",
    "\u00bfhas visto esto?\n",
    "\n",
    "** Example 1 **\n",
    "\n",
    "it's very hot here.\n",
    "\n",
    "hace mucho calor aqui.\n",
    "\n",
    "** Example 2 **\n",
    "\n",
    "my mother always says she's going to visit me soon.\n",
    "\n",
    "mi madre es algo de decir que ella me va a visitar pronto.\n",
    "\n",
    "** Example 3 **\n",
    "\n",
    "you can't say that.\n",
    "\n",
    "no puedes decir eso.\n",
    "\n",
    "** Example 4 **\n",
    "\n",
    "there are always some chores to be done around the house.\n",
    "\n",
    "siempre hay algunos chance para hacer cerca de la casa.\n",
    "\n",
    "** Example 5 **\n",
    "\n",
    "sometimes the boys would play a joke on the teacher.\n",
    "\n",
    "a veces los ninos tocaria una broma con el profesor.\n",
    "\n",
    "** Example 6 **\n",
    "\n",
    "move this table toward the corner.\n",
    "\n",
    "muevile esta mesa hacia la car, se muelvale esta mesa.\n",
    "\n",
    "** Example 7 **\n",
    "\n",
    "tom has never heard mary sing.\n",
    "\n",
    "tom nunca ha o\u00eddo cantar a mary.\n",
    "\n",
    "** Example 8 **\n",
    "\n",
    "tom was in town monday night.\n",
    "\n",
    "tom estaba en la noche el lunes por la noche.\n",
    "\n",
    "** Example 9 **\n",
    "\n",
    "what's happened, has happened. it's history.\n",
    "\n",
    "lo que paso, ha pasado. es historia."
   ]
  },
  {
   "cell_type": "markdown",
   "metadata": {
    "colab_type": "text"
   },
   "source": [
    "## Evaluating our model (quantitative analysis)\n",
    "\n",
    "There are many metrics which are used for text generation tasks. Here, to\n",
    "evaluate translations generated by our model, let's compute the ROUGE-1 and\n",
    "ROUGE-2 scores. Essentially, ROUGE-N is a score based on the number of common\n",
    "n-grams between the reference text and the generated text. ROUGE-1 and ROUGE-2\n",
    "use the number of common unigrams and bigrams, respectively.\n",
    "\n",
    "We will calculate the score over 30 test samples (since decoding is an\n",
    "expensive process)."
   ]
  },
  {
   "cell_type": "code",
   "execution_count": 0,
   "metadata": {
    "colab_type": "code"
   },
   "outputs": [],
   "source": [
    "rouge_1 = keras_nlp.metrics.RougeN(order=1)\n",
    "rouge_2 = keras_nlp.metrics.RougeN(order=2)\n",
    "\n",
    "for test_pair in test_pairs[:30]:\n",
    "    input_sentence = test_pair[0]\n",
    "    reference_sentence = test_pair[1]\n",
    "\n",
    "    translated_sentence = decode_sequences(tf.constant([input_sentence]))\n",
    "    translated_sentence = translated_sentence.numpy()[0].decode(\"utf-8\")\n",
    "    translated_sentence = (\n",
    "        translated_sentence.replace(\"[PAD]\", \"\")\n",
    "        .replace(\"[START]\", \"\")\n",
    "        .replace(\"[END]\", \"\")\n",
    "        .strip()\n",
    "    )\n",
    "\n",
    "    rouge_1(reference_sentence, translated_sentence)\n",
    "    rouge_2(reference_sentence, translated_sentence)\n",
    "\n",
    "print(\"ROUGE-1 Score: \", rouge_1.result())\n",
    "print(\"ROUGE-2 Score: \", rouge_2.result())"
   ]
  },
  {
   "cell_type": "markdown",
   "metadata": {
    "colab_type": "text"
   },
   "source": [
    "After 10 epochs, the scores are as follows:\n",
    "\n",
    "|               | **ROUGE-1** | **ROUGE-2** |\n",
    "|:-------------:|:-----------:|:-----------:|\n",
    "| **Precision** |    0.468    |    0.245    |\n",
    "|   **Recall**  |    0.456    |    0.230    |\n",
    "|  **F1 Score** |    0.457    |    0.236    |"
   ]
  }
 ],
 "metadata": {
  "colab": {
   "collapsed_sections": [],
   "name": "neural_machine_translation_with_keras_nlp",
   "private_outputs": false,
   "provenance": [],
   "toc_visible": true
  },
  "kernelspec": {
   "display_name": "Python 3",
   "language": "python",
   "name": "python3"
  },
  "language_info": {
   "codemirror_mode": {
    "name": "ipython",
    "version": 3
   },
   "file_extension": ".py",
   "mimetype": "text/x-python",
   "name": "python",
   "nbconvert_exporter": "python",
   "pygments_lexer": "ipython3",
   "version": "3.7.0"
  }
 },
 "nbformat": 4,
 "nbformat_minor": 0
}