{
 "cells": [
  {
   "cell_type": "markdown",
   "metadata": {
    "colab_type": "text"
   },
   "source": [
    "# Text classification using Decision Forests and pretrained embeddings\n",
    "\n",
    "**Author:** Gitesh Chawda<br>\n",
    "**Date created:** 09/05/2022<br>\n",
    "**Last modified:** 09/05/2022<br>\n",
    "**Description:** Using Tensorflow Decision Forests for text classification."
   ]
  },
  {
   "cell_type": "markdown",
   "metadata": {
    "colab_type": "text"
   },
   "source": [
    "## Introduction\n",
    "\n",
    "[TensorFlow Decision Forests](https://www.tensorflow.org/decision_forests) (TF-DF)\n",
    "is a collection of state-of-the-art algorithms for Decision Forest models that are\n",
    "compatible with Keras APIs. The module includes Random Forests, Gradient Boosted Trees,\n",
    "and CART, and can be used for regression, classification, and ranking tasks.\n",
    "\n",
    "In this example we will use Gradient Boosted Trees with pretrained embeddings to\n",
    "classify disaster-related tweets.\n",
    "\n",
    "### See also:\n",
    "\n",
    "- [TF-DF beginner tutorial](https://www.tensorflow.org/decision_forests/tutorials/beginner_colab)\n",
    "- [TF-DF intermediate tutorial](https://www.tensorflow.org/decision_forests/tutorials/intermediate_colab)."
   ]
  },
  {
   "cell_type": "markdown",
   "metadata": {
    "colab_type": "text"
   },
   "source": [
    "Install Tensorflow Decision Forest using following command :\n",
    "`pip install tensorflow_decision_forests`"
   ]
  },
  {
   "cell_type": "markdown",
   "metadata": {
    "colab_type": "text"
   },
   "source": [
    "## Imports"
   ]
  },
  {
   "cell_type": "code",
   "execution_count": 0,
   "metadata": {
    "colab_type": "code"
   },
   "outputs": [],
   "source": [
    "import pandas as pd\n",
    "import numpy as np\n",
    "import tensorflow as tf\n",
    "from tensorflow import keras\n",
    "import tensorflow_hub as hub\n",
    "from tensorflow.keras import layers\n",
    "import tensorflow_decision_forests as tfdf\n",
    "import matplotlib.pyplot as plt"
   ]
  },
  {
   "cell_type": "markdown",
   "metadata": {
    "colab_type": "text"
   },
   "source": [
    "## Get the data\n",
    "\n",
    "The Dataset is avalaible on [Kaggle](https://www.kaggle.com/c/nlp-getting-started)\n",
    "\n",
    "Dataset description:\n",
    "\n",
    "1. Files\n",
    "\n",
    "- train.csv: the training set\n",
    "\n",
    "2. Columns\n",
    "\n",
    "- id: a unique identifier for each tweet\n",
    "- text: the text of the tweet\n",
    "- location: the location the tweet was sent from (may be blank)\n",
    "- keyword: a particular keyword from the tweet (may be blank)\n",
    "- target: in train.csv only, this denotes whether a tweet is about a real disaster (1) or not (0)"
   ]
  },
  {
   "cell_type": "code",
   "execution_count": 0,
   "metadata": {
    "colab_type": "code"
   },
   "outputs": [],
   "source": [
    "# Turn .csv files into pandas DataFrame's\n",
    "df = pd.read_csv(\n",
    "    \"https://raw.githubusercontent.com/IMvision12/Tweets-Classification-NLP/main/train.csv\"\n",
    ")\n",
    "print(df.head())"
   ]
  },
  {
   "cell_type": "markdown",
   "metadata": {
    "colab_type": "text"
   },
   "source": [
    "The dataset includes 7613 samples with 5 columns:"
   ]
  },
  {
   "cell_type": "code",
   "execution_count": 0,
   "metadata": {
    "colab_type": "code"
   },
   "outputs": [],
   "source": [
    "print(f\"Training dataset shape: {df.shape}\")"
   ]
  },
  {
   "cell_type": "markdown",
   "metadata": {
    "colab_type": "text"
   },
   "source": [
    "Shuffling and dropping unnecessary columns:"
   ]
  },
  {
   "cell_type": "code",
   "execution_count": 0,
   "metadata": {
    "colab_type": "code"
   },
   "outputs": [],
   "source": [
    "df_shuffled = df.sample(frac=1, random_state=42)\n",
    "# Dropping id, keyword and location columns as these columns consists of mostly nan values\n",
    "# we will be using only text and target columns\n",
    "df_shuffled.drop([\"id\", \"keyword\", \"location\"], axis=1, inplace=True)\n",
    "df_shuffled.reset_index(inplace=True, drop=True)\n",
    "print(df_shuffled.head())"
   ]
  },
  {
   "cell_type": "markdown",
   "metadata": {
    "colab_type": "text"
   },
   "source": [
    "Printing information about the shuffled dataframe:"
   ]
  },
  {
   "cell_type": "code",
   "execution_count": 0,
   "metadata": {
    "colab_type": "code"
   },
   "outputs": [],
   "source": [
    "print(df_shuffled.info())"
   ]
  },
  {
   "cell_type": "markdown",
   "metadata": {
    "colab_type": "text"
   },
   "source": [
    "Total number of \"disaster\" and \"non-disaster\" tweets:"
   ]
  },
  {
   "cell_type": "code",
   "execution_count": 0,
   "metadata": {
    "colab_type": "code"
   },
   "outputs": [],
   "source": [
    "print(\n",
    "    \"Total Number of disaster and non-disaster tweets: \"\n",
    "    f\"{df_shuffled.target.value_counts()}\"\n",
    ")"
   ]
  },
  {
   "cell_type": "markdown",
   "metadata": {
    "colab_type": "text"
   },
   "source": [
    "Let's preview a few samples:"
   ]
  },
  {
   "cell_type": "code",
   "execution_count": 0,
   "metadata": {
    "colab_type": "code"
   },
   "outputs": [],
   "source": [
    "for index, example in df_shuffled[:5].iterrows():\n",
    "    print(f\"Example #{index}\")\n",
    "    print(f\"\\tTarget : {example['target']}\")\n",
    "    print(f\"\\tText : {example['text']}\")"
   ]
  },
  {
   "cell_type": "markdown",
   "metadata": {
    "colab_type": "text"
   },
   "source": [
    "Splitting dataset into training and test sets:"
   ]
  },
  {
   "cell_type": "code",
   "execution_count": 0,
   "metadata": {
    "colab_type": "code"
   },
   "outputs": [],
   "source": [
    "test_df = df_shuffled.sample(frac=0.1, random_state=42)\n",
    "train_df = df_shuffled.drop(test_df.index)\n",
    "print(f\"Using {len(train_df)} samples for training and {len(test_df)} for validation\")"
   ]
  },
  {
   "cell_type": "markdown",
   "metadata": {
    "colab_type": "text"
   },
   "source": [
    "Total number of \"disaster\" and \"non-disaster\" tweets in the training data:"
   ]
  },
  {
   "cell_type": "code",
   "execution_count": 0,
   "metadata": {
    "colab_type": "code"
   },
   "outputs": [],
   "source": [
    "print(train_df[\"target\"].value_counts())"
   ]
  },
  {
   "cell_type": "markdown",
   "metadata": {
    "colab_type": "text"
   },
   "source": [
    "Total number of \"disaster\" and \"non-disaster\" tweets in the test data:"
   ]
  },
  {
   "cell_type": "code",
   "execution_count": 0,
   "metadata": {
    "colab_type": "code"
   },
   "outputs": [],
   "source": [
    "print(test_df[\"target\"].value_counts())"
   ]
  },
  {
   "cell_type": "markdown",
   "metadata": {
    "colab_type": "text"
   },
   "source": [
    "## Convert data to a `tf.data.Dataset`"
   ]
  },
  {
   "cell_type": "code",
   "execution_count": 0,
   "metadata": {
    "colab_type": "code"
   },
   "outputs": [],
   "source": [
    "\n",
    "def create_dataset(dataframe):\n",
    "    dataset = tf.data.Dataset.from_tensor_slices(\n",
    "        (df[\"text\"].to_numpy(), df[\"target\"].to_numpy())\n",
    "    )\n",
    "    dataset = dataset.batch(100)\n",
    "    dataset = dataset.prefetch(tf.data.AUTOTUNE)\n",
    "    return dataset\n",
    "\n",
    "\n",
    "train_ds = create_dataset(train_df)\n",
    "test_ds = create_dataset(test_df)"
   ]
  },
  {
   "cell_type": "markdown",
   "metadata": {
    "colab_type": "text"
   },
   "source": [
    "## Downloading pretrained embeddings\n",
    "\n",
    "The Universal Sentence Encoder embeddings encode text into high-dimensional vectors that can be\n",
    "used for text classification, semantic similarity, clustering and other natural language\n",
    "tasks. They're trained on a variety of data sources and a variety of tasks. Their input is\n",
    "variable-length English text and their output is a 512 dimensional vector.\n",
    "\n",
    "To learn more about these pretrained embeddings, see\n",
    "[Universal Sentence Encoder](https://tfhub.dev/google/universal-sentence-encoder/4)."
   ]
  },
  {
   "cell_type": "code",
   "execution_count": 0,
   "metadata": {
    "colab_type": "code"
   },
   "outputs": [],
   "source": [
    "sentence_encoder_layer = hub.KerasLayer(\n",
    "    \"https://tfhub.dev/google/universal-sentence-encoder/4\"\n",
    ")"
   ]
  },
  {
   "cell_type": "markdown",
   "metadata": {
    "colab_type": "text"
   },
   "source": [
    "## Creating our models\n",
    "\n",
    "We create two models. In the first model (model_1) raw text will be first encoded via\n",
    "pretrained embeddings and then passed to a Gradient Boosted Tree model for\n",
    "classification. In the second model (model_2) raw text will be directly passed to\n",
    "the Gradient Boosted Trees model."
   ]
  },
  {
   "cell_type": "markdown",
   "metadata": {
    "colab_type": "text"
   },
   "source": [
    "Building model_1"
   ]
  },
  {
   "cell_type": "code",
   "execution_count": 0,
   "metadata": {
    "colab_type": "code"
   },
   "outputs": [],
   "source": [
    "inputs = layers.Input(shape=(), dtype=tf.string)\n",
    "outputs = sentence_encoder_layer(inputs)\n",
    "preprocessor = keras.Model(inputs=inputs, outputs=outputs)\n",
    "model_1 = tfdf.keras.GradientBoostedTreesModel(preprocessing=preprocessor)"
   ]
  },
  {
   "cell_type": "markdown",
   "metadata": {
    "colab_type": "text"
   },
   "source": [
    "Building model_2"
   ]
  },
  {
   "cell_type": "code",
   "execution_count": 0,
   "metadata": {
    "colab_type": "code"
   },
   "outputs": [],
   "source": [
    "model_2 = tfdf.keras.GradientBoostedTreesModel()"
   ]
  },
  {
   "cell_type": "markdown",
   "metadata": {
    "colab_type": "text"
   },
   "source": [
    "## Train the models\n",
    "\n",
    "We compile our model by passing the metrics `Accuracy`, `Recall`, `Precision` and\n",
    "`AUC`. When it comes to the loss, TF-DF automatically detects the best loss for the task\n",
    "(Classification or regression). It is printed in the model summary.\n",
    "\n",
    "Also, because they're batch-training models rather than mini-batch gradient descent models,\n",
    "TF-DF models do not need a validation dataset to monitor overfitting, or to stop\n",
    "training early. Some algorithms do not use a validation dataset (e.g. Random Forest)\n",
    "while some others do (e.g. Gradient Boosted Trees). If a validation dataset is\n",
    "needed, it will be extracted automatically from the training dataset."
   ]
  },
  {
   "cell_type": "code",
   "execution_count": 0,
   "metadata": {
    "colab_type": "code"
   },
   "outputs": [],
   "source": [
    "# Compiling model_1\n",
    "model_1.compile(metrics=[\"Accuracy\", \"Recall\", \"Precision\", \"AUC\"])\n",
    "# Here we do not specify epochs as, TF-DF trains exactly one epoch of the dataset\n",
    "model_1.fit(train_ds)\n",
    "\n",
    "# Compiling model_2\n",
    "model_2.compile(metrics=[\"Accuracy\", \"Recall\", \"Precision\", \"AUC\"])\n",
    "# Here we do not specify epochs as, TF-DF trains exactly one epoch of the dataset\n",
    "model_2.fit(train_ds)"
   ]
  },
  {
   "cell_type": "markdown",
   "metadata": {
    "colab_type": "text"
   },
   "source": [
    "Prints training logs of model_1"
   ]
  },
  {
   "cell_type": "code",
   "execution_count": 0,
   "metadata": {
    "colab_type": "code"
   },
   "outputs": [],
   "source": [
    "logs_1 = model_1.make_inspector().training_logs()\n",
    "print(logs_1)"
   ]
  },
  {
   "cell_type": "markdown",
   "metadata": {
    "colab_type": "text"
   },
   "source": [
    "Prints training logs of model_2"
   ]
  },
  {
   "cell_type": "code",
   "execution_count": 0,
   "metadata": {
    "colab_type": "code"
   },
   "outputs": [],
   "source": [
    "logs_2 = model_2.make_inspector().training_logs()\n",
    "print(logs_2)"
   ]
  },
  {
   "cell_type": "markdown",
   "metadata": {
    "colab_type": "text"
   },
   "source": [
    "The `model.summary()` method prints a variety of information about your decision tree\n",
    "model, including model type, task, input features, and feature importance."
   ]
  },
  {
   "cell_type": "code",
   "execution_count": 0,
   "metadata": {
    "colab_type": "code"
   },
   "outputs": [],
   "source": [
    "print(\"model_1 summary: \")\n",
    "print(model_1.summary())\n",
    "print()\n",
    "print(\"model_2 summary: \")\n",
    "print(model_2.summary())"
   ]
  },
  {
   "cell_type": "markdown",
   "metadata": {
    "colab_type": "text"
   },
   "source": [
    "Plotting training an logs"
   ]
  },
  {
   "cell_type": "code",
   "execution_count": 0,
   "metadata": {
    "colab_type": "code"
   },
   "outputs": [],
   "source": [
    "\n",
    "def plot_curve(logs):\n",
    "    plt.figure(figsize=(12, 4))\n",
    "\n",
    "    plt.subplot(1, 2, 1)\n",
    "    plt.plot([log.num_trees for log in logs], [log.evaluation.accuracy for log in logs])\n",
    "    plt.xlabel(\"Number of trees\")\n",
    "    plt.ylabel(\"Accuracy\")\n",
    "\n",
    "    plt.subplot(1, 2, 2)\n",
    "    plt.plot([log.num_trees for log in logs], [log.evaluation.loss for log in logs])\n",
    "    plt.xlabel(\"Number of trees\")\n",
    "    plt.ylabel(\"Loss\")\n",
    "\n",
    "    plt.show()\n",
    "\n",
    "\n",
    "plot_curve(logs_1)\n",
    "plot_curve(logs_2)"
   ]
  },
  {
   "cell_type": "markdown",
   "metadata": {
    "colab_type": "text"
   },
   "source": [
    "## Evaluating on test data"
   ]
  },
  {
   "cell_type": "code",
   "execution_count": 0,
   "metadata": {
    "colab_type": "code"
   },
   "outputs": [],
   "source": [
    "results = model_1.evaluate(test_ds, return_dict=True, verbose=0)\n",
    "print(\"model_1 Evaluation: \\n\")\n",
    "for name, value in results.items():\n",
    "    print(f\"{name}: {value:.4f}\")\n",
    "\n",
    "results = model_2.evaluate(test_ds, return_dict=True, verbose=0)\n",
    "print(\"model_2 Evaluation: \\n\")\n",
    "for name, value in results.items():\n",
    "    print(f\"{name}: {value:.4f}\")"
   ]
  },
  {
   "cell_type": "markdown",
   "metadata": {
    "colab_type": "text"
   },
   "source": [
    "# Predicting on validation data"
   ]
  },
  {
   "cell_type": "code",
   "execution_count": 0,
   "metadata": {
    "colab_type": "code"
   },
   "outputs": [],
   "source": [
    "test_df.reset_index(inplace=True, drop=True)\n",
    "for index, row in test_df.iterrows():\n",
    "    text = tf.expand_dims(row[\"text\"], axis=0)\n",
    "    preds = model_1.predict_step(text)\n",
    "    preds = tf.squeeze(tf.round(preds))\n",
    "    print(f\"Text: {row['text']}\")\n",
    "    print(f\"Prediction: {int(preds)}\")\n",
    "    print(f\"Ground Truth : {row['target']}\")\n",
    "    if index == 10:\n",
    "        break"
   ]
  },
  {
   "cell_type": "markdown",
   "metadata": {
    "colab_type": "text"
   },
   "source": [
    "## Concluding remarks\n",
    "\n",
    "The TensorFlow Decision Forests package provides powerful models\n",
    "that work especially well with structured data. In our experiments,\n",
    "the Gradient Boosted Tree model with pretrained embeddings achieved 94%\n",
    "test accuracy while the plain Gradient Boosted Tree model had 57.31% accuracy."
   ]
  }
 ],
 "metadata": {
  "colab": {
   "collapsed_sections": [],
   "name": "Tweet-classification-using-TFDF",
   "private_outputs": false,
   "provenance": [],
   "toc_visible": true
  },
  "kernelspec": {
   "display_name": "Python 3",
   "language": "python",
   "name": "python3"
  },
  "language_info": {
   "codemirror_mode": {
    "name": "ipython",
    "version": 3
   },
   "file_extension": ".py",
   "mimetype": "text/x-python",
   "name": "python",
   "nbconvert_exporter": "python",
   "pygments_lexer": "ipython3",
   "version": "3.7.0"
  }
 },
 "nbformat": 4,
 "nbformat_minor": 0
}