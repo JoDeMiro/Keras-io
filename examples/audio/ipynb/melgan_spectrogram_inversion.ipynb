{
 "cells": [
  {
   "cell_type": "markdown",
   "metadata": {
    "colab_type": "text"
   },
   "source": [
    "# MelGAN-based spectrogram inversion using feature matching\n",
    "\n",
    "**Author:** [Darshan Deshpande](https://twitter.com/getdarshan)<br>\n",
    "**Date created:** 02/09/2021<br>\n",
    "**Last modified:** 15/09/2021<br>\n",
    "**Description:** Inversion of audio from mel-spectrograms using the MelGAN architecture and feature matching."
   ]
  },
  {
   "cell_type": "markdown",
   "metadata": {
    "colab_type": "text"
   },
   "source": [
    "## Introduction\n",
    "\n",
    "Autoregressive vocoders have been ubiquitous for a majority of the history of speech processing,\n",
    "but for most of their existence they have lacked parallelism.\n",
    "[MelGAN](https://arxiv.org/pdf/1910.06711v3.pdf) is a\n",
    "non-autoregressive, fully convolutional vocoder architecture used for purposes ranging\n",
    "from spectral inversion and speech enhancement to present-day state-of-the-art\n",
    "speech synthesis when used as a decoder\n",
    "with models like Tacotron2 or FastSpeech that convert text to mel spectrograms.\n",
    "\n",
    "In this tutorial, we will have a look at the MelGAN architecture and how it can achieve\n",
    "fast spectral inversion, i.e. conversion of spectrograms to audio waves. The MelGAN\n",
    "implemented in this tutorial is similar to the original implementation with only the\n",
    "difference of method of padding for convolutions where we will use 'same' instead of\n",
    "reflect padding."
   ]
  },
  {
   "cell_type": "markdown",
   "metadata": {
    "colab_type": "text"
   },
   "source": [
    "## Importing and Defining Hyperparameters"
   ]
  },
  {
   "cell_type": "code",
   "execution_count": 0,
   "metadata": {
    "colab_type": "code"
   },
   "outputs": [],
   "source": [
    "!pip install -qqq tensorflow_addons\n",
    "!pip install -qqq tensorflow-io"
   ]
  },
  {
   "cell_type": "code",
   "execution_count": 0,
   "metadata": {
    "colab_type": "code"
   },
   "outputs": [],
   "source": [
    "import tensorflow as tf\n",
    "import tensorflow_io as tfio\n",
    "from tensorflow import keras\n",
    "from tensorflow.keras import layers\n",
    "from tensorflow_addons import layers as addon_layers\n",
    "\n",
    "# Setting logger level to avoid input shape warnings\n",
    "tf.get_logger().setLevel(\"ERROR\")\n",
    "\n",
    "# Defining hyperparameters\n",
    "\n",
    "DESIRED_SAMPLES = 8192\n",
    "LEARNING_RATE_GEN = 1e-5\n",
    "LEARNING_RATE_DISC = 1e-6\n",
    "BATCH_SIZE = 16\n",
    "\n",
    "mse = keras.losses.MeanSquaredError()\n",
    "mae = keras.losses.MeanAbsoluteError()"
   ]
  },
  {
   "cell_type": "markdown",
   "metadata": {
    "colab_type": "text"
   },
   "source": [
    "## Loading the Dataset\n",
    "\n",
    "This example uses the [LJSpeech dataset](https://keithito.com/LJ-Speech-Dataset/).\n",
    "\n",
    "The LJSpeech dataset is primarily used for text-to-speech and consists of 13,100 discrete\n",
    "speech samples taken from 7 non-fiction books, having a total length of approximately 24\n",
    "hours. The MelGAN training is only concerned with the audio waves so we process only the\n",
    "WAV files and ignore the audio annotations."
   ]
  },
  {
   "cell_type": "code",
   "execution_count": 0,
   "metadata": {
    "colab_type": "code"
   },
   "outputs": [],
   "source": [
    "!wget https://data.keithito.com/data/speech/LJSpeech-1.1.tar.bz2\n",
    "!tar -xf /content/LJSpeech-1.1.tar.bz2"
   ]
  },
  {
   "cell_type": "markdown",
   "metadata": {
    "colab_type": "text"
   },
   "source": [
    "We create a `tf.data.Dataset` to load and process the audio files on the fly.\n",
    "The `preprocess()` function takes the file path as input and returns two instances of the\n",
    "wave, one for input and one as the ground truth for comparsion. The input wave will be\n",
    "mapped to a spectrogram using the custom `MelSpec` layer as shown later in this example."
   ]
  },
  {
   "cell_type": "code",
   "execution_count": 0,
   "metadata": {
    "colab_type": "code"
   },
   "outputs": [],
   "source": [
    "# Splitting the dataset into training and testing splits\n",
    "wavs = tf.io.gfile.glob(\"LJSpeech-1.1/wavs/*.wav\")\n",
    "print(f\"Number of audio files: {len(wavs)}\")\n",
    "\n",
    "# Mapper function for loading the audio. This function returns two instances of the wave\n",
    "def preprocess(filename):\n",
    "    audio = tf.audio.decode_wav(tf.io.read_file(filename), 1, DESIRED_SAMPLES).audio\n",
    "    return audio, audio\n",
    "\n",
    "\n",
    "# Create tf.data.Dataset objects and apply preprocessing\n",
    "train_dataset = tf.data.Dataset.from_tensor_slices((wavs,))\n",
    "train_dataset = train_dataset.map(preprocess, num_parallel_calls=tf.data.AUTOTUNE)"
   ]
  },
  {
   "cell_type": "markdown",
   "metadata": {
    "colab_type": "text"
   },
   "source": [
    "## Defining custom layers for MelGAN\n",
    "\n",
    "The MelGAN architecture consists of 3 main modules:\n",
    "\n",
    "1. The residual block\n",
    "2. Dilated convolutional block\n",
    "3. Discriminator block\n",
    "\n",
    "![MelGAN](https://i.imgur.com/ZdxwzPG.png)"
   ]
  },
  {
   "cell_type": "markdown",
   "metadata": {
    "colab_type": "text"
   },
   "source": [
    "Since the network takes a mel-spectrogram as input, we will create an additional custom\n",
    "layer\n",
    "which can convert the raw audio wave to a spectrogram on-the-fly. We use the raw audio\n",
    "tensor from `train_dataset` and map it to a mel-spectrogram using the `MelSpec` layer\n",
    "below."
   ]
  },
  {
   "cell_type": "code",
   "execution_count": 0,
   "metadata": {
    "colab_type": "code"
   },
   "outputs": [],
   "source": [
    "# Custom keras layer for on-the-fly audio to spectrogram conversion\n",
    "\n",
    "\n",
    "class MelSpec(layers.Layer):\n",
    "    def __init__(\n",
    "        self,\n",
    "        frame_length=1024,\n",
    "        frame_step=256,\n",
    "        fft_length=None,\n",
    "        sampling_rate=22050,\n",
    "        num_mel_channels=80,\n",
    "        freq_min=125,\n",
    "        freq_max=7600,\n",
    "        **kwargs,\n",
    "    ):\n",
    "        super().__init__(**kwargs)\n",
    "        self.frame_length = frame_length\n",
    "        self.frame_step = frame_step\n",
    "        self.fft_length = fft_length\n",
    "        self.sampling_rate = sampling_rate\n",
    "        self.num_mel_channels = num_mel_channels\n",
    "        self.freq_min = freq_min\n",
    "        self.freq_max = freq_max\n",
    "        # Defining mel filter. This filter will be multiplied with the STFT output\n",
    "        self.mel_filterbank = tf.signal.linear_to_mel_weight_matrix(\n",
    "            num_mel_bins=self.num_mel_channels,\n",
    "            num_spectrogram_bins=self.frame_length // 2 + 1,\n",
    "            sample_rate=self.sampling_rate,\n",
    "            lower_edge_hertz=self.freq_min,\n",
    "            upper_edge_hertz=self.freq_max,\n",
    "        )\n",
    "\n",
    "    def call(self, audio, training=True):\n",
    "        # We will only perform the transformation during training.\n",
    "        if training:\n",
    "            # Taking the Short Time Fourier Transform. Ensure that the audio is padded.\n",
    "            # In the paper, the STFT output is padded using the 'REFLECT' strategy.\n",
    "            stft = tf.signal.stft(\n",
    "                tf.squeeze(audio, -1),\n",
    "                self.frame_length,\n",
    "                self.frame_step,\n",
    "                self.fft_length,\n",
    "                pad_end=True,\n",
    "            )\n",
    "\n",
    "            # Taking the magnitude of the STFT output\n",
    "            magnitude = tf.abs(stft)\n",
    "\n",
    "            # Multiplying the Mel-filterbank with the magnitude and scaling it using the db scale\n",
    "            mel = tf.matmul(tf.square(magnitude), self.mel_filterbank)\n",
    "            log_mel_spec = tfio.audio.dbscale(mel, top_db=80)\n",
    "            return log_mel_spec\n",
    "        else:\n",
    "            return audio\n",
    "\n",
    "    def get_config(self):\n",
    "        config = super(MelSpec, self).get_config()\n",
    "        config.update(\n",
    "            {\n",
    "                \"frame_length\": self.frame_length,\n",
    "                \"frame_step\": self.frame_step,\n",
    "                \"fft_length\": self.fft_length,\n",
    "                \"sampling_rate\": self.sampling_rate,\n",
    "                \"num_mel_channels\": self.num_mel_channels,\n",
    "                \"freq_min\": self.freq_min,\n",
    "                \"freq_max\": self.freq_max,\n",
    "            }\n",
    "        )\n",
    "        return config\n"
   ]
  },
  {
   "cell_type": "markdown",
   "metadata": {
    "colab_type": "text"
   },
   "source": [
    "The residual convolutional block extensively uses dilations and has a total receptive\n",
    "field of 27 timesteps per block. The dilations must grow as a power of the `kernel_size`\n",
    "to ensure reduction of hissing noise in the output. The network proposed by the paper is\n",
    "as follows:\n",
    "\n",
    "![ConvBlock](https://i.imgur.com/sFnnsCll.jpg)"
   ]
  },
  {
   "cell_type": "code",
   "execution_count": 0,
   "metadata": {
    "colab_type": "code"
   },
   "outputs": [],
   "source": [
    "# Creating the residual stack block\n",
    "\n",
    "\n",
    "def residual_stack(input, filters):\n",
    "    \"\"\"Convolutional residual stack with weight normalization.\n",
    "\n",
    "    Args:\n",
    "        filter: int, determines filter size for the residual stack.\n",
    "\n",
    "    Returns:\n",
    "        Residual stack output.\n",
    "    \"\"\"\n",
    "    c1 = addon_layers.WeightNormalization(\n",
    "        layers.Conv1D(filters, 3, dilation_rate=1, padding=\"same\"), data_init=False\n",
    "    )(input)\n",
    "    lrelu1 = layers.LeakyReLU()(c1)\n",
    "    c2 = addon_layers.WeightNormalization(\n",
    "        layers.Conv1D(filters, 3, dilation_rate=1, padding=\"same\"), data_init=False\n",
    "    )(lrelu1)\n",
    "    add1 = layers.Add()([c2, input])\n",
    "\n",
    "    lrelu2 = layers.LeakyReLU()(add1)\n",
    "    c3 = addon_layers.WeightNormalization(\n",
    "        layers.Conv1D(filters, 3, dilation_rate=3, padding=\"same\"), data_init=False\n",
    "    )(lrelu2)\n",
    "    lrelu3 = layers.LeakyReLU()(c3)\n",
    "    c4 = addon_layers.WeightNormalization(\n",
    "        layers.Conv1D(filters, 3, dilation_rate=1, padding=\"same\"), data_init=False\n",
    "    )(lrelu3)\n",
    "    add2 = layers.Add()([add1, c4])\n",
    "\n",
    "    lrelu4 = layers.LeakyReLU()(add2)\n",
    "    c5 = addon_layers.WeightNormalization(\n",
    "        layers.Conv1D(filters, 3, dilation_rate=9, padding=\"same\"), data_init=False\n",
    "    )(lrelu4)\n",
    "    lrelu5 = layers.LeakyReLU()(c5)\n",
    "    c6 = addon_layers.WeightNormalization(\n",
    "        layers.Conv1D(filters, 3, dilation_rate=1, padding=\"same\"), data_init=False\n",
    "    )(lrelu5)\n",
    "    add3 = layers.Add()([c6, add2])\n",
    "\n",
    "    return add3\n"
   ]
  },
  {
   "cell_type": "markdown",
   "metadata": {
    "colab_type": "text"
   },
   "source": [
    "Each convolutional block uses the dilations offered by the residual stack\n",
    "and upsamples the input data by the `upsampling_factor`."
   ]
  },
  {
   "cell_type": "code",
   "execution_count": 0,
   "metadata": {
    "colab_type": "code"
   },
   "outputs": [],
   "source": [
    "# Dilated convolutional block consisting of the Residual stack\n",
    "\n",
    "\n",
    "def conv_block(input, conv_dim, upsampling_factor):\n",
    "    \"\"\"Dilated Convolutional Block with weight normalization.\n",
    "\n",
    "    Args:\n",
    "        conv_dim: int, determines filter size for the block.\n",
    "        upsampling_factor: int, scale for upsampling.\n",
    "\n",
    "    Returns:\n",
    "        Dilated convolution block.\n",
    "    \"\"\"\n",
    "    conv_t = addon_layers.WeightNormalization(\n",
    "        layers.Conv1DTranspose(conv_dim, 16, upsampling_factor, padding=\"same\"),\n",
    "        data_init=False,\n",
    "    )(input)\n",
    "    lrelu1 = layers.LeakyReLU()(conv_t)\n",
    "    res_stack = residual_stack(lrelu1, conv_dim)\n",
    "    lrelu2 = layers.LeakyReLU()(res_stack)\n",
    "    return lrelu2\n"
   ]
  },
  {
   "cell_type": "markdown",
   "metadata": {
    "colab_type": "text"
   },
   "source": [
    "The discriminator block consists of convolutions and downsampling layers. This block is\n",
    "essential for the implementation of the feature matching technique.\n",
    "\n",
    "Each discriminator outputs a list of feature maps that will be compared during training\n",
    "to compute the feature matching loss."
   ]
  },
  {
   "cell_type": "code",
   "execution_count": 0,
   "metadata": {
    "colab_type": "code"
   },
   "outputs": [],
   "source": [
    "\n",
    "def discriminator_block(input):\n",
    "    conv1 = addon_layers.WeightNormalization(\n",
    "        layers.Conv1D(16, 15, 1, \"same\"), data_init=False\n",
    "    )(input)\n",
    "    lrelu1 = layers.LeakyReLU()(conv1)\n",
    "    conv2 = addon_layers.WeightNormalization(\n",
    "        layers.Conv1D(64, 41, 4, \"same\", groups=4), data_init=False\n",
    "    )(lrelu1)\n",
    "    lrelu2 = layers.LeakyReLU()(conv2)\n",
    "    conv3 = addon_layers.WeightNormalization(\n",
    "        layers.Conv1D(256, 41, 4, \"same\", groups=16), data_init=False\n",
    "    )(lrelu2)\n",
    "    lrelu3 = layers.LeakyReLU()(conv3)\n",
    "    conv4 = addon_layers.WeightNormalization(\n",
    "        layers.Conv1D(1024, 41, 4, \"same\", groups=64), data_init=False\n",
    "    )(lrelu3)\n",
    "    lrelu4 = layers.LeakyReLU()(conv4)\n",
    "    conv5 = addon_layers.WeightNormalization(\n",
    "        layers.Conv1D(1024, 41, 4, \"same\", groups=256), data_init=False\n",
    "    )(lrelu4)\n",
    "    lrelu5 = layers.LeakyReLU()(conv5)\n",
    "    conv6 = addon_layers.WeightNormalization(\n",
    "        layers.Conv1D(1024, 5, 1, \"same\"), data_init=False\n",
    "    )(lrelu5)\n",
    "    lrelu6 = layers.LeakyReLU()(conv6)\n",
    "    conv7 = addon_layers.WeightNormalization(\n",
    "        layers.Conv1D(1, 3, 1, \"same\"), data_init=False\n",
    "    )(lrelu6)\n",
    "    return [lrelu1, lrelu2, lrelu3, lrelu4, lrelu5, lrelu6, conv7]\n"
   ]
  },
  {
   "cell_type": "markdown",
   "metadata": {
    "colab_type": "text"
   },
   "source": [
    "### Create the generator"
   ]
  },
  {
   "cell_type": "code",
   "execution_count": 0,
   "metadata": {
    "colab_type": "code"
   },
   "outputs": [],
   "source": [
    "\n",
    "def create_generator(input_shape):\n",
    "    inp = keras.Input(input_shape)\n",
    "    x = MelSpec()(inp)\n",
    "    x = layers.Conv1D(512, 7, padding=\"same\")(x)\n",
    "    x = layers.LeakyReLU()(x)\n",
    "    x = conv_block(x, 256, 8)\n",
    "    x = conv_block(x, 128, 8)\n",
    "    x = conv_block(x, 64, 2)\n",
    "    x = conv_block(x, 32, 2)\n",
    "    x = addon_layers.WeightNormalization(\n",
    "        layers.Conv1D(1, 7, padding=\"same\", activation=\"tanh\")\n",
    "    )(x)\n",
    "    return keras.Model(inp, x)\n",
    "\n",
    "\n",
    "# We use a dynamic input shape for the generator since the model is fully convolutional\n",
    "generator = create_generator((None, 1))\n",
    "generator.summary()"
   ]
  },
  {
   "cell_type": "markdown",
   "metadata": {
    "colab_type": "text"
   },
   "source": [
    "### Create the discriminator"
   ]
  },
  {
   "cell_type": "code",
   "execution_count": 0,
   "metadata": {
    "colab_type": "code"
   },
   "outputs": [],
   "source": [
    "\n",
    "def create_discriminator(input_shape):\n",
    "    inp = keras.Input(input_shape)\n",
    "    out_map1 = discriminator_block(inp)\n",
    "    pool1 = layers.AveragePooling1D()(inp)\n",
    "    out_map2 = discriminator_block(pool1)\n",
    "    pool2 = layers.AveragePooling1D()(pool1)\n",
    "    out_map3 = discriminator_block(pool2)\n",
    "    return keras.Model(inp, [out_map1, out_map2, out_map3])\n",
    "\n",
    "\n",
    "# We use a dynamic input shape for the discriminator\n",
    "# This is done because the input shape for the generator is unknown\n",
    "discriminator = create_discriminator((None, 1))\n",
    "\n",
    "discriminator.summary()"
   ]
  },
  {
   "cell_type": "markdown",
   "metadata": {
    "colab_type": "text"
   },
   "source": [
    "## Defining the loss functions\n",
    "\n",
    "**Generator Loss**\n",
    "\n",
    "The generator architecture uses a combination of two losses\n",
    "\n",
    "1. Mean Squared Error:\n",
    "\n",
    "This is the standard MSE generator loss calculated between ones and the outputs from the\n",
    "discriminator with _N_ layers.\n",
    "\n",
    "<p align=\"center\">\n",
    "<img src=\"https://i.imgur.com/dz4JS3I.png\" width=300px;></img>\n",
    "</p>\n",
    "\n",
    "2. Feature Matching Loss:\n",
    "\n",
    "This loss involves extracting the outputs of every layer from the discriminator for both\n",
    "the generator and ground truth and compare each layer output _k_ using Mean Absolute Error.\n",
    "\n",
    "<p align=\"center\">\n",
    "<img src=\"https://i.imgur.com/gEpSBar.png\" width=400px;></img>\n",
    "</p>\n",
    "\n",
    "**Discriminator Loss**\n",
    "\n",
    "The discriminator uses the Mean Absolute Error and compares the real data predictions\n",
    "with ones and generated predictions with zeros.\n",
    "\n",
    "<p align=\"center\">\n",
    "<img src=\"https://i.imgur.com/bbEnJ3t.png\" width=425px;></img>\n",
    "</p>"
   ]
  },
  {
   "cell_type": "code",
   "execution_count": 0,
   "metadata": {
    "colab_type": "code"
   },
   "outputs": [],
   "source": [
    "# Generator loss\n",
    "\n",
    "\n",
    "def generator_loss(real_pred, fake_pred):\n",
    "    \"\"\"Loss function for the generator.\n",
    "\n",
    "    Args:\n",
    "        real_pred: Tensor, output of the ground truth wave passed through the discriminator.\n",
    "        fake_pred: Tensor, output of the generator prediction passed through the discriminator.\n",
    "\n",
    "    Returns:\n",
    "        Loss for the generator.\n",
    "    \"\"\"\n",
    "    gen_loss = []\n",
    "    for i in range(len(fake_pred)):\n",
    "        gen_loss.append(mse(tf.ones_like(fake_pred[i][-1]), fake_pred[i][-1]))\n",
    "\n",
    "    return tf.reduce_mean(gen_loss)\n",
    "\n",
    "\n",
    "def feature_matching_loss(real_pred, fake_pred):\n",
    "    \"\"\"Implements the feature matching loss.\n",
    "\n",
    "    Args:\n",
    "        real_pred: Tensor, output of the ground truth wave passed through the discriminator.\n",
    "        fake_pred: Tensor, output of the generator prediction passed through the discriminator.\n",
    "\n",
    "    Returns:\n",
    "        Feature Matching Loss.\n",
    "    \"\"\"\n",
    "    fm_loss = []\n",
    "    for i in range(len(fake_pred)):\n",
    "        for j in range(len(fake_pred[i]) - 1):\n",
    "            fm_loss.append(mae(real_pred[i][j], fake_pred[i][j]))\n",
    "\n",
    "    return tf.reduce_mean(fm_loss)\n",
    "\n",
    "\n",
    "def discriminator_loss(real_pred, fake_pred):\n",
    "    \"\"\"Implements the discriminator loss.\n",
    "\n",
    "    Args:\n",
    "        real_pred: Tensor, output of the ground truth wave passed through the discriminator.\n",
    "        fake_pred: Tensor, output of the generator prediction passed through the discriminator.\n",
    "\n",
    "    Returns:\n",
    "        Discriminator Loss.\n",
    "    \"\"\"\n",
    "    real_loss, fake_loss = [], []\n",
    "    for i in range(len(real_pred)):\n",
    "        real_loss.append(mse(tf.ones_like(real_pred[i][-1]), real_pred[i][-1]))\n",
    "        fake_loss.append(mse(tf.zeros_like(fake_pred[i][-1]), fake_pred[i][-1]))\n",
    "\n",
    "    # Calculating the final discriminator loss after scaling\n",
    "    disc_loss = tf.reduce_mean(real_loss) + tf.reduce_mean(fake_loss)\n",
    "    return disc_loss\n"
   ]
  },
  {
   "cell_type": "markdown",
   "metadata": {
    "colab_type": "text"
   },
   "source": [
    "Defining the MelGAN model for training.\n",
    "This subclass overrides the `train_step()` method to implement the training logic."
   ]
  },
  {
   "cell_type": "code",
   "execution_count": 0,
   "metadata": {
    "colab_type": "code"
   },
   "outputs": [],
   "source": [
    "\n",
    "class MelGAN(keras.Model):\n",
    "    def __init__(self, generator, discriminator, **kwargs):\n",
    "        \"\"\"MelGAN trainer class\n",
    "\n",
    "        Args:\n",
    "            generator: keras.Model, Generator model\n",
    "            discriminator: keras.Model, Discriminator model\n",
    "        \"\"\"\n",
    "        super().__init__(**kwargs)\n",
    "        self.generator = generator\n",
    "        self.discriminator = discriminator\n",
    "\n",
    "    def compile(\n",
    "        self,\n",
    "        gen_optimizer,\n",
    "        disc_optimizer,\n",
    "        generator_loss,\n",
    "        feature_matching_loss,\n",
    "        discriminator_loss,\n",
    "    ):\n",
    "        \"\"\"MelGAN compile method.\n",
    "\n",
    "        Args:\n",
    "            gen_optimizer: keras.optimizer, optimizer to be used for training\n",
    "            disc_optimizer: keras.optimizer, optimizer to be used for training\n",
    "            generator_loss: callable, loss function for generator\n",
    "            feature_matching_loss: callable, loss function for feature matching\n",
    "            discriminator_loss: callable, loss function for discriminator\n",
    "        \"\"\"\n",
    "        super().compile()\n",
    "\n",
    "        # Optimizers\n",
    "        self.gen_optimizer = gen_optimizer\n",
    "        self.disc_optimizer = disc_optimizer\n",
    "\n",
    "        # Losses\n",
    "        self.generator_loss = generator_loss\n",
    "        self.feature_matching_loss = feature_matching_loss\n",
    "        self.discriminator_loss = discriminator_loss\n",
    "\n",
    "        # Trackers\n",
    "        self.gen_loss_tracker = keras.metrics.Mean(name=\"gen_loss\")\n",
    "        self.disc_loss_tracker = keras.metrics.Mean(name=\"disc_loss\")\n",
    "\n",
    "    def train_step(self, batch):\n",
    "        x_batch_train, y_batch_train = batch\n",
    "\n",
    "        with tf.GradientTape() as gen_tape, tf.GradientTape() as disc_tape:\n",
    "            # Generating the audio wave\n",
    "            gen_audio_wave = generator(x_batch_train, training=True)\n",
    "\n",
    "            # Generating the features using the discriminator\n",
    "            fake_pred = discriminator(y_batch_train)\n",
    "            real_pred = discriminator(gen_audio_wave)\n",
    "\n",
    "            # Calculating the generator losses\n",
    "            gen_loss = generator_loss(real_pred, fake_pred)\n",
    "            fm_loss = feature_matching_loss(real_pred, fake_pred)\n",
    "\n",
    "            # Calculating final generator loss\n",
    "            gen_fm_loss = gen_loss + 10 * fm_loss\n",
    "\n",
    "            # Calculating the discriminator losses\n",
    "            disc_loss = discriminator_loss(real_pred, fake_pred)\n",
    "\n",
    "        # Calculating and applying the gradients for generator and discriminator\n",
    "        grads_gen = gen_tape.gradient(gen_fm_loss, generator.trainable_weights)\n",
    "        grads_disc = disc_tape.gradient(disc_loss, discriminator.trainable_weights)\n",
    "        gen_optimizer.apply_gradients(zip(grads_gen, generator.trainable_weights))\n",
    "        disc_optimizer.apply_gradients(zip(grads_disc, discriminator.trainable_weights))\n",
    "\n",
    "        self.gen_loss_tracker.update_state(gen_fm_loss)\n",
    "        self.disc_loss_tracker.update_state(disc_loss)\n",
    "\n",
    "        return {\n",
    "            \"gen_loss\": self.gen_loss_tracker.result(),\n",
    "            \"disc_loss\": self.disc_loss_tracker.result(),\n",
    "        }\n"
   ]
  },
  {
   "cell_type": "markdown",
   "metadata": {
    "colab_type": "text"
   },
   "source": [
    "## Training\n",
    "\n",
    "The paper suggests that the training with dynamic shapes takes around 400,000 steps (~500\n",
    "epochs). For this example, we will run it only for a single epoch (819 steps).\n",
    "Longer training time (greater than 300 epochs) will almost certainly provide better results."
   ]
  },
  {
   "cell_type": "code",
   "execution_count": 0,
   "metadata": {
    "colab_type": "code"
   },
   "outputs": [],
   "source": [
    "gen_optimizer = keras.optimizers.Adam(\n",
    "    LEARNING_RATE_GEN, beta_1=0.5, beta_2=0.9, clipnorm=1\n",
    ")\n",
    "disc_optimizer = keras.optimizers.Adam(\n",
    "    LEARNING_RATE_DISC, beta_1=0.5, beta_2=0.9, clipnorm=1\n",
    ")\n",
    "\n",
    "# Start training\n",
    "generator = create_generator((None, 1))\n",
    "discriminator = create_discriminator((None, 1))\n",
    "\n",
    "mel_gan = MelGAN(generator, discriminator)\n",
    "mel_gan.compile(\n",
    "    gen_optimizer,\n",
    "    disc_optimizer,\n",
    "    generator_loss,\n",
    "    feature_matching_loss,\n",
    "    discriminator_loss,\n",
    ")\n",
    "mel_gan.fit(\n",
    "    train_dataset.shuffle(200).batch(BATCH_SIZE).prefetch(tf.data.AUTOTUNE), epochs=1\n",
    ")"
   ]
  },
  {
   "cell_type": "markdown",
   "metadata": {
    "colab_type": "text"
   },
   "source": [
    "## Testing the model\n",
    "\n",
    "The trained model can now be used for real time text-to-speech translation tasks.\n",
    "To test how fast the MelGAN inference can be, let us take a sample audio mel-spectrogram\n",
    "and convert it. Note that the actual model pipeline will not include the `MelSpec` layer\n",
    "and hence this layer will be disabled during inference. The inference input will be a\n",
    "mel-spectrogram processed similar to the `MelSpec` layer configuration.\n",
    "\n",
    "For testing this, we will create a randomly uniformly distributed tensor to simulate the\n",
    "behavior of the inference pipeline."
   ]
  },
  {
   "cell_type": "code",
   "execution_count": 0,
   "metadata": {
    "colab_type": "code"
   },
   "outputs": [],
   "source": [
    "# Sampling a random tensor to mimic a batch of 128 spectrograms of shape [50, 80]\n",
    "audio_sample = tf.random.uniform([128, 50, 80])"
   ]
  },
  {
   "cell_type": "markdown",
   "metadata": {
    "colab_type": "text"
   },
   "source": [
    "Timing the inference speed of a single sample. Running this, you can see that the average\n",
    "inference time per spectrogram ranges from 8 milliseconds to 10 milliseconds on a K80 GPU which is\n",
    "pretty fast."
   ]
  },
  {
   "cell_type": "code",
   "execution_count": 0,
   "metadata": {
    "colab_type": "code"
   },
   "outputs": [],
   "source": [
    "pred = generator.predict(audio_sample, batch_size=32, verbose=1)"
   ]
  },
  {
   "cell_type": "markdown",
   "metadata": {
    "colab_type": "text"
   },
   "source": [
    "## Conclusion\n",
    "\n",
    "The MelGAN is a highly effective architecture for spectral inversion that has a Mean\n",
    "Opinion Score (MOS) of 3.61 that  considerably outperforms the Griffin\n",
    "Lim algorithm having a MOS of just 1.57. In contrast with this, the MelGAN compares with\n",
    "the state-of-the-art WaveGlow and WaveNet architectures on text-to-speech and speech\n",
    "enhancement tasks on\n",
    "the LJSpeech and VCTK datasets <sup>[1]</sup>.\n",
    "\n",
    "This tutorial highlights:\n",
    "\n",
    "1. The advantages of using dilated convolutions that grow with the filter size\n",
    "2. Implementation of a custom layer for on-the-fly conversion of audio waves to\n",
    "mel-spectrograms\n",
    "3. Effectiveness of using the feature matching loss function for training GAN generators.\n",
    "\n",
    "Further reading\n",
    "\n",
    "1. [MelGAN paper](https://arxiv.org/pdf/1910.06711v3.pdf) (Kundan Kumar et al.) to\n",
    "understand the reasoning behind the architecture and training process\n",
    "2. For in-depth understanding of the feature matching loss, you can refer to [Improved\n",
    "Techniques for Training GANs](https://arxiv.org/pdf/1606.03498v1.pdf) (Tim Salimans et\n",
    "al.).\n",
    "\n",
    "Example available on HuggingFace\n",
    "\n",
    "| Trained Model | Demo |\n",
    "| :--: | :--: |\n",
    "| [![Generic badge](https://img.shields.io/badge/%F0%9F%A4%97%20Model-MelGan%20spectrogram%20inversion-black.svg)](https://huggingface.co/keras-io/MelGAN-spectrogram-inversion) | [![Generic badge](https://img.shields.io/badge/%F0%9F%A4%97%20Spaces-MelGan%20spectrogram%20inversion-black.svg)](https://huggingface.co/spaces/keras-io/MelGAN-spectrogram-inversion) |"
   ]
  }
 ],
 "metadata": {
  "colab": {
   "collapsed_sections": [],
   "name": "melgan_spectrogram_inversion",
   "private_outputs": false,
   "provenance": [],
   "toc_visible": true
  },
  "kernelspec": {
   "display_name": "Python 3",
   "language": "python",
   "name": "python3"
  },
  "language_info": {
   "codemirror_mode": {
    "name": "ipython",
    "version": 3
   },
   "file_extension": ".py",
   "mimetype": "text/x-python",
   "name": "python",
   "nbconvert_exporter": "python",
   "pygments_lexer": "ipython3",
   "version": "3.7.0"
  }
 },
 "nbformat": 4,
 "nbformat_minor": 0
}