{
 "cells": [
  {
   "cell_type": "markdown",
   "metadata": {
    "colab_type": "text"
   },
   "source": [
    "# English speaker accent recognition using Transfer Learning\n",
    "\n",
    "**Author:** [Fadi Badine](https://twitter.com/fadibadine)<br>\n",
    "**Date created:** 2022/04/16<br>\n",
    "**Last modified:** 2022/04/16<br>\n",
    "**Description:** Training a model to classify UK & Ireland accents using feature extraction from Yamnet."
   ]
  },
  {
   "cell_type": "markdown",
   "metadata": {
    "colab_type": "text"
   },
   "source": [
    "## Introduction\n",
    "\n",
    "The following example shows how to use feature extraction in order to\n",
    "train a model to classify the English accent spoken in an audio wave.\n",
    "\n",
    "Instead of training a model from scratch, transfer learning enables us to\n",
    "take advantage of existing state-of-the-art deep learning models and use them as feature extractors.\n",
    "\n",
    "Our process:\n",
    "\n",
    "* Use a TF Hub pre-trained model (Yamnet) and apply it as part of the tf.data pipeline which transforms\n",
    "the audio files into feature vectors.\n",
    "* Train a dense model on the feature vectors.\n",
    "* Use the trained model for inference on a new audio file.\n",
    "\n",
    "Note:\n",
    "\n",
    "* We need to install TensorFlow IO in order to resample audio files to 16 kHz as required by Yamnet model.\n",
    "* In the test section, ffmpeg is used to convert the mp3 file to wav.\n",
    "\n",
    "You can install TensorFlow IO with the following command:"
   ]
  },
  {
   "cell_type": "code",
   "execution_count": 0,
   "metadata": {
    "colab_type": "code"
   },
   "outputs": [],
   "source": [
    "!pip install -U -q tensorflow_io"
   ]
  },
  {
   "cell_type": "markdown",
   "metadata": {
    "colab_type": "text"
   },
   "source": [
    "## Configuration"
   ]
  },
  {
   "cell_type": "code",
   "execution_count": 0,
   "metadata": {
    "colab_type": "code"
   },
   "outputs": [],
   "source": [
    "SEED = 1337\n",
    "EPOCHS = 100\n",
    "BATCH_SIZE = 64\n",
    "VALIDATION_RATIO = 0.1\n",
    "MODEL_NAME = \"uk_irish_accent_recognition\"\n",
    "\n",
    "# Location where the dataset will be downloaded.\n",
    "# By default (None), keras.utils.get_file will use ~/.keras/ as the CACHE_DIR\n",
    "CACHE_DIR = None\n",
    "\n",
    "# The location of the dataset\n",
    "URL_PATH = \"https://www.openslr.org/resources/83/\"\n",
    "\n",
    "# List of datasets compressed files that contain the audio files\n",
    "zip_files = {\n",
    "    0: \"irish_english_male.zip\",\n",
    "    1: \"midlands_english_female.zip\",\n",
    "    2: \"midlands_english_male.zip\",\n",
    "    3: \"northern_english_female.zip\",\n",
    "    4: \"northern_english_male.zip\",\n",
    "    5: \"scottish_english_female.zip\",\n",
    "    6: \"scottish_english_male.zip\",\n",
    "    7: \"southern_english_female.zip\",\n",
    "    8: \"southern_english_male.zip\",\n",
    "    9: \"welsh_english_female.zip\",\n",
    "    10: \"welsh_english_male.zip\",\n",
    "}\n",
    "\n",
    "# We see that there are 2 compressed files for each accent (except Irish):\n",
    "# - One for male speakers\n",
    "# - One for female speakers\n",
    "# However, we will using a gender agnostic dataset.\n",
    "\n",
    "# List of gender agnostic categories\n",
    "gender_agnostic_categories = [\n",
    "    \"ir\",  # Irish\n",
    "    \"mi\",  # Midlands\n",
    "    \"no\",  # Northern\n",
    "    \"sc\",  # Scottish\n",
    "    \"so\",  # Southern\n",
    "    \"we\",  # Welsh\n",
    "]\n",
    "\n",
    "class_names = [\n",
    "    \"Irish\",\n",
    "    \"Midlands\",\n",
    "    \"Northern\",\n",
    "    \"Scottish\",\n",
    "    \"Southern\",\n",
    "    \"Welsh\",\n",
    "    \"Not a speech\",\n",
    "]"
   ]
  },
  {
   "cell_type": "markdown",
   "metadata": {
    "colab_type": "text"
   },
   "source": [
    "## Imports"
   ]
  },
  {
   "cell_type": "code",
   "execution_count": 0,
   "metadata": {
    "colab_type": "code"
   },
   "outputs": [],
   "source": [
    "import os\n",
    "import io\n",
    "import csv\n",
    "import random\n",
    "import numpy as np\n",
    "import pandas as pd\n",
    "import tensorflow as tf\n",
    "import tensorflow_hub as hub\n",
    "import tensorflow_io as tfio\n",
    "from tensorflow import keras\n",
    "import matplotlib.pyplot as plt\n",
    "import seaborn as sns\n",
    "from scipy import stats\n",
    "from IPython.display import Audio\n",
    "\n",
    "\n",
    "# Set all random seeds in order to get reproducible results\n",
    "keras.utils.set_random_seed(SEED)\n",
    "\n",
    "# Where to download the dataset\n",
    "DATASET_DESTINATION = os.path.join(CACHE_DIR if CACHE_DIR else \"~/.keras/\", \"datasets\")"
   ]
  },
  {
   "cell_type": "markdown",
   "metadata": {
    "colab_type": "text"
   },
   "source": [
    "## Yamnet Model\n",
    "\n",
    "Yamnet is an audio event classifier trained on the AudioSet dataset to predict audio\n",
    "events from the AudioSet ontology. It is available on TensorFlow Hub.\n",
    "\n",
    "Yamnet accepts a 1-D tensor of audio samples with a sample rate of 16 kHz.\n",
    "As output, the model returns a 3-tuple:\n",
    "\n",
    "* Scores of shape `(N, 521)` representing the scores of the 521 classes.\n",
    "* Embeddings of shape `(N, 1024)`.\n",
    "* The log-mel spectrogram of the entire audio frame.\n",
    "\n",
    "We will use the embeddings, which are the features extracted from the audio samples, as the input to our dense model.\n",
    "\n",
    "For more detailed information about Yamnet, please refer to its [TensorFlow Hub](https://tfhub.dev/google/yamnet/1) page."
   ]
  },
  {
   "cell_type": "code",
   "execution_count": 0,
   "metadata": {
    "colab_type": "code"
   },
   "outputs": [],
   "source": [
    "yamnet_model = hub.load(\"https://tfhub.dev/google/yamnet/1\")"
   ]
  },
  {
   "cell_type": "markdown",
   "metadata": {
    "colab_type": "text"
   },
   "source": [
    "## Dataset\n",
    "\n",
    "The dataset used is the\n",
    "[Crowdsourced high-quality UK and Ireland English Dialect speech data set](https://openslr.org/83/)\n",
    "which consists of a total of 17,877 high-quality audio wav files.\n",
    "\n",
    "This dataset includes over 31 hours of recording from 120 vounteers who self-identify as\n",
    "native speakers of Southern England, Midlands, Northern England, Wales, Scotland and Ireland.\n",
    "\n",
    "For more info, please refer to the above link or to the following paper:\n",
    "[Open-source Multi-speaker Corpora of the English Accents in the British Isles](https://aclanthology.org/2020.lrec-1.804.pdf)"
   ]
  },
  {
   "cell_type": "markdown",
   "metadata": {
    "colab_type": "text"
   },
   "source": [
    "## Download the data"
   ]
  },
  {
   "cell_type": "code",
   "execution_count": 0,
   "metadata": {
    "colab_type": "code"
   },
   "outputs": [],
   "source": [
    "# CSV file that contains information about the dataset. For each entry, we have:\n",
    "# - ID\n",
    "# - wav file name\n",
    "# - transcript\n",
    "line_index_file = keras.utils.get_file(\n",
    "    fname=\"line_index_file\", origin=URL_PATH + \"line_index_all.csv\"\n",
    ")\n",
    "\n",
    "# Download the list of compressed files that contains the audio wav files\n",
    "for i in zip_files:\n",
    "    fname = zip_files[i].split(\".\")[0]\n",
    "    url = URL_PATH + zip_files[i]\n",
    "\n",
    "    zip_file = keras.utils.get_file(fname=fname, origin=url, extract=True)\n",
    "    os.remove(zip_file)"
   ]
  },
  {
   "cell_type": "markdown",
   "metadata": {
    "colab_type": "text"
   },
   "source": [
    "## Load the data in a Dataframe\n",
    "\n",
    "Of the 3 columns (ID, filename and transcript), we are only interested in the filename column in order to read the audio file.\n",
    "We will ignore the other two."
   ]
  },
  {
   "cell_type": "code",
   "execution_count": 0,
   "metadata": {
    "colab_type": "code"
   },
   "outputs": [],
   "source": [
    "dataframe = pd.read_csv(\n",
    "    line_index_file, names=[\"id\", \"filename\", \"transcript\"], usecols=[\"filename\"]\n",
    ")\n",
    "dataframe.head()"
   ]
  },
  {
   "cell_type": "markdown",
   "metadata": {
    "colab_type": "text"
   },
   "source": [
    "Let's now preprocess the dataset by:\n",
    "\n",
    "* Adjusting the filename (removing a leading space & adding \".wav\" extension to the\n",
    "filename).\n",
    "* Creating a label using the first 2 characters of the filename which indicate the\n",
    "accent.\n",
    "* Shuffling the samples."
   ]
  },
  {
   "cell_type": "code",
   "execution_count": 0,
   "metadata": {
    "colab_type": "code"
   },
   "outputs": [],
   "source": [
    "# The purpose of this function is to preprocess the dataframe by applying the following:\n",
    "# - Cleaning the filename from a leading space\n",
    "# - Generating a label column that is gender agnostic i.e.\n",
    "#   welsh english male and welsh english female for example are both labeled as\n",
    "#   welsh english\n",
    "# - Add extension .wav to the filename\n",
    "# - Shuffle samples\n",
    "def preprocess_dataframe(dataframe):\n",
    "    # Remove leading space in filename column\n",
    "    dataframe[\"filename\"] = dataframe.apply(lambda row: row[\"filename\"].strip(), axis=1)\n",
    "\n",
    "    # Create gender agnostic labels based on the filename first 2 letters\n",
    "    dataframe[\"label\"] = dataframe.apply(\n",
    "        lambda row: gender_agnostic_categories.index(row[\"filename\"][:2]), axis=1\n",
    "    )\n",
    "\n",
    "    # Add the file path to the name\n",
    "    dataframe[\"filename\"] = dataframe.apply(\n",
    "        lambda row: os.path.join(DATASET_DESTINATION, row[\"filename\"] + \".wav\"), axis=1\n",
    "    )\n",
    "\n",
    "    # Shuffle the samples\n",
    "    dataframe = dataframe.sample(frac=1, random_state=SEED).reset_index(drop=True)\n",
    "\n",
    "    return dataframe\n",
    "\n",
    "\n",
    "dataframe = preprocess_dataframe(dataframe)\n",
    "dataframe.head()"
   ]
  },
  {
   "cell_type": "markdown",
   "metadata": {
    "colab_type": "text"
   },
   "source": [
    "## Prepare training & validation sets\n",
    "\n",
    "Let's split the samples creating training and validation sets."
   ]
  },
  {
   "cell_type": "code",
   "execution_count": 0,
   "metadata": {
    "colab_type": "code"
   },
   "outputs": [],
   "source": [
    "split = int(len(dataframe) * (1 - VALIDATION_RATIO))\n",
    "train_df = dataframe[:split]\n",
    "valid_df = dataframe[split:]\n",
    "\n",
    "print(\n",
    "    f\"We have {train_df.shape[0]} training samples & {valid_df.shape[0]} validation ones\"\n",
    ")"
   ]
  },
  {
   "cell_type": "markdown",
   "metadata": {
    "colab_type": "text"
   },
   "source": [
    "## Prepare a TensorFlow Dataset\n",
    "\n",
    "Next, we need to create a `tf.data.Dataset`.\n",
    "This is done by creating a `dataframe_to_dataset` function that does the following:\n",
    "\n",
    "* Create a dataset using filenames and labels.\n",
    "* Get the Yamnet embeddings by calling another function `filepath_to_embeddings`.\n",
    "* Apply caching, reshuffling and setting batch size.\n",
    "\n",
    "The `filepath_to_embeddings` does the following:\n",
    "\n",
    "* Load audio file.\n",
    "* Resample audio to 16 kHz.\n",
    "* Generate scores and embeddings from Yamnet model.\n",
    "* Since Yamnet generates multiple samples for each audio file,\n",
    "this function also duplicates the label for all the generated samples\n",
    "that have `score=0` (speech) whereas sets the label for the others as\n",
    "'other' indicating that this audio segment is not a speech and we won't label it as one of the accents.\n",
    "\n",
    "The below `load_16k_audio_file` is copied from the following tutorial\n",
    "[Transfer learning with YAMNet for environmental sound classification](https://www.tensorflow.org/tutorials/audio/transfer_learning_audio)"
   ]
  },
  {
   "cell_type": "code",
   "execution_count": 0,
   "metadata": {
    "colab_type": "code"
   },
   "outputs": [],
   "source": [
    "\n",
    "@tf.function\n",
    "def load_16k_audio_wav(filename):\n",
    "    # Read file content\n",
    "    file_content = tf.io.read_file(filename)\n",
    "\n",
    "    # Decode audio wave\n",
    "    audio_wav, sample_rate = tf.audio.decode_wav(file_content, desired_channels=1)\n",
    "    audio_wav = tf.squeeze(audio_wav, axis=-1)\n",
    "    sample_rate = tf.cast(sample_rate, dtype=tf.int64)\n",
    "\n",
    "    # Resample to 16k\n",
    "    audio_wav = tfio.audio.resample(audio_wav, rate_in=sample_rate, rate_out=16000)\n",
    "\n",
    "    return audio_wav\n",
    "\n",
    "\n",
    "def filepath_to_embeddings(filename, label):\n",
    "    # Load 16k audio wave\n",
    "    audio_wav = load_16k_audio_wav(filename)\n",
    "\n",
    "    # Get audio embeddings & scores.\n",
    "    # The embeddings are the audio features extracted using transfer learning\n",
    "    # while scores will be used to identify time slots that are not speech\n",
    "    # which will then be gathered into a specific new category 'other'\n",
    "    scores, embeddings, _ = yamnet_model(audio_wav)\n",
    "\n",
    "    # Number of embeddings in order to know how many times to repeat the label\n",
    "    embeddings_num = tf.shape(embeddings)[0]\n",
    "    labels = tf.repeat(label, embeddings_num)\n",
    "\n",
    "    # Change labels for time-slots that are not speech into a new category 'other'\n",
    "    labels = tf.where(tf.argmax(scores, axis=1) == 0, label, len(class_names) - 1)\n",
    "\n",
    "    # Using one-hot in order to use AUC\n",
    "    return (embeddings, tf.one_hot(labels, len(class_names)))\n",
    "\n",
    "\n",
    "def dataframe_to_dataset(dataframe, batch_size=64):\n",
    "    dataset = tf.data.Dataset.from_tensor_slices(\n",
    "        (dataframe[\"filename\"], dataframe[\"label\"])\n",
    "    )\n",
    "\n",
    "    dataset = dataset.map(\n",
    "        lambda x, y: filepath_to_embeddings(x, y),\n",
    "        num_parallel_calls=tf.data.experimental.AUTOTUNE,\n",
    "    ).unbatch()\n",
    "\n",
    "    return dataset.cache().batch(batch_size).prefetch(tf.data.AUTOTUNE)\n",
    "\n",
    "\n",
    "train_ds = dataframe_to_dataset(train_df)\n",
    "valid_ds = dataframe_to_dataset(valid_df)"
   ]
  },
  {
   "cell_type": "markdown",
   "metadata": {
    "colab_type": "text"
   },
   "source": [
    "## Build the model\n",
    "\n",
    "The model that we use consists of:\n",
    "\n",
    "* An input layer which is the embedding output of the Yamnet classifier.\n",
    "* 4 dense hidden layers and 4 dropout layers.\n",
    "* An output dense layer.\n",
    "\n",
    "The model's hyperparameters were selected using\n",
    "[KerasTuner](https://keras.io/keras_tuner/)."
   ]
  },
  {
   "cell_type": "code",
   "execution_count": 0,
   "metadata": {
    "colab_type": "code"
   },
   "outputs": [],
   "source": [
    "keras.backend.clear_session()\n",
    "\n",
    "\n",
    "def build_and_compile_model():\n",
    "    inputs = keras.layers.Input(shape=(1024), name=\"embedding\")\n",
    "\n",
    "    x = keras.layers.Dense(256, activation=\"relu\", name=\"dense_1\")(inputs)\n",
    "    x = keras.layers.Dropout(0.15, name=\"dropout_1\")(x)\n",
    "\n",
    "    x = keras.layers.Dense(384, activation=\"relu\", name=\"dense_2\")(x)\n",
    "    x = keras.layers.Dropout(0.2, name=\"dropout_2\")(x)\n",
    "\n",
    "    x = keras.layers.Dense(192, activation=\"relu\", name=\"dense_3\")(x)\n",
    "    x = keras.layers.Dropout(0.25, name=\"dropout_3\")(x)\n",
    "\n",
    "    x = keras.layers.Dense(384, activation=\"relu\", name=\"dense_4\")(x)\n",
    "    x = keras.layers.Dropout(0.2, name=\"dropout_4\")(x)\n",
    "\n",
    "    outputs = keras.layers.Dense(len(class_names), activation=\"softmax\", name=\"ouput\")(\n",
    "        x\n",
    "    )\n",
    "\n",
    "    model = keras.Model(inputs=inputs, outputs=outputs, name=\"accent_recognition\")\n",
    "\n",
    "    model.compile(\n",
    "        optimizer=keras.optimizers.Adam(learning_rate=1.9644e-5),\n",
    "        loss=keras.losses.CategoricalCrossentropy(),\n",
    "        metrics=[\"accuracy\", keras.metrics.AUC(name=\"auc\")],\n",
    "    )\n",
    "\n",
    "    return model\n",
    "\n",
    "\n",
    "model = build_and_compile_model()\n",
    "model.summary()"
   ]
  },
  {
   "cell_type": "markdown",
   "metadata": {
    "colab_type": "text"
   },
   "source": [
    "## Class weights calculation\n",
    "\n",
    "Since the dataset is quite unbalanced, we wil use `class_weight` argument during training.\n",
    "\n",
    "Getting the class weights is a little tricky because even though we know the number of\n",
    "audio files for each class, it does not represent the number of samples for that class\n",
    "since Yamnet transforms each audio file into multiple audio samples of 0.96 seconds each.\n",
    "So every audio file will be split into a number of samples that is proportional to its length.\n",
    "\n",
    "Therefore, to get those weights, we have to calculate the number of samples for each class\n",
    "after preprocessing through Yamnet."
   ]
  },
  {
   "cell_type": "code",
   "execution_count": 0,
   "metadata": {
    "colab_type": "code"
   },
   "outputs": [],
   "source": [
    "class_counts = tf.zeros(shape=(len(class_names),), dtype=tf.int32)\n",
    "\n",
    "for x, y in iter(train_ds):\n",
    "    class_counts = class_counts + tf.math.bincount(\n",
    "        tf.cast(tf.math.argmax(y, axis=1), tf.int32), minlength=len(class_names)\n",
    "    )\n",
    "\n",
    "class_weight = {\n",
    "    i: tf.math.reduce_sum(class_counts).numpy() / class_counts[i].numpy()\n",
    "    for i in range(len(class_counts))\n",
    "}\n",
    "\n",
    "print(class_weight)"
   ]
  },
  {
   "cell_type": "markdown",
   "metadata": {
    "colab_type": "text"
   },
   "source": [
    "## Callbacks\n",
    "\n",
    "We use Keras callbacks in order to:\n",
    "\n",
    "* Stop whenever the validation AUC stops improving.\n",
    "* Save the best model.\n",
    "* Call TensorBoard in order to later view the training and validation logs."
   ]
  },
  {
   "cell_type": "code",
   "execution_count": 0,
   "metadata": {
    "colab_type": "code"
   },
   "outputs": [],
   "source": [
    "early_stopping_cb = keras.callbacks.EarlyStopping(\n",
    "    monitor=\"val_auc\", patience=10, restore_best_weights=True\n",
    ")\n",
    "\n",
    "model_checkpoint_cb = keras.callbacks.ModelCheckpoint(\n",
    "    MODEL_NAME + \".h5\", monitor=\"val_auc\", save_best_only=True\n",
    ")\n",
    "\n",
    "tensorboard_cb = keras.callbacks.TensorBoard(\n",
    "    os.path.join(os.curdir, \"logs\", model.name)\n",
    ")\n",
    "\n",
    "callbacks = [early_stopping_cb, model_checkpoint_cb, tensorboard_cb]"
   ]
  },
  {
   "cell_type": "markdown",
   "metadata": {
    "colab_type": "text"
   },
   "source": [
    "## Training"
   ]
  },
  {
   "cell_type": "code",
   "execution_count": 0,
   "metadata": {
    "colab_type": "code"
   },
   "outputs": [],
   "source": [
    "history = model.fit(\n",
    "    train_ds,\n",
    "    epochs=EPOCHS,\n",
    "    validation_data=valid_ds,\n",
    "    class_weight=class_weight,\n",
    "    callbacks=callbacks,\n",
    "    verbose=2,\n",
    ")"
   ]
  },
  {
   "cell_type": "markdown",
   "metadata": {
    "colab_type": "text"
   },
   "source": [
    "## Results\n",
    "\n",
    "Let's plot the training and validation AUC and accuracy."
   ]
  },
  {
   "cell_type": "code",
   "execution_count": 0,
   "metadata": {
    "colab_type": "code"
   },
   "outputs": [],
   "source": [
    "fig, axs = plt.subplots(nrows=1, ncols=2, figsize=(14, 5))\n",
    "\n",
    "axs[0].plot(range(EPOCHS), history.history[\"accuracy\"], label=\"Training\")\n",
    "axs[0].plot(range(EPOCHS), history.history[\"val_accuracy\"], label=\"Validation\")\n",
    "axs[0].set_xlabel(\"Epochs\")\n",
    "axs[0].set_title(\"Training & Validation Accuracy\")\n",
    "axs[0].legend()\n",
    "axs[0].grid(True)\n",
    "\n",
    "axs[1].plot(range(EPOCHS), history.history[\"auc\"], label=\"Training\")\n",
    "axs[1].plot(range(EPOCHS), history.history[\"val_auc\"], label=\"Validation\")\n",
    "axs[1].set_xlabel(\"Epochs\")\n",
    "axs[1].set_title(\"Training & Validation AUC\")\n",
    "axs[1].legend()\n",
    "axs[1].grid(True)\n",
    "\n",
    "plt.show()"
   ]
  },
  {
   "cell_type": "markdown",
   "metadata": {
    "colab_type": "text"
   },
   "source": [
    "## Evaluation"
   ]
  },
  {
   "cell_type": "code",
   "execution_count": 0,
   "metadata": {
    "colab_type": "code"
   },
   "outputs": [],
   "source": [
    "train_loss, train_acc, train_auc = model.evaluate(train_ds)\n",
    "valid_loss, valid_acc, valid_auc = model.evaluate(valid_ds)"
   ]
  },
  {
   "cell_type": "markdown",
   "metadata": {
    "colab_type": "text"
   },
   "source": [
    "Let's try to compare our model's performance to Yamnet's using one of Yamnet metrics (d-prime)\n",
    "Yamnet achieved a d-prime value of 2.318.\n",
    "Let's check our model's performance."
   ]
  },
  {
   "cell_type": "code",
   "execution_count": 0,
   "metadata": {
    "colab_type": "code"
   },
   "outputs": [],
   "source": [
    "# The following function calculates the d-prime score from the AUC\n",
    "def d_prime(auc):\n",
    "    standard_normal = stats.norm()\n",
    "    d_prime = standard_normal.ppf(auc) * np.sqrt(2.0)\n",
    "    return d_prime\n",
    "\n",
    "\n",
    "print(\n",
    "    \"train d-prime: {0:.3f}, validation d-prime: {1:.3f}\".format(\n",
    "        d_prime(train_auc), d_prime(valid_auc)\n",
    "    )\n",
    ")"
   ]
  },
  {
   "cell_type": "markdown",
   "metadata": {
    "colab_type": "text"
   },
   "source": [
    "We can see that the model achieves the following results:\n",
    "\n",
    "Results    | Training  | Validation\n",
    "-----------|-----------|------------\n",
    "Accuracy   | 54%       | 51%\n",
    "AUC        | 0.91      | 0.89\n",
    "d-prime    | 1.882     | 1.740"
   ]
  },
  {
   "cell_type": "markdown",
   "metadata": {
    "colab_type": "text"
   },
   "source": [
    "## Confusion Matrix\n",
    "\n",
    "Let's now plot the confusion matrix for the validation dataset.\n",
    "\n",
    "The confusion matrix lets us see, for every class, not only how many samples were correctly classified,\n",
    "but also which other classes were the samples confused with.\n",
    "\n",
    "It allows us to calculate the precision and recall for every class."
   ]
  },
  {
   "cell_type": "code",
   "execution_count": 0,
   "metadata": {
    "colab_type": "code"
   },
   "outputs": [],
   "source": [
    "# Create x and y tensors\n",
    "x_valid = None\n",
    "y_valid = None\n",
    "\n",
    "for x, y in iter(valid_ds):\n",
    "    if x_valid is None:\n",
    "        x_valid = x.numpy()\n",
    "        y_valid = y.numpy()\n",
    "    else:\n",
    "        x_valid = np.concatenate((x_valid, x.numpy()), axis=0)\n",
    "        y_valid = np.concatenate((y_valid, y.numpy()), axis=0)\n",
    "\n",
    "# Generate predictions\n",
    "y_pred = model.predict(x_valid)\n",
    "\n",
    "# Calculate confusion matrix\n",
    "confusion_mtx = tf.math.confusion_matrix(\n",
    "    np.argmax(y_valid, axis=1), np.argmax(y_pred, axis=1)\n",
    ")\n",
    "\n",
    "# Plot the confusion matrix\n",
    "plt.figure(figsize=(10, 8))\n",
    "sns.heatmap(\n",
    "    confusion_mtx, xticklabels=class_names, yticklabels=class_names, annot=True, fmt=\"g\"\n",
    ")\n",
    "plt.xlabel(\"Prediction\")\n",
    "plt.ylabel(\"Label\")\n",
    "plt.title(\"Validation Confusion Matrix\")\n",
    "plt.show()"
   ]
  },
  {
   "cell_type": "markdown",
   "metadata": {
    "colab_type": "text"
   },
   "source": [
    "## Precision & recall\n",
    "\n",
    "For every class:\n",
    "\n",
    "* Recall is the ratio of correctly classified samples i.e. it shows how many samples\n",
    "of this specific class, the model is able to detect.\n",
    "It is the ratio of diagonal elements to the sum of all elements in the row.\n",
    "* Precision shows the accuracy of the classifier. It is the ratio of correctly predicted\n",
    "samples among the ones classified as belonging to this class.\n",
    "It is the ratio of diagonal elements to the sum of all elements in the column."
   ]
  },
  {
   "cell_type": "code",
   "execution_count": 0,
   "metadata": {
    "colab_type": "code"
   },
   "outputs": [],
   "source": [
    "for i, label in enumerate(class_names):\n",
    "    precision = confusion_mtx[i, i] / np.sum(confusion_mtx[:, i])\n",
    "    recall = confusion_mtx[i, i] / np.sum(confusion_mtx[i, :])\n",
    "    print(\n",
    "        \"{0:15} Precision:{1:.2f}%; Recall:{2:.2f}%\".format(\n",
    "            label, precision * 100, recall * 100\n",
    "        )\n",
    "    )"
   ]
  },
  {
   "cell_type": "markdown",
   "metadata": {
    "colab_type": "text"
   },
   "source": [
    "## Run inference on test data\n",
    "\n",
    "Let's now run a test on a single audio file.\n",
    "Let's check this example from [The Scottish Voice](https://www.thescottishvoice.org.uk/home/)\n",
    "\n",
    "We will:\n",
    "\n",
    "* Download the mp3 file.\n",
    "* Convert it to a 16k wav file.\n",
    "* Run the model on the wav file.\n",
    "* Plot the results."
   ]
  },
  {
   "cell_type": "code",
   "execution_count": 0,
   "metadata": {
    "colab_type": "code"
   },
   "outputs": [],
   "source": [
    "filename = \"audio-sample-Stuart\"\n",
    "url = \"https://www.thescottishvoice.org.uk/files/cm/files/\"\n",
    "\n",
    "if os.path.exists(filename + \".wav\") == False:\n",
    "    print(f\"Downloading {filename}.mp3 from {url}\")\n",
    "    command = f\"wget {url}{filename}.mp3\"\n",
    "    os.system(command)\n",
    "\n",
    "    print(f\"Converting mp3 to wav and resampling to 16 kHZ\")\n",
    "    command = (\n",
    "        f\"ffmpeg -hide_banner -loglevel panic -y -i {filename}.mp3 -acodec \"\n",
    "        f\"pcm_s16le -ac 1 -ar 16000 {filename}.wav\"\n",
    "    )\n",
    "    os.system(command)\n",
    "\n",
    "filename = filename + \".wav\"\n",
    ""
   ]
  },
  {
   "cell_type": "markdown",
   "metadata": {
    "colab_type": "text"
   },
   "source": [
    "The below function `yamnet_class_names_from_csv` was copied and very slightly changed\n",
    "from this [Yamnet Notebook](https://colab.research.google.com/github/tensorflow/hub/blob/master/examples/colab/yamnet.ipynb)."
   ]
  },
  {
   "cell_type": "code",
   "execution_count": 0,
   "metadata": {
    "colab_type": "code"
   },
   "outputs": [],
   "source": [
    "\n",
    "def yamnet_class_names_from_csv(yamnet_class_map_csv_text):\n",
    "    \"\"\"Returns list of class names corresponding to score vector.\"\"\"\n",
    "    yamnet_class_map_csv = io.StringIO(yamnet_class_map_csv_text)\n",
    "    yamnet_class_names = [\n",
    "        name for (class_index, mid, name) in csv.reader(yamnet_class_map_csv)\n",
    "    ]\n",
    "    yamnet_class_names = yamnet_class_names[1:]  # Skip CSV header\n",
    "    return yamnet_class_names\n",
    "\n",
    "\n",
    "yamnet_class_map_path = yamnet_model.class_map_path().numpy()\n",
    "yamnet_class_names = yamnet_class_names_from_csv(\n",
    "    tf.io.read_file(yamnet_class_map_path).numpy().decode(\"utf-8\")\n",
    ")\n",
    "\n",
    "\n",
    "def calculate_number_of_non_speech(scores):\n",
    "    number_of_non_speech = tf.math.reduce_sum(\n",
    "        tf.where(tf.math.argmax(scores, axis=1, output_type=tf.int32) != 0, 1, 0)\n",
    "    )\n",
    "\n",
    "    return number_of_non_speech\n",
    "\n",
    "\n",
    "def filename_to_predictions(filename):\n",
    "    # Load 16k audio wave\n",
    "    audio_wav = load_16k_audio_wav(filename)\n",
    "\n",
    "    # Get audio embeddings & scores.\n",
    "    scores, embeddings, mel_spectrogram = yamnet_model(audio_wav)\n",
    "\n",
    "    print(\n",
    "        \"Out of {} samples, {} are not speech\".format(\n",
    "            scores.shape[0], calculate_number_of_non_speech(scores)\n",
    "        )\n",
    "    )\n",
    "\n",
    "    # Predict the output of the accent recognition model with embeddings as input\n",
    "    predictions = model.predict(embeddings)\n",
    "\n",
    "    return audio_wav, predictions, mel_spectrogram\n",
    ""
   ]
  },
  {
   "cell_type": "markdown",
   "metadata": {
    "colab_type": "text"
   },
   "source": [
    "Let's run the model on the audio file:"
   ]
  },
  {
   "cell_type": "code",
   "execution_count": 0,
   "metadata": {
    "colab_type": "code"
   },
   "outputs": [],
   "source": [
    "audio_wav, predictions, mel_spectrogram = filename_to_predictions(filename)\n",
    "\n",
    "infered_class = class_names[predictions.mean(axis=0).argmax()]\n",
    "print(f\"The main accent is: {infered_class} English\")"
   ]
  },
  {
   "cell_type": "markdown",
   "metadata": {
    "colab_type": "text"
   },
   "source": [
    "Listen to the audio"
   ]
  },
  {
   "cell_type": "code",
   "execution_count": 0,
   "metadata": {
    "colab_type": "code"
   },
   "outputs": [],
   "source": [
    "Audio(audio_wav, rate=16000)"
   ]
  },
  {
   "cell_type": "markdown",
   "metadata": {
    "colab_type": "text"
   },
   "source": [
    "The below function was copied from this [Yamnet notebook](tinyurl.com/4a8xn7at) and adjusted to our need.\n",
    "\n",
    "This function plots the following:\n",
    "\n",
    "* Audio waveform\n",
    "* Mel spectrogram\n",
    "* Predictions for every time step"
   ]
  },
  {
   "cell_type": "code",
   "execution_count": 0,
   "metadata": {
    "colab_type": "code"
   },
   "outputs": [],
   "source": [
    "plt.figure(figsize=(10, 6))\n",
    "\n",
    "# Plot the waveform.\n",
    "plt.subplot(3, 1, 1)\n",
    "plt.plot(audio_wav)\n",
    "plt.xlim([0, len(audio_wav)])\n",
    "\n",
    "# Plot the log-mel spectrogram (returned by the model).\n",
    "plt.subplot(3, 1, 2)\n",
    "plt.imshow(\n",
    "    mel_spectrogram.numpy().T, aspect=\"auto\", interpolation=\"nearest\", origin=\"lower\"\n",
    ")\n",
    "\n",
    "# Plot and label the model output scores for the top-scoring classes.\n",
    "mean_predictions = np.mean(predictions, axis=0)\n",
    "\n",
    "top_class_indices = np.argsort(mean_predictions)[::-1]\n",
    "plt.subplot(3, 1, 3)\n",
    "plt.imshow(\n",
    "    predictions[:, top_class_indices].T,\n",
    "    aspect=\"auto\",\n",
    "    interpolation=\"nearest\",\n",
    "    cmap=\"gray_r\",\n",
    ")\n",
    "\n",
    "# patch_padding = (PATCH_WINDOW_SECONDS / 2) / PATCH_HOP_SECONDS\n",
    "# values from the model documentation\n",
    "patch_padding = (0.025 / 2) / 0.01\n",
    "plt.xlim([-patch_padding - 0.5, predictions.shape[0] + patch_padding - 0.5])\n",
    "# Label the top_N classes.\n",
    "yticks = range(0, len(class_names), 1)\n",
    "plt.yticks(yticks, [class_names[top_class_indices[x]] for x in yticks])\n",
    "_ = plt.ylim(-0.5 + np.array([len(class_names), 0]))"
   ]
  }
 ],
 "metadata": {
  "colab": {
   "collapsed_sections": [],
   "name": "uk_ireland_accent_recognition",
   "private_outputs": false,
   "provenance": [],
   "toc_visible": true
  },
  "kernelspec": {
   "display_name": "Python 3",
   "language": "python",
   "name": "python3"
  },
  "language_info": {
   "codemirror_mode": {
    "name": "ipython",
    "version": 3
   },
   "file_extension": ".py",
   "mimetype": "text/x-python",
   "name": "python",
   "nbconvert_exporter": "python",
   "pygments_lexer": "ipython3",
   "version": "3.7.0"
  }
 },
 "nbformat": 4,
 "nbformat_minor": 0
}